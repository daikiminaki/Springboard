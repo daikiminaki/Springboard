{
 "cells": [
  {
   "cell_type": "markdown",
   "metadata": {},
   "source": [
    "# Crunchbase Machine Learning"
   ]
  },
  {
   "cell_type": "markdown",
   "metadata": {},
   "source": [
    "### About Notebook\n",
    "This notebook will cover the machine learning portion of The Crunchbase Capstone Project.\n",
    "\n",
    "If you are interested in seeing the Data Cleaning, Data Wrangling, Exploratory Data Analysis, and Inferential Statistics steps preceeding this notebook please refer to the links below:\n",
    "- Crunchbase Data Cleaning:\n",
    "- Crunchbase Data Wrangling: \n",
    "- Crunchbase Exploratory Data Analysis: \n",
    "- Crunchbase Inferential Statistics: "
   ]
  },
  {
   "cell_type": "markdown",
   "metadata": {},
   "source": [
    "### The Question: Will a company be able to raise a next round?\n",
    "\n",
    "#### Summary\n",
    "Using a wide variety of data from Crunchbase we hope to build a machine learning model that will help answer the question \"Will a company be able to raise a next round?\".  We will use the complete dataset that we wrangled in the previous notebooks to train a Random Forest Classifier which will hopefully help us answer this question with some confidence."
   ]
  },
  {
   "cell_type": "markdown",
   "metadata": {},
   "source": [
    "# 1. Load Data"
   ]
  },
  {
   "cell_type": "code",
   "execution_count": 3,
   "metadata": {},
   "outputs": [],
   "source": [
    "import glob as glob\n",
    "import pandas as pd\n",
    "import matplotlib.pyplot as plt\n",
    "import numpy as np\n",
    "import seaborn as sns; sns.set()\n",
    "from tqdm import tqdm\n",
    "\n",
    "#Split Data: Train & Test\n",
    "from sklearn.model_selection import train_test_split"
   ]
  },
  {
   "cell_type": "code",
   "execution_count": 4,
   "metadata": {},
   "outputs": [],
   "source": [
    "# Load Final Crunchbase Dataset\n",
    "final_crunchbase_data = pd.read_csv('data/processed/crunchbase_data.csv').drop(columns=['Unnamed: 0'])"
   ]
  },
  {
   "cell_type": "code",
   "execution_count": 24,
   "metadata": {},
   "outputs": [],
   "source": [
    "import warnings\n",
    "warnings.filterwarnings(\"ignore\", category=DeprecationWarning)"
   ]
  },
  {
   "cell_type": "code",
   "execution_count": 5,
   "metadata": {},
   "outputs": [
    {
     "data": {
      "text/plain": [
       "(1581389, 121)"
      ]
     },
     "execution_count": 5,
     "metadata": {},
     "output_type": "execute_result"
    }
   ],
   "source": [
    "final_crunchbase_data.shape"
   ]
  },
  {
   "cell_type": "code",
   "execution_count": 6,
   "metadata": {
    "scrolled": true
   },
   "outputs": [
    {
     "name": "stdout",
     "output_type": "stream",
     "text": [
      "<class 'pandas.core.frame.DataFrame'>\n",
      "RangeIndex: 1581389 entries, 0 to 1581388\n",
      "Columns: 121 entries, company_id to fund_within_year\n",
      "dtypes: float64(75), int64(37), object(9)\n",
      "memory usage: 1.4+ GB\n"
     ]
    }
   ],
   "source": [
    "final_crunchbase_data.info()"
   ]
  },
  {
   "cell_type": "markdown",
   "metadata": {},
   "source": [
    "# 2. Resample Data"
   ]
  },
  {
   "cell_type": "code",
   "execution_count": 7,
   "metadata": {},
   "outputs": [],
   "source": [
    "MISC = ['company_permalink','funding_round_permalink','funding_round','funding_round_type',\\\n",
    "        'funding_round_code','prev_funding_round_type','prev_funding_round_code']\n",
    "\n",
    "# Define Labels\n",
    "LABEL = ['fund_within_year']\n",
    "\n",
    "# Define Features\n",
    "FEATURES = [x for x in final_crunchbase_data.columns if x not in LABEL + MISC]\n",
    "\n",
    "\n",
    "# Define Text and Numeric Columns\n",
    "TEXT_COLUMNS = ['short_description','company_category_list']\n",
    "\n",
    "NUMERIC_COLUMNS = [x for x in final_crunchbase_data[FEATURES].columns if x not in TEXT_COLUMNS + MISC]"
   ]
  },
  {
   "cell_type": "code",
   "execution_count": 8,
   "metadata": {
    "scrolled": true
   },
   "outputs": [
    {
     "data": {
      "text/html": [
       "<div>\n",
       "<style scoped>\n",
       "    .dataframe tbody tr th:only-of-type {\n",
       "        vertical-align: middle;\n",
       "    }\n",
       "\n",
       "    .dataframe tbody tr th {\n",
       "        vertical-align: top;\n",
       "    }\n",
       "\n",
       "    .dataframe thead th {\n",
       "        text-align: right;\n",
       "    }\n",
       "</style>\n",
       "<table border=\"1\" class=\"dataframe\">\n",
       "  <thead>\n",
       "    <tr style=\"text-align: right;\">\n",
       "      <th></th>\n",
       "      <th>company_id</th>\n",
       "      <th>year</th>\n",
       "      <th>quarter</th>\n",
       "      <th>tenure_quarters_overall</th>\n",
       "      <th>tenure_quarters_round</th>\n",
       "      <th>short_description</th>\n",
       "      <th>company_category_list</th>\n",
       "      <th>company_category_count</th>\n",
       "      <th>founding_to_funding_months</th>\n",
       "      <th>founded_yr</th>\n",
       "      <th>...</th>\n",
       "      <th>investor_CAN</th>\n",
       "      <th>investor_ESP</th>\n",
       "      <th>investor_ISR</th>\n",
       "      <th>investor_CHE</th>\n",
       "      <th>investor_JPN</th>\n",
       "      <th>investor_IND</th>\n",
       "      <th>investor_HKG</th>\n",
       "      <th>investor_SGP</th>\n",
       "      <th>investor_CHL</th>\n",
       "      <th>investor_SWE</th>\n",
       "    </tr>\n",
       "  </thead>\n",
       "  <tbody>\n",
       "    <tr>\n",
       "      <th>0</th>\n",
       "      <td>0</td>\n",
       "      <td>2015</td>\n",
       "      <td>1</td>\n",
       "      <td>0</td>\n",
       "      <td>0</td>\n",
       "      <td>Fame is a live video entertainment platform th...</td>\n",
       "      <td>Media</td>\n",
       "      <td>1.0</td>\n",
       "      <td>36.0</td>\n",
       "      <td>2012.0</td>\n",
       "      <td>...</td>\n",
       "      <td>0</td>\n",
       "      <td>0</td>\n",
       "      <td>0</td>\n",
       "      <td>0</td>\n",
       "      <td>0</td>\n",
       "      <td>0</td>\n",
       "      <td>0</td>\n",
       "      <td>0</td>\n",
       "      <td>0</td>\n",
       "      <td>0</td>\n",
       "    </tr>\n",
       "    <tr>\n",
       "      <th>1</th>\n",
       "      <td>0</td>\n",
       "      <td>2015</td>\n",
       "      <td>2</td>\n",
       "      <td>1</td>\n",
       "      <td>1</td>\n",
       "      <td>Fame is a live video entertainment platform th...</td>\n",
       "      <td>Media</td>\n",
       "      <td>1.0</td>\n",
       "      <td>36.0</td>\n",
       "      <td>2012.0</td>\n",
       "      <td>...</td>\n",
       "      <td>0</td>\n",
       "      <td>0</td>\n",
       "      <td>0</td>\n",
       "      <td>0</td>\n",
       "      <td>0</td>\n",
       "      <td>0</td>\n",
       "      <td>0</td>\n",
       "      <td>0</td>\n",
       "      <td>0</td>\n",
       "      <td>0</td>\n",
       "    </tr>\n",
       "  </tbody>\n",
       "</table>\n",
       "<p>2 rows × 113 columns</p>\n",
       "</div>"
      ],
      "text/plain": [
       "   company_id  year  quarter  tenure_quarters_overall  tenure_quarters_round  \\\n",
       "0           0  2015        1                        0                      0   \n",
       "1           0  2015        2                        1                      1   \n",
       "\n",
       "                                   short_description company_category_list  \\\n",
       "0  Fame is a live video entertainment platform th...                 Media   \n",
       "1  Fame is a live video entertainment platform th...                 Media   \n",
       "\n",
       "   company_category_count  founding_to_funding_months  founded_yr  ...  \\\n",
       "0                     1.0                        36.0      2012.0  ...   \n",
       "1                     1.0                        36.0      2012.0  ...   \n",
       "\n",
       "   investor_CAN  investor_ESP  investor_ISR  investor_CHE  investor_JPN  \\\n",
       "0             0             0             0             0             0   \n",
       "1             0             0             0             0             0   \n",
       "\n",
       "   investor_IND  investor_HKG  investor_SGP  investor_CHL  investor_SWE  \n",
       "0             0             0             0             0             0  \n",
       "1             0             0             0             0             0  \n",
       "\n",
       "[2 rows x 113 columns]"
      ]
     },
     "execution_count": 8,
     "metadata": {},
     "output_type": "execute_result"
    }
   ],
   "source": [
    "# Reduce to df\n",
    "df = final_crunchbase_data.copy()\n",
    "\n",
    "# Feature Data\n",
    "df[FEATURES].head(2)"
   ]
  },
  {
   "cell_type": "code",
   "execution_count": 65,
   "metadata": {},
   "outputs": [
    {
     "data": {
      "text/plain": [
       "(1581389, 111)"
      ]
     },
     "execution_count": 65,
     "metadata": {},
     "output_type": "execute_result"
    }
   ],
   "source": [
    "df[NUMERIC_COLUMNS].shape"
   ]
  },
  {
   "cell_type": "markdown",
   "metadata": {},
   "source": [
    "# 3. Create Preprocessing Tools\n",
    "\n",
    "#### We need to preprocess some of the data before it can be put into the Random Forest model.\n",
    "\n",
    "The main preprocessing step will involve dealing with text and numeric data as we much process separately and later union them in our pipeline.\n",
    "\n",
    "#### a. Preprocessing Text Data\n",
    "To preprocess out text data I used CountVectorizer to vectorize the text columns (short_description, company_category_list, member_titles) so they can be processed in the model.  First we need to combine the columns into one columns which will contain all text (combine_text_columns).  After combining the data it is ready to be vectorized.  Once we vectorize the text data we much later prepare it to combine with numeric data to create the full dataset.   \n",
    "\n",
    "#### b. FunctionTransformer/FeatureUnion\n",
    "Because we much first work with the text and numeric data independently we much also combine the data in the pipeline before we can train the model. To do this I used FunctionTransformer on the text and numeric data to format them in the correct way.  Later the reformatted data will be run through FeatureUnion to merge the vectorized text data with the numeric features."
   ]
  },
  {
   "cell_type": "code",
   "execution_count": 9,
   "metadata": {},
   "outputs": [],
   "source": [
    "def combine_text_columns(data_frame, to_drop=NUMERIC_COLUMNS + LABEL + MISC):\n",
    "    \"\"\" Takes the dataset as read in, drops the non-feature, non-text columns and\n",
    "        then combines all of the text columns into a single vector that has all of\n",
    "        the text for a row.\n",
    "        \n",
    "        :param data_frame: The data as read in with read_csv (no preprocessing necessary)\n",
    "        :param to_drop (optional): Removes the numeric and label columns by default.\n",
    "    \"\"\"\n",
    "    # drop non-text columns that are in the df\n",
    "    to_drop = set(to_drop) & set(data_frame.columns.tolist())\n",
    "    text_data = data_frame.drop(to_drop, axis=1)\n",
    "    \n",
    "    # replace nans with blanks\n",
    "    text_data.fillna(\"\", inplace=True)\n",
    "    \n",
    "    # joins all of the text items in a row (axis=1)\n",
    "    # with a space in between\n",
    "    return text_data.apply(lambda x: \" \".join(x), axis=1)"
   ]
  },
  {
   "cell_type": "code",
   "execution_count": 10,
   "metadata": {},
   "outputs": [],
   "source": [
    "from sklearn.preprocessing import FunctionTransformer\n",
    "\n",
    "get_text_data = FunctionTransformer(combine_text_columns, validate=False)\n",
    "get_numeric_data = FunctionTransformer(lambda x: x[NUMERIC_COLUMNS], validate=False)"
   ]
  },
  {
   "cell_type": "markdown",
   "metadata": {},
   "source": [
    "# 4. Random Forest Classifier Pipeline\n",
    "\n",
    "With preprocessing tools set up we can now test out the RandomForestClassifier with the dataset we made.  To maximize accuracy as well as minimizing computational cost we have done the following in the pipeline:\n",
    "\n",
    "#### a. Numeric Preprocessing\n",
    "First part of the preprocessing is our numeric data.  This will not require too much work as we have done most of the cleaning in the data cleaning and wrangling sets but we still have some missing variables.  For simiplicity we have used an Imputer to fill missing values with the default mean aggregator. This will output a full set of the numeric data.\n",
    "\n",
    "#### b. Text Preprocessing\n",
    "Second part of the preprocessing is our text data.  This is a bit more complicated than the numeric data as we much pull text features from all available text in the dataset.  We have three columns that we will be using for this part: ['short_description', 'company_category_list', 'member_titles'].  In order to preprocess this we first combine the three values into a single list which we will pass through a HashingVectorizer to create vector values for our model.  Another option for this would be a CountVectorizer, however, due to the amount of text we have it is better to Hash and then reduce feature.  With the vectorized data we can then reduce the amount of features with SelectKBest which scores all features and returns only the K best features. In this case we chose a K value of 3000. This will output all text data into vectorized hash features.\n",
    "\n",
    "#### c. Feature Union\n",
    "With the text and numeric data processed we need to combine them into a single dataset. In the pipeline this is done with FeatureUnion.  Feature Union will combine the two outputs of the text and numeric processing to create a final set that we can then train the RandomForestClassifier with.  One thing that was not stated in the previous steps was FunctionTransformer which both the text and numeric data were passed through which is used to format the data in a way for FeatureUnion to be possible.\n",
    "\n",
    "#### d. Model\n",
    "Now that we have preprocessed all of the data we can train and test our models.  The Model we will be using is the Random Forest Classifier."
   ]
  },
  {
   "cell_type": "code",
   "execution_count": 39,
   "metadata": {},
   "outputs": [],
   "source": [
    "# Import pipeline\n",
    "from sklearn.pipeline import Pipeline\n",
    "\n",
    "# Import HashingVectorizer\n",
    "from sklearn.feature_extraction.text import HashingVectorizer\n",
    "\n",
    "# Import classifiers\n",
    "from sklearn.ensemble import RandomForestClassifier\n",
    "from sklearn.ensemble import GradientBoostingClassifier\n",
    "\n",
    "# Import other preprocessing modules\n",
    "from sklearn.impute import SimpleImputer\n",
    "from sklearn.feature_selection import chi2, SelectKBest\n",
    "\n",
    "# Select 3000 best features\n",
    "chi_k = 3000\n",
    "\n",
    "# Import functional utilities\n",
    "from sklearn.preprocessing import FunctionTransformer\n",
    "from sklearn.pipeline import FeatureUnion\n",
    "\n",
    "#Evaluation\n",
    "from sklearn.metrics import classification_report\n",
    "from sklearn.metrics import confusion_matrix\n",
    "\n",
    "TOKENS_ALPHANUMERIC = '[A-Za-z0-9]+(?=\\\\s+)'"
   ]
  },
  {
   "cell_type": "markdown",
   "metadata": {},
   "source": [
    "# 5. Random Forest Classifier\n",
    "\n",
    "For this "
   ]
  },
  {
   "cell_type": "code",
   "execution_count": 25,
   "metadata": {},
   "outputs": [
    {
     "data": {
      "text/plain": [
       "Pipeline(memory=None,\n",
       "     steps=[('union', FeatureUnion(n_jobs=None,\n",
       "       transformer_list=[('numeric_features', Pipeline(memory=None,\n",
       "     steps=[('selector', FunctionTransformer(accept_sparse=False, check_inverse=True,\n",
       "          func=<function <lambda> at 0x11554bc08>, inv_kw_args=None,\n",
       "          inverse_func=None, kw_ar...obs=None,\n",
       "            oob_score=False, random_state=None, verbose=0,\n",
       "            warm_start=False))])"
      ]
     },
     "execution_count": 25,
     "metadata": {},
     "output_type": "execute_result"
    }
   ],
   "source": [
    "# Features & Labels\n",
    "X = df[FEATURES]\n",
    "y = df[LABEL]\n",
    "\n",
    "# Split\n",
    "X_train, X_test, y_train, y_test = train_test_split(X, y, random_state=12, test_size=0.3)\n",
    "\n",
    "# Pipeline\n",
    "rf_pl = Pipeline([\n",
    "    ('union', FeatureUnion(\n",
    "            transformer_list = [\n",
    "                ('numeric_features', Pipeline([\n",
    "                    ('selector', get_numeric_data),\n",
    "                    ('imputer', SimpleImputer())\n",
    "                ])),\n",
    "                ('text_features', Pipeline([\n",
    "                    ('selector', get_text_data),\n",
    "                    ('vectorizer', HashingVectorizer(token_pattern=TOKENS_ALPHANUMERIC,\n",
    "                                                     non_negative=True, norm=None, binary=False,\n",
    "                                                     ngram_range=(1, 2))),\n",
    "                    ('dim_red', SelectKBest(chi2, chi_k))\n",
    "                ]))\n",
    "             ]\n",
    "        )),\n",
    "        ('clf', RandomForestClassifier())\n",
    "])\n",
    "\n",
    "# Fit\n",
    "rf_pl.fit(X_train, y_train)"
   ]
  },
  {
   "cell_type": "markdown",
   "metadata": {},
   "source": [
    "# 5. Evaluating the Model"
   ]
  },
  {
   "cell_type": "markdown",
   "metadata": {},
   "source": [
    "What we want from the Evaluation\n",
    "\n",
    "1. Accuary Score\n",
    "2. Cross Validation Score\n",
    "3. Precision & Recall\n",
    "4. Confusion Matrix"
   ]
  },
  {
   "cell_type": "code",
   "execution_count": 27,
   "metadata": {},
   "outputs": [],
   "source": [
    "# Get Predictions and Prediction Probs for Evaluation\n",
    "predictions = rf_pl.predict(X_test)\n",
    "prediction_probabilities = rf_pl.predict_proba(X_test)[:,1]"
   ]
  },
  {
   "cell_type": "markdown",
   "metadata": {},
   "source": [
    "### a) Accuracy"
   ]
  },
  {
   "cell_type": "code",
   "execution_count": 26,
   "metadata": {},
   "outputs": [
    {
     "data": {
      "text/plain": [
       "0.9419540193542811"
      ]
     },
     "execution_count": 26,
     "metadata": {},
     "output_type": "execute_result"
    }
   ],
   "source": [
    "# Score\n",
    "rf_score = rf_pl.score(X_test, y_test)\n",
    "rf_score"
   ]
  },
  {
   "cell_type": "markdown",
   "metadata": {},
   "source": [
    "### b) Cross Validation Score"
   ]
  },
  {
   "cell_type": "code",
   "execution_count": 28,
   "metadata": {},
   "outputs": [
    {
     "name": "stdout",
     "output_type": "stream",
     "text": [
      "Average CV Score: 0.8909061034040124\n"
     ]
    }
   ],
   "source": [
    "from sklearn.model_selection import cross_val_score\n",
    "\n",
    "#Cross Validation Score\n",
    "cv_results = cross_val_score(rf_pl, X_test, y_test, cv=5)\n",
    "print(\"Average CV Score: \" + str(cv_results.mean()))"
   ]
  },
  {
   "cell_type": "markdown",
   "metadata": {},
   "source": [
    "### c) Precision & Recall"
   ]
  },
  {
   "cell_type": "code",
   "execution_count": 30,
   "metadata": {},
   "outputs": [
    {
     "name": "stdout",
     "output_type": "stream",
     "text": [
      "Classification Report:\n",
      "              precision    recall  f1-score   support\n",
      "\n",
      "         0.0       0.95      0.98      0.96    380907\n",
      "         1.0       0.91      0.78      0.84     93510\n",
      "\n",
      "   micro avg       0.94      0.94      0.94    474417\n",
      "   macro avg       0.93      0.88      0.90    474417\n",
      "weighted avg       0.94      0.94      0.94    474417\n",
      "\n",
      "Confusion Matrix: \n",
      "\n",
      "[[373910   6997]\n",
      " [ 20541  72969]]\n"
     ]
    }
   ],
   "source": [
    "from sklearn.metrics import classification_report, confusion_matrix\n",
    "\n",
    "# Classification Report\n",
    "print('Classification Report:')\n",
    "print(classification_report(y_test, predictions))\n",
    "    \n",
    "#Confusion Matrix\n",
    "print('Confusion Matrix: \\n')\n",
    "print(confusion_matrix(y_test, predictions))"
   ]
  },
  {
   "cell_type": "markdown",
   "metadata": {},
   "source": [
    "### d) ROC Curve and AUC Score"
   ]
  },
  {
   "cell_type": "code",
   "execution_count": 40,
   "metadata": {},
   "outputs": [
    {
     "name": "stdout",
     "output_type": "stream",
     "text": [
      "AUC Score: 0.9753051327567435\n"
     ]
    },
    {
     "data": {
      "image/png": "[encoded data removed]",
      "text/plain": [
       "<Figure size 576x360 with 1 Axes>"
      ]
     },
     "metadata": {
      "needs_background": "light"
     },
     "output_type": "display_data"
    }
   ],
   "source": [
    "from sklearn.metrics import roc_curve\n",
    "from sklearn.metrics import roc_auc_score\n",
    "\n",
    "fpr, tpr, thresholds = roc_curve(y_test, prediction_probabilities)\n",
    "\n",
    "#Plot\n",
    "_ = plt.figure(figsize=(8,5))\n",
    "_ = plt.plot([0,1], [0,1], 'k--')\n",
    "_ = plt.plot(fpr, tpr, label='Random Forest Classifier')\n",
    "_ = plt.xlabel('False Positive Rate', size=13)\n",
    "_ = plt.ylabel('True Positive Rate', size=13)\n",
    "_ = plt.title('Random Forest ROC Curve', size=13)\n",
    "_ = plt.savefig('results/random_forest_roc_curve.png')\n",
    "\n",
    "#ROC AUC Score\n",
    "print(\"AUC Score: \" + str(roc_auc_score(y_test, prediction_probabilities)))"
   ]
  },
  {
   "cell_type": "markdown",
   "metadata": {},
   "source": [
    "# 6. Analyzing Results"
   ]
  },
  {
   "cell_type": "markdown",
   "metadata": {},
   "source": [
    "## a) Overall Error"
   ]
  },
  {
   "cell_type": "code",
   "execution_count": 68,
   "metadata": {},
   "outputs": [],
   "source": [
    "X_all = df[FEATURES]\n",
    "y_all = df[LABEL]"
   ]
  },
  {
   "cell_type": "code",
   "execution_count": 70,
   "metadata": {
    "scrolled": true
   },
   "outputs": [],
   "source": [
    "# Get Results from Random Forest Classifier\n",
    "random_forest_df = df.copy()\n",
    "random_forest_predictions = rf_pl.predict(X)\n",
    "\n",
    "# Add Predictions to DataFrame\n",
    "random_forest_df['predictions'] = pd.Series(random_forest_predictions)"
   ]
  },
  {
   "cell_type": "code",
   "execution_count": 151,
   "metadata": {},
   "outputs": [],
   "source": [
    "# Identify Columns indicating Round Type\n",
    "round_cols = ['angel','convertible_note', 'debt_financing', 'equity_crowdfunding',\\\n",
    "              'grant', 'non_equity_assistance','private_equity', 'product_crowdfunding',\\\n",
    "              'secondary_market', 'seed','undisclosed', 'venture', 'A', 'B','C', 'D', 'E',\\\n",
    "              'F', 'G', 'H', 'Unknown']\n",
    "\n",
    "# Calculate Error\n",
    "error_by_round_rf = pd.DataFrame(random_forest_df[random_forest_df.fund_within_year != random_forest_df.predictions][round_cols].sum() / random_forest_df[round_cols].sum()).reset_index()\n",
    "error_by_round_rf.columns = ['round','error']\n",
    "\n",
    "error_by_round_rf['round'] = error_by_round_rf['round'].str.replace('_',' ').str.capitalize()"
   ]
  },
  {
   "cell_type": "code",
   "execution_count": 159,
   "metadata": {},
   "outputs": [
    {
     "data": {
      "image/png": "[encoded data removed]",
      "text/plain": [
       "<Figure size 864x576 with 1 Axes>"
      ]
     },
     "metadata": {
      "needs_background": "light"
     },
     "output_type": "display_data"
    }
   ],
   "source": [
    "# Plot Error by Round Type\n",
    "_ = plt.figure(figsize=(12,8))\n",
    "_ = sns.barplot(x='error', y='round', data=error_by_round_rf)\n",
    "_ = plt.title('Error by Round Type', size=13)\n",
    "xlocs, xlabels = plt.xticks()\n",
    "ylocs, ylabels = plt.yticks()\n",
    "_ = plt.xticks(xlocs, xlocs*100)\n",
    "_ = plt.xlabel('Percent Error (%)')\n",
    "_ = plt.ylabel('')\n",
    "_ = plt.savefig('results/error_by_round_type_sorted.png')"
   ]
  },
  {
   "cell_type": "markdown",
   "metadata": {},
   "source": [
    "## b) Precision by Round Type\n",
    "- ### 91% of Predicted Funded Were Actually Funded"
   ]
  },
  {
   "cell_type": "code",
   "execution_count": 123,
   "metadata": {},
   "outputs": [],
   "source": [
    "# True Positive / (Predicted Positives)\n",
    "true_positive = random_forest_df[(random_forest_df['fund_within_year'] == 1) & (random_forest_df['predictions'] == 1)]\n",
    "predicted_positives = random_forest_df[random_forest_df['predictions'] == 1]\n",
    "\n",
    "# Get True Positives By Round\n",
    "true_positive_by_round = pd.DataFrame(true_positive[round_cols].sum()).reset_index()\n",
    "true_positive_by_round.columns = ['round','true_positives']\n",
    "\n",
    "# Get Predicted Positives By Round\n",
    "predicted_positives_by_round = pd.DataFrame(predicted_positives[round_cols].sum()).reset_index()\n",
    "predicted_positives_by_round.columns = ['round','predicted_positives']\n",
    "\n",
    "# Merge True Positives and Predicted Positives\n",
    "precision_by_round = true_positive_by_round.merge(predicted_positives_by_round)"
   ]
  },
  {
   "cell_type": "code",
   "execution_count": 149,
   "metadata": {},
   "outputs": [],
   "source": [
    "# Calculate Precision\n",
    "precision_by_round['precision'] = precision_by_round['true_positives'] / precision_by_round['predicted_positives']\n",
    "precision_by_round['round'] = precision_by_round['round'].str.replace('_',' ').str.capitalize()"
   ]
  },
  {
   "cell_type": "code",
   "execution_count": 169,
   "metadata": {},
   "outputs": [
    {
     "data": {
      "image/png": "[encoded data removed]",
      "text/plain": [
       "<Figure size 504x576 with 1 Axes>"
      ]
     },
     "metadata": {
      "needs_background": "light"
     },
     "output_type": "display_data"
    }
   ],
   "source": [
    "# Plot Error by Round Type\n",
    "_ = plt.figure(figsize=(7,8))\n",
    "_ = sns.barplot(x='precision', y='round', data=precision_by_round.sort_values('precision', ascending=False))\n",
    "_ = plt.title('Precision by Round Type', size=13)\n",
    "_ = plt.xlabel('Percent')\n",
    "_ = plt.ylabel('')\n",
    "_ = plt.savefig('results/precision_by_round_type.png')"
   ]
  },
  {
   "cell_type": "markdown",
   "metadata": {},
   "source": [
    "## c) Recall by Round Type\n",
    "- ### 78% of Actual Funded Rounds Were Identified as Funded"
   ]
  },
  {
   "cell_type": "code",
   "execution_count": 99,
   "metadata": {},
   "outputs": [],
   "source": [
    "# True Positive / (Actual Positives)\n",
    "actual_positives = random_forest_df[random_forest_df['fund_within_year'] == 1]"
   ]
  },
  {
   "cell_type": "code",
   "execution_count": 129,
   "metadata": {},
   "outputs": [],
   "source": [
    "# Get Predicted Positives By Round\n",
    "actual_positives_by_round = pd.DataFrame(actual_positives[round_cols].sum()).reset_index()\n",
    "actual_positives_by_round.columns = ['round','actual_positives']\n",
    "\n",
    "# Merge True Positives and Predicted Positives\n",
    "recall_by_round = true_positive_by_round.merge(actual_positives_by_round)"
   ]
  },
  {
   "cell_type": "code",
   "execution_count": 154,
   "metadata": {},
   "outputs": [],
   "source": [
    "# Calculate Recall by Round Type\n",
    "recall_by_round['recall'] = recall_by_round['true_positives'] / recall_by_round['actual_positives']\n",
    "recall_by_round['round'] = recall_by_round['round'].str.replace('_',' ').str.capitalize()"
   ]
  },
  {
   "cell_type": "code",
   "execution_count": 170,
   "metadata": {},
   "outputs": [
    {
     "data": {
      "image/png": "[encoded data removed]",
      "text/plain": [
       "<Figure size 576x576 with 1 Axes>"
      ]
     },
     "metadata": {
      "needs_background": "light"
     },
     "output_type": "display_data"
    }
   ],
   "source": [
    "# Plot Error by Round Type\n",
    "_ = plt.figure(figsize=(8,8))\n",
    "_ = sns.barplot(x='recall', y='round', data=recall_by_round.sort_values('recall', ascending=False))\n",
    "_ = plt.title('Recall by Round Type', size=13)\n",
    "_ = plt.xlabel('Percent')\n",
    "_ = plt.ylabel('')\n",
    "_ = plt.savefig('results/recall_by_round_type.png')"
   ]
  },
  {
   "cell_type": "markdown",
   "metadata": {},
   "source": [
    "# Conclusion"
   ]
  },
  {
   "cell_type": "code",
   "execution_count": null,
   "metadata": {},
   "outputs": [],
   "source": []
  },
  {
   "cell_type": "code",
   "execution_count": null,
   "metadata": {},
   "outputs": [],
   "source": []
  },
  {
   "cell_type": "code",
   "execution_count": null,
   "metadata": {},
   "outputs": [],
   "source": []
  },
  {
   "cell_type": "code",
   "execution_count": 38,
   "metadata": {},
   "outputs": [
    {
     "name": "stdout",
     "output_type": "stream",
     "text": [
      "Daiki Minaki 2019-02-21 14:22:16 \n",
      "\n",
      "CPython 2.7.3\n",
      "IPython 5.8.0\n",
      "\n",
      "numpy 1.14.2\n",
      "pandas 0.24.1\n",
      "Git hash: 3a9cdd1006e2482b9dfbde515774c4a402d75ac1\n"
     ]
    }
   ],
   "source": [
    "%load_ext watermark\n",
    "%watermark -a \"Daiki Minaki\" -d -t -v -p numpy,pandas -g"
   ]
  }
 ],
 "metadata": {
  "kernelspec": {
   "display_name": "Python 3",
   "language": "python",
   "name": "python3"
  },
  "language_info": {
   "codemirror_mode": {
    "name": "ipython",
    "version": 2
   },
   "file_extension": ".py",
   "mimetype": "text/x-python",
   "name": "python",
   "nbconvert_exporter": "python",
   "pygments_lexer": "ipython2",
   "version": "2.7.3"
  }
 },
 "nbformat": 4,
 "nbformat_minor": 2
}
