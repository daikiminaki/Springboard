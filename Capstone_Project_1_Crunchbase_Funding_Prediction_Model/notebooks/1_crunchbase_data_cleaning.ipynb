{
 "cells": [
  {
   "cell_type": "markdown",
   "metadata": {},
   "source": [
    "# Crunchbase: Data Cleaning\n",
    "\n",
    "In this notebook we will be taking an initial look at the data and doing some quick cleaning.  The meat of the cleaning and wrangling will actually be done in the data wrangling notebook."
   ]
  },
  {
   "cell_type": "code",
   "execution_count": 1,
   "metadata": {},
   "outputs": [],
   "source": [
    "import pandas as pd\n",
    "import numpy as np\n",
    "import glob\n",
    "import seaborn as sns\n",
    "import matplotlib.pyplot as plt\n",
    "from datetime import datetime"
   ]
  },
  {
   "cell_type": "markdown",
   "metadata": {},
   "source": [
    "## Project Summary\n",
    "\n",
    "As this project is broken up into many sections I have decided to add a quick summary to each page so readers can get an idea of the general purpose regardless of where in the project they choose to look into first.\n",
    "\n",
    "In this project I hope to see if it is possible to predict whether or not a company will get funded based on a range of features including round data, investor data, company data, macro trends and more.  There are an endless number of factors that come into play when considering a startups success to raise capital many of which are very difficult to quantify.  This projects looks at more quantifiable data and hopes to find features that do seem to hold significance when looking at a startups ability to successfully raise a next round."
   ]
  },
  {
   "cell_type": "markdown",
   "metadata": {},
   "source": [
    "## Load Data"
   ]
  },
  {
   "cell_type": "code",
   "execution_count": 78,
   "metadata": {},
   "outputs": [],
   "source": [
    "#Information about companies.\n",
    "companies = pd.read_csv('data/raw/companies.csv')\n",
    "\n",
    "#Information about investments\n",
    "investments = pd.read_csv('data/raw/investments.csv')\n",
    "rounds = pd.read_csv('data/raw/rounds.csv')\n",
    "\n",
    "#All organizations: Companies, Investors, Schools\n",
    "organizations = pd.read_csv('data/raw/organizations.csv')\n",
    "\n",
    "#All people: Investors (Seed, Angel, VCs, etc...)\n",
    "people = pd.read_csv('data/raw/people.csv')\n",
    "\n",
    "#Information specific to acquisitions\n",
    "acquisitions = pd.read_csv('data/raw/acquisitions.csv')\n",
    "\n",
    "# IPO Data\n",
    "ipo = pd.read_csv('data/raw/ipo.csv').drop('Unnamed: 0',1)"
   ]
  },
  {
   "cell_type": "markdown",
   "metadata": {},
   "source": [
    "# Data Cleaning\n",
    "\n",
    "Notebook is organized as follows:\n",
    "1. Companies\n",
    "2. Investments and Rounds\n",
    "3. Organizations\n",
    "4. People\n",
    "5. Acquisitions\n",
    "6. IPOs\n",
    "\n"
   ]
  },
  {
   "cell_type": "markdown",
   "metadata": {},
   "source": [
    "# 1. Companies"
   ]
  },
  {
   "cell_type": "markdown",
   "metadata": {},
   "source": [
    "## a) Basic Cleaning"
   ]
  },
  {
   "cell_type": "code",
   "execution_count": 22,
   "metadata": {},
   "outputs": [
    {
     "data": {
      "text/html": [
       "<div>\n",
       "<style scoped>\n",
       "    .dataframe tbody tr th:only-of-type {\n",
       "        vertical-align: middle;\n",
       "    }\n",
       "\n",
       "    .dataframe tbody tr th {\n",
       "        vertical-align: top;\n",
       "    }\n",
       "\n",
       "    .dataframe thead th {\n",
       "        text-align: right;\n",
       "    }\n",
       "</style>\n",
       "<table border=\"1\" class=\"dataframe\">\n",
       "  <thead>\n",
       "    <tr style=\"text-align: right;\">\n",
       "      <th></th>\n",
       "      <th>permalink</th>\n",
       "      <th>name</th>\n",
       "      <th>homepage_url</th>\n",
       "      <th>category_list</th>\n",
       "      <th>funding_total_usd</th>\n",
       "      <th>status</th>\n",
       "      <th>country_code</th>\n",
       "      <th>state_code</th>\n",
       "      <th>region</th>\n",
       "      <th>city</th>\n",
       "      <th>funding_rounds</th>\n",
       "      <th>founded_at</th>\n",
       "      <th>first_funding_at</th>\n",
       "      <th>last_funding_at</th>\n",
       "    </tr>\n",
       "  </thead>\n",
       "  <tbody>\n",
       "    <tr>\n",
       "      <th>0</th>\n",
       "      <td>/organization/-fame</td>\n",
       "      <td>#fame</td>\n",
       "      <td>http://livfame.com</td>\n",
       "      <td>Media</td>\n",
       "      <td>10000000</td>\n",
       "      <td>operating</td>\n",
       "      <td>IND</td>\n",
       "      <td>16</td>\n",
       "      <td>Mumbai</td>\n",
       "      <td>Mumbai</td>\n",
       "      <td>1</td>\n",
       "      <td>NaN</td>\n",
       "      <td>2015-01-05</td>\n",
       "      <td>2015-01-05</td>\n",
       "    </tr>\n",
       "    <tr>\n",
       "      <th>1</th>\n",
       "      <td>/organization/-qounter</td>\n",
       "      <td>:Qounter</td>\n",
       "      <td>http://www.qounter.com</td>\n",
       "      <td>Application Platforms|Real Time|Social Network...</td>\n",
       "      <td>700000</td>\n",
       "      <td>operating</td>\n",
       "      <td>USA</td>\n",
       "      <td>DE</td>\n",
       "      <td>DE - Other</td>\n",
       "      <td>Delaware City</td>\n",
       "      <td>2</td>\n",
       "      <td>2014-09-04</td>\n",
       "      <td>2014-03-01</td>\n",
       "      <td>2014-10-14</td>\n",
       "    </tr>\n",
       "    <tr>\n",
       "      <th>2</th>\n",
       "      <td>/organization/-the-one-of-them-inc-</td>\n",
       "      <td>(THE) ONE of THEM,Inc.</td>\n",
       "      <td>http://oneofthem.jp</td>\n",
       "      <td>Apps|Games|Mobile</td>\n",
       "      <td>3406878</td>\n",
       "      <td>operating</td>\n",
       "      <td>NaN</td>\n",
       "      <td>NaN</td>\n",
       "      <td>NaN</td>\n",
       "      <td>NaN</td>\n",
       "      <td>1</td>\n",
       "      <td>NaN</td>\n",
       "      <td>2014-01-30</td>\n",
       "      <td>2014-01-30</td>\n",
       "    </tr>\n",
       "    <tr>\n",
       "      <th>3</th>\n",
       "      <td>/organization/0-6-com</td>\n",
       "      <td>0-6.com</td>\n",
       "      <td>http://www.0-6.com</td>\n",
       "      <td>Curated Web</td>\n",
       "      <td>2000000</td>\n",
       "      <td>operating</td>\n",
       "      <td>CHN</td>\n",
       "      <td>22</td>\n",
       "      <td>Beijing</td>\n",
       "      <td>Beijing</td>\n",
       "      <td>1</td>\n",
       "      <td>2007-01-01</td>\n",
       "      <td>2008-03-19</td>\n",
       "      <td>2008-03-19</td>\n",
       "    </tr>\n",
       "    <tr>\n",
       "      <th>4</th>\n",
       "      <td>/organization/004-technologies</td>\n",
       "      <td>004 Technologies</td>\n",
       "      <td>http://004gmbh.de/en/004-interact</td>\n",
       "      <td>Software</td>\n",
       "      <td>-</td>\n",
       "      <td>operating</td>\n",
       "      <td>USA</td>\n",
       "      <td>IL</td>\n",
       "      <td>Springfield, Illinois</td>\n",
       "      <td>Champaign</td>\n",
       "      <td>1</td>\n",
       "      <td>2010-01-01</td>\n",
       "      <td>2014-07-24</td>\n",
       "      <td>2014-07-24</td>\n",
       "    </tr>\n",
       "  </tbody>\n",
       "</table>\n",
       "</div>"
      ],
      "text/plain": [
       "                             permalink                    name  \\\n",
       "0                  /organization/-fame                   #fame   \n",
       "1               /organization/-qounter                :Qounter   \n",
       "2  /organization/-the-one-of-them-inc-  (THE) ONE of THEM,Inc.   \n",
       "3                /organization/0-6-com                 0-6.com   \n",
       "4       /organization/004-technologies        004 Technologies   \n",
       "\n",
       "                        homepage_url  \\\n",
       "0                 http://livfame.com   \n",
       "1             http://www.qounter.com   \n",
       "2                http://oneofthem.jp   \n",
       "3                 http://www.0-6.com   \n",
       "4  http://004gmbh.de/en/004-interact   \n",
       "\n",
       "                                       category_list funding_total_usd  \\\n",
       "0                                              Media          10000000   \n",
       "1  Application Platforms|Real Time|Social Network...            700000   \n",
       "2                                  Apps|Games|Mobile           3406878   \n",
       "3                                        Curated Web           2000000   \n",
       "4                                           Software                 -   \n",
       "\n",
       "      status country_code state_code                 region           city  \\\n",
       "0  operating          IND         16                 Mumbai         Mumbai   \n",
       "1  operating          USA         DE             DE - Other  Delaware City   \n",
       "2  operating          NaN        NaN                    NaN            NaN   \n",
       "3  operating          CHN         22                Beijing        Beijing   \n",
       "4  operating          USA         IL  Springfield, Illinois      Champaign   \n",
       "\n",
       "   funding_rounds  founded_at first_funding_at last_funding_at  \n",
       "0               1         NaN       2015-01-05      2015-01-05  \n",
       "1               2  2014-09-04       2014-03-01      2014-10-14  \n",
       "2               1         NaN       2014-01-30      2014-01-30  \n",
       "3               1  2007-01-01       2008-03-19      2008-03-19  \n",
       "4               1  2010-01-01       2014-07-24      2014-07-24  "
      ]
     },
     "execution_count": 22,
     "metadata": {},
     "output_type": "execute_result"
    }
   ],
   "source": [
    "companies.head()"
   ]
  },
  {
   "cell_type": "code",
   "execution_count": 55,
   "metadata": {},
   "outputs": [],
   "source": [
    "# - to Nan Value\n",
    "companies['funding_total_usd'] = companies['funding_total_usd'].replace('-', np.nan)\n",
    "\n",
    "# String to Numeric Values\n",
    "companies['funding_total_usd'] = pd.to_numeric(companies['funding_total_usd'])\n",
    "companies['funding_rounds'] = pd.to_numeric(companies['funding_rounds'])\n",
    "\n",
    "# String to Datetimes\n",
    "companies['founded_at'] = pd.to_datetime(companies['founded_at'], errors = 'coerce')\n",
    "companies['first_funding_at'] = pd.to_datetime(companies['first_funding_at'], errors = 'coerce')\n",
    "companies['last_funding_at'] = pd.to_datetime(companies['last_funding_at'])"
   ]
  },
  {
   "cell_type": "code",
   "execution_count": 57,
   "metadata": {},
   "outputs": [
    {
     "data": {
      "text/plain": [
       "(51146, 14)"
      ]
     },
     "execution_count": 57,
     "metadata": {},
     "output_type": "execute_result"
    }
   ],
   "source": [
    "companies.shape"
   ]
  },
  {
   "cell_type": "code",
   "execution_count": 56,
   "metadata": {},
   "outputs": [
    {
     "name": "stdout",
     "output_type": "stream",
     "text": [
      "<class 'pandas.core.frame.DataFrame'>\n",
      "Int64Index: 51146 entries, 1 to 66366\n",
      "Data columns (total 14 columns):\n",
      "permalink            51146 non-null object\n",
      "name                 51145 non-null object\n",
      "homepage_url         48382 non-null object\n",
      "category_list        49711 non-null object\n",
      "funding_total_usd    41890 non-null float64\n",
      "status               51146 non-null object\n",
      "country_code         47442 non-null object\n",
      "state_code           46331 non-null object\n",
      "region               46810 non-null object\n",
      "city                 46811 non-null object\n",
      "funding_rounds       51146 non-null int64\n",
      "founded_at           51143 non-null datetime64[ns]\n",
      "first_funding_at     51123 non-null datetime64[ns]\n",
      "last_funding_at      51146 non-null datetime64[ns]\n",
      "dtypes: datetime64[ns](3), float64(1), int64(1), object(9)\n",
      "memory usage: 5.9+ MB\n"
     ]
    }
   ],
   "source": [
    "companies.info()"
   ]
  },
  {
   "cell_type": "markdown",
   "metadata": {},
   "source": [
    "## b) Creating Company Categories Dataset"
   ]
  },
  {
   "cell_type": "code",
   "execution_count": 25,
   "metadata": {},
   "outputs": [],
   "source": [
    "# Break up grouped up categories into list.  EX. \"Apps|Cable|Distribution|Software\"\n",
    "def category_list_split(row):\n",
    "    if type(row.category_list) == str:\n",
    "        category_list = row.category_list.split('|')\n",
    "        return category_list\n",
    "    else:\n",
    "        return str(row.category_list)"
   ]
  },
  {
   "cell_type": "code",
   "execution_count": 26,
   "metadata": {},
   "outputs": [],
   "source": [
    "# Split up Categories\n",
    "categories = companies.apply(category_list_split, axis=1)\\\n",
    "                                .apply(pd.Series)"
   ]
  },
  {
   "cell_type": "code",
   "execution_count": 27,
   "metadata": {},
   "outputs": [],
   "source": [
    "# Reformat Data\n",
    "company_and_category = companies[['permalink']].merge(pd.DataFrame(categories), left_index=True, right_index=True)\\\n",
    "                .melt(id_vars=['permalink']).drop_duplicates().dropna()\n",
    "company_and_category['variable'] = 1"
   ]
  },
  {
   "cell_type": "code",
   "execution_count": 28,
   "metadata": {},
   "outputs": [
    {
     "data": {
      "text/html": [
       "<div>\n",
       "<style scoped>\n",
       "    .dataframe tbody tr th:only-of-type {\n",
       "        vertical-align: middle;\n",
       "    }\n",
       "\n",
       "    .dataframe tbody tr th {\n",
       "        vertical-align: top;\n",
       "    }\n",
       "\n",
       "    .dataframe thead th {\n",
       "        text-align: right;\n",
       "    }\n",
       "</style>\n",
       "<table border=\"1\" class=\"dataframe\">\n",
       "  <thead>\n",
       "    <tr style=\"text-align: right;\">\n",
       "      <th></th>\n",
       "      <th>permalink</th>\n",
       "      <th>variable</th>\n",
       "      <th>value</th>\n",
       "    </tr>\n",
       "  </thead>\n",
       "  <tbody>\n",
       "    <tr>\n",
       "      <th>0</th>\n",
       "      <td>/organization/-fame</td>\n",
       "      <td>1</td>\n",
       "      <td>Media</td>\n",
       "    </tr>\n",
       "    <tr>\n",
       "      <th>1</th>\n",
       "      <td>/organization/-qounter</td>\n",
       "      <td>1</td>\n",
       "      <td>Application Platforms</td>\n",
       "    </tr>\n",
       "    <tr>\n",
       "      <th>2</th>\n",
       "      <td>/organization/-the-one-of-them-inc-</td>\n",
       "      <td>1</td>\n",
       "      <td>Apps</td>\n",
       "    </tr>\n",
       "    <tr>\n",
       "      <th>3</th>\n",
       "      <td>/organization/0-6-com</td>\n",
       "      <td>1</td>\n",
       "      <td>Curated Web</td>\n",
       "    </tr>\n",
       "    <tr>\n",
       "      <th>4</th>\n",
       "      <td>/organization/004-technologies</td>\n",
       "      <td>1</td>\n",
       "      <td>Software</td>\n",
       "    </tr>\n",
       "  </tbody>\n",
       "</table>\n",
       "</div>"
      ],
      "text/plain": [
       "                             permalink  variable                  value\n",
       "0                  /organization/-fame         1                  Media\n",
       "1               /organization/-qounter         1  Application Platforms\n",
       "2  /organization/-the-one-of-them-inc-         1                   Apps\n",
       "3                /organization/0-6-com         1            Curated Web\n",
       "4       /organization/004-technologies         1               Software"
      ]
     },
     "execution_count": 28,
     "metadata": {},
     "output_type": "execute_result"
    }
   ],
   "source": [
    "company_and_category.head()"
   ]
  },
  {
   "cell_type": "code",
   "execution_count": 59,
   "metadata": {},
   "outputs": [
    {
     "data": {
      "text/html": [
       "<div>\n",
       "<style scoped>\n",
       "    .dataframe tbody tr th:only-of-type {\n",
       "        vertical-align: middle;\n",
       "    }\n",
       "\n",
       "    .dataframe tbody tr th {\n",
       "        vertical-align: top;\n",
       "    }\n",
       "\n",
       "    .dataframe thead th {\n",
       "        text-align: right;\n",
       "    }\n",
       "</style>\n",
       "<table border=\"1\" class=\"dataframe\">\n",
       "  <thead>\n",
       "    <tr style=\"text-align: right;\">\n",
       "      <th>value</th>\n",
       "      <th>3D</th>\n",
       "      <th>3D Printing</th>\n",
       "      <th>3D Technology</th>\n",
       "      <th>Accounting</th>\n",
       "      <th>Active Lifestyle</th>\n",
       "      <th>Ad Targeting</th>\n",
       "      <th>Adaptive Equipment</th>\n",
       "      <th>Advanced Materials</th>\n",
       "      <th>Adventure Travel</th>\n",
       "      <th>Advertising</th>\n",
       "      <th>...</th>\n",
       "      <th>Wireless</th>\n",
       "      <th>Women</th>\n",
       "      <th>Writers</th>\n",
       "      <th>Young Adults</th>\n",
       "      <th>iOS</th>\n",
       "      <th>iPad</th>\n",
       "      <th>iPhone</th>\n",
       "      <th>iPod Touch</th>\n",
       "      <th>mHealth</th>\n",
       "      <th>nan</th>\n",
       "    </tr>\n",
       "    <tr>\n",
       "      <th>permalink</th>\n",
       "      <th></th>\n",
       "      <th></th>\n",
       "      <th></th>\n",
       "      <th></th>\n",
       "      <th></th>\n",
       "      <th></th>\n",
       "      <th></th>\n",
       "      <th></th>\n",
       "      <th></th>\n",
       "      <th></th>\n",
       "      <th></th>\n",
       "      <th></th>\n",
       "      <th></th>\n",
       "      <th></th>\n",
       "      <th></th>\n",
       "      <th></th>\n",
       "      <th></th>\n",
       "      <th></th>\n",
       "      <th></th>\n",
       "      <th></th>\n",
       "      <th></th>\n",
       "    </tr>\n",
       "  </thead>\n",
       "  <tbody>\n",
       "    <tr>\n",
       "      <th>/organization/-fame</th>\n",
       "      <td>0.0</td>\n",
       "      <td>0.0</td>\n",
       "      <td>0.0</td>\n",
       "      <td>0.0</td>\n",
       "      <td>0.0</td>\n",
       "      <td>0.0</td>\n",
       "      <td>0.0</td>\n",
       "      <td>0.0</td>\n",
       "      <td>0.0</td>\n",
       "      <td>0.0</td>\n",
       "      <td>...</td>\n",
       "      <td>0.0</td>\n",
       "      <td>0.0</td>\n",
       "      <td>0.0</td>\n",
       "      <td>0.0</td>\n",
       "      <td>0.0</td>\n",
       "      <td>0.0</td>\n",
       "      <td>0.0</td>\n",
       "      <td>0.0</td>\n",
       "      <td>0.0</td>\n",
       "      <td>0.0</td>\n",
       "    </tr>\n",
       "    <tr>\n",
       "      <th>/organization/-qounter</th>\n",
       "      <td>0.0</td>\n",
       "      <td>0.0</td>\n",
       "      <td>0.0</td>\n",
       "      <td>0.0</td>\n",
       "      <td>0.0</td>\n",
       "      <td>0.0</td>\n",
       "      <td>0.0</td>\n",
       "      <td>0.0</td>\n",
       "      <td>0.0</td>\n",
       "      <td>0.0</td>\n",
       "      <td>...</td>\n",
       "      <td>0.0</td>\n",
       "      <td>0.0</td>\n",
       "      <td>0.0</td>\n",
       "      <td>0.0</td>\n",
       "      <td>0.0</td>\n",
       "      <td>0.0</td>\n",
       "      <td>0.0</td>\n",
       "      <td>0.0</td>\n",
       "      <td>0.0</td>\n",
       "      <td>0.0</td>\n",
       "    </tr>\n",
       "    <tr>\n",
       "      <th>/organization/-the-one-of-them-inc-</th>\n",
       "      <td>0.0</td>\n",
       "      <td>0.0</td>\n",
       "      <td>0.0</td>\n",
       "      <td>0.0</td>\n",
       "      <td>0.0</td>\n",
       "      <td>0.0</td>\n",
       "      <td>0.0</td>\n",
       "      <td>0.0</td>\n",
       "      <td>0.0</td>\n",
       "      <td>0.0</td>\n",
       "      <td>...</td>\n",
       "      <td>0.0</td>\n",
       "      <td>0.0</td>\n",
       "      <td>0.0</td>\n",
       "      <td>0.0</td>\n",
       "      <td>0.0</td>\n",
       "      <td>0.0</td>\n",
       "      <td>0.0</td>\n",
       "      <td>0.0</td>\n",
       "      <td>0.0</td>\n",
       "      <td>0.0</td>\n",
       "    </tr>\n",
       "  </tbody>\n",
       "</table>\n",
       "<p>3 rows × 859 columns</p>\n",
       "</div>"
      ],
      "text/plain": [
       "value                                 3D  3D Printing  3D Technology  \\\n",
       "permalink                                                              \n",
       "/organization/-fame                  0.0          0.0            0.0   \n",
       "/organization/-qounter               0.0          0.0            0.0   \n",
       "/organization/-the-one-of-them-inc-  0.0          0.0            0.0   \n",
       "\n",
       "value                                Accounting  Active Lifestyle  \\\n",
       "permalink                                                           \n",
       "/organization/-fame                         0.0               0.0   \n",
       "/organization/-qounter                      0.0               0.0   \n",
       "/organization/-the-one-of-them-inc-         0.0               0.0   \n",
       "\n",
       "value                                Ad Targeting  Adaptive Equipment  \\\n",
       "permalink                                                               \n",
       "/organization/-fame                           0.0                 0.0   \n",
       "/organization/-qounter                        0.0                 0.0   \n",
       "/organization/-the-one-of-them-inc-           0.0                 0.0   \n",
       "\n",
       "value                                Advanced Materials  Adventure Travel  \\\n",
       "permalink                                                                   \n",
       "/organization/-fame                                 0.0               0.0   \n",
       "/organization/-qounter                              0.0               0.0   \n",
       "/organization/-the-one-of-them-inc-                 0.0               0.0   \n",
       "\n",
       "value                                Advertising  ...  Wireless  Women  \\\n",
       "permalink                                         ...                    \n",
       "/organization/-fame                          0.0  ...       0.0    0.0   \n",
       "/organization/-qounter                       0.0  ...       0.0    0.0   \n",
       "/organization/-the-one-of-them-inc-          0.0  ...       0.0    0.0   \n",
       "\n",
       "value                                Writers  Young Adults  iOS  iPad  iPhone  \\\n",
       "permalink                                                                       \n",
       "/organization/-fame                      0.0           0.0  0.0   0.0     0.0   \n",
       "/organization/-qounter                   0.0           0.0  0.0   0.0     0.0   \n",
       "/organization/-the-one-of-them-inc-      0.0           0.0  0.0   0.0     0.0   \n",
       "\n",
       "value                                iPod Touch  mHealth  nan  \n",
       "permalink                                                      \n",
       "/organization/-fame                         0.0      0.0  0.0  \n",
       "/organization/-qounter                      0.0      0.0  0.0  \n",
       "/organization/-the-one-of-them-inc-         0.0      0.0  0.0  \n",
       "\n",
       "[3 rows x 859 columns]"
      ]
     },
     "execution_count": 59,
     "metadata": {},
     "output_type": "execute_result"
    }
   ],
   "source": [
    "# Pivot so dataset has companys and categories on x and y\n",
    "company_categories = company_and_category.pivot(index='permalink', columns='value', values='variable').fillna(0)\n",
    "company_categories.head(3)"
   ]
  },
  {
   "cell_type": "markdown",
   "metadata": {},
   "source": [
    "### Export Data"
   ]
  },
  {
   "cell_type": "code",
   "execution_count": 79,
   "metadata": {},
   "outputs": [],
   "source": [
    "#Export Company and Category Data\n",
    "companies.to_csv('data/clean/companies.csv')\n",
    "company_categories.to_csv('data/interim/company_categories.csv')"
   ]
  },
  {
   "cell_type": "markdown",
   "metadata": {},
   "source": [
    "## 2. Investments and Rounds\n",
    "\n",
    "Interestingly the owner of the repo choose to separate investments and rounds into separate files so we will have to first see if there are any differences between the two besides the column information and find a way to get the most out of both sets.\n",
    "\n",
    "### a) Compare the two datasets"
   ]
  },
  {
   "cell_type": "markdown",
   "metadata": {},
   "source": [
    "##### Investments the same columns as rounds plus investor information."
   ]
  },
  {
   "cell_type": "code",
   "execution_count": 77,
   "metadata": {},
   "outputs": [
    {
     "name": "stdout",
     "output_type": "stream",
     "text": [
      "<class 'pandas.core.frame.DataFrame'>\n",
      "RangeIndex: 114949 entries, 0 to 114948\n",
      "Data columns (total 12 columns):\n",
      "company_permalink          114949 non-null object\n",
      "company_name               114948 non-null object\n",
      "company_category_list      111539 non-null object\n",
      "company_country_code       106271 non-null object\n",
      "company_state_code         104003 non-null object\n",
      "company_region             104782 non-null object\n",
      "company_city               104785 non-null object\n",
      "funding_round_permalink    114949 non-null object\n",
      "funding_round_type         114949 non-null object\n",
      "funding_round_code         31140 non-null object\n",
      "funded_at                  114949 non-null object\n",
      "raised_amount_usd          94959 non-null float64\n",
      "dtypes: float64(1), object(11)\n",
      "memory usage: 10.5+ MB\n"
     ]
    }
   ],
   "source": [
    "rounds.info()"
   ]
  },
  {
   "cell_type": "code",
   "execution_count": 76,
   "metadata": {},
   "outputs": [
    {
     "name": "stdout",
     "output_type": "stream",
     "text": [
      "<class 'pandas.core.frame.DataFrame'>\n",
      "RangeIndex: 168647 entries, 0 to 168646\n",
      "Data columns (total 18 columns):\n",
      "company_permalink          168647 non-null object\n",
      "company_name               168646 non-null object\n",
      "company_category_list      165015 non-null object\n",
      "company_country_code       158126 non-null object\n",
      "company_state_code         155216 non-null object\n",
      "company_region             156162 non-null object\n",
      "company_city               156164 non-null object\n",
      "investor_permalink         168635 non-null object\n",
      "investor_name              168635 non-null object\n",
      "investor_country_code      137708 non-null object\n",
      "investor_state_code        123908 non-null object\n",
      "investor_region            125430 non-null object\n",
      "investor_city              136483 non-null object\n",
      "funding_round_permalink    168647 non-null object\n",
      "funding_round_type         168647 non-null object\n",
      "funding_round_code         81062 non-null object\n",
      "funded_at                  168647 non-null object\n",
      "raised_amount_usd          147028 non-null float64\n",
      "dtypes: float64(1), object(17)\n",
      "memory usage: 23.2+ MB\n"
     ]
    }
   ],
   "source": [
    "investments.info()"
   ]
  },
  {
   "cell_type": "code",
   "execution_count": 7,
   "metadata": {},
   "outputs": [
    {
     "data": {
      "text/plain": [
       "44739"
      ]
     },
     "execution_count": 7,
     "metadata": {},
     "output_type": "execute_result"
    }
   ],
   "source": [
    "#Check # of companies of investments dataframe\n",
    "investment_permalinks = investments.company_permalink\n",
    "investment_permalinks.drop_duplicates().count()"
   ]
  },
  {
   "cell_type": "code",
   "execution_count": 8,
   "metadata": {},
   "outputs": [
    {
     "data": {
      "text/plain": [
       "66368"
      ]
     },
     "execution_count": 8,
     "metadata": {},
     "output_type": "execute_result"
    }
   ],
   "source": [
    "#Check # of companies of rounds dataframe\n",
    "rounds_permalinks = rounds.company_permalink\n",
    "rounds_permalinks.drop_duplicates().count()"
   ]
  },
  {
   "cell_type": "markdown",
   "metadata": {},
   "source": [
    "##### Rounds and investments have different data (Rounds has more company permalinks)?"
   ]
  },
  {
   "cell_type": "code",
   "execution_count": 9,
   "metadata": {},
   "outputs": [],
   "source": [
    "imp = ['company_name','investor_name','funding_round_permalink','funding_round_type','funding_round_code','funded_at']\n",
    "imp2 = ['company_name','funding_round_permalink','funding_round_type','funding_round_code','funded_at']"
   ]
  },
  {
   "cell_type": "code",
   "execution_count": 10,
   "metadata": {},
   "outputs": [
    {
     "data": {
      "text/html": [
       "<div>\n",
       "<style scoped>\n",
       "    .dataframe tbody tr th:only-of-type {\n",
       "        vertical-align: middle;\n",
       "    }\n",
       "\n",
       "    .dataframe tbody tr th {\n",
       "        vertical-align: top;\n",
       "    }\n",
       "\n",
       "    .dataframe thead th {\n",
       "        text-align: right;\n",
       "    }\n",
       "</style>\n",
       "<table border=\"1\" class=\"dataframe\">\n",
       "  <thead>\n",
       "    <tr style=\"text-align: right;\">\n",
       "      <th></th>\n",
       "      <th>company_name</th>\n",
       "      <th>investor_name</th>\n",
       "      <th>funding_round_permalink</th>\n",
       "      <th>funding_round_type</th>\n",
       "      <th>funding_round_code</th>\n",
       "      <th>funded_at</th>\n",
       "    </tr>\n",
       "  </thead>\n",
       "  <tbody>\n",
       "    <tr>\n",
       "      <th>0</th>\n",
       "      <td>0-6.com</td>\n",
       "      <td>DT Capital Partners</td>\n",
       "      <td>/funding-round/5727accaeaa57461bd22a9bdd945382d</td>\n",
       "      <td>venture</td>\n",
       "      <td>A</td>\n",
       "      <td>2008-03-19</td>\n",
       "    </tr>\n",
       "    <tr>\n",
       "      <th>1</th>\n",
       "      <td>004 Technologies</td>\n",
       "      <td>VCDE Venture Partners</td>\n",
       "      <td>/funding-round/1278dd4e6a37fa4b7d7e06c21b3c1830</td>\n",
       "      <td>venture</td>\n",
       "      <td>NaN</td>\n",
       "      <td>2014-07-24</td>\n",
       "    </tr>\n",
       "    <tr>\n",
       "      <th>2</th>\n",
       "      <td>01Games Technology</td>\n",
       "      <td>Cyberport Hong Kong</td>\n",
       "      <td>/funding-round/7d53696f2b4f607a2f2a8cbb83d01839</td>\n",
       "      <td>undisclosed</td>\n",
       "      <td>NaN</td>\n",
       "      <td>2014-07-01</td>\n",
       "    </tr>\n",
       "    <tr>\n",
       "      <th>3</th>\n",
       "      <td>H2O.ai</td>\n",
       "      <td>Capital One</td>\n",
       "      <td>/funding-round/3bb2ee4a2d89251a10aaa735b1180e44</td>\n",
       "      <td>venture</td>\n",
       "      <td>B</td>\n",
       "      <td>2015-11-09</td>\n",
       "    </tr>\n",
       "    <tr>\n",
       "      <th>4</th>\n",
       "      <td>H2O.ai</td>\n",
       "      <td>Nexus Venture Partners</td>\n",
       "      <td>/funding-round/383a9bd2c04f7038bb543ccef5ba3eae</td>\n",
       "      <td>seed</td>\n",
       "      <td>NaN</td>\n",
       "      <td>2013-05-22</td>\n",
       "    </tr>\n",
       "  </tbody>\n",
       "</table>\n",
       "</div>"
      ],
      "text/plain": [
       "         company_name           investor_name  \\\n",
       "0             0-6.com     DT Capital Partners   \n",
       "1    004 Technologies   VCDE Venture Partners   \n",
       "2  01Games Technology     Cyberport Hong Kong   \n",
       "3              H2O.ai             Capital One   \n",
       "4              H2O.ai  Nexus Venture Partners   \n",
       "\n",
       "                           funding_round_permalink funding_round_type  \\\n",
       "0  /funding-round/5727accaeaa57461bd22a9bdd945382d            venture   \n",
       "1  /funding-round/1278dd4e6a37fa4b7d7e06c21b3c1830            venture   \n",
       "2  /funding-round/7d53696f2b4f607a2f2a8cbb83d01839        undisclosed   \n",
       "3  /funding-round/3bb2ee4a2d89251a10aaa735b1180e44            venture   \n",
       "4  /funding-round/383a9bd2c04f7038bb543ccef5ba3eae               seed   \n",
       "\n",
       "  funding_round_code   funded_at  \n",
       "0                  A  2008-03-19  \n",
       "1                NaN  2014-07-24  \n",
       "2                NaN  2014-07-01  \n",
       "3                  B  2015-11-09  \n",
       "4                NaN  2013-05-22  "
      ]
     },
     "execution_count": 10,
     "metadata": {},
     "output_type": "execute_result"
    }
   ],
   "source": [
    "investments[imp].head()"
   ]
  },
  {
   "cell_type": "code",
   "execution_count": 11,
   "metadata": {},
   "outputs": [
    {
     "data": {
      "text/html": [
       "<div>\n",
       "<style scoped>\n",
       "    .dataframe tbody tr th:only-of-type {\n",
       "        vertical-align: middle;\n",
       "    }\n",
       "\n",
       "    .dataframe tbody tr th {\n",
       "        vertical-align: top;\n",
       "    }\n",
       "\n",
       "    .dataframe thead th {\n",
       "        text-align: right;\n",
       "    }\n",
       "</style>\n",
       "<table border=\"1\" class=\"dataframe\">\n",
       "  <thead>\n",
       "    <tr style=\"text-align: right;\">\n",
       "      <th></th>\n",
       "      <th>company_name</th>\n",
       "      <th>funding_round_permalink</th>\n",
       "      <th>funding_round_type</th>\n",
       "      <th>funding_round_code</th>\n",
       "      <th>funded_at</th>\n",
       "    </tr>\n",
       "  </thead>\n",
       "  <tbody>\n",
       "    <tr>\n",
       "      <th>0</th>\n",
       "      <td>#fame</td>\n",
       "      <td>/funding-round/9a01d05418af9f794eebff7ace91f638</td>\n",
       "      <td>venture</td>\n",
       "      <td>B</td>\n",
       "      <td>2015-01-05</td>\n",
       "    </tr>\n",
       "    <tr>\n",
       "      <th>1</th>\n",
       "      <td>:Qounter</td>\n",
       "      <td>/funding-round/22dacff496eb7acb2b901dec1dfe5633</td>\n",
       "      <td>venture</td>\n",
       "      <td>A</td>\n",
       "      <td>2014-10-14</td>\n",
       "    </tr>\n",
       "    <tr>\n",
       "      <th>2</th>\n",
       "      <td>:Qounter</td>\n",
       "      <td>/funding-round/b44fbb94153f6cdef13083530bb48030</td>\n",
       "      <td>seed</td>\n",
       "      <td>NaN</td>\n",
       "      <td>2014-03-01</td>\n",
       "    </tr>\n",
       "    <tr>\n",
       "      <th>3</th>\n",
       "      <td>(THE) ONE of THEM,Inc.</td>\n",
       "      <td>/funding-round/650b8f704416801069bb178a1418776b</td>\n",
       "      <td>venture</td>\n",
       "      <td>B</td>\n",
       "      <td>2014-01-30</td>\n",
       "    </tr>\n",
       "    <tr>\n",
       "      <th>4</th>\n",
       "      <td>0-6.com</td>\n",
       "      <td>/funding-round/5727accaeaa57461bd22a9bdd945382d</td>\n",
       "      <td>venture</td>\n",
       "      <td>A</td>\n",
       "      <td>2008-03-19</td>\n",
       "    </tr>\n",
       "  </tbody>\n",
       "</table>\n",
       "</div>"
      ],
      "text/plain": [
       "             company_name                          funding_round_permalink  \\\n",
       "0                   #fame  /funding-round/9a01d05418af9f794eebff7ace91f638   \n",
       "1                :Qounter  /funding-round/22dacff496eb7acb2b901dec1dfe5633   \n",
       "2                :Qounter  /funding-round/b44fbb94153f6cdef13083530bb48030   \n",
       "3  (THE) ONE of THEM,Inc.  /funding-round/650b8f704416801069bb178a1418776b   \n",
       "4                 0-6.com  /funding-round/5727accaeaa57461bd22a9bdd945382d   \n",
       "\n",
       "  funding_round_type funding_round_code   funded_at  \n",
       "0            venture                  B  2015-01-05  \n",
       "1            venture                  A  2014-10-14  \n",
       "2               seed                NaN  2014-03-01  \n",
       "3            venture                  B  2014-01-30  \n",
       "4            venture                  A  2008-03-19  "
      ]
     },
     "execution_count": 11,
     "metadata": {},
     "output_type": "execute_result"
    }
   ],
   "source": [
    "rounds[imp2].head()"
   ]
  },
  {
   "cell_type": "code",
   "execution_count": 12,
   "metadata": {},
   "outputs": [],
   "source": [
    "def investment_or_rounds_comp(row):\n",
    "    if row.investments > row.rounds:\n",
    "        return 'investments'\n",
    "    else:\n",
    "        return 'rounds'"
   ]
  },
  {
   "cell_type": "code",
   "execution_count": 13,
   "metadata": {},
   "outputs": [
    {
     "data": {
      "text/html": [
       "<div>\n",
       "<style scoped>\n",
       "    .dataframe tbody tr th:only-of-type {\n",
       "        vertical-align: middle;\n",
       "    }\n",
       "\n",
       "    .dataframe tbody tr th {\n",
       "        vertical-align: top;\n",
       "    }\n",
       "\n",
       "    .dataframe thead th {\n",
       "        text-align: right;\n",
       "    }\n",
       "</style>\n",
       "<table border=\"1\" class=\"dataframe\">\n",
       "  <thead>\n",
       "    <tr style=\"text-align: right;\">\n",
       "      <th></th>\n",
       "      <th>investments</th>\n",
       "      <th>rounds</th>\n",
       "      <th>compared</th>\n",
       "    </tr>\n",
       "  </thead>\n",
       "  <tbody>\n",
       "    <tr>\n",
       "      <th>venture</th>\n",
       "      <td>104157</td>\n",
       "      <td>55494</td>\n",
       "      <td>investments</td>\n",
       "    </tr>\n",
       "    <tr>\n",
       "      <th>seed</th>\n",
       "      <td>43747</td>\n",
       "      <td>30524</td>\n",
       "      <td>investments</td>\n",
       "    </tr>\n",
       "    <tr>\n",
       "      <th>angel</th>\n",
       "      <td>6493</td>\n",
       "      <td>6094</td>\n",
       "      <td>investments</td>\n",
       "    </tr>\n",
       "    <tr>\n",
       "      <th>undisclosed</th>\n",
       "      <td>5608</td>\n",
       "      <td>4897</td>\n",
       "      <td>investments</td>\n",
       "    </tr>\n",
       "    <tr>\n",
       "      <th>private_equity</th>\n",
       "      <td>2779</td>\n",
       "      <td>2285</td>\n",
       "      <td>investments</td>\n",
       "    </tr>\n",
       "    <tr>\n",
       "      <th>debt_financing</th>\n",
       "      <td>2197</td>\n",
       "      <td>6895</td>\n",
       "      <td>rounds</td>\n",
       "    </tr>\n",
       "    <tr>\n",
       "      <th>convertible_note</th>\n",
       "      <td>1590</td>\n",
       "      <td>1817</td>\n",
       "      <td>rounds</td>\n",
       "    </tr>\n",
       "    <tr>\n",
       "      <th>grant</th>\n",
       "      <td>1220</td>\n",
       "      <td>2200</td>\n",
       "      <td>rounds</td>\n",
       "    </tr>\n",
       "    <tr>\n",
       "      <th>equity_crowdfunding</th>\n",
       "      <td>325</td>\n",
       "      <td>3257</td>\n",
       "      <td>rounds</td>\n",
       "    </tr>\n",
       "    <tr>\n",
       "      <th>post_ipo_equity</th>\n",
       "      <td>204</td>\n",
       "      <td>638</td>\n",
       "      <td>rounds</td>\n",
       "    </tr>\n",
       "    <tr>\n",
       "      <th>non_equity_assistance</th>\n",
       "      <td>132</td>\n",
       "      <td>191</td>\n",
       "      <td>rounds</td>\n",
       "    </tr>\n",
       "    <tr>\n",
       "      <th>secondary_market</th>\n",
       "      <td>109</td>\n",
       "      <td>95</td>\n",
       "      <td>investments</td>\n",
       "    </tr>\n",
       "    <tr>\n",
       "      <th>post_ipo_debt</th>\n",
       "      <td>54</td>\n",
       "      <td>152</td>\n",
       "      <td>rounds</td>\n",
       "    </tr>\n",
       "    <tr>\n",
       "      <th>product_crowdfunding</th>\n",
       "      <td>32</td>\n",
       "      <td>410</td>\n",
       "      <td>rounds</td>\n",
       "    </tr>\n",
       "  </tbody>\n",
       "</table>\n",
       "</div>"
      ],
      "text/plain": [
       "                       investments  rounds     compared\n",
       "venture                     104157   55494  investments\n",
       "seed                         43747   30524  investments\n",
       "angel                         6493    6094  investments\n",
       "undisclosed                   5608    4897  investments\n",
       "private_equity                2779    2285  investments\n",
       "debt_financing                2197    6895       rounds\n",
       "convertible_note              1590    1817       rounds\n",
       "grant                         1220    2200       rounds\n",
       "equity_crowdfunding            325    3257       rounds\n",
       "post_ipo_equity                204     638       rounds\n",
       "non_equity_assistance          132     191       rounds\n",
       "secondary_market               109      95  investments\n",
       "post_ipo_debt                   54     152       rounds\n",
       "product_crowdfunding            32     410       rounds"
      ]
     },
     "execution_count": 13,
     "metadata": {},
     "output_type": "execute_result"
    }
   ],
   "source": [
    "category_comparison = pd.concat([investments.funding_round_type.value_counts(),rounds.funding_round_type.value_counts()], axis=1, sort=0)\n",
    "category_comparison.columns = ['investments','rounds']\n",
    "category_comparison['compared'] = category_comparison.apply(investment_or_rounds_comp, axis=1)\n",
    "category_comparison"
   ]
  },
  {
   "cell_type": "markdown",
   "metadata": {},
   "source": [
    "#####  Counts are different so should combine"
   ]
  },
  {
   "cell_type": "code",
   "execution_count": 14,
   "metadata": {
    "scrolled": true
   },
   "outputs": [
    {
     "data": {
      "text/html": [
       "<div>\n",
       "<style scoped>\n",
       "    .dataframe tbody tr th:only-of-type {\n",
       "        vertical-align: middle;\n",
       "    }\n",
       "\n",
       "    .dataframe tbody tr th {\n",
       "        vertical-align: top;\n",
       "    }\n",
       "\n",
       "    .dataframe thead th {\n",
       "        text-align: right;\n",
       "    }\n",
       "</style>\n",
       "<table border=\"1\" class=\"dataframe\">\n",
       "  <thead>\n",
       "    <tr style=\"text-align: right;\">\n",
       "      <th></th>\n",
       "      <th>investments</th>\n",
       "      <th>rounds</th>\n",
       "      <th>compared</th>\n",
       "    </tr>\n",
       "  </thead>\n",
       "  <tbody>\n",
       "    <tr>\n",
       "      <th>A</th>\n",
       "      <td>31436</td>\n",
       "      <td>14747</td>\n",
       "      <td>investments</td>\n",
       "    </tr>\n",
       "    <tr>\n",
       "      <th>B</th>\n",
       "      <td>23395</td>\n",
       "      <td>8713</td>\n",
       "      <td>investments</td>\n",
       "    </tr>\n",
       "    <tr>\n",
       "      <th>C</th>\n",
       "      <td>14796</td>\n",
       "      <td>4476</td>\n",
       "      <td>investments</td>\n",
       "    </tr>\n",
       "    <tr>\n",
       "      <th>D</th>\n",
       "      <td>7263</td>\n",
       "      <td>2025</td>\n",
       "      <td>investments</td>\n",
       "    </tr>\n",
       "    <tr>\n",
       "      <th>E</th>\n",
       "      <td>2851</td>\n",
       "      <td>811</td>\n",
       "      <td>investments</td>\n",
       "    </tr>\n",
       "    <tr>\n",
       "      <th>F</th>\n",
       "      <td>1041</td>\n",
       "      <td>283</td>\n",
       "      <td>investments</td>\n",
       "    </tr>\n",
       "    <tr>\n",
       "      <th>G</th>\n",
       "      <td>235</td>\n",
       "      <td>73</td>\n",
       "      <td>investments</td>\n",
       "    </tr>\n",
       "    <tr>\n",
       "      <th>H</th>\n",
       "      <td>45</td>\n",
       "      <td>12</td>\n",
       "      <td>investments</td>\n",
       "    </tr>\n",
       "  </tbody>\n",
       "</table>\n",
       "</div>"
      ],
      "text/plain": [
       "   investments  rounds     compared\n",
       "A        31436   14747  investments\n",
       "B        23395    8713  investments\n",
       "C        14796    4476  investments\n",
       "D         7263    2025  investments\n",
       "E         2851     811  investments\n",
       "F         1041     283  investments\n",
       "G          235      73  investments\n",
       "H           45      12  investments"
      ]
     },
     "execution_count": 14,
     "metadata": {},
     "output_type": "execute_result"
    }
   ],
   "source": [
    "round_code_comparison = pd.concat([investments.funding_round_code.value_counts(),rounds.funding_round_code.value_counts()], axis=1, sort=0)\n",
    "round_code_comparison.columns = ['investments','rounds']\n",
    "round_code_comparison['compared'] = round_code_comparison.apply(investment_or_rounds_comp, axis=1)\n",
    "round_code_comparison"
   ]
  },
  {
   "cell_type": "markdown",
   "metadata": {},
   "source": [
    "##### Investments dominate when looking at investment funding.  Can assume rounds has more non-standard funding types."
   ]
  },
  {
   "cell_type": "markdown",
   "metadata": {},
   "source": [
    "## b) Merge dataframes for more complete table\n",
    "\n",
    "From 1.1) we see that the main difference between the two datasets is investor details.  \n",
    "By merging the two data sets we are able to get all of the important information from both data sets."
   ]
  },
  {
   "cell_type": "code",
   "execution_count": 15,
   "metadata": {},
   "outputs": [],
   "source": [
    "investment_rounds = investments.merge(rounds, how='outer')"
   ]
  },
  {
   "cell_type": "code",
   "execution_count": 81,
   "metadata": {},
   "outputs": [
    {
     "name": "stdout",
     "output_type": "stream",
     "text": [
      "<class 'pandas.core.frame.DataFrame'>\n",
      "Int64Index: 212810 entries, 0 to 212809\n",
      "Data columns (total 18 columns):\n",
      "company_permalink          212810 non-null object\n",
      "company_name               212809 non-null object\n",
      "company_category_list      208250 non-null object\n",
      "company_country_code       199495 non-null object\n",
      "company_state_code         195906 non-null object\n",
      "company_region             197127 non-null object\n",
      "company_city               197130 non-null object\n",
      "investor_permalink         168635 non-null object\n",
      "investor_name              168635 non-null object\n",
      "investor_country_code      137708 non-null object\n",
      "investor_state_code        123908 non-null object\n",
      "investor_region            125430 non-null object\n",
      "investor_city              136483 non-null object\n",
      "funding_round_permalink    212810 non-null object\n",
      "funding_round_type         212810 non-null object\n",
      "funding_round_code         85221 non-null object\n",
      "funded_at                  212810 non-null object\n",
      "raised_amount_usd          185857 non-null float64\n",
      "dtypes: float64(1), object(17)\n",
      "memory usage: 30.8+ MB\n"
     ]
    }
   ],
   "source": [
    "investment_rounds.info()"
   ]
  },
  {
   "cell_type": "code",
   "execution_count": 83,
   "metadata": {},
   "outputs": [],
   "source": [
    "# String to numeric values\n",
    "investment_rounds['raised_amount_usd'] = pd.to_numeric(investment_rounds['raised_amount_usd'])\n",
    "\n",
    "# String to datetime values\n",
    "investment_rounds['funded_at'] = pd.to_datetime(investment_rounds['funded_at'])"
   ]
  },
  {
   "cell_type": "code",
   "execution_count": 84,
   "metadata": {},
   "outputs": [
    {
     "data": {
      "text/plain": [
       "(212810, 18)"
      ]
     },
     "execution_count": 84,
     "metadata": {},
     "output_type": "execute_result"
    }
   ],
   "source": [
    "investment_rounds.shape"
   ]
  },
  {
   "cell_type": "code",
   "execution_count": 85,
   "metadata": {},
   "outputs": [
    {
     "name": "stdout",
     "output_type": "stream",
     "text": [
      "<class 'pandas.core.frame.DataFrame'>\n",
      "Int64Index: 212810 entries, 0 to 212809\n",
      "Data columns (total 18 columns):\n",
      "company_permalink          212810 non-null object\n",
      "company_name               212809 non-null object\n",
      "company_category_list      208250 non-null object\n",
      "company_country_code       199495 non-null object\n",
      "company_state_code         195906 non-null object\n",
      "company_region             197127 non-null object\n",
      "company_city               197130 non-null object\n",
      "investor_permalink         168635 non-null object\n",
      "investor_name              168635 non-null object\n",
      "investor_country_code      137708 non-null object\n",
      "investor_state_code        123908 non-null object\n",
      "investor_region            125430 non-null object\n",
      "investor_city              136483 non-null object\n",
      "funding_round_permalink    212810 non-null object\n",
      "funding_round_type         212810 non-null object\n",
      "funding_round_code         85221 non-null object\n",
      "funded_at                  212810 non-null datetime64[ns]\n",
      "raised_amount_usd          185857 non-null float64\n",
      "dtypes: datetime64[ns](1), float64(1), object(16)\n",
      "memory usage: 30.8+ MB\n"
     ]
    }
   ],
   "source": [
    "investment_rounds.info()"
   ]
  },
  {
   "cell_type": "markdown",
   "metadata": {},
   "source": [
    "### c) Export Investment + Rounds File"
   ]
  },
  {
   "cell_type": "code",
   "execution_count": 97,
   "metadata": {},
   "outputs": [],
   "source": [
    "investment_rounds.to_csv('data/interim/investment_rounds.csv')"
   ]
  },
  {
   "cell_type": "markdown",
   "metadata": {},
   "source": [
    "# 3. Organizations\n",
    "\n",
    "No Cleaning needed"
   ]
  },
  {
   "cell_type": "code",
   "execution_count": 39,
   "metadata": {},
   "outputs": [
    {
     "data": {
      "text/html": [
       "<div>\n",
       "<style scoped>\n",
       "    .dataframe tbody tr th:only-of-type {\n",
       "        vertical-align: middle;\n",
       "    }\n",
       "\n",
       "    .dataframe tbody tr th {\n",
       "        vertical-align: top;\n",
       "    }\n",
       "\n",
       "    .dataframe thead th {\n",
       "        text-align: right;\n",
       "    }\n",
       "</style>\n",
       "<table border=\"1\" class=\"dataframe\">\n",
       "  <thead>\n",
       "    <tr style=\"text-align: right;\">\n",
       "      <th></th>\n",
       "      <th>crunchbase_uuid</th>\n",
       "      <th>name</th>\n",
       "      <th>type</th>\n",
       "      <th>primary_role</th>\n",
       "      <th>crunchbase_url</th>\n",
       "      <th>homepage_domain</th>\n",
       "      <th>homepage_url</th>\n",
       "      <th>profile_image_url</th>\n",
       "      <th>facebook_url</th>\n",
       "      <th>twitter_url</th>\n",
       "      <th>linkedin_url</th>\n",
       "      <th>stock_symbol</th>\n",
       "      <th>location_city</th>\n",
       "      <th>location_region</th>\n",
       "      <th>location_country_code</th>\n",
       "      <th>short_description</th>\n",
       "    </tr>\n",
       "  </thead>\n",
       "  <tbody>\n",
       "    <tr>\n",
       "      <th>0</th>\n",
       "      <td>e1393508-30ea-8a36-3f96-dd3226033abd</td>\n",
       "      <td>Wetpaint</td>\n",
       "      <td>organization</td>\n",
       "      <td>company</td>\n",
       "      <td>https://www.crunchbase.com/organization/wetpai...</td>\n",
       "      <td>wetpaint.com</td>\n",
       "      <td>http://www.wetpaint.com/</td>\n",
       "      <td>https://crunchbase-production-res.cloudinary.c...</td>\n",
       "      <td>https://www.facebook.com/Wetpaint</td>\n",
       "      <td>https://twitter.com/wetpainttv</td>\n",
       "      <td>https://www.linkedin.com/company/wetpaint</td>\n",
       "      <td>:</td>\n",
       "      <td>New York</td>\n",
       "      <td>New York</td>\n",
       "      <td>US</td>\n",
       "      <td>Wetpaint offers an online social publishing pl...</td>\n",
       "    </tr>\n",
       "    <tr>\n",
       "      <th>1</th>\n",
       "      <td>bf4d7b0e-b34d-2fd8-d292-6049c4f7efc7</td>\n",
       "      <td>Zoho</td>\n",
       "      <td>organization</td>\n",
       "      <td>company</td>\n",
       "      <td>https://www.crunchbase.com/organization/zoho?u...</td>\n",
       "      <td>zoho.com</td>\n",
       "      <td>https://www.zoho.com/</td>\n",
       "      <td>https://crunchbase-production-res.cloudinary.c...</td>\n",
       "      <td>http://www.facebook.com/zoho</td>\n",
       "      <td>http://twitter.com/zoho</td>\n",
       "      <td>http://www.linkedin.com/company/zoho-corporati...</td>\n",
       "      <td>:</td>\n",
       "      <td>Pleasanton</td>\n",
       "      <td>California</td>\n",
       "      <td>US</td>\n",
       "      <td>Zoho offers a suite of business, collaboration...</td>\n",
       "    </tr>\n",
       "    <tr>\n",
       "      <th>2</th>\n",
       "      <td>5f2b40b8-d1b3-d323-d81a-b7a8e89553d0</td>\n",
       "      <td>Digg</td>\n",
       "      <td>organization</td>\n",
       "      <td>company</td>\n",
       "      <td>https://www.crunchbase.com/organization/digg?u...</td>\n",
       "      <td>digg.com</td>\n",
       "      <td>http://www.digg.com</td>\n",
       "      <td>https://crunchbase-production-res.cloudinary.c...</td>\n",
       "      <td>http://www.facebook.com/digg</td>\n",
       "      <td>http://twitter.com/digg</td>\n",
       "      <td>http://www.linkedin.com/company/digg</td>\n",
       "      <td>:</td>\n",
       "      <td>New York</td>\n",
       "      <td>New York</td>\n",
       "      <td>US</td>\n",
       "      <td>Digg Inc. operates a website that enables its ...</td>\n",
       "    </tr>\n",
       "  </tbody>\n",
       "</table>\n",
       "</div>"
      ],
      "text/plain": [
       "                        crunchbase_uuid      name          type primary_role  \\\n",
       "0  e1393508-30ea-8a36-3f96-dd3226033abd  Wetpaint  organization      company   \n",
       "1  bf4d7b0e-b34d-2fd8-d292-6049c4f7efc7      Zoho  organization      company   \n",
       "2  5f2b40b8-d1b3-d323-d81a-b7a8e89553d0      Digg  organization      company   \n",
       "\n",
       "                                      crunchbase_url homepage_domain  \\\n",
       "0  https://www.crunchbase.com/organization/wetpai...    wetpaint.com   \n",
       "1  https://www.crunchbase.com/organization/zoho?u...        zoho.com   \n",
       "2  https://www.crunchbase.com/organization/digg?u...        digg.com   \n",
       "\n",
       "               homepage_url  \\\n",
       "0  http://www.wetpaint.com/   \n",
       "1     https://www.zoho.com/   \n",
       "2       http://www.digg.com   \n",
       "\n",
       "                                   profile_image_url  \\\n",
       "0  https://crunchbase-production-res.cloudinary.c...   \n",
       "1  https://crunchbase-production-res.cloudinary.c...   \n",
       "2  https://crunchbase-production-res.cloudinary.c...   \n",
       "\n",
       "                        facebook_url                     twitter_url  \\\n",
       "0  https://www.facebook.com/Wetpaint  https://twitter.com/wetpainttv   \n",
       "1       http://www.facebook.com/zoho         http://twitter.com/zoho   \n",
       "2       http://www.facebook.com/digg         http://twitter.com/digg   \n",
       "\n",
       "                                        linkedin_url stock_symbol  \\\n",
       "0          https://www.linkedin.com/company/wetpaint            :   \n",
       "1  http://www.linkedin.com/company/zoho-corporati...            :   \n",
       "2               http://www.linkedin.com/company/digg            :   \n",
       "\n",
       "  location_city location_region location_country_code  \\\n",
       "0      New York        New York                    US   \n",
       "1    Pleasanton      California                    US   \n",
       "2      New York        New York                    US   \n",
       "\n",
       "                                   short_description  \n",
       "0  Wetpaint offers an online social publishing pl...  \n",
       "1  Zoho offers a suite of business, collaboration...  \n",
       "2  Digg Inc. operates a website that enables its ...  "
      ]
     },
     "execution_count": 39,
     "metadata": {},
     "output_type": "execute_result"
    }
   ],
   "source": [
    "organizations.head(3)"
   ]
  },
  {
   "cell_type": "code",
   "execution_count": 64,
   "metadata": {},
   "outputs": [
    {
     "data": {
      "text/plain": [
       "(606064, 16)"
      ]
     },
     "execution_count": 64,
     "metadata": {},
     "output_type": "execute_result"
    }
   ],
   "source": [
    "organizations.shape"
   ]
  },
  {
   "cell_type": "code",
   "execution_count": 40,
   "metadata": {},
   "outputs": [
    {
     "name": "stdout",
     "output_type": "stream",
     "text": [
      "<class 'pandas.core.frame.DataFrame'>\n",
      "RangeIndex: 606064 entries, 0 to 606063\n",
      "Data columns (total 16 columns):\n",
      "crunchbase_uuid          606064 non-null object\n",
      "name                     606061 non-null object\n",
      "type                     606064 non-null object\n",
      "primary_role             606064 non-null object\n",
      "crunchbase_url           606062 non-null object\n",
      "homepage_domain          606064 non-null object\n",
      "homepage_url             606064 non-null object\n",
      "profile_image_url        606064 non-null object\n",
      "facebook_url             363769 non-null object\n",
      "twitter_url              380412 non-null object\n",
      "linkedin_url             272573 non-null object\n",
      "stock_symbol             606064 non-null object\n",
      "location_city            429452 non-null object\n",
      "location_region          429355 non-null object\n",
      "location_country_code    429337 non-null object\n",
      "short_description        606036 non-null object\n",
      "dtypes: object(16)\n",
      "memory usage: 74.0+ MB\n"
     ]
    }
   ],
   "source": [
    "organizations.info()"
   ]
  },
  {
   "cell_type": "code",
   "execution_count": 98,
   "metadata": {},
   "outputs": [],
   "source": [
    "organizations.to_csv('data/clean/organizations.csv')"
   ]
  },
  {
   "cell_type": "markdown",
   "metadata": {},
   "source": [
    "# 4. People"
   ]
  },
  {
   "cell_type": "code",
   "execution_count": 41,
   "metadata": {},
   "outputs": [
    {
     "data": {
      "text/html": [
       "<div>\n",
       "<style scoped>\n",
       "    .dataframe tbody tr th:only-of-type {\n",
       "        vertical-align: middle;\n",
       "    }\n",
       "\n",
       "    .dataframe tbody tr th {\n",
       "        vertical-align: top;\n",
       "    }\n",
       "\n",
       "    .dataframe thead th {\n",
       "        text-align: right;\n",
       "    }\n",
       "</style>\n",
       "<table border=\"1\" class=\"dataframe\">\n",
       "  <thead>\n",
       "    <tr style=\"text-align: right;\">\n",
       "      <th></th>\n",
       "      <th>crunchbase_uuid</th>\n",
       "      <th>type</th>\n",
       "      <th>first_name</th>\n",
       "      <th>last_name</th>\n",
       "      <th>crunchbase_url</th>\n",
       "      <th>profile_image_url</th>\n",
       "      <th>facebook_url</th>\n",
       "      <th>twitter_url</th>\n",
       "      <th>linkedin_url</th>\n",
       "      <th>location_city</th>\n",
       "      <th>location_region</th>\n",
       "      <th>location_country_code</th>\n",
       "      <th>title</th>\n",
       "      <th>organization</th>\n",
       "      <th>organization_crunchbase_url</th>\n",
       "    </tr>\n",
       "  </thead>\n",
       "  <tbody>\n",
       "    <tr>\n",
       "      <th>0</th>\n",
       "      <td>ed13cd36-fe2b-3707-197b-0c2d56e37a71</td>\n",
       "      <td>Person</td>\n",
       "      <td>Ben</td>\n",
       "      <td>Elowitz</td>\n",
       "      <td>https://www.crunchbase.com/person/ben-elowitz?...</td>\n",
       "      <td>https://crunchbase-production-res.cloudinary.c...</td>\n",
       "      <td>http://www.facebook.com/elowitz</td>\n",
       "      <td>http://twitter.com/elowitz</td>\n",
       "      <td>http://www.linkedin.com/in/benelowitz</td>\n",
       "      <td>Seattle</td>\n",
       "      <td>Washington</td>\n",
       "      <td>US</td>\n",
       "      <td>Managing Director at Madrona Venture Group</td>\n",
       "      <td>Madrona Venture Group</td>\n",
       "      <td>https://www.crunchbase.com/organization/madron...</td>\n",
       "    </tr>\n",
       "    <tr>\n",
       "      <th>1</th>\n",
       "      <td>5ceca97b-493c-1446-6249-5aaa33464763</td>\n",
       "      <td>Person</td>\n",
       "      <td>Kevin</td>\n",
       "      <td>Flaherty</td>\n",
       "      <td>https://www.crunchbase.com/person/kevin-flaher...</td>\n",
       "      <td>https://crunchbase-production-res.cloudinary.c...</td>\n",
       "      <td>NaN</td>\n",
       "      <td>https://twitter.com/tallkp</td>\n",
       "      <td>http://www.linkedin.com/in/kevinflaherty</td>\n",
       "      <td>NaN</td>\n",
       "      <td>NaN</td>\n",
       "      <td>NaN</td>\n",
       "      <td>Team Member at DRSmedia</td>\n",
       "      <td>DRSmedia</td>\n",
       "      <td>https://www.crunchbase.com/organization/drs650...</td>\n",
       "    </tr>\n",
       "    <tr>\n",
       "      <th>2</th>\n",
       "      <td>9f99a98a-aa97-b30b-0d36-db67c1d277e0</td>\n",
       "      <td>Person</td>\n",
       "      <td>Raju</td>\n",
       "      <td>Vegesna</td>\n",
       "      <td>https://www.crunchbase.com/person/raju-vegesna...</td>\n",
       "      <td>https://crunchbase-production-res.cloudinary.c...</td>\n",
       "      <td>NaN</td>\n",
       "      <td>NaN</td>\n",
       "      <td>https://www.linkedin.com/pub/raju-vegesna/1/65...</td>\n",
       "      <td>San Francisco</td>\n",
       "      <td>California</td>\n",
       "      <td>US</td>\n",
       "      <td>Chief Evangelist at Zoho</td>\n",
       "      <td>Zoho</td>\n",
       "      <td>https://www.crunchbase.com/organization/zoho</td>\n",
       "    </tr>\n",
       "  </tbody>\n",
       "</table>\n",
       "</div>"
      ],
      "text/plain": [
       "                        crunchbase_uuid    type first_name last_name  \\\n",
       "0  ed13cd36-fe2b-3707-197b-0c2d56e37a71  Person        Ben   Elowitz   \n",
       "1  5ceca97b-493c-1446-6249-5aaa33464763  Person      Kevin  Flaherty   \n",
       "2  9f99a98a-aa97-b30b-0d36-db67c1d277e0  Person       Raju   Vegesna   \n",
       "\n",
       "                                      crunchbase_url  \\\n",
       "0  https://www.crunchbase.com/person/ben-elowitz?...   \n",
       "1  https://www.crunchbase.com/person/kevin-flaher...   \n",
       "2  https://www.crunchbase.com/person/raju-vegesna...   \n",
       "\n",
       "                                   profile_image_url  \\\n",
       "0  https://crunchbase-production-res.cloudinary.c...   \n",
       "1  https://crunchbase-production-res.cloudinary.c...   \n",
       "2  https://crunchbase-production-res.cloudinary.c...   \n",
       "\n",
       "                      facebook_url                 twitter_url  \\\n",
       "0  http://www.facebook.com/elowitz  http://twitter.com/elowitz   \n",
       "1                              NaN  https://twitter.com/tallkp   \n",
       "2                              NaN                         NaN   \n",
       "\n",
       "                                        linkedin_url  location_city  \\\n",
       "0              http://www.linkedin.com/in/benelowitz        Seattle   \n",
       "1           http://www.linkedin.com/in/kevinflaherty            NaN   \n",
       "2  https://www.linkedin.com/pub/raju-vegesna/1/65...  San Francisco   \n",
       "\n",
       "  location_region location_country_code  \\\n",
       "0      Washington                    US   \n",
       "1             NaN                   NaN   \n",
       "2      California                    US   \n",
       "\n",
       "                                        title           organization  \\\n",
       "0  Managing Director at Madrona Venture Group  Madrona Venture Group   \n",
       "1                     Team Member at DRSmedia               DRSmedia   \n",
       "2                    Chief Evangelist at Zoho                   Zoho   \n",
       "\n",
       "                         organization_crunchbase_url  \n",
       "0  https://www.crunchbase.com/organization/madron...  \n",
       "1  https://www.crunchbase.com/organization/drs650...  \n",
       "2       https://www.crunchbase.com/organization/zoho  "
      ]
     },
     "execution_count": 41,
     "metadata": {},
     "output_type": "execute_result"
    }
   ],
   "source": [
    "people.head(3)"
   ]
  },
  {
   "cell_type": "code",
   "execution_count": 65,
   "metadata": {},
   "outputs": [
    {
     "data": {
      "text/plain": [
       "(605630, 15)"
      ]
     },
     "execution_count": 65,
     "metadata": {},
     "output_type": "execute_result"
    }
   ],
   "source": [
    "people.shape"
   ]
  },
  {
   "cell_type": "code",
   "execution_count": 42,
   "metadata": {
    "scrolled": true
   },
   "outputs": [
    {
     "name": "stdout",
     "output_type": "stream",
     "text": [
      "<class 'pandas.core.frame.DataFrame'>\n",
      "RangeIndex: 605630 entries, 0 to 605629\n",
      "Data columns (total 15 columns):\n",
      "crunchbase_uuid                605630 non-null object\n",
      "type                           605630 non-null object\n",
      "first_name                     605630 non-null object\n",
      "last_name                      605630 non-null object\n",
      "crunchbase_url                 605629 non-null object\n",
      "profile_image_url              605630 non-null object\n",
      "facebook_url                   54201 non-null object\n",
      "twitter_url                    117772 non-null object\n",
      "linkedin_url                   336341 non-null object\n",
      "location_city                  342695 non-null object\n",
      "location_region                347683 non-null object\n",
      "location_country_code          363749 non-null object\n",
      "title                          605630 non-null object\n",
      "organization                   605627 non-null object\n",
      "organization_crunchbase_url    605626 non-null object\n",
      "dtypes: object(15)\n",
      "memory usage: 69.3+ MB\n"
     ]
    }
   ],
   "source": [
    "people.info()"
   ]
  },
  {
   "cell_type": "markdown",
   "metadata": {},
   "source": [
    "#### Pretty much clean\n",
    "- missing values in social media urls (Not that important for this project)\n",
    "- missing values for location (Also, Not that important for this project)"
   ]
  },
  {
   "cell_type": "code",
   "execution_count": 99,
   "metadata": {},
   "outputs": [],
   "source": [
    "people.to_csv('data/clean/people.csv')"
   ]
  },
  {
   "cell_type": "markdown",
   "metadata": {},
   "source": [
    "# 5. Acquisitions"
   ]
  },
  {
   "cell_type": "code",
   "execution_count": 33,
   "metadata": {},
   "outputs": [
    {
     "data": {
      "text/html": [
       "<div>\n",
       "<style scoped>\n",
       "    .dataframe tbody tr th:only-of-type {\n",
       "        vertical-align: middle;\n",
       "    }\n",
       "\n",
       "    .dataframe tbody tr th {\n",
       "        vertical-align: top;\n",
       "    }\n",
       "\n",
       "    .dataframe thead th {\n",
       "        text-align: right;\n",
       "    }\n",
       "</style>\n",
       "<table border=\"1\" class=\"dataframe\">\n",
       "  <thead>\n",
       "    <tr style=\"text-align: right;\">\n",
       "      <th></th>\n",
       "      <th>company_permalink</th>\n",
       "      <th>company_name</th>\n",
       "      <th>company_category_list</th>\n",
       "      <th>company_country_code</th>\n",
       "      <th>company_state_code</th>\n",
       "      <th>company_region</th>\n",
       "      <th>company_city</th>\n",
       "      <th>acquirer_permalink</th>\n",
       "      <th>acquirer_name</th>\n",
       "      <th>acquirer_category_list</th>\n",
       "      <th>acquirer_country_code</th>\n",
       "      <th>acquirer_state_code</th>\n",
       "      <th>acquirer_region</th>\n",
       "      <th>acquirer_city</th>\n",
       "      <th>acquired_at</th>\n",
       "      <th>acquired_month</th>\n",
       "      <th>price_amount</th>\n",
       "      <th>price_currency_code</th>\n",
       "    </tr>\n",
       "  </thead>\n",
       "  <tbody>\n",
       "    <tr>\n",
       "      <th>0</th>\n",
       "      <td>/organization/003-ru</td>\n",
       "      <td>003.RU</td>\n",
       "      <td>Consumer Electronics|Electronics|Internet</td>\n",
       "      <td>RUS</td>\n",
       "      <td>48</td>\n",
       "      <td>Moscow</td>\n",
       "      <td>Moscow</td>\n",
       "      <td>/organization/media-saturn</td>\n",
       "      <td>Media Saturn</td>\n",
       "      <td>Enterprise Software|Media|Sales and Marketing</td>\n",
       "      <td>ESP</td>\n",
       "      <td>56</td>\n",
       "      <td>Barcelona</td>\n",
       "      <td>Barcelona</td>\n",
       "      <td>2012-07-23</td>\n",
       "      <td>2012-07</td>\n",
       "      <td>NaN</td>\n",
       "      <td>USD</td>\n",
       "    </tr>\n",
       "    <tr>\n",
       "      <th>1</th>\n",
       "      <td>/organization/0958572-b-c-ltd</td>\n",
       "      <td>0958572 B.C. Ltd.</td>\n",
       "      <td>NaN</td>\n",
       "      <td>NaN</td>\n",
       "      <td>NaN</td>\n",
       "      <td>NaN</td>\n",
       "      <td>NaN</td>\n",
       "      <td>/organization/atlas-intellectual-property-mana...</td>\n",
       "      <td>ATLAS Intellectual Property Management Co.</td>\n",
       "      <td>Finance|FinTech|Mobile|Telecommunications</td>\n",
       "      <td>USA</td>\n",
       "      <td>WA</td>\n",
       "      <td>Seattle</td>\n",
       "      <td>Seattle</td>\n",
       "      <td>2012-02-02</td>\n",
       "      <td>2012-02</td>\n",
       "      <td>9000000.0</td>\n",
       "      <td>USD</td>\n",
       "    </tr>\n",
       "    <tr>\n",
       "      <th>2</th>\n",
       "      <td>/organization/1-800-communications</td>\n",
       "      <td>1-800 Communications</td>\n",
       "      <td>NaN</td>\n",
       "      <td>USA</td>\n",
       "      <td>NY</td>\n",
       "      <td>Long Island</td>\n",
       "      <td>Hicksville</td>\n",
       "      <td>/organization/carsdirect-com</td>\n",
       "      <td>CarsDirect.com</td>\n",
       "      <td>E-Commerce</td>\n",
       "      <td>USA</td>\n",
       "      <td>CA</td>\n",
       "      <td>Los Angeles</td>\n",
       "      <td>El Segundo</td>\n",
       "      <td>2005-06-12</td>\n",
       "      <td>2005-06</td>\n",
       "      <td>NaN</td>\n",
       "      <td>USD</td>\n",
       "    </tr>\n",
       "  </tbody>\n",
       "</table>\n",
       "</div>"
      ],
      "text/plain": [
       "                    company_permalink          company_name  \\\n",
       "0                /organization/003-ru                003.RU   \n",
       "1       /organization/0958572-b-c-ltd     0958572 B.C. Ltd.   \n",
       "2  /organization/1-800-communications  1-800 Communications   \n",
       "\n",
       "                       company_category_list company_country_code  \\\n",
       "0  Consumer Electronics|Electronics|Internet                  RUS   \n",
       "1                                        NaN                  NaN   \n",
       "2                                        NaN                  USA   \n",
       "\n",
       "  company_state_code company_region company_city  \\\n",
       "0                 48         Moscow       Moscow   \n",
       "1                NaN            NaN          NaN   \n",
       "2                 NY    Long Island   Hicksville   \n",
       "\n",
       "                                  acquirer_permalink  \\\n",
       "0                         /organization/media-saturn   \n",
       "1  /organization/atlas-intellectual-property-mana...   \n",
       "2                       /organization/carsdirect-com   \n",
       "\n",
       "                                acquirer_name  \\\n",
       "0                                Media Saturn   \n",
       "1  ATLAS Intellectual Property Management Co.   \n",
       "2                              CarsDirect.com   \n",
       "\n",
       "                          acquirer_category_list acquirer_country_code  \\\n",
       "0  Enterprise Software|Media|Sales and Marketing                   ESP   \n",
       "1      Finance|FinTech|Mobile|Telecommunications                   USA   \n",
       "2                                     E-Commerce                   USA   \n",
       "\n",
       "  acquirer_state_code acquirer_region acquirer_city acquired_at  \\\n",
       "0                  56       Barcelona     Barcelona  2012-07-23   \n",
       "1                  WA         Seattle       Seattle  2012-02-02   \n",
       "2                  CA     Los Angeles    El Segundo  2005-06-12   \n",
       "\n",
       "  acquired_month  price_amount price_currency_code  \n",
       "0        2012-07           NaN                 USD  \n",
       "1        2012-02     9000000.0                 USD  \n",
       "2        2005-06           NaN                 USD  "
      ]
     },
     "execution_count": 33,
     "metadata": {},
     "output_type": "execute_result"
    }
   ],
   "source": [
    "acquisitions.head(3)"
   ]
  },
  {
   "cell_type": "code",
   "execution_count": 60,
   "metadata": {},
   "outputs": [
    {
     "data": {
      "text/plain": [
       "(18968, 18)"
      ]
     },
     "execution_count": 60,
     "metadata": {},
     "output_type": "execute_result"
    }
   ],
   "source": [
    "acquisitions.shape"
   ]
  },
  {
   "cell_type": "code",
   "execution_count": 62,
   "metadata": {},
   "outputs": [],
   "source": [
    "# String to Numeric Values\n",
    "acquisitions['price_amount'] = pd.to_numeric(acquisitions['price_amount'])\n",
    "\n",
    "# String to Datetimes\n",
    "acquisitions['acquired_at'] = pd.to_datetime(acquisitions['acquired_at'], errors = 'coerce')\n",
    "acquisitions['acquired_month'] = pd.to_datetime(acquisitions['acquired_month'], errors = 'coerce')"
   ]
  },
  {
   "cell_type": "code",
   "execution_count": 63,
   "metadata": {},
   "outputs": [
    {
     "name": "stdout",
     "output_type": "stream",
     "text": [
      "<class 'pandas.core.frame.DataFrame'>\n",
      "RangeIndex: 18968 entries, 0 to 18967\n",
      "Data columns (total 18 columns):\n",
      "company_permalink         18968 non-null object\n",
      "company_name              18968 non-null object\n",
      "company_category_list     13985 non-null object\n",
      "company_country_code      14300 non-null object\n",
      "company_state_code        14020 non-null object\n",
      "company_region            14058 non-null object\n",
      "company_city              14058 non-null object\n",
      "acquirer_permalink        18968 non-null object\n",
      "acquirer_name             18968 non-null object\n",
      "acquirer_category_list    16580 non-null object\n",
      "acquirer_country_code     17798 non-null object\n",
      "acquirer_state_code       17533 non-null object\n",
      "acquirer_region           17609 non-null object\n",
      "acquirer_city             17609 non-null object\n",
      "acquired_at               18954 non-null datetime64[ns]\n",
      "acquired_month            18954 non-null datetime64[ns]\n",
      "price_amount              5012 non-null float64\n",
      "price_currency_code       18962 non-null object\n",
      "dtypes: datetime64[ns](2), float64(1), object(15)\n",
      "memory usage: 2.6+ MB\n"
     ]
    }
   ],
   "source": [
    "acquisitions.info()"
   ]
  },
  {
   "cell_type": "code",
   "execution_count": 90,
   "metadata": {},
   "outputs": [],
   "source": [
    "acquisitions.to_csv('data/clean/acquisitions.csv')"
   ]
  },
  {
   "cell_type": "markdown",
   "metadata": {},
   "source": [
    "# 6. IPOs"
   ]
  },
  {
   "cell_type": "code",
   "execution_count": 68,
   "metadata": {},
   "outputs": [
    {
     "data": {
      "text/html": [
       "<div>\n",
       "<style scoped>\n",
       "    .dataframe tbody tr th:only-of-type {\n",
       "        vertical-align: middle;\n",
       "    }\n",
       "\n",
       "    .dataframe tbody tr th {\n",
       "        vertical-align: top;\n",
       "    }\n",
       "\n",
       "    .dataframe thead th {\n",
       "        text-align: right;\n",
       "    }\n",
       "</style>\n",
       "<table border=\"1\" class=\"dataframe\">\n",
       "  <thead>\n",
       "    <tr style=\"text-align: right;\">\n",
       "      <th></th>\n",
       "      <th>data</th>\n",
       "    </tr>\n",
       "  </thead>\n",
       "  <tbody>\n",
       "    <tr>\n",
       "      <th>0</th>\n",
       "      <td>[1, 1, 'c:1654', NULL, 'USD', NULL, 'USD', '19...</td>\n",
       "    </tr>\n",
       "    <tr>\n",
       "      <th>1</th>\n",
       "      <td>[2, 2, 'c:1242', NULL, 'USD', NULL, NULL, '198...</td>\n",
       "    </tr>\n",
       "  </tbody>\n",
       "</table>\n",
       "</div>"
      ],
      "text/plain": [
       "                                                data\n",
       "0  [1, 1, 'c:1654', NULL, 'USD', NULL, 'USD', '19...\n",
       "1  [2, 2, 'c:1242', NULL, 'USD', NULL, NULL, '198..."
      ]
     },
     "execution_count": 68,
     "metadata": {},
     "output_type": "execute_result"
    }
   ],
   "source": [
    "ipo.head(2)"
   ]
  },
  {
   "cell_type": "code",
   "execution_count": 43,
   "metadata": {},
   "outputs": [],
   "source": [
    "# reformat data\n",
    "ipo.columns = ['data']\n",
    "ipo['data'] = ipo['data'].str.split(',')\n",
    "ipo_data = ipo['data'].apply(pd.Series).drop(columns=[13,14,15])"
   ]
  },
  {
   "cell_type": "code",
   "execution_count": 44,
   "metadata": {},
   "outputs": [],
   "source": [
    "# Columns Names\n",
    "ipo_data.columns = ['id','ipo_id','object_id','valuation_amount','valuation_currency_code','raised_amount','raised_currency_code','public_at','stock_symbol','source_url','source_description','created_at','updated_at']"
   ]
  },
  {
   "cell_type": "code",
   "execution_count": 92,
   "metadata": {
    "scrolled": false
   },
   "outputs": [
    {
     "data": {
      "text/html": [
       "<div>\n",
       "<style scoped>\n",
       "    .dataframe tbody tr th:only-of-type {\n",
       "        vertical-align: middle;\n",
       "    }\n",
       "\n",
       "    .dataframe tbody tr th {\n",
       "        vertical-align: top;\n",
       "    }\n",
       "\n",
       "    .dataframe thead th {\n",
       "        text-align: right;\n",
       "    }\n",
       "</style>\n",
       "<table border=\"1\" class=\"dataframe\">\n",
       "  <thead>\n",
       "    <tr style=\"text-align: right;\">\n",
       "      <th></th>\n",
       "      <th>id</th>\n",
       "      <th>ipo_id</th>\n",
       "      <th>object_id</th>\n",
       "      <th>valuation_amount</th>\n",
       "      <th>valuation_currency_code</th>\n",
       "      <th>raised_amount</th>\n",
       "      <th>raised_currency_code</th>\n",
       "      <th>public_at</th>\n",
       "      <th>stock_symbol</th>\n",
       "      <th>source_url</th>\n",
       "      <th>source_description</th>\n",
       "      <th>created_at</th>\n",
       "      <th>updated_at</th>\n",
       "    </tr>\n",
       "  </thead>\n",
       "  <tbody>\n",
       "    <tr>\n",
       "      <th>0</th>\n",
       "      <td>1</td>\n",
       "      <td>1</td>\n",
       "      <td>'c:1654'</td>\n",
       "      <td>NaN</td>\n",
       "      <td>'USD'</td>\n",
       "      <td>NaN</td>\n",
       "      <td>'USD'</td>\n",
       "      <td>1980-12-19</td>\n",
       "      <td>'NASDAQ:AAPL'</td>\n",
       "      <td>NaN</td>\n",
       "      <td>NULL</td>\n",
       "      <td>2008-02-09 05:17:45</td>\n",
       "      <td>2012-04-12 04:02:59</td>\n",
       "    </tr>\n",
       "    <tr>\n",
       "      <th>1</th>\n",
       "      <td>2</td>\n",
       "      <td>2</td>\n",
       "      <td>'c:1242'</td>\n",
       "      <td>NaN</td>\n",
       "      <td>'USD'</td>\n",
       "      <td>NaN</td>\n",
       "      <td>NaN</td>\n",
       "      <td>1986-03-13</td>\n",
       "      <td>'NASDAQ:MSFT'</td>\n",
       "      <td>NaN</td>\n",
       "      <td>NULL</td>\n",
       "      <td>2008-02-09 05:25:18</td>\n",
       "      <td>2010-12-11 12:39:46</td>\n",
       "    </tr>\n",
       "  </tbody>\n",
       "</table>\n",
       "</div>"
      ],
      "text/plain": [
       "  id ipo_id object_id  valuation_amount valuation_currency_code  \\\n",
       "0  1      1  'c:1654'               NaN                   'USD'   \n",
       "1  2      2  'c:1242'               NaN                   'USD'   \n",
       "\n",
       "   raised_amount raised_currency_code  public_at   stock_symbol source_url  \\\n",
       "0            NaN                'USD' 1980-12-19  'NASDAQ:AAPL'        NaN   \n",
       "1            NaN                  NaN 1986-03-13  'NASDAQ:MSFT'        NaN   \n",
       "\n",
       "  source_description          created_at          updated_at  \n",
       "0               NULL 2008-02-09 05:17:45 2012-04-12 04:02:59  \n",
       "1               NULL 2008-02-09 05:25:18 2010-12-11 12:39:46  "
      ]
     },
     "execution_count": 92,
     "metadata": {},
     "output_type": "execute_result"
    }
   ],
   "source": [
    "ipo_data.head(2)"
   ]
  },
  {
   "cell_type": "code",
   "execution_count": 93,
   "metadata": {},
   "outputs": [],
   "source": [
    "# Null values to np.NaN\n",
    "ipo_data['valuation_amount'] = ipo_data['valuation_amount'].replace('NULL', np.nan)\n",
    "ipo_data['raised_amount'] = ipo_data['raised_amount'].replace('NULL', np.nan)\n",
    "ipo_data['raised_currency_code'] = ipo_data['raised_currency_code'].replace('NULL', np.nan)\n",
    "ipo_data['source_url'] = ipo_data['source_url'].replace('NULL', np.nan)\n",
    "\n",
    "# Get rid of quotes\n",
    "ipo_data['object_id'] = ipo_data['object_id'].replace('\\'', '')\n",
    "ipo_data['valuation_currency_code'] = ipo_data['valuation_currency_code'].replace('\\'', '')\n",
    "ipo_data['raised_currency_code'] = ipo_data['raised_currency_code'].replace('\\'', '')\n",
    "ipo_data['public_at'] = ipo_data['public_at'].replace('\\'', '')\n",
    "ipo_data['stock_symbol'] = ipo_data['stock_symbol'].replace('\\'', '')\n",
    "ipo_data['created_at'] = ipo_data['created_at'].replace('\\'', '')\n",
    "ipo_data['updated_at'] = ipo_data['updated_at'].replace('\\'', '')\n",
    "\n",
    "# Strings to Numeric Values\n",
    "ipo_data['valuation_amount'] = pd.to_numeric(ipo_data['valuation_amount'])\n",
    "ipo_data['raised_amount'] = pd.to_numeric(ipo_data['raised_amount'])\n",
    "\n",
    "# Strings to Datetime Values\n",
    "ipo_data['public_at'] = pd.to_datetime(ipo_data['public_at'], errors='coerce')\n",
    "ipo_data['created_at'] = pd.to_datetime(ipo_data['created_at'], errors='coerce')\n",
    "ipo_data['updated_at'] = pd.to_datetime(ipo_data['updated_at'], errors='coerce')"
   ]
  },
  {
   "cell_type": "code",
   "execution_count": 94,
   "metadata": {},
   "outputs": [
    {
     "data": {
      "text/plain": [
       "(1259, 13)"
      ]
     },
     "execution_count": 94,
     "metadata": {},
     "output_type": "execute_result"
    }
   ],
   "source": [
    "ipo_data.shape"
   ]
  },
  {
   "cell_type": "code",
   "execution_count": 95,
   "metadata": {},
   "outputs": [
    {
     "name": "stdout",
     "output_type": "stream",
     "text": [
      "<class 'pandas.core.frame.DataFrame'>\n",
      "RangeIndex: 1259 entries, 0 to 1258\n",
      "Data columns (total 13 columns):\n",
      "id                         1259 non-null object\n",
      "ipo_id                     1259 non-null object\n",
      "object_id                  1259 non-null object\n",
      "valuation_amount           108 non-null float64\n",
      "valuation_currency_code    1259 non-null object\n",
      "raised_amount              139 non-null float64\n",
      "raised_currency_code       699 non-null object\n",
      "public_at                  659 non-null datetime64[ns]\n",
      "stock_symbol               1259 non-null object\n",
      "source_url                 192 non-null object\n",
      "source_description         1259 non-null object\n",
      "created_at                 1235 non-null datetime64[ns]\n",
      "updated_at                 1255 non-null datetime64[ns]\n",
      "dtypes: datetime64[ns](3), float64(2), object(8)\n",
      "memory usage: 127.9+ KB\n"
     ]
    }
   ],
   "source": [
    "ipo_data.info()"
   ]
  },
  {
   "cell_type": "code",
   "execution_count": 96,
   "metadata": {},
   "outputs": [],
   "source": [
    "ipo_data.to_csv('data/clean/ipo.csv')"
   ]
  },
  {
   "cell_type": "markdown",
   "metadata": {},
   "source": [
    "# 7. Macro "
   ]
  },
  {
   "cell_type": "code",
   "execution_count": 9,
   "metadata": {},
   "outputs": [
    {
     "data": {
      "text/plain": [
       "[u'Data', u'Metadata - Countries', u'Metadata - Indicators']"
      ]
     },
     "execution_count": 9,
     "metadata": {},
     "output_type": "execute_result"
    }
   ],
   "source": [
    "macro_gdp_xls = pd.ExcelFile('data/raw/macro_gdp_worldbank.xls')\n",
    "macro_gdp_xls.sheet_names"
   ]
  },
  {
   "cell_type": "code",
   "execution_count": 14,
   "metadata": {},
   "outputs": [],
   "source": [
    "macro_gdp = macro_gdp_xls.parse('Data')"
   ]
  },
  {
   "cell_type": "code",
   "execution_count": 15,
   "metadata": {},
   "outputs": [
    {
     "data": {
      "text/html": [
       "<div>\n",
       "<style scoped>\n",
       "    .dataframe tbody tr th:only-of-type {\n",
       "        vertical-align: middle;\n",
       "    }\n",
       "\n",
       "    .dataframe tbody tr th {\n",
       "        vertical-align: top;\n",
       "    }\n",
       "\n",
       "    .dataframe thead th {\n",
       "        text-align: right;\n",
       "    }\n",
       "</style>\n",
       "<table border=\"1\" class=\"dataframe\">\n",
       "  <thead>\n",
       "    <tr style=\"text-align: right;\">\n",
       "      <th>2</th>\n",
       "      <th>Country Name</th>\n",
       "      <th>Country Code</th>\n",
       "      <th>Indicator Name</th>\n",
       "      <th>Indicator Code</th>\n",
       "      <th>1960.0</th>\n",
       "      <th>1961.0</th>\n",
       "      <th>1962.0</th>\n",
       "      <th>1963.0</th>\n",
       "      <th>1964.0</th>\n",
       "      <th>1965.0</th>\n",
       "      <th>...</th>\n",
       "      <th>2009.0</th>\n",
       "      <th>2010.0</th>\n",
       "      <th>2011.0</th>\n",
       "      <th>2012.0</th>\n",
       "      <th>2013.0</th>\n",
       "      <th>2014.0</th>\n",
       "      <th>2015.0</th>\n",
       "      <th>2016.0</th>\n",
       "      <th>2017.0</th>\n",
       "      <th>2018.0</th>\n",
       "    </tr>\n",
       "  </thead>\n",
       "  <tbody>\n",
       "    <tr>\n",
       "      <th>0</th>\n",
       "      <td>Aruba</td>\n",
       "      <td>ABW</td>\n",
       "      <td>GDP (current US$)</td>\n",
       "      <td>NY.GDP.MKTP.CD</td>\n",
       "      <td>NaN</td>\n",
       "      <td>NaN</td>\n",
       "      <td>NaN</td>\n",
       "      <td>NaN</td>\n",
       "      <td>NaN</td>\n",
       "      <td>NaN</td>\n",
       "      <td>...</td>\n",
       "      <td>2.498883e+09</td>\n",
       "      <td>2.390503e+09</td>\n",
       "      <td>2.549721e+09</td>\n",
       "      <td>2.534637e+09</td>\n",
       "      <td>2.581564e+09</td>\n",
       "      <td>2.649721e+09</td>\n",
       "      <td>2.691620e+09</td>\n",
       "      <td>2.646927e+09</td>\n",
       "      <td>2.700559e+09</td>\n",
       "      <td>NaN</td>\n",
       "    </tr>\n",
       "    <tr>\n",
       "      <th>1</th>\n",
       "      <td>Afghanistan</td>\n",
       "      <td>AFG</td>\n",
       "      <td>GDP (current US$)</td>\n",
       "      <td>NY.GDP.MKTP.CD</td>\n",
       "      <td>5.377778e+08</td>\n",
       "      <td>5.488889e+08</td>\n",
       "      <td>5.466667e+08</td>\n",
       "      <td>7.511112e+08</td>\n",
       "      <td>8.000000e+08</td>\n",
       "      <td>1.006667e+09</td>\n",
       "      <td>...</td>\n",
       "      <td>1.243909e+10</td>\n",
       "      <td>1.585657e+10</td>\n",
       "      <td>1.780429e+10</td>\n",
       "      <td>1.990732e+10</td>\n",
       "      <td>2.056107e+10</td>\n",
       "      <td>2.048489e+10</td>\n",
       "      <td>1.990711e+10</td>\n",
       "      <td>1.904636e+10</td>\n",
       "      <td>1.954398e+10</td>\n",
       "      <td>NaN</td>\n",
       "    </tr>\n",
       "    <tr>\n",
       "      <th>2</th>\n",
       "      <td>Angola</td>\n",
       "      <td>AGO</td>\n",
       "      <td>GDP (current US$)</td>\n",
       "      <td>NY.GDP.MKTP.CD</td>\n",
       "      <td>NaN</td>\n",
       "      <td>NaN</td>\n",
       "      <td>NaN</td>\n",
       "      <td>NaN</td>\n",
       "      <td>NaN</td>\n",
       "      <td>NaN</td>\n",
       "      <td>...</td>\n",
       "      <td>7.030716e+10</td>\n",
       "      <td>8.379950e+10</td>\n",
       "      <td>1.117897e+11</td>\n",
       "      <td>1.280529e+11</td>\n",
       "      <td>1.367099e+11</td>\n",
       "      <td>1.457122e+11</td>\n",
       "      <td>1.161936e+11</td>\n",
       "      <td>1.011239e+11</td>\n",
       "      <td>1.221238e+11</td>\n",
       "      <td>NaN</td>\n",
       "    </tr>\n",
       "    <tr>\n",
       "      <th>3</th>\n",
       "      <td>Albania</td>\n",
       "      <td>ALB</td>\n",
       "      <td>GDP (current US$)</td>\n",
       "      <td>NY.GDP.MKTP.CD</td>\n",
       "      <td>NaN</td>\n",
       "      <td>NaN</td>\n",
       "      <td>NaN</td>\n",
       "      <td>NaN</td>\n",
       "      <td>NaN</td>\n",
       "      <td>NaN</td>\n",
       "      <td>...</td>\n",
       "      <td>1.204421e+10</td>\n",
       "      <td>1.192696e+10</td>\n",
       "      <td>1.289087e+10</td>\n",
       "      <td>1.231978e+10</td>\n",
       "      <td>1.277628e+10</td>\n",
       "      <td>1.322825e+10</td>\n",
       "      <td>1.138693e+10</td>\n",
       "      <td>1.188368e+10</td>\n",
       "      <td>1.303854e+10</td>\n",
       "      <td>NaN</td>\n",
       "    </tr>\n",
       "    <tr>\n",
       "      <th>4</th>\n",
       "      <td>Andorra</td>\n",
       "      <td>AND</td>\n",
       "      <td>GDP (current US$)</td>\n",
       "      <td>NY.GDP.MKTP.CD</td>\n",
       "      <td>NaN</td>\n",
       "      <td>NaN</td>\n",
       "      <td>NaN</td>\n",
       "      <td>NaN</td>\n",
       "      <td>NaN</td>\n",
       "      <td>NaN</td>\n",
       "      <td>...</td>\n",
       "      <td>3.660531e+09</td>\n",
       "      <td>3.355695e+09</td>\n",
       "      <td>3.442063e+09</td>\n",
       "      <td>3.164615e+09</td>\n",
       "      <td>3.281585e+09</td>\n",
       "      <td>3.350736e+09</td>\n",
       "      <td>2.811489e+09</td>\n",
       "      <td>2.877312e+09</td>\n",
       "      <td>3.012914e+09</td>\n",
       "      <td>NaN</td>\n",
       "    </tr>\n",
       "  </tbody>\n",
       "</table>\n",
       "<p>5 rows × 63 columns</p>\n",
       "</div>"
      ],
      "text/plain": [
       "2 Country Name Country Code     Indicator Name  Indicator Code        1960.0  \\\n",
       "0        Aruba          ABW  GDP (current US$)  NY.GDP.MKTP.CD           NaN   \n",
       "1  Afghanistan          AFG  GDP (current US$)  NY.GDP.MKTP.CD  5.377778e+08   \n",
       "2       Angola          AGO  GDP (current US$)  NY.GDP.MKTP.CD           NaN   \n",
       "3      Albania          ALB  GDP (current US$)  NY.GDP.MKTP.CD           NaN   \n",
       "4      Andorra          AND  GDP (current US$)  NY.GDP.MKTP.CD           NaN   \n",
       "\n",
       "2        1961.0        1962.0        1963.0        1964.0        1965.0  ...  \\\n",
       "0           NaN           NaN           NaN           NaN           NaN  ...   \n",
       "1  5.488889e+08  5.466667e+08  7.511112e+08  8.000000e+08  1.006667e+09  ...   \n",
       "2           NaN           NaN           NaN           NaN           NaN  ...   \n",
       "3           NaN           NaN           NaN           NaN           NaN  ...   \n",
       "4           NaN           NaN           NaN           NaN           NaN  ...   \n",
       "\n",
       "2        2009.0        2010.0        2011.0        2012.0        2013.0  \\\n",
       "0  2.498883e+09  2.390503e+09  2.549721e+09  2.534637e+09  2.581564e+09   \n",
       "1  1.243909e+10  1.585657e+10  1.780429e+10  1.990732e+10  2.056107e+10   \n",
       "2  7.030716e+10  8.379950e+10  1.117897e+11  1.280529e+11  1.367099e+11   \n",
       "3  1.204421e+10  1.192696e+10  1.289087e+10  1.231978e+10  1.277628e+10   \n",
       "4  3.660531e+09  3.355695e+09  3.442063e+09  3.164615e+09  3.281585e+09   \n",
       "\n",
       "2        2014.0        2015.0        2016.0        2017.0  2018.0  \n",
       "0  2.649721e+09  2.691620e+09  2.646927e+09  2.700559e+09     NaN  \n",
       "1  2.048489e+10  1.990711e+10  1.904636e+10  1.954398e+10     NaN  \n",
       "2  1.457122e+11  1.161936e+11  1.011239e+11  1.221238e+11     NaN  \n",
       "3  1.322825e+10  1.138693e+10  1.188368e+10  1.303854e+10     NaN  \n",
       "4  3.350736e+09  2.811489e+09  2.877312e+09  3.012914e+09     NaN  \n",
       "\n",
       "[5 rows x 63 columns]"
      ]
     },
     "execution_count": 15,
     "metadata": {},
     "output_type": "execute_result"
    }
   ],
   "source": [
    "macro_gdp.columns = macro_gdp.loc[2]\n",
    "macro_gdp = macro_gdp.loc[3:].reset_index(drop=True)\n",
    "macro_gdp.head()"
   ]
  },
  {
   "cell_type": "code",
   "execution_count": 17,
   "metadata": {},
   "outputs": [
    {
     "data": {
      "text/html": [
       "<div>\n",
       "<style scoped>\n",
       "    .dataframe tbody tr th:only-of-type {\n",
       "        vertical-align: middle;\n",
       "    }\n",
       "\n",
       "    .dataframe tbody tr th {\n",
       "        vertical-align: top;\n",
       "    }\n",
       "\n",
       "    .dataframe thead th {\n",
       "        text-align: right;\n",
       "    }\n",
       "</style>\n",
       "<table border=\"1\" class=\"dataframe\">\n",
       "  <thead>\n",
       "    <tr style=\"text-align: right;\">\n",
       "      <th>2</th>\n",
       "      <th>Country Name</th>\n",
       "      <th>Country Code</th>\n",
       "      <th>Indicator Name</th>\n",
       "      <th>Indicator Code</th>\n",
       "      <th>1960.0</th>\n",
       "      <th>1961.0</th>\n",
       "      <th>1962.0</th>\n",
       "      <th>1963.0</th>\n",
       "      <th>1964.0</th>\n",
       "      <th>1965.0</th>\n",
       "      <th>...</th>\n",
       "      <th>2009.0</th>\n",
       "      <th>2010.0</th>\n",
       "      <th>2011.0</th>\n",
       "      <th>2012.0</th>\n",
       "      <th>2013.0</th>\n",
       "      <th>2014.0</th>\n",
       "      <th>2015.0</th>\n",
       "      <th>2016.0</th>\n",
       "      <th>2017.0</th>\n",
       "      <th>2018.0</th>\n",
       "    </tr>\n",
       "  </thead>\n",
       "  <tbody>\n",
       "    <tr>\n",
       "      <th>249</th>\n",
       "      <td>United States</td>\n",
       "      <td>USA</td>\n",
       "      <td>GDP (current US$)</td>\n",
       "      <td>NY.GDP.MKTP.CD</td>\n",
       "      <td>5.433000e+11</td>\n",
       "      <td>5.633000e+11</td>\n",
       "      <td>6.051000e+11</td>\n",
       "      <td>6.386000e+11</td>\n",
       "      <td>6.858000e+11</td>\n",
       "      <td>7.437000e+11</td>\n",
       "      <td>...</td>\n",
       "      <td>1.441874e+13</td>\n",
       "      <td>1.496437e+13</td>\n",
       "      <td>1.551793e+13</td>\n",
       "      <td>1.615526e+13</td>\n",
       "      <td>1.669152e+13</td>\n",
       "      <td>1.742761e+13</td>\n",
       "      <td>1.812071e+13</td>\n",
       "      <td>1.862448e+13</td>\n",
       "      <td>1.939060e+13</td>\n",
       "      <td>NaN</td>\n",
       "    </tr>\n",
       "  </tbody>\n",
       "</table>\n",
       "<p>1 rows × 63 columns</p>\n",
       "</div>"
      ],
      "text/plain": [
       "2     Country Name Country Code     Indicator Name  Indicator Code  \\\n",
       "249  United States          USA  GDP (current US$)  NY.GDP.MKTP.CD   \n",
       "\n",
       "2          1960.0        1961.0        1962.0        1963.0        1964.0  \\\n",
       "249  5.433000e+11  5.633000e+11  6.051000e+11  6.386000e+11  6.858000e+11   \n",
       "\n",
       "2          1965.0  ...        2009.0        2010.0        2011.0  \\\n",
       "249  7.437000e+11  ...  1.441874e+13  1.496437e+13  1.551793e+13   \n",
       "\n",
       "2          2012.0        2013.0        2014.0        2015.0        2016.0  \\\n",
       "249  1.615526e+13  1.669152e+13  1.742761e+13  1.812071e+13  1.862448e+13   \n",
       "\n",
       "2          2017.0  2018.0  \n",
       "249  1.939060e+13     NaN  \n",
       "\n",
       "[1 rows x 63 columns]"
      ]
     },
     "execution_count": 17,
     "metadata": {},
     "output_type": "execute_result"
    }
   ],
   "source": [
    "macro_gdp[macro_gdp['Country Code'] == 'USA'].m"
   ]
  },
  {
   "cell_type": "markdown",
   "metadata": {},
   "source": [
    " "
   ]
  },
  {
   "cell_type": "markdown",
   "metadata": {},
   "source": [
    "  "
   ]
  },
  {
   "cell_type": "markdown",
   "metadata": {},
   "source": [
    " "
   ]
  }
 ],
 "metadata": {
  "kernelspec": {
   "display_name": "Python 3",
   "language": "python",
   "name": "python3"
  },
  "language_info": {
   "codemirror_mode": {
    "name": "ipython",
    "version": 2
   },
   "file_extension": ".py",
   "mimetype": "text/x-python",
   "name": "python",
   "nbconvert_exporter": "python",
   "pygments_lexer": "ipython2",
   "version": "2.7.3"
  }
 },
 "nbformat": 4,
 "nbformat_minor": 2
}
