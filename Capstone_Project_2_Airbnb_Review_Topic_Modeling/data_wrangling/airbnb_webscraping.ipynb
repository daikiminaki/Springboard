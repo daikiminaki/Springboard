{
 "cells": [
  {
   "cell_type": "markdown",
   "metadata": {},
   "source": [
    "# Airbnb Web Scraping"
   ]
  },
  {
   "cell_type": "markdown",
   "metadata": {},
   "source": [
    "### Sources\n",
    "\n",
    "InsideAirbnb.com\n",
    "\n",
    "### Approach\n",
    "\n",
    "This Web Scraping downloads files from all available cities and organizes them into folders.\n",
    "\n",
    "For the sake of this project I will be running the scraping for only \"San Francisco\", however, if run on the full list of links it would download all csv and zips, expand zips and save as csvs, and create and put them into the correct folder (../country/city/files)."
   ]
  },
  {
   "cell_type": "code",
   "execution_count": 15,
   "metadata": {},
   "outputs": [],
   "source": [
    "import pandas as pd\n",
    "import glob as glob\n",
    "import requests\n",
    "import urllib\n",
    "from bs4 import BeautifulSoup"
   ]
  },
  {
   "cell_type": "markdown",
   "metadata": {},
   "source": [
    "# 1. Inside Airbnb"
   ]
  },
  {
   "cell_type": "markdown",
   "metadata": {},
   "source": [
    "## a. Get All Download Links"
   ]
  },
  {
   "cell_type": "code",
   "execution_count": 16,
   "metadata": {},
   "outputs": [],
   "source": [
    "def url_to_links_array(url):\n",
    "    # \n",
    "    r = requests.get(url)\n",
    "\n",
    "    # Beautify\n",
    "    soup = BeautifulSoup(r.content)\n",
    "\n",
    "    # find all links on web-page \n",
    "    links = soup.findAll('a')\n",
    "\n",
    "    links_array = []\n",
    "    for a in links:\n",
    "        try:\n",
    "            links_array.append(a['href'])\n",
    "        except:\n",
    "            pass\n",
    "    return links_array"
   ]
  },
  {
   "cell_type": "code",
   "execution_count": 17,
   "metadata": {},
   "outputs": [],
   "source": [
    "url = \"http://insideairbnb.com/get-the-data.html\"\n",
    "airbnb_full_links = url_to_links_array(url)"
   ]
  },
  {
   "cell_type": "markdown",
   "metadata": {},
   "source": [
    "## b. Organize in Table"
   ]
  },
  {
   "cell_type": "code",
   "execution_count": 18,
   "metadata": {},
   "outputs": [],
   "source": [
    "def links_array_to_link_descriptions_dataframe(links_array):\n",
    "    # DataFrame of Links\n",
    "    links_df = pd.DataFrame(links_array)\n",
    "    links_df.columns = ['link']\n",
    "\n",
    "    # Get only Data Download Links\n",
    "    links_df = links_df[links_df['link'].str.contains(\"http://data.insideairbnb.com/\")].reset_index(drop=True)\n",
    "    \n",
    "    # Extract Information From URLs\n",
    "    links_df['country'] = links_df['link'].str.split('/').apply(lambda x: x[3])\n",
    "    links_df['region'] = links_df['link'].str.split('/').apply(lambda x: x[4])\n",
    "    links_df['city'] = links_df['link'].str.split('/').apply(lambda x: x[5])\n",
    "    links_df['date'] = links_df['link'].str.split('/').apply(lambda x: x[6])\n",
    "    links_df['file_name'] = links_df['link'].str.split('/').apply(lambda x: x[8])\n",
    "    \n",
    "    # Get Most Recent based on link date\n",
    "    most_recent_links = links_df.groupby(['city','file_name'])[['date']].max().reset_index()\n",
    "\n",
    "    # Only Most Recent Dates\n",
    "    recent_links_df = links_df.merge(most_recent_links)\n",
    "    \n",
    "    return recent_links_df"
   ]
  },
  {
   "cell_type": "code",
   "execution_count": 19,
   "metadata": {},
   "outputs": [],
   "source": [
    "#\n",
    "airbnb_data_links = links_array_to_link_descriptions_dataframe(airbnb_full_links)"
   ]
  },
  {
   "cell_type": "code",
   "execution_count": 20,
   "metadata": {},
   "outputs": [
    {
     "data": {
      "text/html": [
       "<div>\n",
       "<style scoped>\n",
       "    .dataframe tbody tr th:only-of-type {\n",
       "        vertical-align: middle;\n",
       "    }\n",
       "\n",
       "    .dataframe tbody tr th {\n",
       "        vertical-align: top;\n",
       "    }\n",
       "\n",
       "    .dataframe thead th {\n",
       "        text-align: right;\n",
       "    }\n",
       "</style>\n",
       "<table border=\"1\" class=\"dataframe\">\n",
       "  <thead>\n",
       "    <tr style=\"text-align: right;\">\n",
       "      <th></th>\n",
       "      <th>link</th>\n",
       "      <th>country</th>\n",
       "      <th>region</th>\n",
       "      <th>city</th>\n",
       "      <th>date</th>\n",
       "      <th>file_name</th>\n",
       "    </tr>\n",
       "  </thead>\n",
       "  <tbody>\n",
       "    <tr>\n",
       "      <th>0</th>\n",
       "      <td>http://data.insideairbnb.com/the-netherlands/n...</td>\n",
       "      <td>the-netherlands</td>\n",
       "      <td>north-holland</td>\n",
       "      <td>amsterdam</td>\n",
       "      <td>2019-03-07</td>\n",
       "      <td>listings.csv.gz</td>\n",
       "    </tr>\n",
       "    <tr>\n",
       "      <th>1</th>\n",
       "      <td>http://data.insideairbnb.com/the-netherlands/n...</td>\n",
       "      <td>the-netherlands</td>\n",
       "      <td>north-holland</td>\n",
       "      <td>amsterdam</td>\n",
       "      <td>2019-03-07</td>\n",
       "      <td>calendar.csv.gz</td>\n",
       "    </tr>\n",
       "    <tr>\n",
       "      <th>2</th>\n",
       "      <td>http://data.insideairbnb.com/the-netherlands/n...</td>\n",
       "      <td>the-netherlands</td>\n",
       "      <td>north-holland</td>\n",
       "      <td>amsterdam</td>\n",
       "      <td>2019-03-07</td>\n",
       "      <td>reviews.csv.gz</td>\n",
       "    </tr>\n",
       "    <tr>\n",
       "      <th>3</th>\n",
       "      <td>http://data.insideairbnb.com/the-netherlands/n...</td>\n",
       "      <td>the-netherlands</td>\n",
       "      <td>north-holland</td>\n",
       "      <td>amsterdam</td>\n",
       "      <td>2019-03-07</td>\n",
       "      <td>listings.csv</td>\n",
       "    </tr>\n",
       "    <tr>\n",
       "      <th>4</th>\n",
       "      <td>http://data.insideairbnb.com/the-netherlands/n...</td>\n",
       "      <td>the-netherlands</td>\n",
       "      <td>north-holland</td>\n",
       "      <td>amsterdam</td>\n",
       "      <td>2019-03-07</td>\n",
       "      <td>reviews.csv</td>\n",
       "    </tr>\n",
       "  </tbody>\n",
       "</table>\n",
       "</div>"
      ],
      "text/plain": [
       "                                                link          country  \\\n",
       "0  http://data.insideairbnb.com/the-netherlands/n...  the-netherlands   \n",
       "1  http://data.insideairbnb.com/the-netherlands/n...  the-netherlands   \n",
       "2  http://data.insideairbnb.com/the-netherlands/n...  the-netherlands   \n",
       "3  http://data.insideairbnb.com/the-netherlands/n...  the-netherlands   \n",
       "4  http://data.insideairbnb.com/the-netherlands/n...  the-netherlands   \n",
       "\n",
       "          region       city        date        file_name  \n",
       "0  north-holland  amsterdam  2019-03-07  listings.csv.gz  \n",
       "1  north-holland  amsterdam  2019-03-07  calendar.csv.gz  \n",
       "2  north-holland  amsterdam  2019-03-07   reviews.csv.gz  \n",
       "3  north-holland  amsterdam  2019-03-07     listings.csv  \n",
       "4  north-holland  amsterdam  2019-03-07      reviews.csv  "
      ]
     },
     "execution_count": 20,
     "metadata": {},
     "output_type": "execute_result"
    }
   ],
   "source": [
    "airbnb_data_links.head()"
   ]
  },
  {
   "cell_type": "markdown",
   "metadata": {},
   "source": [
    "## c. Download Files"
   ]
  },
  {
   "cell_type": "code",
   "execution_count": 21,
   "metadata": {},
   "outputs": [
    {
     "data": {
      "text/plain": [
       "(637, 6)"
      ]
     },
     "execution_count": 21,
     "metadata": {},
     "output_type": "execute_result"
    }
   ],
   "source": [
    "airbnb_data_links.shape"
   ]
  },
  {
   "cell_type": "code",
   "execution_count": 22,
   "metadata": {},
   "outputs": [],
   "source": [
    "import urllib\n",
    "import gzip\n",
    "import io\n",
    "import os\n",
    "\n",
    "def download_files(dataset):\n",
    "    for index_val in dataset.index:\n",
    "        # Get Row\n",
    "        row = dataset.loc[index_val]\n",
    "        \n",
    "        #Get file variables\n",
    "        download_link = row.link\n",
    "        country = row.country\n",
    "        city = row.city\n",
    "        file_type = row.file_name\n",
    "                \n",
    "        # Directory\n",
    "        directory = 'data/' + country + '/' + city + '/'\n",
    "        \n",
    "        if not os.path.exists(directory):\n",
    "            os.makedirs(directory)\n",
    "        \n",
    "        try:\n",
    "            #Download details\n",
    "            file_name = file_type.split('.')[0]\n",
    "\n",
    "            \"\"\"Process differently depending on file type\"\"\"\n",
    "            if file_type[-3:] == \".gz\":                    \n",
    "                r = requests.get(download_link, timeout=30, stream=True)\n",
    "                csv_gz_file = r.content # Content in bytes from requests.get\n",
    "\n",
    "                f = io.BytesIO(csv_gz_file)\n",
    "                with gzip.GzipFile(fileobj=f) as fh:\n",
    "                    # Read unzipped csv to DataFrame\n",
    "                    dataframe = pd.read_csv(fh, low_memory=False)\n",
    "                    dataframe.to_csv(directory + file_name + \"_full.csv\")\n",
    "\n",
    "            elif file_type[-4:] == \".csv\":\n",
    "                if len(glob.glob(directory + file_name + \"_sample.csv\")) == 0:\n",
    "                    open_file = urllib.URLopener()\n",
    "                    open_file.retrieve(download_link, directory + file_name + \"_sample.csv\")\n",
    "            else:\n",
    "                if len(glob.glob(directory + file_type)) == 0:\n",
    "                    open_file = urllib.URLopener()\n",
    "                    open_file.retrieve(download_link, directory + file_type)\n",
    "        except:\n",
    "            pass"
   ]
  },
  {
   "cell_type": "markdown",
   "metadata": {},
   "source": [
    "### Only Select San Francisco Files"
   ]
  },
  {
   "cell_type": "code",
   "execution_count": 23,
   "metadata": {},
   "outputs": [
    {
     "data": {
      "text/html": [
       "<div>\n",
       "<style scoped>\n",
       "    .dataframe tbody tr th:only-of-type {\n",
       "        vertical-align: middle;\n",
       "    }\n",
       "\n",
       "    .dataframe tbody tr th {\n",
       "        vertical-align: top;\n",
       "    }\n",
       "\n",
       "    .dataframe thead th {\n",
       "        text-align: right;\n",
       "    }\n",
       "</style>\n",
       "<table border=\"1\" class=\"dataframe\">\n",
       "  <thead>\n",
       "    <tr style=\"text-align: right;\">\n",
       "      <th></th>\n",
       "      <th>link</th>\n",
       "      <th>country</th>\n",
       "      <th>region</th>\n",
       "      <th>city</th>\n",
       "      <th>date</th>\n",
       "      <th>file_name</th>\n",
       "    </tr>\n",
       "  </thead>\n",
       "  <tbody>\n",
       "    <tr>\n",
       "      <th>476</th>\n",
       "      <td>http://data.insideairbnb.com/united-states/ca/...</td>\n",
       "      <td>united-states</td>\n",
       "      <td>ca</td>\n",
       "      <td>san-francisco</td>\n",
       "      <td>2019-03-06</td>\n",
       "      <td>listings.csv.gz</td>\n",
       "    </tr>\n",
       "    <tr>\n",
       "      <th>477</th>\n",
       "      <td>http://data.insideairbnb.com/united-states/ca/...</td>\n",
       "      <td>united-states</td>\n",
       "      <td>ca</td>\n",
       "      <td>san-francisco</td>\n",
       "      <td>2019-03-06</td>\n",
       "      <td>calendar.csv.gz</td>\n",
       "    </tr>\n",
       "    <tr>\n",
       "      <th>478</th>\n",
       "      <td>http://data.insideairbnb.com/united-states/ca/...</td>\n",
       "      <td>united-states</td>\n",
       "      <td>ca</td>\n",
       "      <td>san-francisco</td>\n",
       "      <td>2019-03-06</td>\n",
       "      <td>reviews.csv.gz</td>\n",
       "    </tr>\n",
       "    <tr>\n",
       "      <th>479</th>\n",
       "      <td>http://data.insideairbnb.com/united-states/ca/...</td>\n",
       "      <td>united-states</td>\n",
       "      <td>ca</td>\n",
       "      <td>san-francisco</td>\n",
       "      <td>2019-03-06</td>\n",
       "      <td>listings.csv</td>\n",
       "    </tr>\n",
       "    <tr>\n",
       "      <th>480</th>\n",
       "      <td>http://data.insideairbnb.com/united-states/ca/...</td>\n",
       "      <td>united-states</td>\n",
       "      <td>ca</td>\n",
       "      <td>san-francisco</td>\n",
       "      <td>2019-03-06</td>\n",
       "      <td>reviews.csv</td>\n",
       "    </tr>\n",
       "  </tbody>\n",
       "</table>\n",
       "</div>"
      ],
      "text/plain": [
       "                                                  link        country region  \\\n",
       "476  http://data.insideairbnb.com/united-states/ca/...  united-states     ca   \n",
       "477  http://data.insideairbnb.com/united-states/ca/...  united-states     ca   \n",
       "478  http://data.insideairbnb.com/united-states/ca/...  united-states     ca   \n",
       "479  http://data.insideairbnb.com/united-states/ca/...  united-states     ca   \n",
       "480  http://data.insideairbnb.com/united-states/ca/...  united-states     ca   \n",
       "\n",
       "              city        date        file_name  \n",
       "476  san-francisco  2019-03-06  listings.csv.gz  \n",
       "477  san-francisco  2019-03-06  calendar.csv.gz  \n",
       "478  san-francisco  2019-03-06   reviews.csv.gz  \n",
       "479  san-francisco  2019-03-06     listings.csv  \n",
       "480  san-francisco  2019-03-06      reviews.csv  "
      ]
     },
     "execution_count": 23,
     "metadata": {},
     "output_type": "execute_result"
    }
   ],
   "source": [
    "# Only select San Francisco Links\n",
    "san_francisco_links = airbnb_data_links[airbnb_data_links.city == 'san-francisco']\n",
    "\n",
    "san_francisco_links.head()"
   ]
  },
  {
   "cell_type": "code",
   "execution_count": 24,
   "metadata": {},
   "outputs": [
    {
     "data": {
      "text/plain": [
       "(7, 6)"
      ]
     },
     "execution_count": 24,
     "metadata": {},
     "output_type": "execute_result"
    }
   ],
   "source": [
    "san_francisco_links.shape"
   ]
  },
  {
   "cell_type": "code",
   "execution_count": 25,
   "metadata": {},
   "outputs": [],
   "source": [
    "# Download into Files\n",
    "download_files(san_francisco_links)"
   ]
  },
  {
   "cell_type": "markdown",
   "metadata": {},
   "source": [
    "## Now To Clean The Data"
   ]
  }
 ],
 "metadata": {
  "kernelspec": {
   "display_name": "Python 3",
   "language": "python",
   "name": "python3"
  },
  "language_info": {
   "codemirror_mode": {
    "name": "ipython",
    "version": 2
   },
   "file_extension": ".py",
   "mimetype": "text/x-python",
   "name": "python",
   "nbconvert_exporter": "python",
   "pygments_lexer": "ipython2",
   "version": "2.7.3"
  }
 },
 "nbformat": 4,
 "nbformat_minor": 2
}
