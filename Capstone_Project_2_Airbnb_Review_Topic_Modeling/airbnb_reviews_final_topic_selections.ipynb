{
 "cells": [
  {
   "cell_type": "markdown",
   "metadata": {},
   "source": [
    "# AirBnB Review Topics"
   ]
  },
  {
   "cell_type": "markdown",
   "metadata": {},
   "source": []
  },
  {
   "cell_type": "markdown",
   "metadata": {},
   "source": [
    "## Load Data"
   ]
  },
  {
   "cell_type": "code",
   "execution_count": 2,
   "metadata": {
    "collapsed": true
   },
   "outputs": [
    {
     "name": "stderr",
     "output_type": "stream",
     "text": [
      "/anaconda3/lib/python2.7/site-packages/cryptography/hazmat/primitives/constant_time.py:26: CryptographyDeprecationWarning: Support for your Python version is deprecated. The next version of cryptography will remove support. Please upgrade to a 2.7.x release that supports hmac.compare_digest as soon as possible.\n",
      "  utils.PersistentlyDeprecated2018,\n"
     ]
    }
   ],
   "source": [
    "import pandas as pd\n",
    "import numpy as np\n",
    "\n",
    "from gensim.models.ldamulticore import LdaMulticore"
   ]
  },
  {
   "cell_type": "code",
   "execution_count": 3,
   "metadata": {},
   "outputs": [],
   "source": [
    "def display_results(results):\n",
    "    \"\"\"Print Full Topic Results\"\"\"\n",
    "    for index, result in results:\n",
    "        print(str(index) + ': ' + str(', '.join(result.split('\"')[1::2])))\n",
    "        \n",
    "def display_topics(results, topics):\n",
    "    \"\"\"Display Selected and Labeled Topics\"\"\"\n",
    "    for topic, topic_ids in topics.items():\n",
    "        print('\\n' + topic)\n",
    "        \n",
    "        for index, result in results:\n",
    "            if index in topic_ids:\n",
    "                print(str(index) + ': ' + str(', '.join(result.split('\"')[1::2])))"
   ]
  },
  {
   "cell_type": "markdown",
   "metadata": {},
   "source": [
    "# Full Review Tokens\n",
    "\n",
    "Model built with full tokenization of reviews."
   ]
  },
  {
   "cell_type": "code",
   "execution_count": null,
   "metadata": {},
   "outputs": [],
   "source": [
    "# Selected Topics\n",
    "full_review_topics = {'Accuracy': [33],\n",
    "                      'Cleanliness': [10,38,47],\n",
    "                      'Checkin': [17,23],\n",
    "                      'Communication': [7,27,],\n",
    "                      'Location': [4,22,37,44],\n",
    "                      'Transport': [34,35],\n",
    "                      'Value': [26,30,41,49]}"
   ]
  },
  {
   "cell_type": "code",
   "execution_count": 137,
   "metadata": {},
   "outputs": [],
   "source": [
    "# Load LDA\n",
    "ldamodel_full = LdaMulticore.load('models/ldam_reviews_50topics_10words_50passes_full.model')\n",
    "\n",
    "# Print Topics from Model\n",
    "results_full = ldamodel_full.print_topics(num_topics=50, num_words=10)"
   ]
  },
  {
   "cell_type": "code",
   "execution_count": 145,
   "metadata": {},
   "outputs": [
    {
     "name": "stdout",
     "output_type": "stream",
     "text": [
      "\n",
      "Cleanliness\n",
      "10: room, bathroom, private, bedroom, clean, kitchen, living, space, bed, shared\n",
      "38: wonderful, host, stay, comfortable, clean, beautiful, home, location, lovely, would\n",
      "47: nice, place, clean, really, super, room, stay, bed, house, comfortable\n",
      "\n",
      "Communication\n",
      "7: great, gave, local, tip, recommendation, host, city, area, helpful, provided\n",
      "27: quick, question, always, quickly, respond, response, available, responded, message, john\n",
      "\n",
      "Checkin\n",
      "17: check, late, even, early, arrived, time, accommodating, let, flight, last\n",
      "23: easy, check, communication, access, check-in, clean, super, communicate, made, instruction\n",
      "\n",
      "Value\n",
      "26: best, one, stayed, ever, place, airbnb, everything, 've, amazing, could\n",
      "30: star, without, five, joe, easier, hesitation, recommending, joy, trader, leo\n",
      "41: stay, back, place, definitely, would, time, come, next, trip, visit\n",
      "49: recommend, would, place, highly, stay, definitely, great, clean, staying, anyone\n",
      "\n",
      "Location\n",
      "4: city, place, quiet, great, perfect, neighborhood, space, spot, studio, stay\n",
      "22: great, location, place, stay, host, clean, would, comfortable, super, excellent\n",
      "37: walking, distance, within, restaurant, square, location, union, many, wharf, fisherman\n",
      "44: restaurant, great, shop, bar, close, coffee, walk, store, nearby, location\n",
      "\n",
      "Transport\n",
      "34: downtown, walk, minute, bus, uber, easy, get, away, bart, city\n",
      "35: parking, car, street, family, find, easy, house, space, park, spot\n",
      "\n",
      "Accuracy\n",
      "33: everything, needed, exactly, need, described, apartment, picture, stay, perfect, sure\n"
     ]
    }
   ],
   "source": [
    "# Display Topics\n",
    "display_topics(results_full, full_review_topics)"
   ]
  },
  {
   "cell_type": "markdown",
   "metadata": {},
   "source": [
    "# Non-Name Entities\n",
    "\n",
    "Many of the groupings in the \"Full Comments\" model were people and place names which were not as important for categorizing reviews for the sake of this project so I identified and removed the name entities found in the initial tokens."
   ]
  },
  {
   "cell_type": "code",
   "execution_count": null,
   "metadata": {},
   "outputs": [],
   "source": [
    "# Selected Topics\n",
    "no_ne_topics = {'Accuracy': [],\n",
    "                'Cleanliness': [15,27,42],\n",
    "                'Checkin': [35,45],\n",
    "                'Communication': [1,8,38],\n",
    "                'Location': [12,25,30,32],\n",
    "                'Transport': [3,9,22],\n",
    "                'Value': [0,18,28,46]}"
   ]
  },
  {
   "cell_type": "code",
   "execution_count": 88,
   "metadata": {},
   "outputs": [],
   "source": [
    "# Load LDA\n",
    "ldamodel_non_ne = LdaMulticore.load('models/ldam_reviews_50topics_10words_50passes_no_ner.model')\n",
    "\n",
    "# Print Topics\n",
    "results_non_ne = ldamodel_non_ne.print_topics(num_topics=50, num_words=10)"
   ]
  },
  {
   "cell_type": "code",
   "execution_count": 107,
   "metadata": {},
   "outputs": [
    {
     "name": "stdout",
     "output_type": "stream",
     "text": [
      "\n",
      "Cleanliness\n",
      "15: room, clean, bathroom, private, nice, comfortable, shared, bed, spacious, guest\n",
      "27: hotel, price, service, affordable, cleanliness, expect, amazingly, rate, compared, sense\n",
      "42: nice, really, place, good, stay, enjoyed, clean, location, host, quiet\n",
      "\n",
      "Communication\n",
      "1: question, quick, always, quickly, respond, available, response, responded, message, help\n",
      "8: great, gave, host, tip, recommendation, local, helpful, city, stay, went\n",
      "38: last, minute, hidden, gem, booked, holiday, accommodate, lady, understanding, authentic\n",
      "\n",
      "Checkin\n",
      "35: flight, hosts, updated, checkin, checkout, larger, valley, delayed, noe, tasteful\n",
      "45: easy, check, communication, check-in, described, exactly, clean, great, stay, location\n",
      "\n",
      "Value\n",
      "0: back, stay, come, definitely, place, next, would, time, great, love\n",
      "18: best, experience, one, airbnb, first, place, ever, host, time, stayed\n",
      "28: mission, value, district, heart, apt, star, money, san, five, right\n",
      "46: recommend, would, stay, place, definitely, highly, great, clean, staying, location\n",
      "\n",
      "Location\n",
      "12: walking, distance, within, restaurant, many, location, attraction, reasonable, park, neighborhood\n",
      "25: city, place, great, get, easy, perfect, location, uber, quiet, around\n",
      "30: great, location, host, place, stay, clean, super, comfortable, excellent, helpful\n",
      "32: restaurant, great, shop, close, location, bar, place, neighborhood, nearby, lot\n",
      "\n",
      "Transport\n",
      "3: parking, street, car, find, spot, easy, park, free, garage, space\n",
      "9: located, public, transportation, quiet, close, clean, well, neighborhood, transport, place\n",
      "22: walk, away, minute, bus, downtown, block, min, stop, station, take\n",
      "\n",
      "Accuracy\n"
     ]
    }
   ],
   "source": [
    "# Display By Topics\n",
    "display_topics(results_non_ne, no_ne_topics)"
   ]
  },
  {
   "cell_type": "markdown",
   "metadata": {},
   "source": [
    "# No Name Entities Plus Adjectives\n",
    "\n",
    "After building models with different Parts of Speech I found that Adjectives were important in grouping the "
   ]
  },
  {
   "cell_type": "code",
   "execution_count": 5,
   "metadata": {},
   "outputs": [],
   "source": [
    "# Selected Topics\n",
    "no_ne_plus_adj_topics = {'Accuracy': [26],\n",
    "                         'Cleanliness': [18,43],\n",
    "                         'Checkin': [11,34],\n",
    "                         'Communication': [8,19,32,33,37],\n",
    "                         'Location': [20,21,30,35,36],\n",
    "                         'Transport': [6,41,44],\n",
    "                         'Value': [22,27,28,46]}"
   ]
  },
  {
   "cell_type": "code",
   "execution_count": 131,
   "metadata": {},
   "outputs": [],
   "source": [
    "# Load LDA\n",
    "ldam_no_ne_plus_adj = LdaMulticore.load('models/ldam_reviews_50topics_10words_50passes_no_ner_plus_adj.model')\n",
    "\n",
    "# Print Topics\n",
    "results_non_ne_plus_adj = ldam_no_ne_plus_adj.print_topics(num_topics=50, num_words=10)"
   ]
  },
  {
   "cell_type": "code",
   "execution_count": 132,
   "metadata": {},
   "outputs": [
    {
     "name": "stdout",
     "output_type": "stream",
     "text": [
      "\n",
      "Cleanliness\n",
      "18: comfortable, clean, convenient, bed, room, stay, place, location, space, everything\n",
      "43: nice, clean, place, really, stay, room, house, host, neighborhood, everything\n",
      "\n",
      "Communication\n",
      "8: little, responsive, cozy, communicative, cheap, question, knowledgeable, space, host, spot\n",
      "19: gave, provided, tip, simple, recommendation, fast, lot, information, suggestion, city\n",
      "32: super, helpful, friendly, clean, cute, host, place, location, room, really\n",
      "33: last, flexible, second, minute, positive, least, time, accommodated, communal, accommodating\n",
      "37: quick, available, able, question, hospitable, always, respond, quickly, responded, response\n",
      "\n",
      "Checkin\n",
      "11: easy, check-in, check, access, get, made, communication, location, communicate, place\n",
      "34: next, early, late, time, sweet, check, favorite, adorable, even, dog\n",
      "\n",
      "Value\n",
      "22: much, back, stay, come, place, would, definitely, enjoyed, future, thank\n",
      "27: great, place, stay, location, host, would, time, definitely, really, everything\n",
      "28: clean, recommend, would, spacious, place, stay, definitely, highly, modern, apartment\n",
      "46: pretty, worth, affordable, price, hotel, steep, willing, respectful, decent, hostel\n",
      "\n",
      "Location\n",
      "20: good, location, better, place, value, stay, host, really, room, price\n",
      "21: excellent, fantastic, local, stylish, central, location, host, fabulous, prompt, outstanding\n",
      "30: many, walking, distance, pleasant, within, restaurant, advertised, enjoyable, sunny, shop\n",
      "35: perfect, place, location, stay, everything, trip, city, needed, business, space\n",
      "36: restaurant, right, nearby, shop, close, block, apartment, away, street, walk\n",
      "\n",
      "Transport\n",
      "6: public, close, happy, transportation, accessible, transport, restaurant, calm, city, easily\n",
      "41: parking, big, large, car, street, huge, rental, front, space, house\n",
      "44: downtown, long, bus, minute, close, walk, city, uber, get, away\n",
      "\n",
      "Accuracy\n",
      "26: awesome, listing, different, accurate, description, place, 10/10, urban, sad, picture\n"
     ]
    }
   ],
   "source": [
    "# Display Topics\n",
    "display_topics(results_non_ne_plus_adj, no_ne_plus_adj_topics)"
   ]
  },
  {
   "cell_type": "markdown",
   "metadata": {},
   "source": [
    "# Other LDA I Tried"
   ]
  },
  {
   "cell_type": "markdown",
   "metadata": {},
   "source": [
    "## Nouns"
   ]
  },
  {
   "cell_type": "code",
   "execution_count": 11,
   "metadata": {},
   "outputs": [],
   "source": [
    "nouns_topics = {'Accuracy': [],\n",
    "                'Cleanliness': [],\n",
    "                'Checkin': [10,],\n",
    "                'Communication': [6,11,42,43],\n",
    "                'Location': [1,24,30],\n",
    "                'Value': [23,25]}"
   ]
  },
  {
   "cell_type": "code",
   "execution_count": 12,
   "metadata": {},
   "outputs": [],
   "source": [
    "# Load LDA\n",
    "ldamodel_nouns = LdaMulticore.load('models/ldam_reviews_50topics_10words_50passes_nouns.model')\n",
    "\n",
    "# Print Topics from Model\n",
    "results_nouns = ldamodel_nouns.print_topics(num_topics=50, num_words=10)"
   ]
  },
  {
   "cell_type": "code",
   "execution_count": 13,
   "metadata": {},
   "outputs": [
    {
     "name": "stdout",
     "output_type": "stream",
     "text": [
      "\n",
      "Cleanliness\n",
      "\n",
      "Communication\n",
      "6: photo, mike, flat, amy, tony, communicator, email, thanks, pete, fast\n",
      "11: michael, t, response, process, question, star, awesome, wa, booking, quick\n",
      "42: responsive, rental, jonathan, share, game, app, date, knowledge, word, thought\n",
      "43: check, thing, tip, recommendation, host, stay, room, information, lot, area\n",
      "\n",
      "Checkin\n",
      "10: unit, check-in, flight, door, luggage, breeze, hour, bag, stair, key\n",
      "\n",
      "Value\n",
      "23: location, great, host, value, stay, perfect, communication, room, accommodation, everything\n",
      "25: highly, recommend, easy, jeff, host, destination, scott, immaculate, bob, wonderful\n",
      "\n",
      "Location\n",
      "1: place, location, host, sf, stay, everything, clean, time, nice, neighborhood\n",
      "24: restaurant, place, shop, distance, location, bar, neighborhood, lot, food, street\n",
      "30: city, place, uber, part, fran, access, town, area, transport, ride\n",
      "\n",
      "Accuracy\n"
     ]
    }
   ],
   "source": [
    "# Display Topics\n",
    "display_topics(results_nouns, nouns_topics)"
   ]
  },
  {
   "cell_type": "markdown",
   "metadata": {},
   "source": [
    "## Adjectives\n",
    "\n",
    "Good at Identifying Cleanliness and Value"
   ]
  },
  {
   "cell_type": "code",
   "execution_count": 6,
   "metadata": {},
   "outputs": [],
   "source": [
    "# Selected Topics\n",
    "adjective_topics = {'Accuracy': [],\n",
    "                    'Cleanliness': [2,9,16,18,45], \n",
    "                    'Checkin': [19], \n",
    "                    'Communication': [7,11], \n",
    "                    'Location': [48], \n",
    "                    'Value': [14,28,33,42]}"
   ]
  },
  {
   "cell_type": "code",
   "execution_count": 9,
   "metadata": {},
   "outputs": [],
   "source": [
    "# Load LDA\n",
    "ldam_adj = LdaMulticore.load('models/ldam_reviews_50topics_5words_50passes_adjectives.model')\n",
    "\n",
    "# Print Topics\n",
    "results_adj = ldam_adj.print_topics(num_topics=50, num_words=5)"
   ]
  },
  {
   "cell_type": "code",
   "execution_count": 10,
   "metadata": {},
   "outputs": [
    {
     "name": "stdout",
     "output_type": "stream",
     "text": [
      "\n",
      "Cleanliness\n",
      "2: nice, clean, comfortable, small, few\n",
      "9: stylish, clean, soft, reasonable, comfortable\n",
      "16: cozy, peaceful, clean, accommodating, tidy\n",
      "18: beautiful, enough, comfortable, delightful, clean\n",
      "45: perfect, clean, neat, comfortable, outstanding\n",
      "\n",
      "Communication\n",
      "7: responsive, great, clean, helpful, comfortable\n",
      "11: helpful, friendly, great, clean, welcoming\n",
      "\n",
      "Checkin\n",
      "19: check-in, flexible, prompt, less, muni\n",
      "\n",
      "Value\n",
      "14: accessible, communicative, walkable, ideal, affordable\n",
      "28: ready, major, spectacular, recomendable, magical\n",
      "33: next, incredible, fabulous, possible, lucky\n",
      "42: quick, big, worth, clean, recommended\n",
      "\n",
      "Location\n",
      "48: easy, convenient, clean, public, comfortable\n",
      "\n",
      "Accuracy\n"
     ]
    }
   ],
   "source": [
    "# Display Topics\n",
    "display_topics(results_adj, adjective_topics)"
   ]
  },
  {
   "cell_type": "markdown",
   "metadata": {},
   "source": [
    "## Verbs\n",
    "\n",
    "Not much information from just verbs"
   ]
  },
  {
   "cell_type": "code",
   "execution_count": 16,
   "metadata": {},
   "outputs": [],
   "source": [
    "# Selected Topics\n",
    "verbs_topics = {'Accuracy': [],\n",
    "                'Cleanliness': [],\n",
    "                'Checkin': [],\n",
    "                'Communication': [1,37],\n",
    "                'Location': [],\n",
    "                'Value': [19]}"
   ]
  },
  {
   "cell_type": "code",
   "execution_count": 17,
   "metadata": {},
   "outputs": [],
   "source": [
    "# Load LDA\n",
    "ldam_verbs = LdaMulticore.load('models/ldam_reviews_50topics_10words_50passes_verbs.model')\n",
    "\n",
    "# Print Topics\n",
    "results_verbs = ldam_verbs.print_topics(num_topics=50, num_words=10)"
   ]
  },
  {
   "cell_type": "code",
   "execution_count": 18,
   "metadata": {},
   "outputs": [
    {
     "name": "stdout",
     "output_type": "stream",
     "text": [
      "\n",
      "Cleanliness\n",
      "\n",
      "Communication\n",
      "1: help, share, describe, invite, play, sightsee, read, serve, introduce, noise\n",
      "37: communicate, bring, talk, furnish, mention, start, les, price, learn, pied\n",
      "\n",
      "Checkin\n",
      "\n",
      "Value\n",
      "19: recommend, cook, choose, connect, perfect, finish, present, warm, organise, seek\n",
      "\n",
      "Location\n",
      "\n",
      "Accuracy\n"
     ]
    }
   ],
   "source": [
    "# Display Topics\n",
    "display_topics(results_verbs, verbs_topics)"
   ]
  }
 ],
 "metadata": {
  "kernelspec": {
   "display_name": "Python 3",
   "language": "python",
   "name": "python3"
  },
  "language_info": {
   "codemirror_mode": {
    "name": "ipython",
    "version": 2
   },
   "file_extension": ".py",
   "mimetype": "text/x-python",
   "name": "python",
   "nbconvert_exporter": "python",
   "pygments_lexer": "ipython2",
   "version": "2.7.3"
  }
 },
 "nbformat": 4,
 "nbformat_minor": 2
}
