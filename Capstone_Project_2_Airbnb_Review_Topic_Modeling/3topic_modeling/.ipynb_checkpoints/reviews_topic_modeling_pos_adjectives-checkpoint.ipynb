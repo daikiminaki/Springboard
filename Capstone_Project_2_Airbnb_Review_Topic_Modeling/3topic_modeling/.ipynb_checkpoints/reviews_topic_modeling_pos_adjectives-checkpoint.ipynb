{
 "cells": [
  {
   "cell_type": "markdown",
   "metadata": {},
   "source": [
    "# AirBnB Reviews Topic Modelling: Adjectives"
   ]
  },
  {
   "cell_type": "code",
   "execution_count": 4,
   "metadata": {},
   "outputs": [],
   "source": [
    "import pandas as pd\n",
    "import numpy as np\n",
    "import matplotlib.pyplot as plt\n",
    "import seaborn as sns; sns.set()"
   ]
  },
  {
   "cell_type": "markdown",
   "metadata": {},
   "source": [
    "## Load Data"
   ]
  },
  {
   "cell_type": "code",
   "execution_count": 2,
   "metadata": {},
   "outputs": [],
   "source": [
    "def load_review_data(directory):\n",
    "    \"\"\"Load Review Data\"\"\"\n",
    "    reviews_df = pd.read_csv(directory + 'interim/review_wrangled.csv', sep=';', lineterminator='\\n').drop(columns=['Unnamed: 0'])\n",
    "    \n",
    "    return reviews_df"
   ]
  },
  {
   "cell_type": "code",
   "execution_count": 7,
   "metadata": {},
   "outputs": [],
   "source": [
    "# Select City\n",
    "country = 'united-states'\n",
    "city = 'san-francisco'\n",
    "\n",
    "# Directory\n",
    "directory = '../data/' + country + '/' + city + '/'\n",
    "\n",
    "#\n",
    "reviews_df = load_review_data(directory)"
   ]
  },
  {
   "cell_type": "code",
   "execution_count": 9,
   "metadata": {},
   "outputs": [
    {
     "data": {
      "text/html": [
       "<div>\n",
       "<style scoped>\n",
       "    .dataframe tbody tr th:only-of-type {\n",
       "        vertical-align: middle;\n",
       "    }\n",
       "\n",
       "    .dataframe tbody tr th {\n",
       "        vertical-align: top;\n",
       "    }\n",
       "\n",
       "    .dataframe thead th {\n",
       "        text-align: right;\n",
       "    }\n",
       "</style>\n",
       "<table border=\"1\" class=\"dataframe\">\n",
       "  <thead>\n",
       "    <tr style=\"text-align: right;\">\n",
       "      <th></th>\n",
       "      <th>listing_id</th>\n",
       "      <th>id</th>\n",
       "      <th>date</th>\n",
       "      <th>comments</th>\n",
       "      <th>tokens</th>\n",
       "      <th>tokens_count</th>\n",
       "      <th>name_entities</th>\n",
       "      <th>name_entities_count</th>\n",
       "      <th>comments_no_ne</th>\n",
       "      <th>no_ne_tokens</th>\n",
       "      <th>no_ne_tokens_count</th>\n",
       "      <th>nouns</th>\n",
       "      <th>nouns_counts</th>\n",
       "      <th>verbs</th>\n",
       "      <th>verbs_counts</th>\n",
       "      <th>adjectives</th>\n",
       "      <th>adjectives_counts</th>\n",
       "    </tr>\n",
       "  </thead>\n",
       "  <tbody>\n",
       "    <tr>\n",
       "      <th>0</th>\n",
       "      <td>958</td>\n",
       "      <td>5977</td>\n",
       "      <td>2009-07-23</td>\n",
       "      <td>Our experience was, without a doubt, a five st...</td>\n",
       "      <td>['experience', 'without', 'doubt', 'five', 'st...</td>\n",
       "      <td>47</td>\n",
       "      <td>['David', 'Haight', 'Castro', 'Golden Gate Par...</td>\n",
       "      <td>5</td>\n",
       "      <td>Our experience was, without a doubt, a five st...</td>\n",
       "      <td>['experience', 'without', 'doubt', 'five', 'st...</td>\n",
       "      <td>39</td>\n",
       "      <td>['experience', 'doubt', 'star', 'experience', ...</td>\n",
       "      <td>30</td>\n",
       "      <td>[u'be', u'be', 'accomodating', u'honor', u'be'...</td>\n",
       "      <td>10</td>\n",
       "      <td>['consummate', 'full', 'perfect', 'full', 'clo...</td>\n",
       "      <td>6</td>\n",
       "    </tr>\n",
       "    <tr>\n",
       "      <th>1</th>\n",
       "      <td>958</td>\n",
       "      <td>6660</td>\n",
       "      <td>2009-08-03</td>\n",
       "      <td>Returning to San Francisco is a rejuvenating t...</td>\n",
       "      <td>['returning', 'san', 'francisco', 'rejuvenatin...</td>\n",
       "      <td>36</td>\n",
       "      <td>['San Francisco', 'Holly', 'David']</td>\n",
       "      <td>3</td>\n",
       "      <td>Returning to  is a rejuvenating thrill but thi...</td>\n",
       "      <td>['returning', 'rejuvenating', 'thrill', 'time'...</td>\n",
       "      <td>32</td>\n",
       "      <td>['san', 'francisco', 'rejuvenating', 'thrill',...</td>\n",
       "      <td>19</td>\n",
       "      <td>[u'return', u'be', u'be', u'enhance', u'renova...</td>\n",
       "      <td>14</td>\n",
       "      <td>['great', 'local', 'such', 'amenable']</td>\n",
       "      <td>4</td>\n",
       "    </tr>\n",
       "    <tr>\n",
       "      <th>2</th>\n",
       "      <td>958</td>\n",
       "      <td>11519</td>\n",
       "      <td>2009-09-27</td>\n",
       "      <td>We were very pleased with the accommodations a...</td>\n",
       "      <td>['pleased', u'accommodation', 'friendly', 'nei...</td>\n",
       "      <td>67</td>\n",
       "      <td>['David', 'Haight Street', 'Castro Street']</td>\n",
       "      <td>3</td>\n",
       "      <td>We were very pleased with the accommodations a...</td>\n",
       "      <td>['pleased', u'accommodation', 'friendly', 'nei...</td>\n",
       "      <td>62</td>\n",
       "      <td>[u'accommodation', 'neighborhood', 'bed', 'fut...</td>\n",
       "      <td>41</td>\n",
       "      <td>[u'be', u'be', 'make', u'be', u'have', u'be', ...</td>\n",
       "      <td>21</td>\n",
       "      <td>['pleased', 'friendly', 'able', 'second', 'hel...</td>\n",
       "      <td>16</td>\n",
       "    </tr>\n",
       "  </tbody>\n",
       "</table>\n",
       "</div>"
      ],
      "text/plain": [
       "   listing_id     id        date  \\\n",
       "0         958   5977  2009-07-23   \n",
       "1         958   6660  2009-08-03   \n",
       "2         958  11519  2009-09-27   \n",
       "\n",
       "                                            comments  \\\n",
       "0  Our experience was, without a doubt, a five st...   \n",
       "1  Returning to San Francisco is a rejuvenating t...   \n",
       "2  We were very pleased with the accommodations a...   \n",
       "\n",
       "                                              tokens  tokens_count  \\\n",
       "0  ['experience', 'without', 'doubt', 'five', 'st...            47   \n",
       "1  ['returning', 'san', 'francisco', 'rejuvenatin...            36   \n",
       "2  ['pleased', u'accommodation', 'friendly', 'nei...            67   \n",
       "\n",
       "                                       name_entities  name_entities_count  \\\n",
       "0  ['David', 'Haight', 'Castro', 'Golden Gate Par...                    5   \n",
       "1                ['San Francisco', 'Holly', 'David']                    3   \n",
       "2        ['David', 'Haight Street', 'Castro Street']                    3   \n",
       "\n",
       "                                      comments_no_ne  \\\n",
       "0  Our experience was, without a doubt, a five st...   \n",
       "1  Returning to  is a rejuvenating thrill but thi...   \n",
       "2  We were very pleased with the accommodations a...   \n",
       "\n",
       "                                        no_ne_tokens  no_ne_tokens_count  \\\n",
       "0  ['experience', 'without', 'doubt', 'five', 'st...                  39   \n",
       "1  ['returning', 'rejuvenating', 'thrill', 'time'...                  32   \n",
       "2  ['pleased', u'accommodation', 'friendly', 'nei...                  62   \n",
       "\n",
       "                                               nouns  nouns_counts  \\\n",
       "0  ['experience', 'doubt', 'star', 'experience', ...            30   \n",
       "1  ['san', 'francisco', 'rejuvenating', 'thrill',...            19   \n",
       "2  [u'accommodation', 'neighborhood', 'bed', 'fut...            41   \n",
       "\n",
       "                                               verbs  verbs_counts  \\\n",
       "0  [u'be', u'be', 'accomodating', u'honor', u'be'...            10   \n",
       "1  [u'return', u'be', u'be', u'enhance', u'renova...            14   \n",
       "2  [u'be', u'be', 'make', u'be', u'have', u'be', ...            21   \n",
       "\n",
       "                                          adjectives  adjectives_counts  \n",
       "0  ['consummate', 'full', 'perfect', 'full', 'clo...                  6  \n",
       "1             ['great', 'local', 'such', 'amenable']                  4  \n",
       "2  ['pleased', 'friendly', 'able', 'second', 'hel...                 16  "
      ]
     },
     "execution_count": 9,
     "metadata": {},
     "output_type": "execute_result"
    }
   ],
   "source": [
    "reviews_df.head(3)"
   ]
  },
  {
   "cell_type": "markdown",
   "metadata": {},
   "source": [
    "## Clean Data"
   ]
  },
  {
   "cell_type": "code",
   "execution_count": 5,
   "metadata": {},
   "outputs": [],
   "source": [
    "import ast\n",
    "\n",
    "\"\"\"List Strings to List\"\"\"\n",
    "reviews_df['tokens'] = reviews_df['tokens'].map(lambda x: ast.literal_eval(x))\n",
    "reviews_df['name_entities'] = reviews_df['name_entities'].map(lambda x: ast.literal_eval(x))\n",
    "reviews_df['no_ne_tokens'] = reviews_df['no_ne_tokens'].map(lambda x: ast.literal_eval(x))\n",
    "reviews_df['nouns'] = reviews_df['nouns'].map(lambda x: ast.literal_eval(x))\n",
    "reviews_df['verbs'] = reviews_df['verbs'].map(lambda x: ast.literal_eval(x))\n",
    "reviews_df['adjectives'] = reviews_df['adjectives'].map(lambda x: ast.literal_eval(x))"
   ]
  },
  {
   "cell_type": "markdown",
   "metadata": {},
   "source": [
    "# EDA"
   ]
  },
  {
   "cell_type": "code",
   "execution_count": 24,
   "metadata": {},
   "outputs": [
    {
     "data": {
      "text/plain": [
       "6.278449164907934"
      ]
     },
     "execution_count": 24,
     "metadata": {},
     "output_type": "execute_result"
    },
    {
     "data": {
      "image/png": "[encoded data removed]",
      "text/plain": [
       "<Figure size 432x288 with 1 Axes>"
      ]
     },
     "metadata": {
      "needs_background": "light"
     },
     "output_type": "display_data"
    }
   ],
   "source": [
    "\"\"\"Distribution of Adjective Token Counts\"\"\"\n",
    "_ = reviews_df['adjectives_counts'].hist(bins=50)\n",
    "_ = plt.axvline(np.mean(reviews_df['adjectives_counts']), color='red')\n",
    "_ = plt.title('Adjective Token Count Distribution')\n",
    "np.mean(reviews_df['adjectives_counts'])"
   ]
  },
  {
   "cell_type": "markdown",
   "metadata": {},
   "source": [
    "# Topic Modelling"
   ]
  },
  {
   "cell_type": "code",
   "execution_count": 28,
   "metadata": {},
   "outputs": [],
   "source": [
    "from gensim.models.ldamulticore import LdaMulticore\n",
    "from gensim.corpora.dictionary import Dictionary\n",
    "import time\n",
    "\n",
    "from gensim.corpora.dictionary import Dictionary\n",
    "from gensim.models.ldamulticore import LdaMulticore\n",
    "import time\n",
    "ldam = LdaMulticore\n",
    "\n",
    "# LDA Model Inputs\n",
    "num_topics = 50\n",
    "num_words = 5\n",
    "passes = 50\n",
    "\n",
    "# Get Review Tokens\n",
    "token_texts = list(reviews_df['adjectives_counts'].values)\n",
    "\n",
    "# Create a corpus from a list of texts\n",
    "common_dictionary = Dictionary(token_texts)\n",
    "common_corpus = [common_dictionary.doc2bow(text) for text in token_texts]\n",
    "\n",
    "# Get Start Time\n",
    "start_time = time.time()\n",
    "\n",
    "# LDA Model\n",
    "ldam_model = ldam(common_corpus, num_topics=num_topics, id2word=common_dictionary, passes=passes)\n",
    "model_end_time = time.time() # Model End Time\n",
    "\n",
    "# LDA Results\n",
    "results = ldam_model.print_topics(num_topics=num_topics, num_words=num_words)\n",
    "result_time = time.time() # Results Time"
   ]
  },
  {
   "cell_type": "markdown",
   "metadata": {},
   "source": [
    "# Save Model"
   ]
  },
  {
   "cell_type": "code",
   "execution_count": null,
   "metadata": {},
   "outputs": [],
   "source": [
    "ldam_model.save('../models/ldam_reviews_50topics_5words_50passes_adjectives.model')"
   ]
  },
  {
   "cell_type": "markdown",
   "metadata": {},
   "source": [
    "# Results"
   ]
  },
  {
   "cell_type": "code",
   "execution_count": 26,
   "metadata": {},
   "outputs": [],
   "source": [
    "def display_results(results):\n",
    "    for index, results in results:\n",
    "        print(str(index) + ': ' + str(', '.join(results.split('\"')[1::2])))\n",
    "        \n",
    "def display_results_no_duplicates(results):\n",
    "    all_lists = []\n",
    "    for index, result in results:\n",
    "        all_lists = all_lists + result.split('\"')[1::2]\n",
    "    \n",
    "    # Get Counts of each word\n",
    "    counts = pd.Series(all_lists).value_counts()\n",
    "    no_duplicates = counts[counts == 1].index\n",
    "    \n",
    "    for index, result in results:\n",
    "        print(str(index) + ': ' + str(', '.join([word for word in result.split('\"')[1::2] if word in no_duplicates])))"
   ]
  },
  {
   "cell_type": "markdown",
   "metadata": {},
   "source": [
    "## Topic Results: 50 Topics 10 Words 50 Passes"
   ]
  },
  {
   "cell_type": "code",
   "execution_count": 33,
   "metadata": {},
   "outputs": [
    {
     "name": "stdout",
     "output_type": "stream",
     "text": [
      "0: able, cheap, tricky, living, active\n",
      "1: cool, true, communal, interested, o\n",
      "2: nice, clean, comfortable, small, few\n",
      "3: 10-15, smart, attractive, lively, upper\n",
      "4: large, comfy, second, open, different\n",
      "5: awesome, ok, exceptional, handy, general\n",
      "6: est, un, nous, une, n\n",
      "7: responsive, great, clean, helpful, comfortable\n",
      "8: due, difficult, una, smooth, es\n",
      "9: stylish, clean, soft, reasonable, comfortable\n",
      "10: super, amazing, sweet, clean, adorable\n",
      "11: helpful, friendly, great, clean, welcoming\n",
      "12: happy, busy, front, fast, expensive\n",
      "13: lovely, such, simple, basic, thorough\n",
      "14: accessible, communicative, walkable, ideal, affordable\n",
      "15: light, advertised, automated, functional, furnished\n",
      "16: cozy, peaceful, clean, accommodating, tidy\n",
      "17: great, clean, comfortable, many, few\n",
      "18: beautiful, enough, comfortable, delightful, clean\n",
      "19: check-in, flexible, prompt, less, muni\n",
      "20: quiet, safe, close, clean, comfortable\n",
      "21: private, more, own, clean, comfortable\n",
      "22: other, most, only, same, special\n",
      "23: wonderful, comfortable, clean, many, touristy\n",
      "24: best, uber, relaxed, much, possible\n",
      "25: sure, hospitable, fine, comfortable, single\n",
      "26: fantastic, first, comfortable, clean, loft\n",
      "27: new, fresh, personal, noisy, absolute\n",
      "28: ready, major, spectacular, recomendable, magical\n",
      "29: thoughtful, flat, top, back, terrific\n",
      "30: local, real, spotless, common, useful\n",
      "31: welcome, free, several, delicious, interesting\n",
      "32: und, detailed, auch, ist, uns\n",
      "33: next, incredible, fabulous, possible, lucky\n",
      "34: fun, respectful, financial, eclectic, urban\n",
      "35: excellent, downtown, clean, willing, comfortable\n",
      "36: t, clear, enjoyable, sunny, calm\n",
      "37: little, cute, cosy, small, clean\n",
      "38: modern, huge, entire, future, immaculate\n",
      "39: old, early, last, cold, outdoor\n",
      "40: spacious, clean, comfortable, right, gracious\n",
      "41: s, d, h, logement, tous\n",
      "42: quick, big, worth, clean, recommended\n",
      "43: available, pleasant, hot, comfortable, clean\n",
      "44: overall, central, main, late, pretty\n",
      "45: perfect, clean, neat, comfortable, outstanding\n",
      "46: good, clean, gorgeous, golden, comfortable\n",
      "47: short, long, steep, wish, pictured\n",
      "48: easy, convenient, clean, public, comfortable\n",
      "49: warm, attentive, favorite, unique, generous\n"
     ]
    }
   ],
   "source": [
    "display_results(results)"
   ]
  },
  {
   "cell_type": "code",
   "execution_count": 16,
   "metadata": {},
   "outputs": [
    {
     "name": "stdout",
     "output_type": "stream",
     "text": [
      "0: able, cheap, tricky, living, active\n",
      "1: cool, true, communal, interested, o\n",
      "2: nice\n",
      "3: 10-15, smart, attractive, lively, upper\n",
      "4: large, comfy, second, open, different\n",
      "5: awesome, ok, exceptional, handy, general\n",
      "6: est, un, nous, une, n\n",
      "7: responsive\n",
      "8: due, difficult, una, smooth, es\n",
      "9: stylish, soft, reasonable\n",
      "10: super, amazing, sweet, adorable\n",
      "11: friendly, welcoming\n",
      "12: happy, busy, front, fast, expensive\n",
      "13: lovely, such, simple, basic, thorough\n",
      "14: accessible, communicative, walkable, ideal, affordable\n",
      "15: light, advertised, automated, functional, furnished\n",
      "16: cozy, peaceful, accommodating, tidy\n",
      "17: \n",
      "18: beautiful, enough, delightful\n",
      "19: check-in, flexible, prompt, less, muni\n",
      "20: quiet, safe, close\n",
      "21: private, more, own\n",
      "22: other, most, only, same, special\n",
      "23: wonderful, touristy\n",
      "24: best, uber, relaxed, much\n",
      "25: sure, hospitable, fine, single\n",
      "26: fantastic, first, loft\n",
      "27: new, fresh, personal, noisy, absolute\n",
      "28: ready, major, spectacular, recomendable, magical\n",
      "29: thoughtful, flat, top, back, terrific\n",
      "30: local, real, spotless, common, useful\n",
      "31: welcome, free, several, delicious, interesting\n",
      "32: und, detailed, auch, ist, uns\n",
      "33: next, incredible, fabulous, lucky\n",
      "34: fun, respectful, financial, eclectic, urban\n",
      "35: excellent, downtown, willing\n",
      "36: t, clear, enjoyable, sunny, calm\n",
      "37: little, cute, cosy\n",
      "38: modern, huge, entire, future, immaculate\n",
      "39: old, early, last, cold, outdoor\n",
      "40: spacious, right, gracious\n",
      "41: s, d, h, logement, tous\n",
      "42: quick, big, worth, recommended\n",
      "43: available, pleasant, hot\n",
      "44: overall, central, main, late, pretty\n",
      "45: perfect, neat, outstanding\n",
      "46: good, gorgeous, golden\n",
      "47: short, long, steep, wish, pictured\n",
      "48: easy, convenient, public\n",
      "49: warm, attentive, favorite, unique, generous\n"
     ]
    }
   ],
   "source": [
    "display_results_no_duplicates(results)"
   ]
  }
 ],
 "metadata": {
  "kernelspec": {
   "display_name": "Python 3",
   "language": "python",
   "name": "python3"
  },
  "language_info": {
   "codemirror_mode": {
    "name": "ipython",
    "version": 2
   },
   "file_extension": ".py",
   "mimetype": "text/x-python",
   "name": "python",
   "nbconvert_exporter": "python",
   "pygments_lexer": "ipython2",
   "version": "2.7.3"
  }
 },
 "nbformat": 4,
 "nbformat_minor": 2
}
