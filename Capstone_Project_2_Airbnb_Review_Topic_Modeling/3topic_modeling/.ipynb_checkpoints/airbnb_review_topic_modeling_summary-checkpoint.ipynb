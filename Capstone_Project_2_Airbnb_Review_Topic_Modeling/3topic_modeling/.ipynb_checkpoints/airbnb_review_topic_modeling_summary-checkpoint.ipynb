{
 "cells": [
  {
   "cell_type": "markdown",
   "metadata": {},
   "source": [
    "# AirBnB Topic Modeling Summary"
   ]
  },
  {
   "cell_type": "code",
   "execution_count": 2,
   "metadata": {},
   "outputs": [
    {
     "name": "stderr",
     "output_type": "stream",
     "text": [
      "/anaconda3/lib/python2.7/site-packages/cryptography/hazmat/primitives/constant_time.py:26: CryptographyDeprecationWarning: Support for your Python version is deprecated. The next version of cryptography will remove support. Please upgrade to a 2.7.x release that supports hmac.compare_digest as soon as possible.\n",
      "  utils.PersistentlyDeprecated2018,\n"
     ]
    }
   ],
   "source": [
    "import pandas as pd\n",
    "import numpy as np\n",
    "import glob as glob\n",
    "\n",
    "from gensim.models.ldamulticore import LdaMulticore"
   ]
  },
  {
   "cell_type": "code",
   "execution_count": 3,
   "metadata": {},
   "outputs": [],
   "source": [
    "def display_results(results):\n",
    "    for index, results in results:\n",
    "        print(str(index) + ': ' + str(', '.join(results.split('\"')[1::2])))"
   ]
  },
  {
   "cell_type": "markdown",
   "metadata": {},
   "source": [
    "# Full Review Tokens"
   ]
  },
  {
   "cell_type": "markdown",
   "metadata": {},
   "source": [
    "### 50 Topics, 10 Words, 50 Passes\n",
    "\n",
    "This model was trained with full set of tokens from the airbnb reviews.  There does seem to be some useful topic clusters within the list of 50 but many of the words are names of people or places which are not relevant for the sake of this project so we will likely try to remove these to get a more focused result."
   ]
  },
  {
   "cell_type": "code",
   "execution_count": 4,
   "metadata": {},
   "outputs": [],
   "source": [
    "# Load Model\n",
    "ldamodel_full = LdaMulticore.load('../models/ldam_reviews_50topics_10words_50passes_full.model')"
   ]
  },
  {
   "cell_type": "code",
   "execution_count": 5,
   "metadata": {},
   "outputs": [
    {
     "name": "stdout",
     "output_type": "stream",
     "text": [
      "0: ben, tower, greg, debbie, vista, siempre, nikki, venue, coit, cocina\n",
      "1: und, die, sehr, ist, wir, der, war, man, mit, das\n",
      "2: n't, place, would, room, night, bit, stay, noise, one, nice\n",
      "3: day, back, garden, morning, night, sunset, lovely, loved, one, wonderful\n",
      "4: city, place, quiet, great, perfect, neighborhood, space, spot, studio, stay\n",
      "5: 10/10, charm, barbara, lady, face, chip, recommand, address, conforme, painted\n",
      "6: touch, breakfast, coffee, snack, thoughtful, wine, even, morning, left, provided\n",
      "7: great, gave, local, tip, recommendation, host, city, area, helpful, provided\n",
      "8: really, enjoyed, stay, thank, much, hospitality, cat, appreciated, thanks, staying\n",
      "9: san, francisco, fran, visit, perfect, trip, time, visiting, fransisco, explore\n",
      "10: room, bathroom, private, bedroom, clean, kitchen, living, space, bed, shared\n",
      "11: house, people, place, n't, meet, friendly, really, get, time, great\n",
      "12: per, casa, joyce, con, molto, zona, non, muito, una, com\n",
      "13: detail, michelle, gem, hidden, airbnb, attention, rob, jenny, sfo, website\n",
      "14: kitchen, bed, comfortable, well, towel, shower, bathroom, space, everything, need\n",
      "15: ..., accessible, easily, paul, bike, uber/lyft, app, readily, helen, whilst\n",
      "16: light, jeff, wish, longer, decor, art, unique, style, amy, natural\n",
      "17: check, late, even, early, arrived, time, accommodating, let, flight, last\n",
      "18: muy, que, para, con, una, todo, casa, del, los, est\n",
      "19: park, gate, golden, beach, close, ocean, bridge, near, walk, location\n",
      "20: experience, airbnb, first, make, sure, went, time, way, beyond, guest\n",
      "21: est, nous, pour, bien, le, dans, une, avec, de, pa\n",
      "22: great, location, place, stay, host, clean, would, comfortable, super, excellent\n",
      "23: easy, check, communication, access, check-in, clean, super, communicate, made, instruction\n",
      "24: view, amazing, beautiful, city, michael, incredible, house, gorgeous, absolutely, bay\n",
      "25: hill, communicative, valley, noe, top, sarah, steep, tom, potrero, suzanne\n",
      "26: best, one, stayed, ever, place, airbnb, everything, 've, amazing, could\n",
      "27: quick, question, always, quickly, respond, response, available, responded, message, john\n",
      "28: mary, linda, dan, max, green, nicole, situation, nathan, repeat, grill\n",
      "29: appartement, rent, impeccable, no, grand, var, disponible, med, dont, ron\n",
      "30: star, without, five, joe, easier, hesitation, recommending, joy, trader, leo\n",
      "31: cottage, jason, james, victor, cindy, mom, laura, pete, rachel, mother\n",
      "32: n't, could, better, hotel, property, much, air, asked, ask, bnb\n",
      "33: everything, needed, exactly, need, described, apartment, picture, stay, perfect, sure\n",
      "34: downtown, walk, minute, bus, uber, easy, get, away, bart, city\n",
      "35: parking, car, street, family, find, easy, house, space, park, spot\n",
      "36: guy, peter, appartment, kathy, total, fall, restaurants, kommen, gastgeberin, pictures\n",
      "37: walking, distance, within, restaurant, square, location, union, many, wharf, fisherman\n",
      "38: wonderful, host, stay, comfortable, clean, beautiful, home, location, lovely, would\n",
      "39: home, feel, felt, like, made, welcome, make, beautiful, comfortable, safe\n",
      "40: good, location, value, price, communication, facility, place, service, reasonable, elizabeth\n",
      "41: stay, back, place, definitely, would, time, come, next, trip, visit\n",
      "42: apartment, mission, well, located, public, district, transport, castro, close, street\n",
      "43: arrival, day, reservation, host, upon, posting, automated, canceled, tony, sara\n",
      "44: restaurant, great, shop, bar, close, coffee, walk, store, nearby, location\n",
      "45: hosting, nick, okay, painted, perfekt, yes, ladies, auto, labeled, richard\n",
      "46: flat, group, center, conference, judy, kevin, soma, event, hassle, moscone\n",
      "47: nice, place, clean, really, super, room, stay, bed, house, comfortable\n",
      "48: josh, jean, adam, diana, memory, rooms, christmas, ian, complex, nature\n",
      "49: recommend, would, place, highly, stay, definitely, great, clean, staying, anyone\n"
     ]
    }
   ],
   "source": [
    "# Print Topics\n",
    "full_review_results = ldamodel_full.print_topics(num_topics=50, num_words=10)\n",
    "\n",
    "# Display Results\n",
    "display_results(full_review_results)"
   ]
  },
  {
   "cell_type": "markdown",
   "metadata": {},
   "source": [
    "# Non Name Entities\n",
    "\n",
    "### 50 Topics, 10 Words, 50 Passes\n",
    "\n",
    "With this model I took out all of the name entities to try to reduce some of the noise from people and place name and focus on the feedback itself.  From first glance this seems to be the best option."
   ]
  },
  {
   "cell_type": "code",
   "execution_count": 12,
   "metadata": {},
   "outputs": [],
   "source": [
    "# Load Model\n",
    "ldamodel_non_ne = LdaMulticore.load('../models/ldam_reviews_50topics_10words_50passes_no_ner.model')\n",
    "\n",
    "# Print Topics\n",
    "non_ne_review_results = ldamodel_non_ne.print_topics(num_topics=50, num_words=10)"
   ]
  },
  {
   "cell_type": "code",
   "execution_count": 13,
   "metadata": {},
   "outputs": [
    {
     "name": "stdout",
     "output_type": "stream",
     "text": [
      "0: home, feel, felt, like, host, beautiful, stay, made, wonderful, comfortable\n",
      "1: good, excellent, value, always, location, host, help, available, accommodation, new\n",
      "2: parking, car, street, find, easy, spot, park, free, garage, rental\n",
      "3: house, day, 's, one, amazing, full, kitchen, time, fun, meal\n",
      "4: easy, public, access, transportation, get, close, transport, city, transit, around\n",
      "5: make, sure, made, went, way, stay, everything, beyond, expectation, comfortable\n",
      "6: ..., per, di, molto, il, non, ed, che, judy, ad\n",
      "7: rent, og, unexpected, particular, waited, till, til, mine, delay, zone\n",
      "8: back, time, come, next, stay, definitely, place, sf, would, visit\n",
      "9: apartment, could, better, picture, n't, asked, even, spacious, location, beat\n",
      "10: suite, square, union, pier, wharf, fisherman, 39, fall, gute, restaurants\n",
      "11: noise, bit, night, issue, unit, little, door, hear, street, good\n",
      "12: recommand, cuisine, chambres, mail, terrasse, temp, 5min, fonctionnel, tions, auto\n",
      "13: communication, quick, easy, check, check-in, respond, instruction, clear, super, response\n",
      "14: private, coffee, breakfast, room, snack, morning, fridge, nice, tea, entrance\n",
      "15: view, city, hill, top, bay, stair, accessible, balcony, walk, worth\n",
      "16: short, close, away, uber, place, walk, city, beach, far, location\n",
      "17: located, question, well, quickly, responsive, clean, responded, host, conveniently, helpful\n",
      "18: muy, en, n, el, reservation, arrival, posting, day, automated, canceled\n",
      "19: well, decorated, beautiful, garden, view, lovely, beautifully, back, nicely, appointed\n",
      "20: u, made, welcome, arrival, arrived, feel, even, gave, everything, needed\n",
      "21: na, setting, .., residence, com, v, um, em, ensuite, max\n",
      "22: thoughtful, touch, detail, care, host, listing, description, guest, accurate, outstanding\n",
      "23: minute, bus, walk, downtown, min, stop, station, away, take, 10\n",
      "24: cosy, appartement, s., j, lit, occasion, emplacement, ant, regard, dont\n",
      "25: kitchen, towel, well, use, stocked, also, bathroom, etc, provided, extra\n",
      "26: near, park, gate, golden, ocean, bridge, close, bike, presidio, right\n",
      "27: bed, room, comfortable, bathroom, bedroom, comfy, kitchen, nice, clean, shower\n",
      "28: recommend, highly, would, anyone, staying, place, cottage, others, valley, st\n",
      "29: room, clean, location, price, place, bathroom, people, good, shared, great\n",
      "30: ``, '', kindness, elegant, member, waking, word, please, wow, describe\n",
      "31: restaurant, walking, great, distance, shop, within, close, location, bar, neighborhood\n",
      "32: --, wine, bottle, parent, loft, left, glass, chocolate, beer, terrace\n",
      "33: family, 2, block, stayed, two, night, 3, 5, 4, away\n",
      "34: space, plenty, light, stylish, lot, community, decor, natural, outdoor, amenity\n",
      "35: ok, ice, cream, outer, brunch, pizza, outlet, frequently, proper, club\n",
      "36: u, day, late, check, time, early, night, even, let, arrived\n",
      "37: n't, 's, place, get, could, really, like, thing, say, one\n",
      "38: de, et, le, tr, est, la, nous, un, pour, bien\n",
      "39: und, die, ist, sehr, war, der, wir, mit, r, man\n",
      "40: stay, would, place, definitely, great, clean, recommend, 's, exactly, comfortable\n",
      "41: experience, hotel, first, airbnb, air, best, overall, time, staying, bnb\n",
      "42: met, en, de, je, een, het, van, te, op, sfo\n",
      "43: place, 's, great, perfect, quiet, city, stay, neighborhood, location, studio\n",
      "44: gem, hidden, total, summer, joe, wi-fi, judah, 1-2, reactive, recomiendo\n",
      "45: great, u, tip, local, host, recommendation, gave, city, helpful, place\n",
      "46: everything, need, needed, place, stay, perfect, best, stayed, clean, could\n",
      "47: nice, really, place, stay, clean, house, enjoyed, great, 's, good\n",
      "48: great, host, location, place, stay, amazing, clean, super, friendly, helpful\n",
      "49: la, e, de, que, con, un, casa, para, una, lo\n"
     ]
    }
   ],
   "source": [
    "# Display Results\n",
    "display_results(non_ne_review_results)"
   ]
  },
  {
   "cell_type": "markdown",
   "metadata": {},
   "source": [
    "# Non-Name Entities Plus Adjectives\n",
    "\n",
    "## 50 Topics 10 Words 50 Passes \n",
    "\n",
    "Added Adjectives to the non-name entities to emphasize descriptive parts of the reviews."
   ]
  },
  {
   "cell_type": "code",
   "execution_count": 4,
   "metadata": {},
   "outputs": [],
   "source": [
    "# Load LDA\n",
    "ldam_no_ne_plus_adj = LdaMulticore.load('../models/ldam_reviews_50topics_10words_50passes_no_ner_plus_adj.model')\n",
    "\n",
    "# Print Topics\n",
    "results_non_ne_plus_adj = ldam_no_ne_plus_adj.print_topics(num_topics=50, num_words=10)"
   ]
  },
  {
   "cell_type": "code",
   "execution_count": 5,
   "metadata": {},
   "outputs": [
    {
     "name": "stdout",
     "output_type": "stream",
     "text": [
      "0: short, main, walk, cosy, handy, professional, brilliant, away, ride, attraction\n",
      "1: light, noise, bad, upstairs, noisy, loud, night, hear, bit, natural\n",
      "2: small, new, incredible, roomy, parent, unbeatable, mary, smart, solid, brand\n",
      "3: lovely, welcoming, warm, home, interesting, charming, host, open, house, inviting\n",
      "4: cool, whole, full, mission, fun, enough, place, district, really, house\n",
      "5: beautiful, wonderful, view, host, home, gorgeous, stay, gracious, house, city\n",
      "6: public, close, happy, transportation, accessible, transport, restaurant, calm, city, easily\n",
      "7: kitchen, bed, extra, comfy, room, bathroom, space, well, coffee, towel\n",
      "8: little, responsive, cozy, communicative, cheap, question, knowledgeable, space, host, spot\n",
      "9: und, die, ist, sehr, wir, war, der, mit, man, auch\n",
      "10: rent, i, wi-fi, och, var, till, dollar, med, det, som\n",
      "11: easy, check-in, check, access, get, made, communication, location, communicate, place\n",
      "12: attentive, muy, que, una, con, casa, para, un, est, n\n",
      "13: due, minor, third, understanding, ubicaci, actual, del, buena, limpio, cerca\n",
      "14: first, free, clear, experience, airbnb, real, possible, time, bnb, hidden\n",
      "15: private, suite, room, bathroom, entrance, own, pleased, bath, centro, com\n",
      "16: quiet, neighborhood, old, unique, single, reasonable, street, exceptional, beat, superb\n",
      "17: amazing, best, place, host, ever, one, view, airbnb, 've, stayed\n",
      "18: comfortable, clean, convenient, bed, room, stay, place, location, space, everything\n",
      "19: gave, provided, tip, simple, recommendation, fast, lot, information, suggestion, city\n",
      "20: good, location, better, place, value, stay, host, really, room, price\n",
      "21: excellent, fantastic, local, stylish, central, location, host, fabulous, prompt, outstanding\n",
      "22: much, back, stay, come, place, would, definitely, enjoyed, future, thank\n",
      "23: room, overall, bathroom, shared, fine, other, hot, guest, shower, hard\n",
      "24: wharf, pier, fisherman, 5-10, restaurants, um, fall, nett, ffentlichen, unkompliziert\n",
      "25: n't, could, place, get, everything, stay, more, time, need, enough\n",
      "26: awesome, listing, different, accurate, description, place, 10/10, urban, sad, picture\n",
      "27: great, place, stay, location, host, would, time, definitely, really, everything\n",
      "28: clean, recommend, would, spacious, place, stay, definitely, highly, modern, apartment\n",
      "29: residential, busy, ideal, complete, quaint, phenomenal, past, unexpected, area, everyday\n",
      "30: many, walking, distance, pleasant, within, restaurant, advertised, enjoyable, sunny, shop\n",
      "31: arrival, automated, day, reservation, upon, host, posting, canceled, per, met\n",
      "32: super, helpful, friendly, clean, cute, host, place, location, room, really\n",
      "33: last, flexible, second, minute, positive, least, time, accommodated, communal, accommodating\n",
      "34: next, early, late, time, sweet, check, favorite, adorable, even, dog\n",
      "35: perfect, place, location, stay, everything, trip, city, needed, business, space\n",
      "36: restaurant, right, nearby, shop, close, block, apartment, away, street, walk\n",
      "37: quick, available, able, question, hospitable, always, respond, quickly, responded, response\n",
      "38: ..., lit, active, faut, well-furnished, conforme, cause, toutes, max, prix\n",
      "39: safe, thoughtful, felt, neighborhood, detailed, secure, homey, apt, touch, solo\n",
      "40: flat, top, fresh, special, spotless, coffee, touch, wine, personal, snack\n",
      "41: parking, big, large, car, street, huge, rental, front, space, house\n",
      "42: community, share, valley, tasty, knowledge, noe, delight, independent, eager, diverse\n",
      "43: nice, clean, place, really, stay, room, house, host, neighborhood, everything\n",
      "44: downtown, long, bus, minute, close, walk, city, uber, get, away\n",
      "45: est, nous, pour, une, le, un, bien, quartier, dans, avec\n",
      "46: pretty, worth, affordable, price, hotel, steep, willing, respectful, decent, hostel\n",
      "47: peaceful, garden, relaxing, backyard, interior, design, tight, rare, shown, oasis\n",
      "48: home, sure, feel, made, welcome, make, like, felt, stay, entire\n",
      "49: high, basic, delicious, expectation, ocean, necessary, cottage, exceeded, quality, standard\n"
     ]
    }
   ],
   "source": [
    "display_results(results_non_ne_plus_adj)"
   ]
  },
  {
   "cell_type": "markdown",
   "metadata": {},
   "source": [
    "# Adjectives"
   ]
  },
  {
   "cell_type": "markdown",
   "metadata": {},
   "source": [
    "## 50 Topics, 5 Words, 50 Passes\n",
    "\n",
    "Out of all of the parts-of-speech tokens that were extracted and modeled the adjective tokens were the only one with a positive result.  One interesting thing to note is that compared to any other topic modeling sample the adjectives were best able to display cleanliness as topics.  It seem that the best case would be to have No Name Entities and an emphasis on adjectives."
   ]
  },
  {
   "cell_type": "code",
   "execution_count": 15,
   "metadata": {},
   "outputs": [],
   "source": [
    "# Load Model\n",
    "ldamodel_adj1 = LdaMulticore.load('../models/ldam_reviews_50topics_5words_50passes_adjectives.model')\n",
    "\n",
    "# Print Topics\n",
    "adj1_review_results = ldamodel_adj1.print_topics(num_topics=50, num_words=5)"
   ]
  },
  {
   "cell_type": "code",
   "execution_count": 16,
   "metadata": {},
   "outputs": [
    {
     "name": "stdout",
     "output_type": "stream",
     "text": [
      "0: able, cheap, tricky, living, active\n",
      "1: cool, true, communal, interested, o\n",
      "2: nice, clean, comfortable, small, few\n",
      "3: 10-15, smart, attractive, lively, upper\n",
      "4: large, comfy, second, open, different\n",
      "5: awesome, ok, exceptional, handy, general\n",
      "6: est, un, nous, une, n\n",
      "7: responsive, great, clean, helpful, comfortable\n",
      "8: due, difficult, una, smooth, es\n",
      "9: stylish, clean, soft, reasonable, comfortable\n",
      "10: super, amazing, sweet, clean, adorable\n",
      "11: helpful, friendly, great, clean, welcoming\n",
      "12: happy, busy, front, fast, expensive\n",
      "13: lovely, such, simple, basic, thorough\n",
      "14: accessible, communicative, walkable, ideal, affordable\n",
      "15: light, advertised, automated, functional, furnished\n",
      "16: cozy, peaceful, clean, accommodating, tidy\n",
      "17: great, clean, comfortable, many, few\n",
      "18: beautiful, enough, comfortable, delightful, clean\n",
      "19: check-in, flexible, prompt, less, muni\n",
      "20: quiet, safe, close, clean, comfortable\n",
      "21: private, more, own, clean, comfortable\n",
      "22: other, most, only, same, special\n",
      "23: wonderful, comfortable, clean, many, touristy\n",
      "24: best, uber, relaxed, much, possible\n",
      "25: sure, hospitable, fine, comfortable, single\n",
      "26: fantastic, first, comfortable, clean, loft\n",
      "27: new, fresh, personal, noisy, absolute\n",
      "28: ready, major, spectacular, recomendable, magical\n",
      "29: thoughtful, flat, top, back, terrific\n",
      "30: local, real, spotless, common, useful\n",
      "31: welcome, free, several, delicious, interesting\n",
      "32: und, detailed, auch, ist, uns\n",
      "33: next, incredible, fabulous, possible, lucky\n",
      "34: fun, respectful, financial, eclectic, urban\n",
      "35: excellent, downtown, clean, willing, comfortable\n",
      "36: t, clear, enjoyable, sunny, calm\n",
      "37: little, cute, cosy, small, clean\n",
      "38: modern, huge, entire, future, immaculate\n",
      "39: old, early, last, cold, outdoor\n",
      "40: spacious, clean, comfortable, right, gracious\n",
      "41: s, d, h, logement, tous\n",
      "42: quick, big, worth, clean, recommended\n",
      "43: available, pleasant, hot, comfortable, clean\n",
      "44: overall, central, main, late, pretty\n",
      "45: perfect, clean, neat, comfortable, outstanding\n",
      "46: good, clean, gorgeous, golden, comfortable\n",
      "47: short, long, steep, wish, pictured\n",
      "48: easy, convenient, clean, public, comfortable\n",
      "49: warm, attentive, favorite, unique, generous\n"
     ]
    }
   ],
   "source": [
    "# Display Results\n",
    "display_results(adj1_review_results)"
   ]
  },
  {
   "cell_type": "markdown",
   "metadata": {},
   "source": [
    "# Nouns\n",
    "\n",
    "This had the least relevant topics so far with no topic related to accuracy or cleanliness.  Using only nouns for tokens also amplified the problem of having many people and place names and gave little details about the actual feel or message of the review."
   ]
  },
  {
   "cell_type": "code",
   "execution_count": 9,
   "metadata": {},
   "outputs": [],
   "source": [
    "# Load Model\n",
    "ldamodel_nouns = LdaMulticore.load('../models/ldam_reviews_50topics_10words_50passes_nouns.model')"
   ]
  },
  {
   "cell_type": "code",
   "execution_count": 10,
   "metadata": {},
   "outputs": [
    {
     "name": "stdout",
     "output_type": "stream",
     "text": [
      "0: apartment, stay, everything, host, location, time, sf, thanks, neighborhood, question\n",
      "1: place, location, host, sf, stay, everything, clean, time, nice, neighborhood\n",
      "2: beach, square, union, wharf, building, location, fisherman, car, minute, cable\n",
      "3: mission, district, castro, heart, park, location, brian, street, dolores, distance\n",
      "4: space, view, city, hill, neighborhood, host, deck, patio, top, plenty\n",
      "5: s, tr, le, la, et, bien, d, dans, de, avon\n",
      "6: photo, mike, flat, amy, tony, communicator, email, thanks, pete, fast\n",
      "7: shower, water, bed, review, thing, heater, towel, sheet, cleanliness, lock\n",
      "8: room, bathroom, bed, bedroom, kitchen, living, space, host, area, location\n",
      "9: studio, work, valley, noe, week, conference, center, brand, hayes, tom\n",
      "10: unit, check-in, flight, door, luggage, breeze, hour, bag, stair, key\n",
      "11: michael, t, response, process, question, star, awesome, wa, booking, quick\n",
      "12: description, will, %, sara, accommodating, wait, superb, self, equipment, china\n",
      "13: house, kind, host, room, stay, time, everything, sf, neighborhood, beautiful\n",
      "14: dog, cute, jason, lady, s, california, bunch, office, coast, haight-ashbury\n",
      "15: size, anna, sight, hostess, judy, terrace, partner, cost, rachel, notch\n",
      "16: height, bernal, sarah, apt, bay, middle, term, jenny, hope, lisa\n",
      "17: san, francisco, place, stay, time, location, host, michelle, everything, anyone\n",
      "18: pleasure, cottage, paul, peter, appartment, matthew, meeting, comfortable, hesitation, thomas\n",
      "19: e, maria, o, casa, al, por, pero, jim, s, p\n",
      "20: super, b, carl, air, juste, sat, vivement, audrey, caro, sa\n",
      "21: people, hotel, place, price, room, location, david, everyone, staff, fun\n",
      "22: garden, backyard, glen, j, tree, outer, leslie, suzanne, apple, rich\n",
      "23: location, great, host, value, stay, perfect, communication, room, accommodation, everything\n",
      "24: restaurant, place, shop, distance, location, bar, neighborhood, lot, food, street\n",
      "25: highly, recommend, easy, jeff, host, destination, scott, immaculate, bob, wonderful\n",
      "26: breakfast, coffee, morning, touch, snack, tea, drink, fruit, chris, food\n",
      "27: spot, parking, street, car, listing, garage, sf, neighborhood, plus, balcony\n",
      "28: home, host, stay, thank, everything, sf, time, neighborhood, alex, comfort\n",
      "29: night, noise, bit, issue, street, morning, thing, nothing, problem, bed\n",
      "30: city, place, uber, part, fran, access, town, area, transport, ride\n",
      "31: kitchen, place, bed, towel, space, tv, wine, fridge, coffee, everything\n",
      "32: minute, bus, bart, walk, station, muni, min, downtown, stop, line\n",
      "33: phil, auto, buck, ausgestattet, gelegen, wohl, hat, erreichbar, ffentlichen, tage\n",
      "34: suite, plan, alice, change, tower, grace, go, edge, coit, ready\n",
      "35: park, gate, golden, beach, ocean, bridge, location, sunset, block, walk\n",
      "36: marie, laura, je, red, di, ben, e, ha, molto, het\n",
      "37: day, arrival, host, reservation, guy, posting, end, rob, schedule, james\n",
      "38: robert, josh, mark, driveway, bike, card, charles, query, chip, hassle\n",
      "39: air, bnb, mattress, mom, rooftop, catherine, victorian, adam, pool, dave\n",
      "40: hospitality, detail, cat, decor, art, attention, style, design, life, conversation\n",
      "41: y, la, muy, con, el, que, e, para, n, todo\n",
      "42: responsive, rental, jonathan, share, game, app, date, knowledge, word, thought\n",
      "43: check, thing, tip, recommendation, host, stay, room, information, lot, area\n",
      "44: trip, business, traveler, travel, steve, kathy, solo, katie, essential, nicole\n",
      "45: property, owner, facility, shampoo, hand, visitor, daniel, sure, laundry, homey\n",
      "46: experience, airbnb, expectation, i, host, time, andy, website, gary, best\n",
      "47: die, sehr, ist, war, der, man, wir, mit, da, r\n",
      "48: group, jessica, joe, peak, info, twin, cool, checkin, checkout, necessity\n",
      "49: family, kid, year, daughter, child, adult, son, vacation, quaint, husband\n"
     ]
    }
   ],
   "source": [
    "# Print Topics\n",
    "noun_review_results = ldamodel_nouns.print_topics(num_topics=50, num_words=10)\n",
    "\n",
    "# Display Results\n",
    "display_results(noun_review_results)"
   ]
  },
  {
   "cell_type": "markdown",
   "metadata": {},
   "source": [
    "# Verbs"
   ]
  },
  {
   "cell_type": "markdown",
   "metadata": {},
   "source": [
    "## 50 Topics, 10 Words, 50 Passes\n",
    "\n",
    "Verbs were the least useful.  With no context there were no real trends within the topics defined by the model.  "
   ]
  },
  {
   "cell_type": "code",
   "execution_count": 19,
   "metadata": {},
   "outputs": [],
   "source": [
    "# Load Model\n",
    "ldamodel_verb1 = LdaMulticore.load('../models/ldam_reviews_50topics_10words_50passes_verbs.model')\n",
    "\n",
    "# Print Topics\n",
    "verb1_review_results = ldamodel_verb1.print_topics(num_topics=50, num_words=10)"
   ]
  },
  {
   "cell_type": "code",
   "execution_count": 20,
   "metadata": {},
   "outputs": [
    {
     "name": "stdout",
     "output_type": "stream",
     "text": [
      "0: welcome, explain, anticipate, unwind, concern, straight, comfort, deserve, crawl, would\n",
      "1: help, share, describe, invite, play, sightsee, read, serve, introduce, noise\n",
      "2: enter, mind, block, respect, disturb, become, warn, label, separate, hand\n",
      "3: check, visit, meet, spend, forget, reccomend, mesmerize, be, transportation.., aa\n",
      "4: realize, reserve, bottle, await, spark, recomended, revisit, responsive, overprice, always\n",
      "5: think, experience, sparkle, save, understand, bake, outfit, airport, s., pop\n",
      "6: din, breathtaking, w, pull, crowd, microwave, name, cool, spoil, tourist\n",
      "7: do, meet, want, picture, spend, mean, require, interact, tire, assure\n",
      "8: set, exceed, chat, pass, tour, def, transport, complain, borrow, e\n",
      "9: book, surprise, attach, ve, depict, stream, soak, recomend, surpass, combine\n",
      "10: be, have, expect, appreciate, spend, surround, bus, face, arrange, interest\n",
      "11: prepare, hide, wash, des, die, med, f, top, uns, et\n",
      "12: find, park, rent, drive, size, worry, land, limit, manage, rid\n",
      "13: list, alles, home, escape, comment, rely, ideal, guarantee, relate, grocery\n",
      "14: go, want, live, suggest, supply, anywhere, avoid, easy, sf, uber\n",
      "15: love, come, renovate, attend, kitchen, seclude, treat, tip, auf, wine\n",
      "16: 's, overlook, imagine, fun, spread, dinner, train, accord, download, press\n",
      "17: use, let, allow, drop, compare, state, prefer, blow, right, challenge\n",
      "18: enjoy, store, navigate, hope, climb, depend, chill, transit, lend, beach\n",
      "19: recommend, cook, choose, connect, perfect, finish, present, warm, organise, seek\n",
      "20: be, need, have, provide, stay, include, return, charm, just, accomodating\n",
      "21: overall, pick, beat, wish, resolve, breakfast, coordinate, remove, occupy, cafes\n",
      "22: leave, host, contact, want, step, appear, cover, repeat, king, gather\n",
      "23: amaze, put, drive, stun, satisfy, represent, secure, otherwise, smooth, entertain\n",
      "24: say, decorate, add, design, catch, hop, disappoint, decide, shop, aber\n",
      "25: move, head, settle, fly, coffee, sort, cramp, confirm, encourage, style\n",
      "26: everywhere, continue, nestle, suppose, refund, instal, afford, rebook, glad, gate\n",
      "27: ask, know, seem, come, tell, clean, be, call, pay, turn\n",
      "28: see, be, eat, cancel, give, care, want, place, grab, manage\n",
      "29: be, walk, have, stay, downtown, equip, answer, like, sit, fill\n",
      "30: make, feel, organize, situate, be, advertise, w/o, transportation.., sched, aa\n",
      "31: be, stay, have, felt, appoint, friends, lejlighed, beliggenhed, relset, til\n",
      "32: t, win, wasn, lack, didn, outstanding, don, annoy, struggle, convert\n",
      "33: s, work, travel, reach, reply, discover, base, es, point, engage\n",
      "34: be, accommodate, super, wed, hurt, interfere, clarify, stairs, leak, enclose\n",
      "35: keep, pack, access, remember, inform, tes, kick, ubered, beautiful, indicate\n",
      "36: give, arrive, show, greet, miss, hesitate, end, change, awesome, delay\n",
      "37: communicate, bring, talk, furnish, mention, start, les, price, learn, pied\n",
      "38: get, know, open, bed, please, suit, regret, charge, comfy, reflect\n",
      "39: plan, stop, build, cost, justice, stand, seat, bark, express, linens\n",
      "40: respond, receive, remodel, carry, fall, post, hit, match, even, rain\n",
      "41: sleep, hear, wake, spot, shower, sound, celebrate, remain, slide, neighborhood\n",
      "42: downstairs, unlock, oppose, notify, switch, snack, dress, date, consist, hat\n",
      "43: try, wait, consider, send, saw, everything, ride, worry, tuck, y\n",
      "44: take, offer, stock, thank, hang, create, light, request, ses, sans\n",
      "45: close, bother, note, lock, happen, fit, drink, encounter, promise, deliver\n",
      "46: deal, lead, fell, assist, believe, control, fault, exhaust, count, mass\n",
      "47: locate, explore, relax, maintain, detail, spend, regard, extend, contain, +\n",
      "48: run, watch, rest, buy, update, notice, hold, hike, impress, listen\n",
      "49: look, lay, crash, dans, begin, advise, au, du, ou, ist\n"
     ]
    }
   ],
   "source": [
    "# Display Results\n",
    "display_results(verb1_review_results)"
   ]
  },
  {
   "cell_type": "code",
   "execution_count": null,
   "metadata": {},
   "outputs": [],
   "source": []
  }
 ],
 "metadata": {
  "kernelspec": {
   "display_name": "Python 3",
   "language": "python",
   "name": "python3"
  },
  "language_info": {
   "codemirror_mode": {
    "name": "ipython",
    "version": 2
   },
   "file_extension": ".py",
   "mimetype": "text/x-python",
   "name": "python",
   "nbconvert_exporter": "python",
   "pygments_lexer": "ipython2",
   "version": "2.7.3"
  }
 },
 "nbformat": 4,
 "nbformat_minor": 2
}
