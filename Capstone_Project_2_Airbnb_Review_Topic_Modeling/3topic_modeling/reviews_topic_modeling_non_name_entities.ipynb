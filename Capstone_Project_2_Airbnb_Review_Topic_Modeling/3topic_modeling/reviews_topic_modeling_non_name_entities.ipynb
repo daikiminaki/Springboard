{
 "cells": [
  {
   "cell_type": "markdown",
   "metadata": {},
   "source": [
    "# AirBnB Reviews Topic Modelling: Non-Name Entities"
   ]
  },
  {
   "cell_type": "code",
   "execution_count": 17,
   "metadata": {},
   "outputs": [],
   "source": [
    "import pandas as pd\n",
    "import numpy as np\n",
    "import matplotlib.pyplot as plt\n",
    "import seaborn as sns; sns.set()\n",
    "import glob as glob"
   ]
  },
  {
   "cell_type": "markdown",
   "metadata": {},
   "source": [
    "## Load Data"
   ]
  },
  {
   "cell_type": "code",
   "execution_count": 18,
   "metadata": {},
   "outputs": [],
   "source": [
    "def load_review_data(directory):\n",
    "    \"\"\"Load Review Data\"\"\"\n",
    "    reviews_df = pd.read_csv(directory + 'interim/review_wrangled.csv', sep=';', lineterminator='\\n').drop(columns=['Unnamed: 0'])\n",
    "    \n",
    "    return reviews_df"
   ]
  },
  {
   "cell_type": "code",
   "execution_count": 19,
   "metadata": {},
   "outputs": [],
   "source": [
    "# Select City\n",
    "country = 'united-states'\n",
    "city = 'san-francisco'\n",
    "\n",
    "# Directory\n",
    "directory = '../data/' + country + '/' + city + '/'\n",
    "\n",
    "# Load Data\n",
    "reviews_df = load_review_data(directory)"
   ]
  },
  {
   "cell_type": "code",
   "execution_count": 20,
   "metadata": {},
   "outputs": [
    {
     "data": {
      "text/html": [
       "<div>\n",
       "<style scoped>\n",
       "    .dataframe tbody tr th:only-of-type {\n",
       "        vertical-align: middle;\n",
       "    }\n",
       "\n",
       "    .dataframe tbody tr th {\n",
       "        vertical-align: top;\n",
       "    }\n",
       "\n",
       "    .dataframe thead th {\n",
       "        text-align: right;\n",
       "    }\n",
       "</style>\n",
       "<table border=\"1\" class=\"dataframe\">\n",
       "  <thead>\n",
       "    <tr style=\"text-align: right;\">\n",
       "      <th></th>\n",
       "      <th>listing_id</th>\n",
       "      <th>id</th>\n",
       "      <th>date</th>\n",
       "      <th>comments</th>\n",
       "      <th>tokens</th>\n",
       "      <th>tokens_count</th>\n",
       "      <th>name_entities</th>\n",
       "      <th>name_entities_count</th>\n",
       "      <th>comments_no_ne</th>\n",
       "      <th>no_ne_tokens</th>\n",
       "      <th>no_ne_tokens_count</th>\n",
       "      <th>nouns</th>\n",
       "      <th>nouns_counts</th>\n",
       "      <th>verbs</th>\n",
       "      <th>verbs_counts</th>\n",
       "      <th>adjectives</th>\n",
       "      <th>adjectives_counts</th>\n",
       "    </tr>\n",
       "  </thead>\n",
       "  <tbody>\n",
       "    <tr>\n",
       "      <th>0</th>\n",
       "      <td>958</td>\n",
       "      <td>5977</td>\n",
       "      <td>2009-07-23</td>\n",
       "      <td>Our experience was, without a doubt, a five st...</td>\n",
       "      <td>['experience', 'without', 'doubt', 'five', 'st...</td>\n",
       "      <td>47</td>\n",
       "      <td>['David', 'Haight', 'Castro', 'Golden Gate Par...</td>\n",
       "      <td>5</td>\n",
       "      <td>Our experience was, without a doubt, a five st...</td>\n",
       "      <td>['experience', 'without', 'doubt', 'five', 'st...</td>\n",
       "      <td>39</td>\n",
       "      <td>['experience', 'doubt', 'star', 'experience', ...</td>\n",
       "      <td>30</td>\n",
       "      <td>[u'be', u'be', 'accomodating', u'honor', u'be'...</td>\n",
       "      <td>10</td>\n",
       "      <td>['consummate', 'full', 'perfect', 'full', 'clo...</td>\n",
       "      <td>6</td>\n",
       "    </tr>\n",
       "    <tr>\n",
       "      <th>1</th>\n",
       "      <td>958</td>\n",
       "      <td>6660</td>\n",
       "      <td>2009-08-03</td>\n",
       "      <td>Returning to San Francisco is a rejuvenating t...</td>\n",
       "      <td>['returning', 'san', 'francisco', 'rejuvenatin...</td>\n",
       "      <td>36</td>\n",
       "      <td>['San Francisco', 'Holly', 'David']</td>\n",
       "      <td>3</td>\n",
       "      <td>Returning to  is a rejuvenating thrill but thi...</td>\n",
       "      <td>['returning', 'rejuvenating', 'thrill', 'time'...</td>\n",
       "      <td>32</td>\n",
       "      <td>['san', 'francisco', 'rejuvenating', 'thrill',...</td>\n",
       "      <td>19</td>\n",
       "      <td>[u'return', u'be', u'be', u'enhance', u'renova...</td>\n",
       "      <td>14</td>\n",
       "      <td>['great', 'local', 'such', 'amenable']</td>\n",
       "      <td>4</td>\n",
       "    </tr>\n",
       "  </tbody>\n",
       "</table>\n",
       "</div>"
      ],
      "text/plain": [
       "   listing_id    id        date  \\\n",
       "0         958  5977  2009-07-23   \n",
       "1         958  6660  2009-08-03   \n",
       "\n",
       "                                            comments  \\\n",
       "0  Our experience was, without a doubt, a five st...   \n",
       "1  Returning to San Francisco is a rejuvenating t...   \n",
       "\n",
       "                                              tokens  tokens_count  \\\n",
       "0  ['experience', 'without', 'doubt', 'five', 'st...            47   \n",
       "1  ['returning', 'san', 'francisco', 'rejuvenatin...            36   \n",
       "\n",
       "                                       name_entities  name_entities_count  \\\n",
       "0  ['David', 'Haight', 'Castro', 'Golden Gate Par...                    5   \n",
       "1                ['San Francisco', 'Holly', 'David']                    3   \n",
       "\n",
       "                                      comments_no_ne  \\\n",
       "0  Our experience was, without a doubt, a five st...   \n",
       "1  Returning to  is a rejuvenating thrill but thi...   \n",
       "\n",
       "                                        no_ne_tokens  no_ne_tokens_count  \\\n",
       "0  ['experience', 'without', 'doubt', 'five', 'st...                  39   \n",
       "1  ['returning', 'rejuvenating', 'thrill', 'time'...                  32   \n",
       "\n",
       "                                               nouns  nouns_counts  \\\n",
       "0  ['experience', 'doubt', 'star', 'experience', ...            30   \n",
       "1  ['san', 'francisco', 'rejuvenating', 'thrill',...            19   \n",
       "\n",
       "                                               verbs  verbs_counts  \\\n",
       "0  [u'be', u'be', 'accomodating', u'honor', u'be'...            10   \n",
       "1  [u'return', u'be', u'be', u'enhance', u'renova...            14   \n",
       "\n",
       "                                          adjectives  adjectives_counts  \n",
       "0  ['consummate', 'full', 'perfect', 'full', 'clo...                  6  \n",
       "1             ['great', 'local', 'such', 'amenable']                  4  "
      ]
     },
     "execution_count": 20,
     "metadata": {},
     "output_type": "execute_result"
    }
   ],
   "source": [
    "reviews_df.head(2)"
   ]
  },
  {
   "cell_type": "markdown",
   "metadata": {},
   "source": [
    "# Clean"
   ]
  },
  {
   "cell_type": "code",
   "execution_count": 21,
   "metadata": {},
   "outputs": [],
   "source": [
    "import ast\n",
    "\n",
    "reviews_df['tokens'] = reviews_df['tokens'].map(lambda x: ast.literal_eval(x))\n",
    "reviews_df['name_entities'] = reviews_df['name_entities'].map(lambda x: ast.literal_eval(x))\n",
    "reviews_df['no_ne_tokens'] = reviews_df['no_ne_tokens'].map(lambda x: ast.literal_eval(x))\n",
    "reviews_df['nouns'] = reviews_df['nouns'].map(lambda x: ast.literal_eval(x))\n",
    "reviews_df['verbs'] = reviews_df['verbs'].map(lambda x: ast.literal_eval(x))\n",
    "reviews_df['adjectives'] = reviews_df['adjectives'].map(lambda x: ast.literal_eval(x))"
   ]
  },
  {
   "cell_type": "code",
   "execution_count": 22,
   "metadata": {},
   "outputs": [
    {
     "data": {
      "text/plain": [
       "25.31517233401243"
      ]
     },
     "execution_count": 22,
     "metadata": {},
     "output_type": "execute_result"
    },
    {
     "data": {
      "image/png": "[encoded data removed]",
      "text/plain": [
       "<Figure size 432x288 with 1 Axes>"
      ]
     },
     "metadata": {},
     "output_type": "display_data"
    }
   ],
   "source": [
    "_ = reviews_df['no_ne_tokens_count'].hist(bins=50)\n",
    "_ = plt.axvline(np.mean(reviews_df['no_ne_tokens_count']), color='red')\n",
    "np.mean(reviews_df['no_ne_tokens_count'])"
   ]
  },
  {
   "cell_type": "markdown",
   "metadata": {},
   "source": [
    "# Topic Modelling: 10 Word Topics"
   ]
  },
  {
   "cell_type": "code",
   "execution_count": 8,
   "metadata": {},
   "outputs": [
    {
     "name": "stderr",
     "output_type": "stream",
     "text": [
      "/anaconda3/lib/python2.7/site-packages/cryptography/hazmat/primitives/constant_time.py:26: CryptographyDeprecationWarning: Support for your Python version is deprecated. The next version of cryptography will remove support. Please upgrade to a 2.7.x release that supports hmac.compare_digest as soon as possible.\n",
      "  utils.PersistentlyDeprecated2018,\n"
     ]
    }
   ],
   "source": [
    "from gensim.corpora.dictionary import Dictionary\n",
    "from gensim.models.ldamulticore import LdaMulticore\n",
    "import time\n",
    "\n",
    "num_topics = 50\n",
    "num_words = 10\n",
    "passes = 50\n",
    "\n",
    "# Get Tokens\n",
    "token_texts = list(reviews_df['no_ne_tokens'].values)\n",
    "\n",
    "# Create a corpus from a list of texts\n",
    "common_dictionary = Dictionary(token_texts)\n",
    "common_corpus = [common_dictionary.doc2bow(text) for text in token_texts]\n",
    "\n",
    "# Initiate LDA Model\n",
    "ldam = LdaMulticore\n",
    "\n",
    "# Get Start Time\n",
    "start_time = time.time()\n",
    "\n",
    "# LDA Model\n",
    "ldam_model = ldam(common_corpus, num_topics=num_topics, id2word=common_dictionary, passes=passes)\n",
    "model_end_time = time.time() # Model End Time\n",
    "\n",
    "# LDA Results\n",
    "results = ldam_model.print_topics(num_topics=num_topics, num_words=num_words)\n",
    "result_time = time.time() # Results Time"
   ]
  },
  {
   "cell_type": "code",
   "execution_count": 9,
   "metadata": {},
   "outputs": [
    {
     "data": {
      "text/plain": [
       "3.6053895136382845"
      ]
     },
     "execution_count": 9,
     "metadata": {},
     "output_type": "execute_result"
    }
   ],
   "source": [
    "(model_end_time - start_time)/60/60"
   ]
  },
  {
   "cell_type": "code",
   "execution_count": 10,
   "metadata": {},
   "outputs": [],
   "source": [
    "ldam_model.save('../models/ldam_reviews_50topics_10words_50passes_no_ner.model')"
   ]
  },
  {
   "cell_type": "markdown",
   "metadata": {},
   "source": [
    "# Results"
   ]
  },
  {
   "cell_type": "code",
   "execution_count": 16,
   "metadata": {},
   "outputs": [],
   "source": [
    "def display_results(results):\n",
    "    for index, results in results:\n",
    "        print(str(index) + ': ' + str(', '.join(results.split('\"')[1::2])))\n",
    "        \n",
    "def display_results_no_duplicates(results):\n",
    "    all_lists = []\n",
    "    for index, result in results:\n",
    "        all_lists = all_lists + result.split('\"')[1::2]\n",
    "    \n",
    "    # Get Counts of each word\n",
    "    counts = pd.Series(all_lists).value_counts()\n",
    "    no_duplicates = counts[counts == 1].index\n",
    "    \n",
    "    for index, result in results:\n",
    "        print(str(index) + ': ' + str(', '.join([word for word in result.split('\"')[1::2] if word in no_duplicates])))"
   ]
  },
  {
   "cell_type": "markdown",
   "metadata": {},
   "source": [
    "## Topic Results"
   ]
  },
  {
   "cell_type": "code",
   "execution_count": 15,
   "metadata": {},
   "outputs": [
    {
     "name": "stdout",
     "output_type": "stream",
     "text": [
      "0: back, stay, come, definitely, place, next, would, time, great, love\n",
      "1: question, quick, always, quickly, respond, available, response, responded, message, help\n",
      "2: est, nous, pour, bien, le, dans, une, avec, de, pa\n",
      "3: parking, street, car, find, spot, easy, park, free, garage, space\n",
      "4: like, cute, really, super, place, cool, picture, dog, look, liked\n",
      "5: space, light, floor, small, group, window, heater, large, open, plenty\n",
      "6: apartment, well, decorated, beautifully, nicely, spacious, furnished, appointed, clean, equipped\n",
      "7: get, even, time, n't, arrived, day, late, meet, got, night\n",
      "8: great, gave, host, tip, recommendation, local, helpful, city, stay, went\n",
      "9: located, public, transportation, quiet, close, clean, well, neighborhood, transport, place\n",
      "10: stayed, family, night, two, week, perfect, day, one, kid, wish\n",
      "11: weekend, top, beat, getaway, surprised, mary, notch, hassle, start, wedding\n",
      "12: walking, distance, within, restaurant, many, location, attraction, reasonable, park, neighborhood\n",
      "13: arrival, unit, day, property, host, reservation, upon, posting, automated, canceled\n",
      "14: new, cat, nothing, brand, construction, functional, smart, review, accurately, keypad\n",
      "15: room, clean, bathroom, private, nice, comfortable, shared, bed, spacious, guest\n",
      "16: muy, que, con, casa, para, una, todo, del, est, bien\n",
      "17: ..., beach, sunset, cottage, yes, peter, pool, skyline, hop, journey\n",
      "18: best, experience, one, airbnb, first, place, ever, host, time, stayed\n",
      "19: view, amazing, beautiful, city, garden, place, gorgeous, loved, hill, incredible\n",
      "20: per, appartement, non, che, bonne, ant, victor, ben, ok., terrasse\n",
      "21: folk, 15-20, path, pic, reachable, haight, mix, doorstep, reccomend, fab\n",
      "22: walk, away, minute, bus, downtown, block, min, stop, station, take\n",
      "23: n't, could, better, even, asked, ask, much, picture, justice, hesitate\n",
      "24: home, feel, felt, like, made, beautiful, welcome, comfortable, host, stay\n",
      "25: city, place, great, get, easy, perfect, location, uber, quiet, around\n",
      "26: girl, ubicaci, sea, ciudad, fog, anfitri, instant, amy, soda, beside\n",
      "27: hotel, price, service, affordable, cleanliness, expect, amazingly, rate, compared, sense\n",
      "28: mission, value, district, heart, apt, star, money, san, five, right\n",
      "29: und, die, ist, sehr, war, der, wir, mit, man, un\n",
      "30: great, location, host, place, stay, clean, super, comfortable, excellent, helpful\n",
      "31: n't, place, room, would, night, bit, noise, stay, good, one\n",
      "32: restaurant, great, shop, close, location, bar, place, neighborhood, nearby, lot\n",
      "33: space, touch, thoughtful, detail, stylish, enjoyed, little, lovely, beautiful, stay\n",
      "34: judy, til, hospital, user, erreichbar, warf, der, hands, god, august\n",
      "35: flight, hosts, updated, checkin, checkout, larger, valley, delayed, noe, tasteful\n",
      "36: expected, air, outstanding, bnb, rooftop, communicator, gym, decent, sin, address\n",
      "37: kitchen, well, bedroom, living, bathroom, use, area, space, comfortable, equipped\n",
      "38: last, minute, hidden, gem, booked, holiday, accommodate, lady, understanding, authentic\n",
      "39: business, people, work, listing, trip, traveler, friendly, staff, accurate, description\n",
      "40: house, beautiful, strongly, confortable, connected, discover, rule, kind, victorian, recommand\n",
      "41: flat, care, take, ocean, took, taken, advantage, placed, throw, reliable\n",
      "42: nice, really, place, good, stay, enjoyed, clean, location, host, quiet\n",
      "43: met, een, man, het, och, var, med, van, frequently, det\n",
      "44: able, pas, accueil, grand, situation, cette, active, max, s.f, propret\n",
      "45: easy, check, communication, check-in, described, exactly, clean, great, stay, location\n",
      "46: recommend, would, stay, place, definitely, highly, great, clean, staying, location\n",
      "47: bed, comfortable, comfy, shower, super, towel, gate, clean, slept, golden\n",
      "48: everything, need, needed, stay, perfect, sure, anything, place, could, close\n",
      "49: coffee, breakfast, snack, even, morning, fridge, nice, provided, wine, water\n"
     ]
    }
   ],
   "source": [
    "display_results(results)"
   ]
  },
  {
   "cell_type": "code",
   "execution_count": 15,
   "metadata": {
    "scrolled": false
   },
   "outputs": [
    {
     "name": "stdout",
     "output_type": "stream",
     "text": [
      "0: back, come, next, love\n",
      "1: question, quick, always, quickly, respond, available, response, responded, message, help\n",
      "2: nous, pour, le, dans, une, avec, de, pa\n",
      "3: parking, street, car, find, spot, free, garage\n",
      "4: cute, cool, dog, look, liked\n",
      "5: light, floor, small, group, window, heater, large, open, plenty\n",
      "6: apartment, decorated, beautifully, nicely, furnished, appointed\n",
      "7: arrived, late, meet, got\n",
      "8: gave, tip, recommendation, local, went\n",
      "9: located, public, transportation, transport\n",
      "10: family, two, week, kid, wish\n",
      "11: weekend, top, beat, getaway, surprised, mary, notch, hassle, start, wedding\n",
      "12: walking, distance, within, many, attraction, reasonable\n",
      "13: arrival, unit, property, reservation, upon, posting, automated, canceled\n",
      "14: new, cat, nothing, brand, construction, functional, smart, review, accurately, keypad\n",
      "15: private, shared, guest\n",
      "16: muy, que, con, casa, para, una, todo, del\n",
      "17: ..., beach, sunset, cottage, yes, peter, pool, skyline, hop, journey\n",
      "18: best, experience, airbnb, first, ever\n",
      "19: view, amazing, garden, gorgeous, loved, hill, incredible\n",
      "20: per, appartement, non, che, bonne, ant, victor, ben, ok., terrasse\n",
      "21: folk, 15-20, path, pic, reachable, haight, mix, doorstep, reccomend, fab\n",
      "22: walk, away, bus, downtown, block, min, stop, station\n",
      "23: better, asked, ask, much, justice, hesitate\n",
      "24: home, feel, felt, made, welcome\n",
      "25: uber, around\n",
      "26: girl, ubicaci, sea, ciudad, fog, anfitri, instant, amy, soda, beside\n",
      "27: hotel, price, service, affordable, cleanliness, expect, amazingly, rate, compared, sense\n",
      "28: mission, value, district, heart, apt, star, money, san, five, right\n",
      "29: und, die, ist, sehr, war, wir, mit, un\n",
      "30: excellent\n",
      "31: bit, noise\n",
      "32: shop, bar, nearby, lot\n",
      "33: touch, thoughtful, detail, stylish, little, lovely\n",
      "34: judy, til, hospital, user, erreichbar, warf, hands, god, august\n",
      "35: flight, hosts, updated, checkin, checkout, larger, valley, delayed, noe, tasteful\n",
      "36: expected, air, outstanding, bnb, rooftop, communicator, gym, decent, sin, address\n",
      "37: kitchen, bedroom, living, use, area\n",
      "38: last, hidden, gem, booked, holiday, accommodate, lady, understanding, authentic\n",
      "39: business, people, work, listing, trip, traveler, friendly, staff, accurate, description\n",
      "40: house, strongly, confortable, connected, discover, rule, kind, victorian, recommand\n",
      "41: flat, care, ocean, took, taken, advantage, placed, throw, reliable\n",
      "42: \n",
      "43: met, een, het, och, var, med, van, frequently, det\n",
      "44: able, pas, accueil, grand, situation, cette, active, max, s.f, propret\n",
      "45: check, communication, check-in, described, exactly\n",
      "46: recommend, highly, staying\n",
      "47: comfy, shower, towel, gate, slept, golden\n",
      "48: everything, need, needed, sure, anything\n",
      "49: coffee, breakfast, snack, morning, fridge, provided, wine, water\n"
     ]
    }
   ],
   "source": [
    "display_results_no_duplicates(results)"
   ]
  },
  {
   "cell_type": "markdown",
   "metadata": {},
   "source": [
    "## Compare Coherence"
   ]
  },
  {
   "cell_type": "code",
   "execution_count": 30,
   "metadata": {},
   "outputs": [],
   "source": [
    "from gensim.models.ldamulticore import LdaMulticore\n",
    "\n",
    "ldam_model = LdaMulticore.load('../models/ldam_reviews_50topics_10words_50passes_no_ner.model')"
   ]
  },
  {
   "cell_type": "code",
   "execution_count": 31,
   "metadata": {},
   "outputs": [],
   "source": [
    "from gensim.corpora.dictionary import Dictionary\n",
    "\n",
    "# Get Tokens\n",
    "token_texts = list(reviews_df['no_ne_tokens'].values)\n",
    "\n",
    "# Create a corpus from a list of texts\n",
    "common_dictionary = Dictionary(token_texts)\n",
    "common_corpus = [common_dictionary.doc2bow(text) for text in token_texts]"
   ]
  },
  {
   "cell_type": "code",
   "execution_count": 42,
   "metadata": {},
   "outputs": [
    {
     "name": "stdout",
     "output_type": "stream",
     "text": [
      "\n",
      "Perplexity: -11.004248744006285\n",
      "\n",
      "Coherence Score: 0.5658568697221187\n"
     ]
    }
   ],
   "source": [
    "from gensim.models.coherencemodel import CoherenceModel\n",
    "\n",
    "# Compute Perplexity\n",
    "print('\\nPerplexity: ' + str(ldam_model.log_perplexity(common_corpus)))  # a measure of how good the model is. lower the better.\n",
    "\n",
    "# Compute Coherence Score\n",
    "coherence_model_lda = CoherenceModel(model=ldam_model, texts=token_texts, dictionary=common_dictionary, coherence='c_v')\n",
    "coherence_lda = coherence_model_lda.get_coherence()\n",
    "print('\\nCoherence Score: ' + str(coherence_lda))"
   ]
  },
  {
   "cell_type": "code",
   "execution_count": null,
   "metadata": {},
   "outputs": [],
   "source": []
  }
 ],
 "metadata": {
  "kernelspec": {
   "display_name": "Python 3",
   "language": "python",
   "name": "python3"
  },
  "language_info": {
   "codemirror_mode": {
    "name": "ipython",
    "version": 2
   },
   "file_extension": ".py",
   "mimetype": "text/x-python",
   "name": "python",
   "nbconvert_exporter": "python",
   "pygments_lexer": "ipython2",
   "version": "2.7.3"
  }
 },
 "nbformat": 4,
 "nbformat_minor": 2
}
