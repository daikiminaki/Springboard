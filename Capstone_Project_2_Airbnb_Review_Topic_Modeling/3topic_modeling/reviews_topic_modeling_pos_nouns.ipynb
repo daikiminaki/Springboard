{
 "cells": [
  {
   "cell_type": "markdown",
   "metadata": {},
   "source": [
    "# AirBnB Reviews Topic Modelling: Nouns"
   ]
  },
  {
   "cell_type": "code",
   "execution_count": 1,
   "metadata": {},
   "outputs": [],
   "source": [
    "import pandas as pd\n",
    "import matplotlib.pyplot as plt\n",
    "import numpy as np\n",
    "import seaborn as sns; sns.set()\n",
    "import glob as glob\n",
    "import csv"
   ]
  },
  {
   "cell_type": "markdown",
   "metadata": {},
   "source": [
    "## Load Data"
   ]
  },
  {
   "cell_type": "code",
   "execution_count": 2,
   "metadata": {},
   "outputs": [],
   "source": [
    "def load_review_data(directory):\n",
    "    \"\"\"Load Review Data\"\"\"\n",
    "    reviews_df = pd.read_csv(directory + 'interim/review_wrangled.csv', sep=';', lineterminator='\\n').drop(columns=['Unnamed: 0'])\n",
    "    \n",
    "    return reviews_df"
   ]
  },
  {
   "cell_type": "code",
   "execution_count": 3,
   "metadata": {},
   "outputs": [],
   "source": [
    "# Select City\n",
    "country = 'united-states'\n",
    "city = 'san-francisco'\n",
    "\n",
    "# Directory\n",
    "directory = '../data/' + country + '/' + city + '/'\n",
    "\n",
    "# Load Data\n",
    "reviews_df = load_review_data(directory)"
   ]
  },
  {
   "cell_type": "code",
   "execution_count": 4,
   "metadata": {},
   "outputs": [
    {
     "data": {
      "text/html": [
       "<div>\n",
       "<style scoped>\n",
       "    .dataframe tbody tr th:only-of-type {\n",
       "        vertical-align: middle;\n",
       "    }\n",
       "\n",
       "    .dataframe tbody tr th {\n",
       "        vertical-align: top;\n",
       "    }\n",
       "\n",
       "    .dataframe thead th {\n",
       "        text-align: right;\n",
       "    }\n",
       "</style>\n",
       "<table border=\"1\" class=\"dataframe\">\n",
       "  <thead>\n",
       "    <tr style=\"text-align: right;\">\n",
       "      <th></th>\n",
       "      <th>listing_id</th>\n",
       "      <th>neighborhood</th>\n",
       "      <th>comments</th>\n",
       "      <th>tokens</th>\n",
       "      <th>tokens_count</th>\n",
       "      <th>name_entities</th>\n",
       "      <th>name_entities_count</th>\n",
       "      <th>comments_no_ne</th>\n",
       "      <th>no_ne_tokens</th>\n",
       "      <th>no_ne_tokens_count</th>\n",
       "      <th>nouns</th>\n",
       "      <th>nouns_counts</th>\n",
       "      <th>verbs</th>\n",
       "      <th>verbs_counts</th>\n",
       "      <th>adjectives</th>\n",
       "      <th>adjectives_counts</th>\n",
       "    </tr>\n",
       "  </thead>\n",
       "  <tbody>\n",
       "    <tr>\n",
       "      <th>0</th>\n",
       "      <td>958</td>\n",
       "      <td>Western Addition</td>\n",
       "      <td>Our experience was, without a doubt, a five st...</td>\n",
       "      <td>['experience', 'without', 'doubt', 'five', 'st...</td>\n",
       "      <td>49</td>\n",
       "      <td>['David', 'Haight', 'Castro', 'Golden Gate Par...</td>\n",
       "      <td>5</td>\n",
       "      <td>Our experience was, without a doubt, a five st...</td>\n",
       "      <td>['experience', 'without', 'doubt', 'five', 'st...</td>\n",
       "      <td>41</td>\n",
       "      <td>['experience', 'doubt', 'star', 'experience', ...</td>\n",
       "      <td>30</td>\n",
       "      <td>[u'be', u'be', 'accomodating', u'honor', u'be'...</td>\n",
       "      <td>10</td>\n",
       "      <td>['consummate', 'full', 'perfect', 'full', 'clo...</td>\n",
       "      <td>6</td>\n",
       "    </tr>\n",
       "    <tr>\n",
       "      <th>1</th>\n",
       "      <td>958</td>\n",
       "      <td>Western Addition</td>\n",
       "      <td>Returning to San Francisco is a rejuvenating t...</td>\n",
       "      <td>['returning', 'san', 'francisco', 'rejuvenatin...</td>\n",
       "      <td>38</td>\n",
       "      <td>['San Francisco', 'Holly', 'David']</td>\n",
       "      <td>3</td>\n",
       "      <td>Returning to  is a rejuvenating thrill but thi...</td>\n",
       "      <td>['returning', 'rejuvenating', 'thrill', 'time'...</td>\n",
       "      <td>34</td>\n",
       "      <td>['san', 'francisco', 'rejuvenating', 'thrill',...</td>\n",
       "      <td>19</td>\n",
       "      <td>[u'return', u'be', u'be', u'enhance', u'renova...</td>\n",
       "      <td>14</td>\n",
       "      <td>['great', 'local', 'such', 'amenable']</td>\n",
       "      <td>4</td>\n",
       "    </tr>\n",
       "    <tr>\n",
       "      <th>2</th>\n",
       "      <td>958</td>\n",
       "      <td>Western Addition</td>\n",
       "      <td>We were very pleased with the accommodations a...</td>\n",
       "      <td>['pleased', u'accommodation', 'friendly', 'nei...</td>\n",
       "      <td>71</td>\n",
       "      <td>['David', 'Haight Street', 'Castro Street']</td>\n",
       "      <td>3</td>\n",
       "      <td>We were very pleased with the accommodations a...</td>\n",
       "      <td>['pleased', u'accommodation', 'friendly', 'nei...</td>\n",
       "      <td>66</td>\n",
       "      <td>[u'accommodation', 'neighborhood', 'bed', 'fut...</td>\n",
       "      <td>41</td>\n",
       "      <td>[u'be', u'be', 'make', u'be', u'have', u'be', ...</td>\n",
       "      <td>21</td>\n",
       "      <td>['pleased', 'friendly', 'able', 'second', 'hel...</td>\n",
       "      <td>16</td>\n",
       "    </tr>\n",
       "    <tr>\n",
       "      <th>3</th>\n",
       "      <td>958</td>\n",
       "      <td>Western Addition</td>\n",
       "      <td>We highly recommend this accomodation and agre...</td>\n",
       "      <td>['highly', 'recommend', 'accomodation', 'agree...</td>\n",
       "      <td>44</td>\n",
       "      <td>['David', 'Airbnb']</td>\n",
       "      <td>2</td>\n",
       "      <td>We highly recommend this accomodation and agre...</td>\n",
       "      <td>['highly', 'recommend', 'accomodation', 'agree...</td>\n",
       "      <td>42</td>\n",
       "      <td>['accomodation', 'agree', u'posting', 'holly',...</td>\n",
       "      <td>20</td>\n",
       "      <td>[u'be', u'be', u'be', u'furnish', 'dishwashing...</td>\n",
       "      <td>9</td>\n",
       "      <td>['previous', 'helpful', 'friendly', 'superb', ...</td>\n",
       "      <td>10</td>\n",
       "    </tr>\n",
       "    <tr>\n",
       "      <th>4</th>\n",
       "      <td>958</td>\n",
       "      <td>Western Addition</td>\n",
       "      <td>Holly's place was great. It was exactly what I...</td>\n",
       "      <td>['holly', \"'s\", 'place', 'great', 'exactly', '...</td>\n",
       "      <td>26</td>\n",
       "      <td>['Holly', 'San Francisco']</td>\n",
       "      <td>2</td>\n",
       "      <td>'s place was great. It was exactly what I need...</td>\n",
       "      <td>[\"'s\", 'place', 'great', 'exactly', 'needed', ...</td>\n",
       "      <td>23</td>\n",
       "      <td>['holly', 'place', 'perfect', 'location', 'cle...</td>\n",
       "      <td>10</td>\n",
       "      <td>[u'be', u'be', u'need', \"'s\", 'make']</td>\n",
       "      <td>5</td>\n",
       "      <td>['great', 'super', 'little', 'good']</td>\n",
       "      <td>4</td>\n",
       "    </tr>\n",
       "  </tbody>\n",
       "</table>\n",
       "</div>"
      ],
      "text/plain": [
       "   listing_id      neighborhood  \\\n",
       "0         958  Western Addition   \n",
       "1         958  Western Addition   \n",
       "2         958  Western Addition   \n",
       "3         958  Western Addition   \n",
       "4         958  Western Addition   \n",
       "\n",
       "                                            comments  \\\n",
       "0  Our experience was, without a doubt, a five st...   \n",
       "1  Returning to San Francisco is a rejuvenating t...   \n",
       "2  We were very pleased with the accommodations a...   \n",
       "3  We highly recommend this accomodation and agre...   \n",
       "4  Holly's place was great. It was exactly what I...   \n",
       "\n",
       "                                              tokens  tokens_count  \\\n",
       "0  ['experience', 'without', 'doubt', 'five', 'st...            49   \n",
       "1  ['returning', 'san', 'francisco', 'rejuvenatin...            38   \n",
       "2  ['pleased', u'accommodation', 'friendly', 'nei...            71   \n",
       "3  ['highly', 'recommend', 'accomodation', 'agree...            44   \n",
       "4  ['holly', \"'s\", 'place', 'great', 'exactly', '...            26   \n",
       "\n",
       "                                       name_entities  name_entities_count  \\\n",
       "0  ['David', 'Haight', 'Castro', 'Golden Gate Par...                    5   \n",
       "1                ['San Francisco', 'Holly', 'David']                    3   \n",
       "2        ['David', 'Haight Street', 'Castro Street']                    3   \n",
       "3                                ['David', 'Airbnb']                    2   \n",
       "4                         ['Holly', 'San Francisco']                    2   \n",
       "\n",
       "                                      comments_no_ne  \\\n",
       "0  Our experience was, without a doubt, a five st...   \n",
       "1  Returning to  is a rejuvenating thrill but thi...   \n",
       "2  We were very pleased with the accommodations a...   \n",
       "3  We highly recommend this accomodation and agre...   \n",
       "4  's place was great. It was exactly what I need...   \n",
       "\n",
       "                                        no_ne_tokens  no_ne_tokens_count  \\\n",
       "0  ['experience', 'without', 'doubt', 'five', 'st...                  41   \n",
       "1  ['returning', 'rejuvenating', 'thrill', 'time'...                  34   \n",
       "2  ['pleased', u'accommodation', 'friendly', 'nei...                  66   \n",
       "3  ['highly', 'recommend', 'accomodation', 'agree...                  42   \n",
       "4  [\"'s\", 'place', 'great', 'exactly', 'needed', ...                  23   \n",
       "\n",
       "                                               nouns  nouns_counts  \\\n",
       "0  ['experience', 'doubt', 'star', 'experience', ...            30   \n",
       "1  ['san', 'francisco', 'rejuvenating', 'thrill',...            19   \n",
       "2  [u'accommodation', 'neighborhood', 'bed', 'fut...            41   \n",
       "3  ['accomodation', 'agree', u'posting', 'holly',...            20   \n",
       "4  ['holly', 'place', 'perfect', 'location', 'cle...            10   \n",
       "\n",
       "                                               verbs  verbs_counts  \\\n",
       "0  [u'be', u'be', 'accomodating', u'honor', u'be'...            10   \n",
       "1  [u'return', u'be', u'be', u'enhance', u'renova...            14   \n",
       "2  [u'be', u'be', 'make', u'be', u'have', u'be', ...            21   \n",
       "3  [u'be', u'be', u'be', u'furnish', 'dishwashing...             9   \n",
       "4              [u'be', u'be', u'need', \"'s\", 'make']             5   \n",
       "\n",
       "                                          adjectives  adjectives_counts  \n",
       "0  ['consummate', 'full', 'perfect', 'full', 'clo...                  6  \n",
       "1             ['great', 'local', 'such', 'amenable']                  4  \n",
       "2  ['pleased', 'friendly', 'able', 'second', 'hel...                 16  \n",
       "3  ['previous', 'helpful', 'friendly', 'superb', ...                 10  \n",
       "4               ['great', 'super', 'little', 'good']                  4  "
      ]
     },
     "execution_count": 4,
     "metadata": {},
     "output_type": "execute_result"
    }
   ],
   "source": [
    "reviews_sf.head()"
   ]
  },
  {
   "cell_type": "markdown",
   "metadata": {},
   "source": [
    "## Clean"
   ]
  },
  {
   "cell_type": "code",
   "execution_count": 5,
   "metadata": {},
   "outputs": [],
   "source": [
    "import ast\n",
    "\n",
    "reviews_sf['tokens'] = reviews_sf['tokens'].map(lambda x: ast.literal_eval(x))\n",
    "reviews_sf['name_entities'] = reviews_sf['name_entities'].map(lambda x: ast.literal_eval(x))\n",
    "reviews_sf['no_ne_tokens'] = reviews_sf['no_ne_tokens'].map(lambda x: ast.literal_eval(x))\n",
    "reviews_sf['nouns'] = reviews_sf['nouns'].map(lambda x: ast.literal_eval(x))\n",
    "reviews_sf['verbs'] = reviews_sf['verbs'].map(lambda x: ast.literal_eval(x))\n",
    "reviews_sf['adjectives'] = reviews_sf['adjectives'].map(lambda x: ast.literal_eval(x))"
   ]
  },
  {
   "cell_type": "markdown",
   "metadata": {},
   "source": [
    "## EDA"
   ]
  },
  {
   "cell_type": "code",
   "execution_count": 7,
   "metadata": {},
   "outputs": [
    {
     "data": {
      "text/plain": [
       "14.659686014323162"
      ]
     },
     "execution_count": 7,
     "metadata": {},
     "output_type": "execute_result"
    },
    {
     "data": {
      "image/png": "[encoded data removed]",
      "text/plain": [
       "<Figure size 432x288 with 1 Axes>"
      ]
     },
     "metadata": {
      "needs_background": "light"
     },
     "output_type": "display_data"
    }
   ],
   "source": [
    "_ = reviews_sf['nouns_counts'].hist()\n",
    "_ = plt.axvline(np.mean(reviews_sf['nouns_counts']), color='red')\n",
    "np.mean(reviews_sf['nouns_counts'])"
   ]
  },
  {
   "cell_type": "markdown",
   "metadata": {},
   "source": [
    "# Topic Modelling"
   ]
  },
  {
   "cell_type": "code",
   "execution_count": 10,
   "metadata": {},
   "outputs": [],
   "source": [
    "token_texts = list(reviews_sf['nouns'].values)"
   ]
  },
  {
   "cell_type": "code",
   "execution_count": 11,
   "metadata": {},
   "outputs": [],
   "source": [
    "from gensim.corpora.dictionary import Dictionary\n",
    "\n",
    "# Create a corpus from a list of texts\n",
    "common_dictionary = Dictionary(token_texts)\n",
    "common_corpus = [common_dictionary.doc2bow(text) for text in token_texts]"
   ]
  },
  {
   "cell_type": "code",
   "execution_count": 12,
   "metadata": {},
   "outputs": [],
   "source": [
    "from gensim.models.ldamulticore import LdaMulticore\n",
    "import time\n",
    "ldam = LdaMulticore\n",
    "\n",
    "num_topics = 50\n",
    "num_words = 10\n",
    "passes = 50\n",
    "\n",
    "# Get Start Time\n",
    "start_time = time.time()\n",
    "\n",
    "# LDA Model\n",
    "ldam_model = ldam(common_corpus, num_topics=num_topics, id2word=common_dictionary, passes=passes)\n",
    "model_end_time = time.time() # Model End Time\n",
    "\n",
    "# LDA Results\n",
    "results = ldam_model.print_topics(num_topics=num_topics, num_words=num_words)\n",
    "result_time = time.time() # Results Time"
   ]
  },
  {
   "cell_type": "code",
   "execution_count": 22,
   "metadata": {
    "scrolled": true
   },
   "outputs": [
    {
     "data": {
      "text/plain": [
       "2.570820320579741"
      ]
     },
     "execution_count": 22,
     "metadata": {},
     "output_type": "execute_result"
    }
   ],
   "source": [
    "(model_end_time - start_time) / 60 / 60"
   ]
  },
  {
   "cell_type": "markdown",
   "metadata": {},
   "source": [
    "## Save Model"
   ]
  },
  {
   "cell_type": "code",
   "execution_count": 14,
   "metadata": {},
   "outputs": [],
   "source": [
    "ldam_model.save('../models/ldam_reviews_50topics_10words_50passes_nouns.model')"
   ]
  },
  {
   "cell_type": "markdown",
   "metadata": {},
   "source": [
    "# Results"
   ]
  },
  {
   "cell_type": "code",
   "execution_count": 2,
   "metadata": {},
   "outputs": [],
   "source": [
    "def display_results(results):\n",
    "    for index, results in results:\n",
    "        print(str(index) + ': ' + str(', '.join(results.split('\"')[1::2])))\n",
    "        \n",
    "def display_results_no_duplicates(results):\n",
    "    all_lists = []\n",
    "    for index, result in results:\n",
    "        all_lists = all_lists + result.split('\"')[1::2]\n",
    "    \n",
    "    # Get Counts of each word\n",
    "    counts = pd.Series(all_lists).value_counts()\n",
    "    no_duplicates = counts[counts == 1].index\n",
    "    \n",
    "    for index, result in results:\n",
    "        print(str(index) + ': ' + str(', '.join([word for word in result.split('\"')[1::2] if word in no_duplicates])))"
   ]
  },
  {
   "cell_type": "markdown",
   "metadata": {},
   "source": [
    "## Topic Results"
   ]
  },
  {
   "cell_type": "code",
   "execution_count": 10,
   "metadata": {},
   "outputs": [
    {
     "name": "stdout",
     "output_type": "stream",
     "text": [
      "0: apartment, stay, everything, host, location, time, sf, thanks, neighborhood, question\n",
      "1: place, location, host, sf, stay, everything, clean, time, nice, neighborhood\n",
      "2: beach, square, union, wharf, building, location, fisherman, car, minute, cable\n",
      "3: mission, district, castro, heart, park, location, brian, street, dolores, distance\n",
      "4: space, view, city, hill, neighborhood, host, deck, patio, top, plenty\n",
      "5: s, tr, le, la, et, bien, d, dans, de, avon\n",
      "6: photo, mike, flat, amy, tony, communicator, email, thanks, pete, fast\n",
      "7: shower, water, bed, review, thing, heater, towel, sheet, cleanliness, lock\n",
      "8: room, bathroom, bed, bedroom, kitchen, living, space, host, area, location\n",
      "9: studio, work, valley, noe, week, conference, center, brand, hayes, tom\n",
      "10: unit, check-in, flight, door, luggage, breeze, hour, bag, stair, key\n",
      "11: michael, t, response, process, question, star, awesome, wa, booking, quick\n",
      "12: description, will, %, sara, accommodating, wait, superb, self, equipment, china\n",
      "13: house, kind, host, room, stay, time, everything, sf, neighborhood, beautiful\n",
      "14: dog, cute, jason, lady, s, california, bunch, office, coast, haight-ashbury\n",
      "15: size, anna, sight, hostess, judy, terrace, partner, cost, rachel, notch\n",
      "16: height, bernal, sarah, apt, bay, middle, term, jenny, hope, lisa\n",
      "17: san, francisco, place, stay, time, location, host, michelle, everything, anyone\n",
      "18: pleasure, cottage, paul, peter, appartment, matthew, meeting, comfortable, hesitation, thomas\n",
      "19: e, maria, o, casa, al, por, pero, jim, s, p\n",
      "20: super, b, carl, air, juste, sat, vivement, audrey, caro, sa\n",
      "21: people, hotel, place, price, room, location, david, everyone, staff, fun\n",
      "22: garden, backyard, glen, j, tree, outer, leslie, suzanne, apple, rich\n",
      "23: location, great, host, value, stay, perfect, communication, room, accommodation, everything\n",
      "24: restaurant, place, shop, distance, location, bar, neighborhood, lot, food, street\n",
      "25: highly, recommend, easy, jeff, host, destination, scott, immaculate, bob, wonderful\n",
      "26: breakfast, coffee, morning, touch, snack, tea, drink, fruit, chris, food\n",
      "27: spot, parking, street, car, listing, garage, sf, neighborhood, plus, balcony\n",
      "28: home, host, stay, thank, everything, sf, time, neighborhood, alex, comfort\n",
      "29: night, noise, bit, issue, street, morning, thing, nothing, problem, bed\n",
      "30: city, place, uber, part, fran, access, town, area, transport, ride\n",
      "31: kitchen, place, bed, towel, space, tv, wine, fridge, coffee, everything\n",
      "32: minute, bus, bart, walk, station, muni, min, downtown, stop, line\n",
      "33: phil, auto, buck, ausgestattet, gelegen, wohl, hat, erreichbar, ffentlichen, tage\n",
      "34: suite, plan, alice, change, tower, grace, go, edge, coit, ready\n",
      "35: park, gate, golden, beach, ocean, bridge, location, sunset, block, walk\n",
      "36: marie, laura, je, red, di, ben, e, ha, molto, het\n",
      "37: day, arrival, host, reservation, guy, posting, end, rob, schedule, james\n",
      "38: robert, josh, mark, driveway, bike, card, charles, query, chip, hassle\n",
      "39: air, bnb, mattress, mom, rooftop, catherine, victorian, adam, pool, dave\n",
      "40: hospitality, detail, cat, decor, art, attention, style, design, life, conversation\n",
      "41: y, la, muy, con, el, que, e, para, n, todo\n",
      "42: responsive, rental, jonathan, share, game, app, date, knowledge, word, thought\n",
      "43: check, thing, tip, recommendation, host, stay, room, information, lot, area\n",
      "44: trip, business, traveler, travel, steve, kathy, solo, katie, essential, nicole\n",
      "45: property, owner, facility, shampoo, hand, visitor, daniel, sure, laundry, homey\n",
      "46: experience, airbnb, expectation, i, host, time, andy, website, gary, best\n",
      "47: die, sehr, ist, war, der, man, wir, mit, da, r\n",
      "48: group, jessica, joe, peak, info, twin, cool, checkin, checkout, necessity\n",
      "49: family, kid, year, daughter, child, adult, son, vacation, quaint, husband\n"
     ]
    }
   ],
   "source": [
    "display_results(results)"
   ]
  },
  {
   "cell_type": "code",
   "execution_count": 18,
   "metadata": {},
   "outputs": [
    {
     "name": "stdout",
     "output_type": "stream",
     "text": [
      "0: apartment\n",
      "1: clean, nice\n",
      "2: square, union, wharf, building, fisherman, cable\n",
      "3: mission, district, castro, heart, brian, dolores\n",
      "4: view, hill, deck, patio, top, plenty\n",
      "5: tr, le, et, bien, d, dans, de, avon\n",
      "6: photo, mike, flat, amy, tony, communicator, email, pete, fast\n",
      "7: shower, water, review, heater, sheet, cleanliness, lock\n",
      "8: bathroom, bedroom, living\n",
      "9: studio, work, valley, noe, week, conference, center, brand, hayes, tom\n",
      "10: unit, check-in, flight, door, luggage, breeze, hour, bag, stair, key\n",
      "11: michael, t, response, process, star, awesome, wa, booking, quick\n",
      "12: description, will, %, sara, accommodating, wait, superb, self, equipment, china\n",
      "13: house, kind, beautiful\n",
      "14: dog, cute, jason, lady, california, bunch, office, coast, haight-ashbury\n",
      "15: size, anna, sight, hostess, judy, terrace, partner, cost, rachel, notch\n",
      "16: height, bernal, sarah, apt, bay, middle, term, jenny, hope, lisa\n",
      "17: san, francisco, michelle, anyone\n",
      "18: pleasure, cottage, paul, peter, appartment, matthew, meeting, comfortable, hesitation, thomas\n",
      "19: maria, o, casa, al, por, pero, jim, p\n",
      "20: super, b, carl, juste, sat, vivement, audrey, caro, sa\n",
      "21: people, hotel, price, david, everyone, staff, fun\n",
      "22: garden, backyard, glen, j, tree, outer, leslie, suzanne, apple, rich\n",
      "23: great, value, perfect, communication, accommodation\n",
      "24: restaurant, shop, bar\n",
      "25: highly, recommend, easy, jeff, destination, scott, immaculate, bob, wonderful\n",
      "26: breakfast, touch, snack, tea, drink, fruit, chris\n",
      "27: spot, parking, listing, garage, plus, balcony\n",
      "28: home, thank, alex, comfort\n",
      "29: night, noise, bit, issue, nothing, problem\n",
      "30: uber, part, fran, access, town, transport, ride\n",
      "31: tv, wine, fridge\n",
      "32: bus, bart, station, muni, min, downtown, stop, line\n",
      "33: phil, auto, buck, ausgestattet, gelegen, wohl, hat, erreichbar, ffentlichen, tage\n",
      "34: suite, plan, alice, change, tower, grace, go, edge, coit, ready\n",
      "35: gate, golden, ocean, bridge, sunset, block\n",
      "36: marie, laura, je, red, di, ben, ha, molto, het\n",
      "37: day, arrival, reservation, guy, posting, end, rob, schedule, james\n",
      "38: robert, josh, mark, driveway, bike, card, charles, query, chip, hassle\n",
      "39: bnb, mattress, mom, rooftop, catherine, victorian, adam, pool, dave\n",
      "40: hospitality, detail, cat, decor, art, attention, style, design, life, conversation\n",
      "41: y, muy, con, el, que, para, n, todo\n",
      "42: responsive, rental, jonathan, share, game, app, date, knowledge, word, thought\n",
      "43: check, tip, recommendation, information\n",
      "44: trip, business, traveler, travel, steve, kathy, solo, katie, essential, nicole\n",
      "45: property, owner, facility, shampoo, hand, visitor, daniel, sure, laundry, homey\n",
      "46: experience, airbnb, expectation, i, andy, website, gary, best\n",
      "47: die, sehr, ist, war, der, man, wir, mit, da, r\n",
      "48: group, jessica, joe, peak, info, twin, cool, checkin, checkout, necessity\n",
      "49: family, kid, year, daughter, child, adult, son, vacation, quaint, husband\n"
     ]
    }
   ],
   "source": [
    "display_results_no_duplicates(results)"
   ]
  }
 ],
 "metadata": {
  "kernelspec": {
   "display_name": "Python 3",
   "language": "python",
   "name": "python3"
  },
  "language_info": {
   "codemirror_mode": {
    "name": "ipython",
    "version": 2
   },
   "file_extension": ".py",
   "mimetype": "text/x-python",
   "name": "python",
   "nbconvert_exporter": "python",
   "pygments_lexer": "ipython2",
   "version": "2.7.3"
  }
 },
 "nbformat": 4,
 "nbformat_minor": 2
}
