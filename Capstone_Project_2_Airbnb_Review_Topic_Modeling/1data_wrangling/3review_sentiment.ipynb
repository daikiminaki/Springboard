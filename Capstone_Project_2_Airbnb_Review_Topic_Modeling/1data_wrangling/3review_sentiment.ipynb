{
 "cells": [
  {
   "cell_type": "markdown",
   "metadata": {},
   "source": [
    "# AirBnB Review Topic Modeling\n",
    "\n",
    "## Get Review Sentiment"
   ]
  },
  {
   "cell_type": "code",
   "execution_count": 2,
   "metadata": {},
   "outputs": [],
   "source": [
    "import pandas as pd\n",
    "import matplotlib.pyplot as plt\n",
    "import numpy as np\n",
    "import seaborn as sns; sns.set()\n",
    "\n",
    "from textblob import TextBlob"
   ]
  },
  {
   "cell_type": "markdown",
   "metadata": {},
   "source": [
    "## Load Data"
   ]
  },
  {
   "cell_type": "code",
   "execution_count": 3,
   "metadata": {},
   "outputs": [],
   "source": [
    "# Select City\n",
    "country = 'united-states'\n",
    "city = 'san-francisco'\n",
    "\n",
    "# Directory\n",
    "directory = '../data/' + country + '/' + city + '/'\n",
    "\n",
    "# Load Reviews\n",
    "reviews = pd.read_csv(directory + 'interim/review_wrangled.csv', sep=';', lineterminator='\\n').drop(columns=['Unnamed: 0'])"
   ]
  },
  {
   "cell_type": "markdown",
   "metadata": {},
   "source": [
    "## Clean"
   ]
  },
  {
   "cell_type": "code",
   "execution_count": 30,
   "metadata": {},
   "outputs": [],
   "source": [
    "ID_COLS = ['listing_id','id','date','comments','tokens','tokens_count']\n",
    "\n",
    "reviews_sentiments = reviews[ID_COLS]"
   ]
  },
  {
   "cell_type": "markdown",
   "metadata": {},
   "source": [
    "## Sample"
   ]
  },
  {
   "cell_type": "code",
   "execution_count": 32,
   "metadata": {},
   "outputs": [
    {
     "data": {
      "text/plain": [
       "\"Our experience was, without a doubt, a five star experience. Holly and her husband, David, were the consummate hosts; friendly and accomodating while still honoring our privacy. The apartment was a charming layout with a full view and access to the home's garden The location is perfect for full engagement with the city; close to mass transit with walking proximity to the Haight, the Mission, the Castro and Golden Gate Park. I can't wait for our next visit.\\r \\r Ted and Karen Wingerd\""
      ]
     },
     "execution_count": 32,
     "metadata": {},
     "output_type": "execute_result"
    }
   ],
   "source": [
    "reviews_sentiments['comments'][0]"
   ]
  },
  {
   "cell_type": "code",
   "execution_count": 31,
   "metadata": {},
   "outputs": [
    {
     "data": {
      "text/plain": [
       "0.503125"
      ]
     },
     "execution_count": 31,
     "metadata": {},
     "output_type": "execute_result"
    }
   ],
   "source": [
    "blob = TextBlob(reviews_sentiments['comments'][0])\n",
    "blob.sentiment.polarity"
   ]
  },
  {
   "cell_type": "markdown",
   "metadata": {},
   "source": [
    "## Get Sentiments"
   ]
  },
  {
   "cell_type": "code",
   "execution_count": 33,
   "metadata": {},
   "outputs": [],
   "source": [
    "def get_sentiment(review):\n",
    "    \"\"\"Get Review Sentiment\"\"\"\n",
    "    blob = TextBlob(review)\n",
    "    return blob.sentiment.polarity"
   ]
  },
  {
   "cell_type": "code",
   "execution_count": 35,
   "metadata": {},
   "outputs": [
    {
     "name": "stderr",
     "output_type": "stream",
     "text": [
      "/anaconda3/lib/python2.7/site-packages/pandas/core/indexing.py:543: SettingWithCopyWarning: \n",
      "A value is trying to be set on a copy of a slice from a DataFrame.\n",
      "Try using .loc[row_indexer,col_indexer] = value instead\n",
      "\n",
      "See the caveats in the documentation: http://pandas.pydata.org/pandas-docs/stable/indexing.html#indexing-view-versus-copy\n",
      "  self.obj[item] = s\n"
     ]
    }
   ],
   "source": [
    "# Get Sentiments for each Comment\n",
    "reviews_sentiments.loc[:,'sentiment'] = reviews_sentiments['comments'].apply(get_sentiment)"
   ]
  },
  {
   "cell_type": "code",
   "execution_count": 53,
   "metadata": {},
   "outputs": [
    {
     "data": {
      "text/html": [
       "<div>\n",
       "<style scoped>\n",
       "    .dataframe tbody tr th:only-of-type {\n",
       "        vertical-align: middle;\n",
       "    }\n",
       "\n",
       "    .dataframe tbody tr th {\n",
       "        vertical-align: top;\n",
       "    }\n",
       "\n",
       "    .dataframe thead th {\n",
       "        text-align: right;\n",
       "    }\n",
       "</style>\n",
       "<table border=\"1\" class=\"dataframe\">\n",
       "  <thead>\n",
       "    <tr style=\"text-align: right;\">\n",
       "      <th></th>\n",
       "      <th>listing_id</th>\n",
       "      <th>id</th>\n",
       "      <th>date</th>\n",
       "      <th>comments</th>\n",
       "      <th>tokens</th>\n",
       "      <th>tokens_count</th>\n",
       "      <th>sentiment</th>\n",
       "    </tr>\n",
       "  </thead>\n",
       "  <tbody>\n",
       "    <tr>\n",
       "      <th>0</th>\n",
       "      <td>958</td>\n",
       "      <td>5977</td>\n",
       "      <td>2009-07-23</td>\n",
       "      <td>Our experience was, without a doubt, a five st...</td>\n",
       "      <td>['experience', 'without', 'doubt', 'five', 'st...</td>\n",
       "      <td>47</td>\n",
       "      <td>0.503125</td>\n",
       "    </tr>\n",
       "    <tr>\n",
       "      <th>1</th>\n",
       "      <td>958</td>\n",
       "      <td>6660</td>\n",
       "      <td>2009-08-03</td>\n",
       "      <td>Returning to San Francisco is a rejuvenating t...</td>\n",
       "      <td>['returning', 'san', 'francisco', 'rejuvenatin...</td>\n",
       "      <td>36</td>\n",
       "      <td>0.464286</td>\n",
       "    </tr>\n",
       "    <tr>\n",
       "      <th>2</th>\n",
       "      <td>958</td>\n",
       "      <td>11519</td>\n",
       "      <td>2009-09-27</td>\n",
       "      <td>We were very pleased with the accommodations a...</td>\n",
       "      <td>['pleased', u'accommodation', 'friendly', 'nei...</td>\n",
       "      <td>67</td>\n",
       "      <td>0.214444</td>\n",
       "    </tr>\n",
       "    <tr>\n",
       "      <th>3</th>\n",
       "      <td>958</td>\n",
       "      <td>16282</td>\n",
       "      <td>2009-11-05</td>\n",
       "      <td>We highly recommend this accomodation and agre...</td>\n",
       "      <td>['highly', 'recommend', 'accomodation', 'agree...</td>\n",
       "      <td>43</td>\n",
       "      <td>0.264333</td>\n",
       "    </tr>\n",
       "    <tr>\n",
       "      <th>4</th>\n",
       "      <td>958</td>\n",
       "      <td>26008</td>\n",
       "      <td>2010-02-13</td>\n",
       "      <td>Holly's place was great. It was exactly what I...</td>\n",
       "      <td>['holly', 'place', 'great', 'exactly', 'needed...</td>\n",
       "      <td>23</td>\n",
       "      <td>0.353750</td>\n",
       "    </tr>\n",
       "  </tbody>\n",
       "</table>\n",
       "</div>"
      ],
      "text/plain": [
       "   listing_id     id        date  \\\n",
       "0         958   5977  2009-07-23   \n",
       "1         958   6660  2009-08-03   \n",
       "2         958  11519  2009-09-27   \n",
       "3         958  16282  2009-11-05   \n",
       "4         958  26008  2010-02-13   \n",
       "\n",
       "                                            comments  \\\n",
       "0  Our experience was, without a doubt, a five st...   \n",
       "1  Returning to San Francisco is a rejuvenating t...   \n",
       "2  We were very pleased with the accommodations a...   \n",
       "3  We highly recommend this accomodation and agre...   \n",
       "4  Holly's place was great. It was exactly what I...   \n",
       "\n",
       "                                              tokens  tokens_count  sentiment  \n",
       "0  ['experience', 'without', 'doubt', 'five', 'st...            47   0.503125  \n",
       "1  ['returning', 'san', 'francisco', 'rejuvenatin...            36   0.464286  \n",
       "2  ['pleased', u'accommodation', 'friendly', 'nei...            67   0.214444  \n",
       "3  ['highly', 'recommend', 'accomodation', 'agree...            43   0.264333  \n",
       "4  ['holly', 'place', 'great', 'exactly', 'needed...            23   0.353750  "
      ]
     },
     "execution_count": 53,
     "metadata": {},
     "output_type": "execute_result"
    }
   ],
   "source": [
    "reviews_sentiments.head()"
   ]
  },
  {
   "cell_type": "markdown",
   "metadata": {},
   "source": [
    "## Export"
   ]
  },
  {
   "cell_type": "code",
   "execution_count": 52,
   "metadata": {},
   "outputs": [],
   "source": [
    "# Export Review Sentiments\n",
    "reviews_sentiments.to_csv(directory + 'processed/review_sentiments.csv')"
   ]
  },
  {
   "cell_type": "markdown",
   "metadata": {},
   "source": [
    "# Sample"
   ]
  },
  {
   "cell_type": "code",
   "execution_count": 37,
   "metadata": {},
   "outputs": [
    {
     "data": {
      "text/html": [
       "<div>\n",
       "<style scoped>\n",
       "    .dataframe tbody tr th:only-of-type {\n",
       "        vertical-align: middle;\n",
       "    }\n",
       "\n",
       "    .dataframe tbody tr th {\n",
       "        vertical-align: top;\n",
       "    }\n",
       "\n",
       "    .dataframe thead th {\n",
       "        text-align: right;\n",
       "    }\n",
       "</style>\n",
       "<table border=\"1\" class=\"dataframe\">\n",
       "  <thead>\n",
       "    <tr style=\"text-align: right;\">\n",
       "      <th></th>\n",
       "      <th>listing_id</th>\n",
       "      <th>id</th>\n",
       "      <th>date</th>\n",
       "      <th>comments</th>\n",
       "      <th>tokens</th>\n",
       "      <th>tokens_count</th>\n",
       "      <th>sentiment</th>\n",
       "    </tr>\n",
       "  </thead>\n",
       "  <tbody>\n",
       "    <tr>\n",
       "      <th>0</th>\n",
       "      <td>958</td>\n",
       "      <td>5977</td>\n",
       "      <td>2009-07-23</td>\n",
       "      <td>Our experience was, without a doubt, a five st...</td>\n",
       "      <td>['experience', 'without', 'doubt', 'five', 'st...</td>\n",
       "      <td>47</td>\n",
       "      <td>0.503125</td>\n",
       "    </tr>\n",
       "    <tr>\n",
       "      <th>1</th>\n",
       "      <td>958</td>\n",
       "      <td>6660</td>\n",
       "      <td>2009-08-03</td>\n",
       "      <td>Returning to San Francisco is a rejuvenating t...</td>\n",
       "      <td>['returning', 'san', 'francisco', 'rejuvenatin...</td>\n",
       "      <td>36</td>\n",
       "      <td>0.464286</td>\n",
       "    </tr>\n",
       "    <tr>\n",
       "      <th>2</th>\n",
       "      <td>958</td>\n",
       "      <td>11519</td>\n",
       "      <td>2009-09-27</td>\n",
       "      <td>We were very pleased with the accommodations a...</td>\n",
       "      <td>['pleased', u'accommodation', 'friendly', 'nei...</td>\n",
       "      <td>67</td>\n",
       "      <td>0.214444</td>\n",
       "    </tr>\n",
       "    <tr>\n",
       "      <th>3</th>\n",
       "      <td>958</td>\n",
       "      <td>16282</td>\n",
       "      <td>2009-11-05</td>\n",
       "      <td>We highly recommend this accomodation and agre...</td>\n",
       "      <td>['highly', 'recommend', 'accomodation', 'agree...</td>\n",
       "      <td>43</td>\n",
       "      <td>0.264333</td>\n",
       "    </tr>\n",
       "    <tr>\n",
       "      <th>4</th>\n",
       "      <td>958</td>\n",
       "      <td>26008</td>\n",
       "      <td>2010-02-13</td>\n",
       "      <td>Holly's place was great. It was exactly what I...</td>\n",
       "      <td>['holly', 'place', 'great', 'exactly', 'needed...</td>\n",
       "      <td>23</td>\n",
       "      <td>0.353750</td>\n",
       "    </tr>\n",
       "  </tbody>\n",
       "</table>\n",
       "</div>"
      ],
      "text/plain": [
       "   listing_id     id        date  \\\n",
       "0         958   5977  2009-07-23   \n",
       "1         958   6660  2009-08-03   \n",
       "2         958  11519  2009-09-27   \n",
       "3         958  16282  2009-11-05   \n",
       "4         958  26008  2010-02-13   \n",
       "\n",
       "                                            comments  \\\n",
       "0  Our experience was, without a doubt, a five st...   \n",
       "1  Returning to San Francisco is a rejuvenating t...   \n",
       "2  We were very pleased with the accommodations a...   \n",
       "3  We highly recommend this accomodation and agre...   \n",
       "4  Holly's place was great. It was exactly what I...   \n",
       "\n",
       "                                              tokens  tokens_count  sentiment  \n",
       "0  ['experience', 'without', 'doubt', 'five', 'st...            47   0.503125  \n",
       "1  ['returning', 'san', 'francisco', 'rejuvenatin...            36   0.464286  \n",
       "2  ['pleased', u'accommodation', 'friendly', 'nei...            67   0.214444  \n",
       "3  ['highly', 'recommend', 'accomodation', 'agree...            43   0.264333  \n",
       "4  ['holly', 'place', 'great', 'exactly', 'needed...            23   0.353750  "
      ]
     },
     "execution_count": 37,
     "metadata": {},
     "output_type": "execute_result"
    }
   ],
   "source": [
    "reviews_sentiments.head()"
   ]
  },
  {
   "cell_type": "code",
   "execution_count": 43,
   "metadata": {},
   "outputs": [],
   "source": [
    "def print_sentiments(data):\n",
    "    '''Print Sentiment'''\n",
    "    for index in data.index:\n",
    "        review = data.loc[index]\n",
    "        \n",
    "        print('\\n\\nReview:')\n",
    "        print(str(review['comments']))\n",
    "        print('\\nSentiment: ' + str(review['sentiment']))"
   ]
  },
  {
   "cell_type": "markdown",
   "metadata": {},
   "source": [
    "## Most Positive"
   ]
  },
  {
   "cell_type": "code",
   "execution_count": 45,
   "metadata": {},
   "outputs": [],
   "source": [
    "most_positive = reviews_sentiments.sort_values('sentiment', ascending=False)"
   ]
  },
  {
   "cell_type": "code",
   "execution_count": 47,
   "metadata": {},
   "outputs": [
    {
     "name": "stdout",
     "output_type": "stream",
     "text": [
      "\n",
      "\n",
      "Review:\n",
      "Great stay!\n",
      "\n",
      "Sentiment: 1.0\n",
      "\n",
      "\n",
      "Review:\n",
      "Great location in the sunset!\n",
      "\n",
      "Sentiment: 1.0\n",
      "\n",
      "\n",
      "Review:\n",
      "everything is perfect!\n",
      "\n",
      "Sentiment: 1.0\n",
      "\n",
      "\n",
      "Review:\n",
      "Awesome Host.\n",
      "\n",
      "Sentiment: 1.0\n",
      "\n",
      "\n",
      "Review:\n",
      "A best host ever in my Airbnb experience.\n",
      "\n",
      "Sentiment: 1.0\n"
     ]
    }
   ],
   "source": [
    "print_sentiments(most_positive.head())"
   ]
  },
  {
   "cell_type": "markdown",
   "metadata": {},
   "source": [
    "## Most Negative"
   ]
  },
  {
   "cell_type": "code",
   "execution_count": 48,
   "metadata": {},
   "outputs": [],
   "source": [
    "most_negative = reviews_sentiments.sort_values('sentiment', ascending=True)"
   ]
  },
  {
   "cell_type": "code",
   "execution_count": 49,
   "metadata": {},
   "outputs": [
    {
     "name": "stdout",
     "output_type": "stream",
     "text": [
      "\n",
      "\n",
      "Review:\n",
      "\" , , Airbnb \", : ( ), ( ) ? , ?! !\"  , 3 , Kenix B&B , , , , , , , , , \n",
      "\n",
      "Sentiment: -1.0\n",
      "\n",
      "\n",
      "Review:\n",
      "Appartement tr s bien situ  et au calme. Nous avons appr ci  l'accueil de Julia, la propret  de l'appartement, le confort des lits, l' quipement de l'appartement, les produits d'entretien et les produits de base   l'arriv e .... et le parking dans un garage !  Merci Julia !\n",
      "\n",
      "Sentiment: -1.0\n",
      "\n",
      "\n",
      "Review:\n",
      "Die Lage des Zimmers in SF ist prima, recht zentral. Zimmer, Bad und Ausstattung sind wie beschrieben, also gut! Jay ist sehr verl sslich; er kommuniziert \"sofort\", ist hilfsbereit und entgegenkommend: Der Wohn-Essbereich ist nett gestaltet und wir durften z.B. seinen Kaffeeautomaten nebst Kaffee oder Cerealien und Milch mit nutzen. Das Preis-/Leistungsverh ltnis halten wir somit f r SF angemessen. Fazit: F r 2 Personen ist die Unterkunft prima! Bei Belegung mit 3 Erwachsenen ist das Zimmer \"voll belegt\". Sehr zu empfehlen!\n",
      "\n",
      "Sentiment: -1.0\n",
      "\n",
      "\n",
      "Review:\n",
      "Ambiance tr s sympa mais dortoir minuscule et tr s bruyant. Pour le prix, nous avons trouv   a d cevant. 50  la nuit pour un dortoir de 6 personnes avec un mec qui vomit toute la nuit dans les toilettes   c t , c'est un peu cher pay ... Cependant le personnel est tr s sympa et c'est un bon moyen de faire des rencontres. Attention, quartier pas terrible le soir, faites gaffe si vous avez des v los   les monter au deuxi me  tage !!\n",
      "\n",
      "Sentiment: -1.0\n",
      "\n",
      "\n",
      "Review:\n",
      "terrible parking\n",
      "\n",
      "Sentiment: -1.0\n"
     ]
    }
   ],
   "source": [
    "print_sentiments(most_negative.loc[:])"
   ]
  }
 ],
 "metadata": {
  "kernelspec": {
   "display_name": "Python 3",
   "language": "python",
   "name": "python3"
  },
  "language_info": {
   "codemirror_mode": {
    "name": "ipython",
    "version": 2
   },
   "file_extension": ".py",
   "mimetype": "text/x-python",
   "name": "python",
   "nbconvert_exporter": "python",
   "pygments_lexer": "ipython2",
   "version": "2.7.3"
  }
 },
 "nbformat": 4,
 "nbformat_minor": 2
}
