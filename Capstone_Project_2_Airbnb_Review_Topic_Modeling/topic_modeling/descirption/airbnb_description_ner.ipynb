{
 "cells": [
  {
   "cell_type": "markdown",
   "metadata": {},
   "source": [
    "# Topic Modelling Neighborhood Overview: NERs"
   ]
  },
  {
   "cell_type": "code",
   "execution_count": 1,
   "metadata": {},
   "outputs": [],
   "source": [
    "import pandas as pd\n",
    "import matplotlib.pyplot as plt\n",
    "import numpy as np\n",
    "import seaborn as sns; sns.set()\n",
    "import glob as glob"
   ]
  },
  {
   "cell_type": "code",
   "execution_count": 2,
   "metadata": {},
   "outputs": [],
   "source": [
    "def load_sample_data(country, city):\n",
    "    directory = 'data/' + country + '/' + city + '/'\n",
    "    csv_files = [file_name for file_name in glob.glob(directory + '*') if file_name[-4:] == '.csv']\n",
    "    \n",
    "    for file_loc in csv_files:\n",
    "        file_name = file_loc.split('/')[3]\n",
    "        \n",
    "        if file_name == 'listings_sample.csv':\n",
    "            #Read Listing Sample\n",
    "            listing_sample = pd.read_csv(file_loc)\n",
    "            \n",
    "        elif file_name == 'reviews_sample.csv':\n",
    "            #Read Review Sample\n",
    "            reviews_sample = pd.read_csv(file_loc)\n",
    "            \n",
    "        elif file_name == 'neighbourhoods_sample.csv':\n",
    "            #Read Neighborhoods\n",
    "            neighbourhoods_sample = pd.read_csv(file_loc)\n",
    "            \n",
    "    return [listing_sample, reviews_sample, neighbourhoods_sample]\n",
    "\n",
    "\n",
    "def load_full_data(country, city):\n",
    "    directory = 'data/' + country + '/' + city + '/'\n",
    "    csv_files = [file_name for file_name in glob.glob(directory + '*') if file_name[-4:] == '.csv']\n",
    "    \n",
    "    for file_loc in csv_files:\n",
    "        file_name = file_loc.split('/')[3]\n",
    "        \n",
    "        if file_name == 'listings_full.csv':\n",
    "            #Read Listings\n",
    "            listings_full = pd.read_csv(file_loc).drop(columns=['Unnamed: 0'])\n",
    "            \n",
    "        elif file_name == 'reviews_full.csv':\n",
    "            #Read Reviews\n",
    "            reviews_full = pd.read_csv(file_loc).drop(columns=['Unnamed: 0'])\n",
    "            \n",
    "        elif file_name == 'calendar_full.csv':\n",
    "            #Read Calendar\n",
    "            calendar_full = pd.read_csv(file_loc).drop(columns=['Unnamed: 0'])\n",
    "            \n",
    "    return [listings_full, reviews_full, calendar_full]"
   ]
  },
  {
   "cell_type": "markdown",
   "metadata": {},
   "source": [
    "## Load Data"
   ]
  },
  {
   "cell_type": "code",
   "execution_count": 5,
   "metadata": {},
   "outputs": [],
   "source": [
    "# \n",
    "listings_sf = pd.read_csv('../sf/listings_detailed.csv')"
   ]
  },
  {
   "cell_type": "code",
   "execution_count": 6,
   "metadata": {},
   "outputs": [],
   "source": [
    "def clean_listing_full(listing_full_data):\n",
    "    \"\"\"Cleans listing_full.csv data\"\"\"\n",
    "    # Input Data\n",
    "    df = listing_full_data\n",
    "    \n",
    "    # String to Datetime\n",
    "    df['last_scraped'] = pd.to_datetime(df['last_scraped'])\n",
    "    df['host_since'] = pd.to_datetime(df['host_since'])\n",
    "    df['calendar_last_scraped'] = pd.to_datetime(df['calendar_last_scraped'])\n",
    "    df['first_review'] = pd.to_datetime(df['first_review'])\n",
    "    df['last_review'] = pd.to_datetime(df['last_review'])\n",
    "    \n",
    "    # String to Numeric\n",
    "    df['host_response_rate'] = pd.to_numeric(df['host_response_rate'].str[:-1]) / 100\n",
    "    df['price'] = pd.to_numeric(df['price'].str[1:].str.replace(',',''))\n",
    "    df['weekly_price'] = pd.to_numeric(df['weekly_price'].str[1:].str.replace(',',''))\n",
    "    df['monthly_price'] = pd.to_numeric(df['monthly_price'].str[1:].str.replace(',',''))\n",
    "    df['security_deposit'] = pd.to_numeric(df['security_deposit'].str[1:].str.replace(',',''))\n",
    "    df['cleaning_fee'] = pd.to_numeric(df['cleaning_fee'].str[1:].str.replace(',',''))\n",
    "    df['extra_people'] = pd.to_numeric(df['extra_people'].str[1:].str.replace(',',''))\n",
    "\n",
    "    # t/f to Numeric\n",
    "    df['host_is_superhost'] = (df['host_is_superhost'] == \"t\").astype(int)\n",
    "    df['host_has_profile_pic'] = (df['host_has_profile_pic'] == \"t\").astype(int)\n",
    "    df['host_identity_verified'] = (df['host_identity_verified'] == \"t\").astype(int)\n",
    "    df['is_location_exact'] = (df['is_location_exact'] == \"t\").astype(int)\n",
    "    df['has_availability'] = (df['has_availability'] == \"t\").astype(int)\n",
    "    df['requires_license'] = (df['requires_license'] == \"t\").astype(int)\n",
    "    df['instant_bookable'] = (df['instant_bookable'] == \"t\").astype(int)\n",
    "    df['is_business_travel_ready'] = (df['is_business_travel_ready'] == \"t\").astype(int)\n",
    "    df['require_guest_profile_picture'] = (df['require_guest_profile_picture'] == \"t\").astype(int)\n",
    "    df['require_guest_phone_verification'] = (df['require_guest_phone_verification'] == \"t\").astype(int)\n",
    "    \n",
    "    return df"
   ]
  },
  {
   "cell_type": "code",
   "execution_count": 7,
   "metadata": {},
   "outputs": [],
   "source": [
    "# Clean Listing SF\n",
    "clean_listings_sf = clean_listing_full(listings_sf)"
   ]
  },
  {
   "cell_type": "code",
   "execution_count": 8,
   "metadata": {},
   "outputs": [],
   "source": [
    "listings_detailed = clean_listings_sf.copy()\n",
    "\n",
    "ID = list(listings_detailed.iloc[:,:2].columns)\n",
    "\n",
    "ABOUT_COLS = list(listings_detailed.iloc[:,3:15].columns)\n",
    "\n",
    "PICS_COLS = list(listings_detailed.iloc[:,15:19].columns)\n",
    "\n",
    "HOST_COLS = list(listings_detailed.columns[listings_detailed.columns.str.contains('host')])\n",
    "\n",
    "NEIGHBORHOOD_COLS = list(listings_detailed.columns[listings_detailed.columns.str.contains('neighbourhood')])\n",
    "\n",
    "LOCATION_COLS = list(listings_detailed.iloc[:,37:51].columns)\n",
    "\n",
    "PROPERTY_COLS = list(listings_detailed.iloc[:,51:60].columns)\n",
    "\n",
    "PRICE_COLS = list(listings_detailed.iloc[:,60:67].columns)\n",
    "\n",
    "NIGHTS_COLS = list(listings_detailed.columns[listings_detailed.columns.str.contains('mum')])\n",
    "\n",
    "AVAILABILITY_COLS = list(listings_detailed.columns[listings_detailed.columns.str.contains('availability')])\n",
    "\n",
    "REVIEW_COLS = list(listings_detailed.columns[listings_detailed.columns.str.contains('review')])\n",
    "\n",
    "SCRAPING_COLS = ['scrape_id','calendar_updated','calendar_last_scraped']\n",
    "\n",
    "ELSE_COLS = ['requires_license', 'license', 'jurisdiction_names', 'instant_bookable',\\\n",
    "             'is_business_travel_ready', 'cancellation_policy', 'require_guest_profile_picture',\\\n",
    "             'require_guest_phone_verification']"
   ]
  },
  {
   "cell_type": "markdown",
   "metadata": {},
   "source": [
    "## Neighborhood Info"
   ]
  },
  {
   "cell_type": "code",
   "execution_count": 9,
   "metadata": {},
   "outputs": [],
   "source": [
    "neighborhood_info = clean_listings_sf[ID + NEIGHBORHOOD_COLS + ABOUT_COLS]"
   ]
  },
  {
   "cell_type": "code",
   "execution_count": 10,
   "metadata": {},
   "outputs": [
    {
     "name": "stdout",
     "output_type": "stream",
     "text": [
      "<class 'pandas.core.frame.DataFrame'>\n",
      "RangeIndex: 7198 entries, 0 to 7197\n",
      "Data columns (total 18 columns):\n",
      "id                              7198 non-null int64\n",
      "listing_url                     7198 non-null object\n",
      "host_neighbourhood              6559 non-null object\n",
      "neighbourhood                   6660 non-null object\n",
      "neighbourhood_cleansed          7198 non-null object\n",
      "neighbourhood_group_cleansed    0 non-null float64\n",
      "last_scraped                    7198 non-null datetime64[ns]\n",
      "name                            7198 non-null object\n",
      "summary                         7000 non-null object\n",
      "space                           6109 non-null object\n",
      "description                     7183 non-null object\n",
      "experiences_offered             7198 non-null object\n",
      "neighborhood_overview           5310 non-null object\n",
      "notes                           4486 non-null object\n",
      "transit                         5238 non-null object\n",
      "access                          4794 non-null object\n",
      "interaction                     4931 non-null object\n",
      "house_rules                     5307 non-null object\n",
      "dtypes: datetime64[ns](1), float64(1), int64(1), object(15)\n",
      "memory usage: 1012.3+ KB\n"
     ]
    }
   ],
   "source": [
    "neighborhood_info.info()"
   ]
  },
  {
   "cell_type": "code",
   "execution_count": 11,
   "metadata": {},
   "outputs": [],
   "source": [
    "# \n",
    "neighborhood_overviews = neighborhood_info[['id','neighbourhood_cleansed','neighborhood_overview']].dropna()"
   ]
  },
  {
   "cell_type": "markdown",
   "metadata": {},
   "source": [
    "## Clean & Tokenize Overview Text"
   ]
  },
  {
   "cell_type": "code",
   "execution_count": 12,
   "metadata": {},
   "outputs": [],
   "source": [
    "import nltk\n",
    "from nltk.corpus import stopwords\n",
    "from nltk.stem import WordNetLemmatizer\n",
    "import string\n",
    "import re\n",
    "\n",
    "# Initialize Lemmatizer\n",
    "lemmatizer = WordNetLemmatizer()\n",
    "\n",
    "# Get Stopwords\n",
    "stop_words = set(stopwords.words('english'))\n",
    "\n",
    "# Get Puncuations\n",
    "punctuations = set(string.punctuation)\n",
    "\n",
    "def clean_text(doc):\n",
    "    \n",
    "    # remove all ascii\n",
    "    doc = re.sub(r'[^\\x00-\\x7F]+',' ', doc)\n",
    "\n",
    "    # Tokenize, Lemmatize, and Remove Stopwords\n",
    "    tokens = [lemmatizer.lemmatize(word).lower() for word in nltk.word_tokenize(doc) if word.lower() not in set(stop_words | punctuations)]\n",
    "    \n",
    "    return tokens"
   ]
  },
  {
   "cell_type": "code",
   "execution_count": 13,
   "metadata": {},
   "outputs": [],
   "source": [
    "# Clean & Tokenize Overviews\n",
    "neighborhood_overviews['tokens'] = neighborhood_overviews['neighborhood_overview'].apply(clean_text)"
   ]
  },
  {
   "cell_type": "code",
   "execution_count": 14,
   "metadata": {},
   "outputs": [],
   "source": [
    "neighborhood_overviews['clean_overviews'] = neighborhood_overviews['tokens'].map(lambda x: ' '.join(x))"
   ]
  },
  {
   "cell_type": "markdown",
   "metadata": {},
   "source": [
    "## Get POS"
   ]
  },
  {
   "cell_type": "code",
   "execution_count": 34,
   "metadata": {},
   "outputs": [],
   "source": [
    "def get_pos_sentences(data):\n",
    "    # Tokenize each sentence into words: token_sentences\n",
    "    token_sentences = [nltk.word_tokenize(re.sub(r'[^\\x00-\\x7F]+',' ', sent)) for sent in data]\n",
    "\n",
    "    # Tag each tokenized sentence into parts of speech: pos_sentences\n",
    "    pos_sentences = [nltk.pos_tag(sent) for sent in token_sentences]\n",
    "    return pos_sentences"
   ]
  },
  {
   "cell_type": "code",
   "execution_count": 71,
   "metadata": {},
   "outputs": [],
   "source": [
    "# Initialize TextExtraction with DS Skills Listing\n",
    "pos_overviews_neighborhood = get_pos_sentences(neighborhood_overviews['neighborhood_overview'])"
   ]
  },
  {
   "cell_type": "markdown",
   "metadata": {},
   "source": [
    "### NER"
   ]
  },
  {
   "cell_type": "code",
   "execution_count": 72,
   "metadata": {},
   "outputs": [],
   "source": [
    "def get_name_entities(pos_sentences):\n",
    "    \"\"\"Return Name Entities List\"\"\"\n",
    "    # Create the named entity chunks: chunked_sentences\n",
    "    chunked_sentences = nltk.ne_chunk_sents(pos_sentences, binary=True)\n",
    "        \n",
    "    # Chunk List per Listing\n",
    "    listing_chunk_list = []\n",
    "\n",
    "    # Test for stems of the tree with 'NE' tags\n",
    "    for sent in chunked_sentences:\n",
    "        chunks_list = []\n",
    "        for chunk in sent:\n",
    "            if hasattr(chunk, \"label\") and chunk.label() == \"NE\":\n",
    "                chunks_list.append(chunk.leaves())\n",
    "\n",
    "        #Append List of Chunks\n",
    "        listing_chunk_list.append(chunks_list)\n",
    "        \n",
    "    # Chunks to List of Words\n",
    "    listing_name_entity_list = [[' '.join([word[0] for word in chunk]) for chunk in chunk_list] for chunk_list in listing_chunk_list]\n",
    "                \n",
    "    return listing_name_entity_list"
   ]
  },
  {
   "cell_type": "code",
   "execution_count": 73,
   "metadata": {},
   "outputs": [],
   "source": [
    "ner_overviews_neighborhood = get_name_entities(pos_overviews_neighborhood)"
   ]
  },
  {
   "cell_type": "code",
   "execution_count": 74,
   "metadata": {},
   "outputs": [],
   "source": [
    "neighborhood_overviews = neighborhood_overviews.reset_index(drop=True)"
   ]
  },
  {
   "cell_type": "code",
   "execution_count": 75,
   "metadata": {},
   "outputs": [],
   "source": [
    "neighborhood_overviews['name_entities'] = pd.Series(ner_overviews_neighborhood)"
   ]
  },
  {
   "cell_type": "markdown",
   "metadata": {},
   "source": [
    "# Topic Modeling"
   ]
  },
  {
   "cell_type": "code",
   "execution_count": 76,
   "metadata": {},
   "outputs": [],
   "source": [
    "token_texts = list(neighborhood_overviews['name_entities'].values)"
   ]
  },
  {
   "cell_type": "code",
   "execution_count": 77,
   "metadata": {},
   "outputs": [],
   "source": [
    "from gensim.corpora.dictionary import Dictionary\n",
    "\n",
    "# Create a corpus from a list of texts\n",
    "common_dictionary = Dictionary(token_texts)\n",
    "common_corpus = [common_dictionary.doc2bow(text) for text in token_texts]"
   ]
  },
  {
   "cell_type": "code",
   "execution_count": 78,
   "metadata": {},
   "outputs": [],
   "source": [
    "from gensim.models.ldamulticore import LdaMulticore\n",
    "import time\n",
    "ldam = LdaMulticore\n",
    "\n",
    "num_topics = 50\n",
    "num_words = 10\n",
    "passes = 50\n",
    "\n",
    "# Get Start Time\n",
    "start_time = time.time()\n",
    "\n",
    "# LDA Model\n",
    "ldam_model = ldam(common_corpus, num_topics=num_topics, id2word=common_dictionary, passes=passes)\n",
    "model_end_time = time.time() # Model End Time\n",
    "\n",
    "# LDA Results\n",
    "results = ldam_model.print_topics(num_topics=num_topics, num_words=num_words)\n",
    "result_time = time.time() # Results Time"
   ]
  },
  {
   "cell_type": "code",
   "execution_count": 79,
   "metadata": {},
   "outputs": [],
   "source": [
    "ldam_model.save('../models/ldam_neighborhood_overviews_50topics_10words_50passes_ner.model')"
   ]
  },
  {
   "cell_type": "code",
   "execution_count": 80,
   "metadata": {},
   "outputs": [],
   "source": [
    "def display_results(results):\n",
    "    for index, results in results:\n",
    "        print(str(index) + ': ' + str(', '.join(results.split('\"')[1::2])))"
   ]
  },
  {
   "cell_type": "code",
   "execution_count": 81,
   "metadata": {},
   "outputs": [
    {
     "name": "stdout",
     "output_type": "stream",
     "text": [
      "0: Cole Valley, Golden Gate Park, Haight Ashbury, Haight Street, San Francisco, Zazie, Downtown SF, Cole, Whole Foods, Ocean Beach\n",
      "1: Farmer, Cole Street, United States, Please, San Francisco, Mission District, Bay Area, Bernal Heights Hill, Downtown, Glen Park Station\n",
      "2: West Portal, Muni, Lake Merced, Castro Street, SF Zoo, Dolores Park, San Francisco, Stonestown Galleria, Trick Dog, Davidson\n",
      "3: Safeway, Walgreens, Opera House, City Hall, Davies Symphony Hall, Hotel, Asian Art Museum, Trader Joe, Beautiful, Muni\n",
      "4: Mission District, San Francisco, Dolores Park, Valencia, Dolores, BART, Mission Dolores, Downtown, Valencia Corridor, SF\n",
      "5: Tenderloin, Brenda, Ferry Building, West Field Shopping Center, Bourbon, Branch, French Soul Food, Borobudur, Indonesian, Noe\n",
      "6: Bernal Heights, Bernal Hill, San Francisco, Bernal, Cortland Avenue, Mission District, Cortland, Bernal Heights Park, Mission, Cortland Ave\n",
      "7: URL, Philz, Yerba Buena, SoMa, PHONE, San Francisco, Giants, Hip, SF MOMA, Russian Hill\n",
      "8: SOMA, Moscone Center, San Francisco, Caltrain, Hayes Valley, Civic Center, Moscone, Union Square, Whole Foods, Modern Art\n",
      "9: Polk Street, Irish, LGBT, US, Folsom, Alemany, San Francisco Zoo, San Francisco, BiRite, GG Park\n",
      "10: Airbnb, Pacific Heights, Fillmore, San Francisco, Japantown, Website, Lower Pacific Heights, Fillmore Street, Fillmore District, Golden Gate Bridge\n",
      "11: Nob Hill, San Francisco, Park, Cable, Van Ness, Grace Cathedral, California, Swan Oyster Depot, Tommy, Westfield San Francisco Centre\n",
      "12: Civic Center, Alta Plaza, Fisherman, Pacific Heights, San Francisco, Ashbury, Filmore Street, Hayes Street, Hayes Valley, Design District\n",
      "13: San Francisco, Market Street, Transamerica Pyramid, Union Square, North Beach, Coit Tower, Westfield San Francisco Centre, Ferry Building, Battery, Coqueta\n",
      "14: Ocean Beach, Golden Gate Park, Alamo Square Park, Divisadero, Cliff House, Parkside, Full House, Lands End, Noriega, Taraval\n",
      "15: San Francisco, Sunset District, Irving, Bayview, Salumeria, Flour, Neighborhood, Trick Bar, Ecuadorian, Guatemalan\n",
      "16: Glen Park, BART, San Francisco, Mission, Noe Valley, SFO, Glen Canyon Park, Edwardian, Mission Terrace, Balboa Park\n",
      "17: Neighborhood, Upper Haight, Irving Street, Haight St, Safeway, HAIGHT, Judah Street, Haight Ashbury, SF, Bay Area\n",
      "18: MUNI, San Francisco, Dolores Park, Tartine, Valencia St, Garfield Square, South Park, SoMa, Polk, Vallejo\n",
      "19: Russian, San Francisco, Ocean, Excelsior, Hill, Mission Street, McLaren, Balmy Alley, San Franciscan, Bay\n",
      "20: Alcatraz, San Francisco, Golden Gate Bridge, Wharf, Marin County, Fisherman, Muir Woods, Donatello, Union Square, Italian\n",
      "21: Golden Gate, Alamo Square, Hayes Valley, Painted Ladies, Haight Ashbury, Golden Gate Park, Panhandle, Divisadero, San Francisco, Haight Street\n",
      "22: Union Square, Embarcadero, San Francisco, Ferry Building, Rincon Hill, Westfield San Francisco Centre, Financial District, Crocker Galleria, Transbay Station, Waterbar\n",
      "23: San Francisco, Mission Bay, South Bay, Philz Coffee, Westfield Mall, Marlowe, Caltrain Station, Chase Center, North Terminus, Caltrain\n",
      "24: Golden Gate Park, Sunset, Pacific Ocean, San Francisco, Ocean Beach, Richmond, Golden Gate Bridge, Nob Hill, Chinatown, San Francisco Zoo\n",
      "25: North Beach, Fisherman, Chinatown, San Francisco, Union Square, Coit Tower, Lombard Street, Telegraph Hill, Italian, Ghirardelli Square\n",
      "26: Castro, Noe Valley, San Francisco, Dolores Park, Whole Foods, Duboce Triangle, Duboce Park, Mission, Hayes Valley, Lower Haight\n",
      "27: Market, South, San Francisco, Market Street, Westfield San Francisco Centre, SoMA, Moscone Conference Center, Civic Center Metro Station, Dottie, Chieftain Authentic Irish Pub\n",
      "28: Bay Area, Whole Foods, Ingleside, Ocean Ave, San Francisco, Sutro Heights, Noriega, Judah, Ocean Avenue, Devil\n",
      "29: America, North, City Lights Bookstore, North Beach, Vesuvio, West, South, East, Golden Gate, Twin Peaks\n",
      "30: Golden Gate Bridge, San Francisco, Marina, Chestnut Street, Marina Green, Fort Mason, Fisherman, Marina District, Fine Arts, Palace\n",
      "31: San Francisco, Target, SF, Trader Joe, Haight, San Francisco State University, McDonald, San Franciscans, Starbucks, City College\n",
      "32: Bart, Easy, San Francisco, Fisherman, BART, SF Giants, BART Station, WORLDMARK, MOSCONI, Mexican\n",
      "33: Great, Union Square, Nieman Marcus, Rotunda Restaurant, Lunch, San Francisco, Aperto, Vermont, Italian, Golden Gate\n",
      "34: Potrero Hill, SoMa, San Francisco, San Francisco Giants, Don, South Market, San Francisco Modern Museum, Civic Center Station, San Francisco Bay, Whole Foods\n",
      "35: WorldMark San Francisco, San Francisco, Union Square, Chinatown, Nob Hill, Downtown San Francisco, Golden Gate Park, New York, Ghirardelli Square, Maritime Museum\n",
      "36: Dolores Street, San Francisco, Dolores Park, Bay Bridge, Enjoy, Modern Art, Golden Gate Bridge, Powell, Golden Gate Park, San Francisco Bay Area\n",
      "37: San Francisco, California, Valencia Street, Lazy Bear, Dolores Park, Flea Market, Bay, Japan Town, America, Redfin\n",
      "38: Chinese, Italian, Mexican, Thai, Japanese, French, Indian, American, Vietnamese, Korean\n",
      "39: San Francisco, Pacific, NOT, Laurel Village, Ocean Beach, SF, Tennis, CEO, Alemany Farmer, San Francisco International Airport\n",
      "40: Potrero Hill, Plow, Union, San Francisco, Farley, Baker Beach, Golden Gate Bridge, Pera, Goat Hill Pizza, Chez Maman\n",
      "41: San Francisco, Haight, Hayes Valley, Victorian, Golden Gate Park, City, Buena Vista Park, Panhandle, Love, Burmese\n",
      "42: San Francisco, Castro District, Sacramento, Bayview District, Greek, Daly City, San Mateo County, Taqueria, West Portal Avenue, San Francisco Opera\n",
      "43: Quiet, Whole, Tartine Bakery, Latin, Divisadero Corridor, Lincoln Park, Moki, Sutro Tower, Moscone Convention Center, Easy\n",
      "44: Diamond Heights, Glen Park Canyon, Twin Peaks, San Francisco, SF, Paradise, Walker, City, UCSF, West Portal\n",
      "45: Dogpatch, San Francisco, Duboce Triangle, Silicon Valley, University, Mission Bay, California San Francisco, China Basin, Potrero, Duboce Park\n",
      "46: NOPA, Bayview, San Francisco, Golden Gate Park, Alamo Square, Corona Heights, Painted Ladies, Bar Crudo, Alamo Square Park, Lower Haight\n",
      "47: McLaren Park, Portola, John, San Bruno, Asian, San Francisco, Excelsior, Golden, Blue Bottle, Hayes Valley\n",
      "48: Golden Gate Park, Inner Sunset, California Academy, Ocean Beach, Japanese Tea Garden, San Francisco, Flowers, Sciences, UCSF, Academy of Sciences\n",
      "49: Twin Peaks, San Francisco, Golden Gate Park, Inner Richmond, Golden Gate Bridge, Richmond District, Glen Canyon, Napa, East Bay, AirBnB\n"
     ]
    }
   ],
   "source": [
    "display_results(results)"
   ]
  },
  {
   "cell_type": "code",
   "execution_count": 88,
   "metadata": {},
   "outputs": [],
   "source": [
    "def display_results_no_duplicates(results):\n",
    "    all_lists = []\n",
    "    for index, result in results:\n",
    "        all_lists = all_lists + result.split('\"')[1::2]\n",
    "    \n",
    "    # Get Counts of each word\n",
    "    counts = pd.Series(all_lists).value_counts()\n",
    "    no_duplicates = counts[counts == 1].index\n",
    "    \n",
    "    for index, result in results:\n",
    "        print(str(index) + ': ' + str(', '.join([word for word in result.split('\"')[1::2] if word in no_duplicates])))"
   ]
  },
  {
   "cell_type": "code",
   "execution_count": 89,
   "metadata": {},
   "outputs": [
    {
     "name": "stdout",
     "output_type": "stream",
     "text": [
      "0: Cole Valley, Zazie, Downtown SF, Cole\n",
      "1: Farmer, Cole Street, United States, Please, Bernal Heights Hill, Glen Park Station\n",
      "2: Lake Merced, Castro Street, SF Zoo, Stonestown Galleria, Trick Dog, Davidson\n",
      "3: Walgreens, Opera House, City Hall, Davies Symphony Hall, Hotel, Asian Art Museum, Beautiful\n",
      "4: Valencia, Dolores, Mission Dolores, Valencia Corridor\n",
      "5: Tenderloin, Brenda, West Field Shopping Center, Bourbon, Branch, French Soul Food, Borobudur, Indonesian, Noe\n",
      "6: Bernal Heights, Bernal Hill, Bernal, Cortland Avenue, Cortland, Bernal Heights Park, Cortland Ave\n",
      "7: URL, Philz, Yerba Buena, PHONE, Giants, Hip, SF MOMA, Russian Hill\n",
      "8: SOMA, Moscone Center, Moscone\n",
      "9: Polk Street, Irish, LGBT, US, Folsom, Alemany, BiRite, GG Park\n",
      "10: Airbnb, Fillmore, Japantown, Website, Lower Pacific Heights, Fillmore Street, Fillmore District\n",
      "11: Park, Cable, Van Ness, Grace Cathedral, Swan Oyster Depot, Tommy\n",
      "12: Alta Plaza, Ashbury, Filmore Street, Hayes Street, Design District\n",
      "13: Transamerica Pyramid, Battery, Coqueta\n",
      "14: Cliff House, Parkside, Full House, Lands End, Taraval\n",
      "15: Sunset District, Irving, Salumeria, Flour, Trick Bar, Ecuadorian, Guatemalan\n",
      "16: Glen Park, SFO, Glen Canyon Park, Edwardian, Mission Terrace, Balboa Park\n",
      "17: Upper Haight, Irving Street, Haight St, HAIGHT, Judah Street\n",
      "18: MUNI, Tartine, Valencia St, Garfield Square, South Park, Polk, Vallejo\n",
      "19: Russian, Ocean, Hill, Mission Street, McLaren, Balmy Alley, San Franciscan\n",
      "20: Alcatraz, Wharf, Marin County, Muir Woods, Donatello\n",
      "21: \n",
      "22: Embarcadero, Rincon Hill, Financial District, Crocker Galleria, Transbay Station, Waterbar\n",
      "23: South Bay, Philz Coffee, Westfield Mall, Marlowe, Caltrain Station, Chase Center, North Terminus\n",
      "24: Sunset, Pacific Ocean, Richmond\n",
      "25: Lombard Street, Telegraph Hill\n",
      "26: Castro\n",
      "27: Market, SoMA, Moscone Conference Center, Civic Center Metro Station, Dottie, Chieftain Authentic Irish Pub\n",
      "28: Ingleside, Ocean Ave, Sutro Heights, Judah, Ocean Avenue, Devil\n",
      "29: North, City Lights Bookstore, Vesuvio, West, East\n",
      "30: Marina, Chestnut Street, Marina Green, Fort Mason, Marina District, Fine Arts, Palace\n",
      "31: Target, San Francisco State University, McDonald, San Franciscans, Starbucks, City College\n",
      "32: Bart, SF Giants, BART Station, WORLDMARK, MOSCONI\n",
      "33: Great, Nieman Marcus, Rotunda Restaurant, Lunch, Aperto, Vermont\n",
      "34: San Francisco Giants, Don, South Market, San Francisco Modern Museum, Civic Center Station, San Francisco Bay\n",
      "35: WorldMark San Francisco, Downtown San Francisco, New York, Maritime Museum\n",
      "36: Dolores Street, Bay Bridge, Enjoy, Powell, San Francisco Bay Area\n",
      "37: Valencia Street, Lazy Bear, Flea Market, Japan Town, Redfin\n",
      "38: Chinese, Thai, Japanese, French, Indian, American, Vietnamese, Korean\n",
      "39: Pacific, NOT, Laurel Village, Tennis, CEO, Alemany Farmer, San Francisco International Airport\n",
      "40: Plow, Union, Farley, Baker Beach, Pera, Goat Hill Pizza, Chez Maman\n",
      "41: Victorian, Buena Vista Park, Love, Burmese\n",
      "42: Castro District, Sacramento, Bayview District, Greek, Daly City, San Mateo County, Taqueria, West Portal Avenue, San Francisco Opera\n",
      "43: Quiet, Whole, Tartine Bakery, Latin, Divisadero Corridor, Lincoln Park, Moki, Sutro Tower, Moscone Convention Center\n",
      "44: Diamond Heights, Glen Park Canyon, Paradise, Walker\n",
      "45: Dogpatch, Silicon Valley, University, California San Francisco, China Basin, Potrero\n",
      "46: NOPA, Corona Heights, Bar Crudo\n",
      "47: McLaren Park, Portola, John, San Bruno, Asian, Golden, Blue Bottle\n",
      "48: Inner Sunset, California Academy, Japanese Tea Garden, Flowers, Sciences, Academy of Sciences\n",
      "49: Inner Richmond, Richmond District, Glen Canyon, Napa, East Bay, AirBnB\n"
     ]
    }
   ],
   "source": [
    "display_results_no_duplicates(results)"
   ]
  },
  {
   "cell_type": "markdown",
   "metadata": {},
   "source": [
    "# By Neighborhood"
   ]
  },
  {
   "cell_type": "code",
   "execution_count": 82,
   "metadata": {},
   "outputs": [],
   "source": [
    "tokens_by_neighborhood = neighborhood_overviews.groupby('neighbourhood_cleansed')[['name_entities']].apply(sum)"
   ]
  },
  {
   "cell_type": "markdown",
   "metadata": {},
   "source": [
    "# Topic Modeling"
   ]
  },
  {
   "cell_type": "code",
   "execution_count": 83,
   "metadata": {},
   "outputs": [],
   "source": [
    "token_texts_by_neighborhood = list(tokens_by_neighborhood['name_entities'].values)"
   ]
  },
  {
   "cell_type": "code",
   "execution_count": 84,
   "metadata": {},
   "outputs": [],
   "source": [
    "from gensim.corpora.dictionary import Dictionary\n",
    "\n",
    "# Create a corpus from a list of texts\n",
    "common_dictionary_by_neighborhood = Dictionary(token_texts_by_neighborhood)\n",
    "common_corpus_by_neighborhood = [common_dictionary_by_neighborhood.doc2bow(text) for text in token_texts_by_neighborhood]"
   ]
  },
  {
   "cell_type": "code",
   "execution_count": 85,
   "metadata": {},
   "outputs": [],
   "source": [
    "from gensim.models.ldamulticore import LdaMulticore\n",
    "import time\n",
    "ldam = LdaMulticore\n",
    "\n",
    "num_topics = 50\n",
    "num_words = 10\n",
    "passes = 50\n",
    "\n",
    "# Get Start Time\n",
    "start_time = time.time()\n",
    "\n",
    "# LDA Model\n",
    "ldam_model_by_neighborhood = ldam(common_corpus_by_neighborhood, num_topics=num_topics, id2word=common_dictionary_by_neighborhood, passes=passes)\n",
    "model_end_time = time.time() # Model End Time\n",
    "\n",
    "# LDA Results\n",
    "results_by_neighborhood = ldam_model_by_neighborhood.print_topics(num_topics=num_topics, num_words=num_words)\n",
    "result_time = time.time() # Results Time"
   ]
  },
  {
   "cell_type": "code",
   "execution_count": 86,
   "metadata": {},
   "outputs": [],
   "source": [
    "ldam_model_by_neighborhood.save('../models/ldam_overview_by_neighborhood_50topics_10words_50passes_ner.model')"
   ]
  },
  {
   "cell_type": "code",
   "execution_count": 87,
   "metadata": {},
   "outputs": [
    {
     "name": "stdout",
     "output_type": "stream",
     "text": [
      "0: North Beach, San Francisco, Fisherman, Coit Tower, Chinatown, Lombard Street, Telegraph Hill, Russian, Italian, City Lights Bookstore\n",
      "1: San Francisco, Hayes Valley, Dolores Park, Mission District, Alamo Square, Mission, NOPA, Golden Gate Park, Castro, Haight\n",
      "2: San Francisco, Castro, Dolores Park, Noe Valley, Golden Gate Park, Mission District, Bernal Heights, Mission, Whole Foods, Haight\n",
      "3: San Francisco, Golden Gate Bridge, Marina, Pacific Heights, Fisherman, Chestnut Street, Marina Green, Fort Mason, Cow Hollow, Ghirardelli Square\n",
      "4: San Francisco, Hayes Valley, Victorian, NOPA, Golden Gate Park, Fillmore, Alamo Square, Haight, Divisadero, Castro\n",
      "5: San Francisco, Mission Street, Twin Peaks, Cow Palace, Golden Gate Bridge, Fisherman, Hewett, Convenient, Balboa Park, SFO\n",
      "6: San Francisco, Mission Bay, Westfield San Francisco Centre, Market, South, Moscone Conference Center, SoMa, Civic Center Metro Station, SoMA, Bayview\n",
      "7: San Francisco, Golden Gate Park, Ocean Beach, Hayes Valley, Golden Gate Bridge, Union Square, Haight, Sunset, NOPA, Castro\n",
      "8: San Francisco, Bayview, Silver Terrace, Dogpatch, Airbnb, Bayview District, Bernal Heights, Monk, Asian, Website\n",
      "9: San Francisco, Glen Park, Noe Valley, Golden Gate Park, BART, Ocean Beach, Castro, Mission, Italian, Dolores Park\n",
      "10: San Francisco, Golden Gate Park, Castro, Potrero Hill, Hayes Valley, Haight, Noe Valley, NOPA, Mission District, Cole Valley\n",
      "11: San Francisco, West Portal, Chinese, Lake Merced, Target, Ocean, San Francisco State University, Ocean Beach, Korean, Stern Grove\n",
      "12: San Francisco, Castro, Golden Gate Park, Ocean Beach, Dolores Park, Hayes Valley, Mission District, Noe Valley, Cliff House, Mission\n",
      "13: Golden Gate Park, San Francisco, Haight, Cole Valley, Buena Vista Park, Panhandle, Haight Ashbury, Upper Haight, Love, NOPA\n",
      "14: San Francisco, Bernal Heights, North Beach, Chinatown, Union Square, Mission District, Bernal Hill, Nob Hill, WorldMark San Francisco, Fisherman\n",
      "15: Noe Valley, San Francisco, Castro, Twin Peaks, Whole Foods, Dolores Park, Philz, Mission District, Glen Park, Diamond Heights\n",
      "16: San Francisco, Union Square, North Beach, Fisherman, Market, Chinatown, Nob Hill, Mission Bay, Civic Center Metro Station, South\n",
      "17: Noe Valley, San Francisco, Castro, Whole Foods, Dolores Park, Philz, Mission District, Italian, Diamond Heights, Twin Peaks\n",
      "18: San Francisco, Golden Gate Park, Union Square, Golden Gate Bridge, BART, Bernal Heights, Ocean Beach, Market, SoMA, Airbnb\n",
      "19: San Francisco, Golden Gate Park, Bernal Heights, Golden Gate Bridge, Ocean Beach, Sunset, Castro, Dolores Park, Fisherman, Mission District\n",
      "20: San Francisco, McLaren Park, San Bruno, Portola, Asian, Little Hollywood, Tiffany, Caltrain Station, Visitacion Valley, Muni\n",
      "21: Glen Park, San Francisco, BART, Excelsior, Mission, Glen Canyon Park, McLaren Park, Mission Street, SFO, Chinese\n",
      "22: San Francisco, Dolores Park, Mission District, Valencia, Mission, Valencia Street, BART, Castro, California, Mexican\n",
      "23: San Francisco, Golden Gate Park, Haight, Cole Valley, Haight Ashbury, Buena Vista Park, BART, Hayes Valley, Ocean Beach, Upper Haight\n",
      "24: Castro, San Francisco, Dolores Park, Noe Valley, Duboce Triangle, Corona Heights, SF, Duboce Park, Cole Valley, Castro District\n",
      "25: Golden Gate Park, San Francisco, Haight, Cole Valley, Market, Panhandle, Westfield San Francisco Centre, South, Haight Ashbury, NOPA\n",
      "26: San Francisco, Golden Gate Park, Mission District, Dolores Park, Valencia, BART, Mission, Union Square, Ocean Beach, Glen Park\n",
      "27: Laurel Heights, Golden Gate Park, Laurel Village, California Street, Sacramento Street, Presidio Heights, San Francisco, Kaiser Hospital, Clement, Clement Street\n",
      "28: San Francisco, Potrero Hill, Dolores Park, Valencia, Mission District, Mission, Castro, BART, SOMA, Dolores\n",
      "29: San Francisco, North Beach, Bernal Heights, Union Square, Fisherman, Chinatown, Golden Gate Park, Russian, Italian, Coit Tower\n",
      "30: Bernal Heights, San Francisco, Bernal Hill, Bernal, Cortland Avenue, Mission District, Cortland, Bernal Heights Park, Noe Valley, Glen Park\n",
      "31: San Francisco, Castro, Dolores Park, Noe Valley, McLaren Park, Mission, Mission District, Valencia, San Bruno, Mexican\n",
      "32: Union Square, Nob Hill, Chinatown, San Francisco, WorldMark San Francisco, North Beach, Golden Gate Park, New York, Bay Area Rapid Transit, Visit Fisherman\n",
      "33: San Francisco, Glen Park, Diamond Heights, Noe Valley, BART, Twin Peaks, MUNI, Castro, Diamond Heights Shopping Center, City\n",
      "34: Golden Gate Park, San Francisco, Hayes Valley, Ocean Beach, Golden Gate Bridge, Victorian, Alamo Square, Balboa, Pacific Ocean, Haight\n",
      "35: San Francisco, Bernal Heights, Bayview, Golden Gate Park, Bernal Hill, Mission District, Potrero Hill, BART, Bernal, Glen Park\n",
      "36: San Francisco, Golden Gate Park, Union Square, Chinatown, Golden Gate Bridge, Fisherman, North Beach, Inner Richmond, Mission District, Nob Hill\n",
      "37: Union Square, San Francisco, Tenderloin, Rotunda Restaurant, Lunch, Nob Hill, Nieman Marcus, Brenda, Bourbon, Ferry Building\n",
      "38: San Francisco, Golden Gate Park, Union Square, Haight, Hayes Valley, Cole Valley, Panhandle, NOPA, Victorian, Castro\n",
      "39: San Francisco, Hayes Valley, Union Square, Market, Mission Bay, Golden Gate Park, South, Victorian, SoMa, Mission District\n",
      "40: San Francisco, Golden Gate Park, Potrero Hill, North Beach, Golden Gate Bridge, Fisherman, Dogpatch, Union Square, Italian, French\n",
      "41: Union Square, San Francisco, Tenderloin, Nob Hill, Great, Lunch, Rotunda Restaurant, Nieman Marcus, Ferry Building, Fisherman\n",
      "42: San Francisco, Bernal Heights, Golden Gate Park, Mission District, Dolores Park, Castro, Valencia, Bernal Hill, Mission, Ocean Beach\n",
      "43: Golden Gate, Irish, Clement Street, Baker, San Francisco, Excelsior, Market, South, McLaren Park, Mission\n",
      "44: Golden Gate Park, San Francisco, Ocean Beach, Golden Gate Bridge, Sunset, Inner Richmond, Japanese Tea Garden, Pacific Ocean, Richmond, California Academy\n",
      "45: San Francisco, Hayes Valley, Golden Gate Park, NOPA, Alamo Square, Haight, Pacific Heights, Victorian, Fillmore, Alamo Square Park\n",
      "46: Pacific Heights, Fillmore, San Francisco, Fillmore Street, Golden Gate Bridge, Cow Hollow, Bay, Fisherman, Lafayette Park, Union Street\n",
      "47: San Francisco, Potrero Hill, Mission Bay, Market, SoMa, South, Westfield San Francisco Centre, SoMA, Moscone Conference Center, Civic Center Metro Station\n",
      "48: Golden Gate Park, Inner Sunset, San Francisco, UCSF, Cole Valley, Japanese Tea Garden, California Academy, DeYoung Museum, Sciences, West Portal\n",
      "49: San Francisco, Castro, Golden Gate Park, Dolores Park, Noe Valley, Cole Valley, Haight, Bernal Heights, Haight Ashbury, Panhandle\n"
     ]
    }
   ],
   "source": [
    "display_results(results_by_neighborhood)"
   ]
  },
  {
   "cell_type": "code",
   "execution_count": 90,
   "metadata": {},
   "outputs": [
    {
     "name": "stdout",
     "output_type": "stream",
     "text": [
      "0: Lombard Street, Telegraph Hill, City Lights Bookstore\n",
      "1: \n",
      "2: \n",
      "3: Marina, Chestnut Street, Marina Green, Fort Mason, Ghirardelli Square\n",
      "4: Divisadero\n",
      "5: Cow Palace, Hewett, Convenient, Balboa Park\n",
      "6: \n",
      "7: \n",
      "8: Silver Terrace, Bayview District, Monk, Website\n",
      "9: \n",
      "10: \n",
      "11: Lake Merced, Target, Ocean, San Francisco State University, Korean, Stern Grove\n",
      "12: Cliff House\n",
      "13: Love\n",
      "14: \n",
      "15: \n",
      "16: \n",
      "17: \n",
      "18: \n",
      "19: \n",
      "20: Portola, Little Hollywood, Tiffany, Caltrain Station, Visitacion Valley, Muni\n",
      "21: Glen Canyon Park\n",
      "22: Valencia Street, California\n",
      "23: \n",
      "24: Duboce Triangle, Corona Heights, SF, Duboce Park, Castro District\n",
      "25: \n",
      "26: \n",
      "27: Laurel Heights, Laurel Village, California Street, Sacramento Street, Presidio Heights, Kaiser Hospital, Clement\n",
      "28: SOMA, Dolores\n",
      "29: \n",
      "30: Cortland Avenue, Cortland, Bernal Heights Park\n",
      "31: \n",
      "32: New York, Bay Area Rapid Transit, Visit Fisherman\n",
      "33: MUNI, Diamond Heights Shopping Center, City\n",
      "34: Balboa\n",
      "35: \n",
      "36: \n",
      "37: Brenda, Bourbon\n",
      "38: \n",
      "39: \n",
      "40: French\n",
      "41: Great\n",
      "42: \n",
      "43: Golden Gate, Irish, Baker\n",
      "44: Richmond\n",
      "45: Alamo Square Park\n",
      "46: Fillmore Street, Bay, Lafayette Park, Union Street\n",
      "47: \n",
      "48: Inner Sunset, UCSF, DeYoung Museum, Sciences\n",
      "49: \n"
     ]
    }
   ],
   "source": [
    "display_results_no_duplicates(results_by_neighborhood)"
   ]
  },
  {
   "cell_type": "code",
   "execution_count": null,
   "metadata": {},
   "outputs": [],
   "source": []
  },
  {
   "cell_type": "code",
   "execution_count": null,
   "metadata": {},
   "outputs": [],
   "source": []
  },
  {
   "cell_type": "code",
   "execution_count": null,
   "metadata": {},
   "outputs": [],
   "source": []
  },
  {
   "cell_type": "code",
   "execution_count": null,
   "metadata": {},
   "outputs": [],
   "source": []
  },
  {
   "cell_type": "code",
   "execution_count": null,
   "metadata": {},
   "outputs": [],
   "source": []
  },
  {
   "cell_type": "code",
   "execution_count": null,
   "metadata": {},
   "outputs": [],
   "source": []
  },
  {
   "cell_type": "code",
   "execution_count": null,
   "metadata": {},
   "outputs": [],
   "source": []
  },
  {
   "cell_type": "code",
   "execution_count": null,
   "metadata": {},
   "outputs": [],
   "source": []
  }
 ],
 "metadata": {
  "kernelspec": {
   "display_name": "Python 3",
   "language": "python",
   "name": "python3"
  },
  "language_info": {
   "codemirror_mode": {
    "name": "ipython",
    "version": 2
   },
   "file_extension": ".py",
   "mimetype": "text/x-python",
   "name": "python",
   "nbconvert_exporter": "python",
   "pygments_lexer": "ipython2",
   "version": "2.7.3"
  }
 },
 "nbformat": 4,
 "nbformat_minor": 2
}
