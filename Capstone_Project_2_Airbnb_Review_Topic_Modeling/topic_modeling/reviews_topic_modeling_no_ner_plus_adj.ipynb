{
 "cells": [
  {
   "cell_type": "markdown",
   "metadata": {},
   "source": [
    "# AirBnB Reviews Topic Modelling: Non-Name Entities & Adjectives"
   ]
  },
  {
   "cell_type": "code",
   "execution_count": 5,
   "metadata": {},
   "outputs": [],
   "source": [
    "import pandas as pd\n",
    "import numpy as np\n",
    "import matplotlib.pyplot as plt\n",
    "import seaborn as sns; sns.set()"
   ]
  },
  {
   "cell_type": "markdown",
   "metadata": {},
   "source": [
    "## Load Data"
   ]
  },
  {
   "cell_type": "code",
   "execution_count": 3,
   "metadata": {},
   "outputs": [],
   "source": [
    "def load_review_data(directory):\n",
    "    \"\"\"Load Review Data\"\"\"\n",
    "    reviews_df = pd.read_csv(directory + 'interim/review_wrangled.csv', sep=';', lineterminator='\\n').drop(columns=['Unnamed: 0'])\n",
    "    \n",
    "    return reviews_df"
   ]
  },
  {
   "cell_type": "code",
   "execution_count": 2,
   "metadata": {},
   "outputs": [],
   "source": [
    "# Select City\n",
    "country = 'united-states'\n",
    "city = 'san-francisco'\n",
    "\n",
    "# Directory\n",
    "directory = '../data/' + country + '/' + city + '/'\n",
    "\n",
    "# Load Data\n",
    "reviews_df = load_review_data(directory)"
   ]
  },
  {
   "cell_type": "code",
   "execution_count": 4,
   "metadata": {},
   "outputs": [
    {
     "data": {
      "text/html": [
       "<div>\n",
       "<style scoped>\n",
       "    .dataframe tbody tr th:only-of-type {\n",
       "        vertical-align: middle;\n",
       "    }\n",
       "\n",
       "    .dataframe tbody tr th {\n",
       "        vertical-align: top;\n",
       "    }\n",
       "\n",
       "    .dataframe thead th {\n",
       "        text-align: right;\n",
       "    }\n",
       "</style>\n",
       "<table border=\"1\" class=\"dataframe\">\n",
       "  <thead>\n",
       "    <tr style=\"text-align: right;\">\n",
       "      <th></th>\n",
       "      <th>listing_id</th>\n",
       "      <th>id</th>\n",
       "      <th>date</th>\n",
       "      <th>comments</th>\n",
       "      <th>tokens</th>\n",
       "      <th>tokens_count</th>\n",
       "      <th>name_entities</th>\n",
       "      <th>name_entities_count</th>\n",
       "      <th>comments_no_ne</th>\n",
       "      <th>no_ne_tokens</th>\n",
       "      <th>no_ne_tokens_count</th>\n",
       "      <th>nouns</th>\n",
       "      <th>nouns_counts</th>\n",
       "      <th>verbs</th>\n",
       "      <th>verbs_counts</th>\n",
       "      <th>adjectives</th>\n",
       "      <th>adjectives_counts</th>\n",
       "    </tr>\n",
       "  </thead>\n",
       "  <tbody>\n",
       "    <tr>\n",
       "      <th>0</th>\n",
       "      <td>958</td>\n",
       "      <td>5977</td>\n",
       "      <td>2009-07-23</td>\n",
       "      <td>Our experience was, without a doubt, a five st...</td>\n",
       "      <td>[experience, without, doubt, five, star, exper...</td>\n",
       "      <td>47</td>\n",
       "      <td>[David, Haight, Castro, Golden Gate Park, Kare...</td>\n",
       "      <td>5</td>\n",
       "      <td>Our experience was, without a doubt, a five st...</td>\n",
       "      <td>[experience, without, doubt, five, star, exper...</td>\n",
       "      <td>39</td>\n",
       "      <td>[experience, doubt, star, experience, holly, h...</td>\n",
       "      <td>30</td>\n",
       "      <td>[be, be, accomodating, honor, be, charm, be, m...</td>\n",
       "      <td>10</td>\n",
       "      <td>[consummate, full, perfect, full, close, next]</td>\n",
       "      <td>6</td>\n",
       "    </tr>\n",
       "    <tr>\n",
       "      <th>1</th>\n",
       "      <td>958</td>\n",
       "      <td>6660</td>\n",
       "      <td>2009-08-03</td>\n",
       "      <td>Returning to San Francisco is a rejuvenating t...</td>\n",
       "      <td>[returning, san, francisco, rejuvenating, thri...</td>\n",
       "      <td>36</td>\n",
       "      <td>[San Francisco, Holly, David]</td>\n",
       "      <td>3</td>\n",
       "      <td>Returning to  is a rejuvenating thrill but thi...</td>\n",
       "      <td>[returning, rejuvenating, thrill, time, enhanc...</td>\n",
       "      <td>32</td>\n",
       "      <td>[san, francisco, rejuvenating, thrill, time, s...</td>\n",
       "      <td>19</td>\n",
       "      <td>[return, be, be, enhance, renovate, locate, ne...</td>\n",
       "      <td>14</td>\n",
       "      <td>[great, local, such, amenable]</td>\n",
       "      <td>4</td>\n",
       "    </tr>\n",
       "    <tr>\n",
       "      <th>2</th>\n",
       "      <td>958</td>\n",
       "      <td>11519</td>\n",
       "      <td>2009-09-27</td>\n",
       "      <td>We were very pleased with the accommodations a...</td>\n",
       "      <td>[pleased, accommodation, friendly, neighborhoo...</td>\n",
       "      <td>67</td>\n",
       "      <td>[David, Haight Street, Castro Street]</td>\n",
       "      <td>3</td>\n",
       "      <td>We were very pleased with the accommodations a...</td>\n",
       "      <td>[pleased, accommodation, friendly, neighborhoo...</td>\n",
       "      <td>62</td>\n",
       "      <td>[accommodation, neighborhood, bed, futon, couc...</td>\n",
       "      <td>41</td>\n",
       "      <td>[be, be, make, be, have, be, be, meet, be, wal...</td>\n",
       "      <td>21</td>\n",
       "      <td>[pleased, friendly, able, second, helpful, ful...</td>\n",
       "      <td>16</td>\n",
       "    </tr>\n",
       "  </tbody>\n",
       "</table>\n",
       "</div>"
      ],
      "text/plain": [
       "   listing_id     id        date  \\\n",
       "0         958   5977  2009-07-23   \n",
       "1         958   6660  2009-08-03   \n",
       "2         958  11519  2009-09-27   \n",
       "\n",
       "                                            comments  \\\n",
       "0  Our experience was, without a doubt, a five st...   \n",
       "1  Returning to San Francisco is a rejuvenating t...   \n",
       "2  We were very pleased with the accommodations a...   \n",
       "\n",
       "                                              tokens  tokens_count  \\\n",
       "0  [experience, without, doubt, five, star, exper...            47   \n",
       "1  [returning, san, francisco, rejuvenating, thri...            36   \n",
       "2  [pleased, accommodation, friendly, neighborhoo...            67   \n",
       "\n",
       "                                       name_entities  name_entities_count  \\\n",
       "0  [David, Haight, Castro, Golden Gate Park, Kare...                    5   \n",
       "1                      [San Francisco, Holly, David]                    3   \n",
       "2              [David, Haight Street, Castro Street]                    3   \n",
       "\n",
       "                                      comments_no_ne  \\\n",
       "0  Our experience was, without a doubt, a five st...   \n",
       "1  Returning to  is a rejuvenating thrill but thi...   \n",
       "2  We were very pleased with the accommodations a...   \n",
       "\n",
       "                                        no_ne_tokens  no_ne_tokens_count  \\\n",
       "0  [experience, without, doubt, five, star, exper...                  39   \n",
       "1  [returning, rejuvenating, thrill, time, enhanc...                  32   \n",
       "2  [pleased, accommodation, friendly, neighborhoo...                  62   \n",
       "\n",
       "                                               nouns  nouns_counts  \\\n",
       "0  [experience, doubt, star, experience, holly, h...            30   \n",
       "1  [san, francisco, rejuvenating, thrill, time, s...            19   \n",
       "2  [accommodation, neighborhood, bed, futon, couc...            41   \n",
       "\n",
       "                                               verbs  verbs_counts  \\\n",
       "0  [be, be, accomodating, honor, be, charm, be, m...            10   \n",
       "1  [return, be, be, enhance, renovate, locate, ne...            14   \n",
       "2  [be, be, make, be, have, be, be, meet, be, wal...            21   \n",
       "\n",
       "                                          adjectives  adjectives_counts  \n",
       "0     [consummate, full, perfect, full, close, next]                  6  \n",
       "1                     [great, local, such, amenable]                  4  \n",
       "2  [pleased, friendly, able, second, helpful, ful...                 16  "
      ]
     },
     "execution_count": 4,
     "metadata": {},
     "output_type": "execute_result"
    }
   ],
   "source": [
    "reviews_df.head(3)"
   ]
  },
  {
   "cell_type": "markdown",
   "metadata": {},
   "source": [
    "## Clean Data"
   ]
  },
  {
   "cell_type": "code",
   "execution_count": 3,
   "metadata": {},
   "outputs": [],
   "source": [
    "import ast\n",
    "\n",
    "reviews_df['tokens'] = reviews_df['tokens'].map(lambda x: ast.literal_eval(x))\n",
    "reviews_df['name_entities'] = reviews_df['name_entities'].map(lambda x: ast.literal_eval(x))\n",
    "reviews_df['no_ne_tokens'] = reviews_df['no_ne_tokens'].map(lambda x: ast.literal_eval(x))\n",
    "reviews_df['nouns'] = reviews_df['nouns'].map(lambda x: ast.literal_eval(x))\n",
    "reviews_df['verbs'] = reviews_df['verbs'].map(lambda x: ast.literal_eval(x))\n",
    "reviews_df['adjectives'] = reviews_df['adjectives'].map(lambda x: ast.literal_eval(x))"
   ]
  },
  {
   "cell_type": "markdown",
   "metadata": {},
   "source": [
    "# Combine Non-Name Entities and Adjectives"
   ]
  },
  {
   "cell_type": "code",
   "execution_count": 5,
   "metadata": {},
   "outputs": [],
   "source": [
    "# Add Non-Name Entities Tokens with Adjective Tokens\n",
    "reviews_df['non_name_entity_and_adj_tokens'] = reviews_df['no_ne_tokens'] + reviews_df['adjectives']\n",
    "\n",
    "# Count Non-Name Entities & Adjectives\n",
    "reviews_df['non_name_entity_and_adj_tokens_count'] = reviews_df['non_name_entity_and_adj_tokens'].map(lambda x: len(x))"
   ]
  },
  {
   "cell_type": "code",
   "execution_count": 7,
   "metadata": {},
   "outputs": [
    {
     "data": {
      "image/png": "[encoded data removed]",
      "text/plain": [
       "<Figure size 576x360 with 1 Axes>"
      ]
     },
     "metadata": {
      "needs_background": "light"
     },
     "output_type": "display_data"
    }
   ],
   "source": [
    "_ = plt.figure(figsize=(8,5))\n",
    "_ = reviews_df['non_name_entity_and_adj_tokens_count'].hist(bins=50)\n",
    "_ = plt.axvline(np.mean(np.mean(reviews_df['non_name_entity_and_adj_tokens_count'])), color='red')\n",
    "np.mean(reviews_df['non_name_entity_and_adj_tokens_count'])\n",
    "_ = plt.title('Non-Name Entity Plus Adjective Token Counts')"
   ]
  },
  {
   "cell_type": "markdown",
   "metadata": {},
   "source": [
    "# Topic Modelling: 10 Word Topics"
   ]
  },
  {
   "cell_type": "code",
   "execution_count": 8,
   "metadata": {},
   "outputs": [
    {
     "name": "stderr",
     "output_type": "stream",
     "text": [
      "/anaconda3/lib/python2.7/site-packages/cryptography/hazmat/primitives/constant_time.py:26: CryptographyDeprecationWarning: Support for your Python version is deprecated. The next version of cryptography will remove support. Please upgrade to a 2.7.x release that supports hmac.compare_digest as soon as possible.\n",
      "  utils.PersistentlyDeprecated2018,\n"
     ]
    }
   ],
   "source": [
    "from gensim.corpora.dictionary import Dictionary\n",
    "from gensim.models.ldamulticore import LdaMulticore\n",
    "import time\n",
    "\n",
    "num_topics = 50\n",
    "num_words = 10\n",
    "passes = 50\n",
    "\n",
    "\"\"\"Dictionary & Corpus\"\"\"\n",
    "# Get Tokens\n",
    "token_texts = list(reviews_df['non_name_entity_and_adj_tokens'].values)\n",
    "\n",
    "# Create a corpus from a list of texts\n",
    "common_dictionary = Dictionary(token_texts)\n",
    "common_corpus = [common_dictionary.doc2bow(text) for text in token_texts]\n",
    "\n",
    "\"\"\"LDA Model\"\"\"\n",
    "# Initialize LDA Model\n",
    "ldam = LdaMulticore\n",
    "\n",
    "# Get Start Time\n",
    "start_time = time.time()\n",
    "\n",
    "# LDA Model\n",
    "ldam_model = ldam(common_corpus, num_topics=num_topics, id2word=common_dictionary, passes=passes)\n",
    "model_end_time = time.time() # Model End Time\n",
    "\n",
    "# LDA Results\n",
    "results = ldam_model.print_topics(num_topics=num_topics, num_words=num_words)\n",
    "result_time = time.time() # Results Time"
   ]
  },
  {
   "cell_type": "code",
   "execution_count": 9,
   "metadata": {},
   "outputs": [
    {
     "data": {
      "text/plain": [
       "3.523243648343616"
      ]
     },
     "execution_count": 9,
     "metadata": {},
     "output_type": "execute_result"
    }
   ],
   "source": [
    "(model_end_time - start_time) / 60 / 60"
   ]
  },
  {
   "cell_type": "markdown",
   "metadata": {},
   "source": [
    "## Save Model"
   ]
  },
  {
   "cell_type": "code",
   "execution_count": 10,
   "metadata": {},
   "outputs": [],
   "source": [
    "ldam_model.save('../models/ldam_reviews_50topics_10words_50passes_no_ner_plus_adj.model')"
   ]
  },
  {
   "cell_type": "markdown",
   "metadata": {},
   "source": [
    "# Results"
   ]
  },
  {
   "cell_type": "code",
   "execution_count": 1,
   "metadata": {},
   "outputs": [],
   "source": [
    "def display_results(results):\n",
    "    for index, results in results:\n",
    "        print(str(index) + ': ' + str(', '.join(results.split('\"')[1::2])))\n",
    "        \n",
    "def display_results_no_duplicates(results):\n",
    "    all_lists = []\n",
    "    for index, result in results:\n",
    "        all_lists = all_lists + result.split('\"')[1::2]\n",
    "    \n",
    "    # Get Counts of each word\n",
    "    counts = pd.Series(all_lists).value_counts()\n",
    "    no_duplicates = counts[counts == 1].index\n",
    "    \n",
    "    for index, result in results:\n",
    "        print(str(index) + ': ' + str(', '.join([word for word in result.split('\"')[1::2] if word in no_duplicates])))"
   ]
  },
  {
   "cell_type": "markdown",
   "metadata": {},
   "source": [
    "### Topic Results"
   ]
  },
  {
   "cell_type": "code",
   "execution_count": 7,
   "metadata": {},
   "outputs": [
    {
     "name": "stdout",
     "output_type": "stream",
     "text": [
      "0: short, main, walk, cosy, handy, professional, brilliant, away, ride, attraction\n",
      "1: light, noise, bad, upstairs, noisy, loud, night, hear, bit, natural\n",
      "2: small, new, incredible, roomy, parent, unbeatable, mary, smart, solid, brand\n",
      "3: lovely, welcoming, warm, home, interesting, charming, host, open, house, inviting\n",
      "4: cool, whole, full, mission, fun, enough, place, district, really, house\n",
      "5: beautiful, wonderful, view, host, home, gorgeous, stay, gracious, house, city\n",
      "6: public, close, happy, transportation, accessible, transport, restaurant, calm, city, easily\n",
      "7: kitchen, bed, extra, comfy, room, bathroom, space, well, coffee, towel\n",
      "8: little, responsive, cozy, communicative, cheap, question, knowledgeable, space, host, spot\n",
      "9: und, die, ist, sehr, wir, war, der, mit, man, auch\n",
      "10: rent, i, wi-fi, och, var, till, dollar, med, det, som\n",
      "11: easy, check-in, check, access, get, made, communication, location, communicate, place\n",
      "12: attentive, muy, que, una, con, casa, para, un, est, n\n",
      "13: due, minor, third, understanding, ubicaci, actual, del, buena, limpio, cerca\n",
      "14: first, free, clear, experience, airbnb, real, possible, time, bnb, hidden\n",
      "15: private, suite, room, bathroom, entrance, own, pleased, bath, centro, com\n",
      "16: quiet, neighborhood, old, unique, single, reasonable, street, exceptional, beat, superb\n",
      "17: amazing, best, place, host, ever, one, view, airbnb, 've, stayed\n",
      "18: comfortable, clean, convenient, bed, room, stay, place, location, space, everything\n",
      "19: gave, provided, tip, simple, recommendation, fast, lot, information, suggestion, city\n",
      "20: good, location, better, place, value, stay, host, really, room, price\n",
      "21: excellent, fantastic, local, stylish, central, location, host, fabulous, prompt, outstanding\n",
      "22: much, back, stay, come, place, would, definitely, enjoyed, future, thank\n",
      "23: room, overall, bathroom, shared, fine, other, hot, guest, shower, hard\n",
      "24: wharf, pier, fisherman, 5-10, restaurants, um, fall, nett, ffentlichen, unkompliziert\n",
      "25: n't, could, place, get, everything, stay, more, time, need, enough\n",
      "26: awesome, listing, different, accurate, description, place, 10/10, urban, sad, picture\n",
      "27: great, place, stay, location, host, would, time, definitely, really, everything\n",
      "28: clean, recommend, would, spacious, place, stay, definitely, highly, modern, apartment\n",
      "29: residential, busy, ideal, complete, quaint, phenomenal, past, unexpected, area, everyday\n",
      "30: many, walking, distance, pleasant, within, restaurant, advertised, enjoyable, sunny, shop\n",
      "31: arrival, automated, day, reservation, upon, host, posting, canceled, per, met\n",
      "32: super, helpful, friendly, clean, cute, host, place, location, room, really\n",
      "33: last, flexible, second, minute, positive, least, time, accommodated, communal, accommodating\n",
      "34: next, early, late, time, sweet, check, favorite, adorable, even, dog\n",
      "35: perfect, place, location, stay, everything, trip, city, needed, business, space\n",
      "36: restaurant, right, nearby, shop, close, block, apartment, away, street, walk\n",
      "37: quick, available, able, question, hospitable, always, respond, quickly, responded, response\n",
      "38: ..., lit, active, faut, well-furnished, conforme, cause, toutes, max, prix\n",
      "39: safe, thoughtful, felt, neighborhood, detailed, secure, homey, apt, touch, solo\n",
      "40: flat, top, fresh, special, spotless, coffee, touch, wine, personal, snack\n",
      "41: parking, big, large, car, street, huge, rental, front, space, house\n",
      "42: community, share, valley, tasty, knowledge, noe, delight, independent, eager, diverse\n",
      "43: nice, clean, place, really, stay, room, house, host, neighborhood, everything\n",
      "44: downtown, long, bus, minute, close, walk, city, uber, get, away\n",
      "45: est, nous, pour, une, le, un, bien, quartier, dans, avec\n",
      "46: pretty, worth, affordable, price, hotel, steep, willing, respectful, decent, hostel\n",
      "47: peaceful, garden, relaxing, backyard, interior, design, tight, rare, shown, oasis\n",
      "48: home, sure, feel, made, welcome, make, like, felt, stay, entire\n",
      "49: high, basic, delicious, expectation, ocean, necessary, cottage, exceeded, quality, standard\n"
     ]
    }
   ],
   "source": [
    "display_results(results)"
   ]
  },
  {
   "cell_type": "code",
   "execution_count": 8,
   "metadata": {},
   "outputs": [
    {
     "name": "stdout",
     "output_type": "stream",
     "text": [
      "0: short, main, cosy, handy, professional, brilliant, ride, attraction\n",
      "1: light, noise, bad, upstairs, noisy, loud, night, hear, bit, natural\n",
      "2: small, new, incredible, roomy, parent, unbeatable, mary, smart, solid, brand\n",
      "3: lovely, welcoming, warm, interesting, charming, open, inviting\n",
      "4: cool, whole, full, mission, fun, district\n",
      "5: beautiful, wonderful, gorgeous, gracious\n",
      "6: public, happy, transportation, accessible, transport, calm, easily\n",
      "7: kitchen, extra, comfy, well, towel\n",
      "8: little, responsive, cozy, communicative, cheap, knowledgeable, spot\n",
      "9: und, die, ist, sehr, wir, war, der, mit, man, auch\n",
      "10: rent, i, wi-fi, och, var, till, dollar, med, det, som\n",
      "11: easy, check-in, access, communication, communicate\n",
      "12: attentive, muy, que, una, con, casa, para, n\n",
      "13: due, minor, third, understanding, ubicaci, actual, del, buena, limpio, cerca\n",
      "14: first, free, clear, experience, real, possible, bnb, hidden\n",
      "15: private, suite, entrance, own, pleased, bath, centro, com\n",
      "16: quiet, old, unique, single, reasonable, exceptional, beat, superb\n",
      "17: amazing, best, ever, one, 've, stayed\n",
      "18: comfortable, convenient\n",
      "19: gave, provided, tip, simple, recommendation, fast, lot, information, suggestion\n",
      "20: good, better, value\n",
      "21: excellent, fantastic, local, stylish, central, fabulous, prompt, outstanding\n",
      "22: much, back, come, enjoyed, future, thank\n",
      "23: overall, shared, fine, other, hot, guest, shower, hard\n",
      "24: wharf, pier, fisherman, 5-10, restaurants, um, fall, nett, ffentlichen, unkompliziert\n",
      "25: n't, could, more, need\n",
      "26: awesome, listing, different, accurate, description, 10/10, urban, sad, picture\n",
      "27: great\n",
      "28: recommend, spacious, highly, modern\n",
      "29: residential, busy, ideal, complete, quaint, phenomenal, past, unexpected, area, everyday\n",
      "30: many, walking, distance, pleasant, within, advertised, enjoyable, sunny\n",
      "31: arrival, automated, day, reservation, upon, posting, canceled, per, met\n",
      "32: super, helpful, friendly, cute\n",
      "33: last, flexible, second, positive, least, accommodated, communal, accommodating\n",
      "34: next, early, late, sweet, favorite, adorable, even, dog\n",
      "35: perfect, trip, needed, business\n",
      "36: right, nearby, block\n",
      "37: quick, available, able, hospitable, always, respond, quickly, responded, response\n",
      "38: ..., lit, active, faut, well-furnished, conforme, cause, toutes, max, prix\n",
      "39: safe, thoughtful, detailed, secure, homey, apt, solo\n",
      "40: flat, top, fresh, special, spotless, wine, personal, snack\n",
      "41: parking, big, large, car, huge, rental, front\n",
      "42: community, share, valley, tasty, knowledge, noe, delight, independent, eager, diverse\n",
      "43: nice\n",
      "44: downtown, long, bus, uber\n",
      "45: nous, pour, une, le, bien, quartier, dans, avec\n",
      "46: pretty, worth, affordable, hotel, steep, willing, respectful, decent, hostel\n",
      "47: peaceful, garden, relaxing, backyard, interior, design, tight, rare, shown, oasis\n",
      "48: sure, feel, welcome, make, like, entire\n",
      "49: high, basic, delicious, expectation, ocean, necessary, cottage, exceeded, quality, standard\n"
     ]
    }
   ],
   "source": [
    "display_results_no_duplicates(results)"
   ]
  }
 ],
 "metadata": {
  "kernelspec": {
   "display_name": "Python 3",
   "language": "python",
   "name": "python3"
  },
  "language_info": {
   "codemirror_mode": {
    "name": "ipython",
    "version": 2
   },
   "file_extension": ".py",
   "mimetype": "text/x-python",
   "name": "python",
   "nbconvert_exporter": "python",
   "pygments_lexer": "ipython2",
   "version": "2.7.3"
  }
 },
 "nbformat": 4,
 "nbformat_minor": 2
}
