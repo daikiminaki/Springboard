{
 "cells": [
  {
   "cell_type": "markdown",
   "metadata": {},
   "source": [
    "# AirBnB Reviews Topic Modelling: Adjectives"
   ]
  },
  {
   "cell_type": "code",
   "execution_count": 1,
   "metadata": {},
   "outputs": [],
   "source": [
    "import pandas as pd\n",
    "import matplotlib.pyplot as plt\n",
    "import numpy as np\n",
    "import seaborn as sns; sns.set()\n",
    "import glob as glob\n",
    "import csv"
   ]
  },
  {
   "cell_type": "code",
   "execution_count": 2,
   "metadata": {},
   "outputs": [],
   "source": [
    "with open('../sf/interim/final_reviews_sf.csv', 'r') as csvfile:\n",
    "    reviews_sf = csv.DictReader(csvfile)"
   ]
  },
  {
   "cell_type": "code",
   "execution_count": 3,
   "metadata": {},
   "outputs": [],
   "source": [
    "reviews_sf = pd.read_csv('../sf/interim/final_reviews_sf.csv', sep=';', lineterminator='\\n').drop(columns=['Unnamed: 0'])"
   ]
  },
  {
   "cell_type": "code",
   "execution_count": 4,
   "metadata": {},
   "outputs": [
    {
     "data": {
      "text/html": [
       "<div>\n",
       "<style scoped>\n",
       "    .dataframe tbody tr th:only-of-type {\n",
       "        vertical-align: middle;\n",
       "    }\n",
       "\n",
       "    .dataframe tbody tr th {\n",
       "        vertical-align: top;\n",
       "    }\n",
       "\n",
       "    .dataframe thead th {\n",
       "        text-align: right;\n",
       "    }\n",
       "</style>\n",
       "<table border=\"1\" class=\"dataframe\">\n",
       "  <thead>\n",
       "    <tr style=\"text-align: right;\">\n",
       "      <th></th>\n",
       "      <th>listing_id</th>\n",
       "      <th>neighborhood</th>\n",
       "      <th>comments</th>\n",
       "      <th>tokens</th>\n",
       "      <th>tokens_count</th>\n",
       "      <th>name_entities</th>\n",
       "      <th>name_entities_count</th>\n",
       "      <th>comments_no_ne</th>\n",
       "      <th>no_ne_tokens</th>\n",
       "      <th>no_ne_tokens_count</th>\n",
       "      <th>nouns</th>\n",
       "      <th>nouns_counts</th>\n",
       "      <th>verbs</th>\n",
       "      <th>verbs_counts</th>\n",
       "      <th>adjectives</th>\n",
       "      <th>adjectives_counts</th>\n",
       "    </tr>\n",
       "  </thead>\n",
       "  <tbody>\n",
       "    <tr>\n",
       "      <th>0</th>\n",
       "      <td>958</td>\n",
       "      <td>Western Addition</td>\n",
       "      <td>Our experience was, without a doubt, a five st...</td>\n",
       "      <td>['experience', 'without', 'doubt', 'five', 'st...</td>\n",
       "      <td>49</td>\n",
       "      <td>['David', 'Haight', 'Castro', 'Golden Gate Par...</td>\n",
       "      <td>5</td>\n",
       "      <td>Our experience was, without a doubt, a five st...</td>\n",
       "      <td>['experience', 'without', 'doubt', 'five', 'st...</td>\n",
       "      <td>41</td>\n",
       "      <td>['experience', 'doubt', 'star', 'experience', ...</td>\n",
       "      <td>30</td>\n",
       "      <td>[u'be', u'be', 'accomodating', u'honor', u'be'...</td>\n",
       "      <td>10</td>\n",
       "      <td>['consummate', 'full', 'perfect', 'full', 'clo...</td>\n",
       "      <td>6</td>\n",
       "    </tr>\n",
       "    <tr>\n",
       "      <th>1</th>\n",
       "      <td>958</td>\n",
       "      <td>Western Addition</td>\n",
       "      <td>Returning to San Francisco is a rejuvenating t...</td>\n",
       "      <td>['returning', 'san', 'francisco', 'rejuvenatin...</td>\n",
       "      <td>38</td>\n",
       "      <td>['San Francisco', 'Holly', 'David']</td>\n",
       "      <td>3</td>\n",
       "      <td>Returning to  is a rejuvenating thrill but thi...</td>\n",
       "      <td>['returning', 'rejuvenating', 'thrill', 'time'...</td>\n",
       "      <td>34</td>\n",
       "      <td>['san', 'francisco', 'rejuvenating', 'thrill',...</td>\n",
       "      <td>19</td>\n",
       "      <td>[u'return', u'be', u'be', u'enhance', u'renova...</td>\n",
       "      <td>14</td>\n",
       "      <td>['great', 'local', 'such', 'amenable']</td>\n",
       "      <td>4</td>\n",
       "    </tr>\n",
       "    <tr>\n",
       "      <th>2</th>\n",
       "      <td>958</td>\n",
       "      <td>Western Addition</td>\n",
       "      <td>We were very pleased with the accommodations a...</td>\n",
       "      <td>['pleased', u'accommodation', 'friendly', 'nei...</td>\n",
       "      <td>71</td>\n",
       "      <td>['David', 'Haight Street', 'Castro Street']</td>\n",
       "      <td>3</td>\n",
       "      <td>We were very pleased with the accommodations a...</td>\n",
       "      <td>['pleased', u'accommodation', 'friendly', 'nei...</td>\n",
       "      <td>66</td>\n",
       "      <td>[u'accommodation', 'neighborhood', 'bed', 'fut...</td>\n",
       "      <td>41</td>\n",
       "      <td>[u'be', u'be', 'make', u'be', u'have', u'be', ...</td>\n",
       "      <td>21</td>\n",
       "      <td>['pleased', 'friendly', 'able', 'second', 'hel...</td>\n",
       "      <td>16</td>\n",
       "    </tr>\n",
       "    <tr>\n",
       "      <th>3</th>\n",
       "      <td>958</td>\n",
       "      <td>Western Addition</td>\n",
       "      <td>We highly recommend this accomodation and agre...</td>\n",
       "      <td>['highly', 'recommend', 'accomodation', 'agree...</td>\n",
       "      <td>44</td>\n",
       "      <td>['David', 'Airbnb']</td>\n",
       "      <td>2</td>\n",
       "      <td>We highly recommend this accomodation and agre...</td>\n",
       "      <td>['highly', 'recommend', 'accomodation', 'agree...</td>\n",
       "      <td>42</td>\n",
       "      <td>['accomodation', 'agree', u'posting', 'holly',...</td>\n",
       "      <td>20</td>\n",
       "      <td>[u'be', u'be', u'be', u'furnish', 'dishwashing...</td>\n",
       "      <td>9</td>\n",
       "      <td>['previous', 'helpful', 'friendly', 'superb', ...</td>\n",
       "      <td>10</td>\n",
       "    </tr>\n",
       "    <tr>\n",
       "      <th>4</th>\n",
       "      <td>958</td>\n",
       "      <td>Western Addition</td>\n",
       "      <td>Holly's place was great. It was exactly what I...</td>\n",
       "      <td>['holly', \"'s\", 'place', 'great', 'exactly', '...</td>\n",
       "      <td>26</td>\n",
       "      <td>['Holly', 'San Francisco']</td>\n",
       "      <td>2</td>\n",
       "      <td>'s place was great. It was exactly what I need...</td>\n",
       "      <td>[\"'s\", 'place', 'great', 'exactly', 'needed', ...</td>\n",
       "      <td>23</td>\n",
       "      <td>['holly', 'place', 'perfect', 'location', 'cle...</td>\n",
       "      <td>10</td>\n",
       "      <td>[u'be', u'be', u'need', \"'s\", 'make']</td>\n",
       "      <td>5</td>\n",
       "      <td>['great', 'super', 'little', 'good']</td>\n",
       "      <td>4</td>\n",
       "    </tr>\n",
       "  </tbody>\n",
       "</table>\n",
       "</div>"
      ],
      "text/plain": [
       "   listing_id      neighborhood  \\\n",
       "0         958  Western Addition   \n",
       "1         958  Western Addition   \n",
       "2         958  Western Addition   \n",
       "3         958  Western Addition   \n",
       "4         958  Western Addition   \n",
       "\n",
       "                                            comments  \\\n",
       "0  Our experience was, without a doubt, a five st...   \n",
       "1  Returning to San Francisco is a rejuvenating t...   \n",
       "2  We were very pleased with the accommodations a...   \n",
       "3  We highly recommend this accomodation and agre...   \n",
       "4  Holly's place was great. It was exactly what I...   \n",
       "\n",
       "                                              tokens  tokens_count  \\\n",
       "0  ['experience', 'without', 'doubt', 'five', 'st...            49   \n",
       "1  ['returning', 'san', 'francisco', 'rejuvenatin...            38   \n",
       "2  ['pleased', u'accommodation', 'friendly', 'nei...            71   \n",
       "3  ['highly', 'recommend', 'accomodation', 'agree...            44   \n",
       "4  ['holly', \"'s\", 'place', 'great', 'exactly', '...            26   \n",
       "\n",
       "                                       name_entities  name_entities_count  \\\n",
       "0  ['David', 'Haight', 'Castro', 'Golden Gate Par...                    5   \n",
       "1                ['San Francisco', 'Holly', 'David']                    3   \n",
       "2        ['David', 'Haight Street', 'Castro Street']                    3   \n",
       "3                                ['David', 'Airbnb']                    2   \n",
       "4                         ['Holly', 'San Francisco']                    2   \n",
       "\n",
       "                                      comments_no_ne  \\\n",
       "0  Our experience was, without a doubt, a five st...   \n",
       "1  Returning to  is a rejuvenating thrill but thi...   \n",
       "2  We were very pleased with the accommodations a...   \n",
       "3  We highly recommend this accomodation and agre...   \n",
       "4  's place was great. It was exactly what I need...   \n",
       "\n",
       "                                        no_ne_tokens  no_ne_tokens_count  \\\n",
       "0  ['experience', 'without', 'doubt', 'five', 'st...                  41   \n",
       "1  ['returning', 'rejuvenating', 'thrill', 'time'...                  34   \n",
       "2  ['pleased', u'accommodation', 'friendly', 'nei...                  66   \n",
       "3  ['highly', 'recommend', 'accomodation', 'agree...                  42   \n",
       "4  [\"'s\", 'place', 'great', 'exactly', 'needed', ...                  23   \n",
       "\n",
       "                                               nouns  nouns_counts  \\\n",
       "0  ['experience', 'doubt', 'star', 'experience', ...            30   \n",
       "1  ['san', 'francisco', 'rejuvenating', 'thrill',...            19   \n",
       "2  [u'accommodation', 'neighborhood', 'bed', 'fut...            41   \n",
       "3  ['accomodation', 'agree', u'posting', 'holly',...            20   \n",
       "4  ['holly', 'place', 'perfect', 'location', 'cle...            10   \n",
       "\n",
       "                                               verbs  verbs_counts  \\\n",
       "0  [u'be', u'be', 'accomodating', u'honor', u'be'...            10   \n",
       "1  [u'return', u'be', u'be', u'enhance', u'renova...            14   \n",
       "2  [u'be', u'be', 'make', u'be', u'have', u'be', ...            21   \n",
       "3  [u'be', u'be', u'be', u'furnish', 'dishwashing...             9   \n",
       "4              [u'be', u'be', u'need', \"'s\", 'make']             5   \n",
       "\n",
       "                                          adjectives  adjectives_counts  \n",
       "0  ['consummate', 'full', 'perfect', 'full', 'clo...                  6  \n",
       "1             ['great', 'local', 'such', 'amenable']                  4  \n",
       "2  ['pleased', 'friendly', 'able', 'second', 'hel...                 16  \n",
       "3  ['previous', 'helpful', 'friendly', 'superb', ...                 10  \n",
       "4               ['great', 'super', 'little', 'good']                  4  "
      ]
     },
     "execution_count": 4,
     "metadata": {},
     "output_type": "execute_result"
    }
   ],
   "source": [
    "reviews_sf.head()"
   ]
  },
  {
   "cell_type": "code",
   "execution_count": null,
   "metadata": {},
   "outputs": [],
   "source": [
    "import ast\n",
    "\n",
    "reviews_sf['tokens'] = reviews_sf['tokens'].map(lambda x: ast.literal_eval(x))\n",
    "reviews_sf['name_entities'] = reviews_sf['name_entities'].map(lambda x: ast.literal_eval(x))\n",
    "reviews_sf['no_ne_tokens'] = reviews_sf['no_ne_tokens'].map(lambda x: ast.literal_eval(x))\n",
    "reviews_sf['nouns'] = reviews_sf['nouns'].map(lambda x: ast.literal_eval(x))\n",
    "reviews_sf['verbs'] = reviews_sf['verbs'].map(lambda x: ast.literal_eval(x))\n",
    "reviews_sf['adjectives'] = reviews_sf['adjectives'].map(lambda x: ast.literal_eval(x))"
   ]
  },
  {
   "cell_type": "code",
   "execution_count": null,
   "metadata": {},
   "outputs": [],
   "source": [
    "reviews_sf.head(2)"
   ]
  },
  {
   "cell_type": "code",
   "execution_count": null,
   "metadata": {},
   "outputs": [],
   "source": []
  },
  {
   "cell_type": "code",
   "execution_count": null,
   "metadata": {},
   "outputs": [],
   "source": []
  },
  {
   "cell_type": "markdown",
   "metadata": {},
   "source": [
    "# Topic Modelling"
   ]
  },
  {
   "cell_type": "code",
   "execution_count": 43,
   "metadata": {},
   "outputs": [],
   "source": [
    "token_texts = list(reviews_sf['no_ne_tokens'].values)"
   ]
  },
  {
   "cell_type": "code",
   "execution_count": 46,
   "metadata": {},
   "outputs": [
    {
     "name": "stderr",
     "output_type": "stream",
     "text": [
      "/anaconda3/lib/python2.7/site-packages/cryptography/hazmat/primitives/constant_time.py:26: CryptographyDeprecationWarning: Support for your Python version is deprecated. The next version of cryptography will remove support. Please upgrade to a 2.7.x release that supports hmac.compare_digest as soon as possible.\n",
      "  utils.PersistentlyDeprecated2018,\n"
     ]
    }
   ],
   "source": [
    "from gensim.corpora.dictionary import Dictionary\n",
    "\n",
    "# Create a corpus from a list of texts\n",
    "common_dictionary = Dictionary(token_texts)\n",
    "common_corpus = [common_dictionary.doc2bow(text) for text in token_texts]"
   ]
  },
  {
   "cell_type": "code",
   "execution_count": 47,
   "metadata": {},
   "outputs": [],
   "source": [
    "from gensim.models.ldamulticore import LdaMulticore\n",
    "import time\n",
    "ldam = LdaMulticore\n",
    "\n",
    "num_topics = 50\n",
    "num_words = 10\n",
    "passes = 50\n",
    "\n",
    "# Get Start Time\n",
    "start_time = time.time()\n",
    "\n",
    "# LDA Model\n",
    "ldam_model = ldam(common_corpus, num_topics=num_topics, id2word=common_dictionary, passes=passes)\n",
    "model_end_time = time.time() # Model End Time\n",
    "\n",
    "# LDA Results\n",
    "results = ldam_model.print_topics(num_topics=num_topics, num_words=num_words)\n",
    "result_time = time.time() # Results Time"
   ]
  },
  {
   "cell_type": "code",
   "execution_count": 48,
   "metadata": {},
   "outputs": [
    {
     "data": {
      "text/plain": [
       "5321.638869047165"
      ]
     },
     "execution_count": 48,
     "metadata": {},
     "output_type": "execute_result"
    }
   ],
   "source": [
    "model_end_time - start_time"
   ]
  },
  {
   "cell_type": "code",
   "execution_count": 49,
   "metadata": {},
   "outputs": [],
   "source": [
    "ldam_model.save('../models/ldam_reviews_50topics_10words_50passes_no_ner.model')"
   ]
  },
  {
   "cell_type": "code",
   "execution_count": 50,
   "metadata": {},
   "outputs": [],
   "source": [
    "def display_results(results):\n",
    "    for index, results in results:\n",
    "        print(str(index) + ': ' + str(', '.join(results.split('\"')[1::2])))"
   ]
  },
  {
   "cell_type": "code",
   "execution_count": 51,
   "metadata": {},
   "outputs": [
    {
     "name": "stdout",
     "output_type": "stream",
     "text": [
      "0: home, feel, felt, like, host, beautiful, stay, made, wonderful, comfortable\n",
      "1: good, excellent, value, always, location, host, help, available, accommodation, new\n",
      "2: parking, car, street, find, easy, spot, park, free, garage, rental\n",
      "3: house, day, 's, one, amazing, full, kitchen, time, fun, meal\n",
      "4: easy, public, access, transportation, get, close, transport, city, transit, around\n",
      "5: make, sure, made, went, way, stay, everything, beyond, expectation, comfortable\n",
      "6: ..., per, di, molto, il, non, ed, che, judy, ad\n",
      "7: rent, og, unexpected, particular, waited, till, til, mine, delay, zone\n",
      "8: back, time, come, next, stay, definitely, place, sf, would, visit\n",
      "9: apartment, could, better, picture, n't, asked, even, spacious, location, beat\n",
      "10: suite, square, union, pier, wharf, fisherman, 39, fall, gute, restaurants\n",
      "11: noise, bit, night, issue, unit, little, door, hear, street, good\n",
      "12: recommand, cuisine, chambres, mail, terrasse, temp, 5min, fonctionnel, tions, auto\n",
      "13: communication, quick, easy, check, check-in, respond, instruction, clear, super, response\n",
      "14: private, coffee, breakfast, room, snack, morning, fridge, nice, tea, entrance\n",
      "15: view, city, hill, top, bay, stair, accessible, balcony, walk, worth\n",
      "16: short, close, away, uber, place, walk, city, beach, far, location\n",
      "17: located, question, well, quickly, responsive, clean, responded, host, conveniently, helpful\n",
      "18: muy, en, n, el, reservation, arrival, posting, day, automated, canceled\n",
      "19: well, decorated, beautiful, garden, view, lovely, beautifully, back, nicely, appointed\n",
      "20: u, made, welcome, arrival, arrived, feel, even, gave, everything, needed\n",
      "21: na, setting, .., residence, com, v, um, em, ensuite, max\n",
      "22: thoughtful, touch, detail, care, host, listing, description, guest, accurate, outstanding\n",
      "23: minute, bus, walk, downtown, min, stop, station, away, take, 10\n",
      "24: cosy, appartement, s., j, lit, occasion, emplacement, ant, regard, dont\n",
      "25: kitchen, towel, well, use, stocked, also, bathroom, etc, provided, extra\n",
      "26: near, park, gate, golden, ocean, bridge, close, bike, presidio, right\n",
      "27: bed, room, comfortable, bathroom, bedroom, comfy, kitchen, nice, clean, shower\n",
      "28: recommend, highly, would, anyone, staying, place, cottage, others, valley, st\n",
      "29: room, clean, location, price, place, bathroom, people, good, shared, great\n",
      "30: ``, '', kindness, elegant, member, waking, word, please, wow, describe\n",
      "31: restaurant, walking, great, distance, shop, within, close, location, bar, neighborhood\n",
      "32: --, wine, bottle, parent, loft, left, glass, chocolate, beer, terrace\n",
      "33: family, 2, block, stayed, two, night, 3, 5, 4, away\n",
      "34: space, plenty, light, stylish, lot, community, decor, natural, outdoor, amenity\n",
      "35: ok, ice, cream, outer, brunch, pizza, outlet, frequently, proper, club\n",
      "36: u, day, late, check, time, early, night, even, let, arrived\n",
      "37: n't, 's, place, get, could, really, like, thing, say, one\n",
      "38: de, et, le, tr, est, la, nous, un, pour, bien\n",
      "39: und, die, ist, sehr, war, der, wir, mit, r, man\n",
      "40: stay, would, place, definitely, great, clean, recommend, 's, exactly, comfortable\n",
      "41: experience, hotel, first, airbnb, air, best, overall, time, staying, bnb\n",
      "42: met, en, de, je, een, het, van, te, op, sfo\n",
      "43: place, 's, great, perfect, quiet, city, stay, neighborhood, location, studio\n",
      "44: gem, hidden, total, summer, joe, wi-fi, judah, 1-2, reactive, recomiendo\n",
      "45: great, u, tip, local, host, recommendation, gave, city, helpful, place\n",
      "46: everything, need, needed, place, stay, perfect, best, stayed, clean, could\n",
      "47: nice, really, place, stay, clean, house, enjoyed, great, 's, good\n",
      "48: great, host, location, place, stay, amazing, clean, super, friendly, helpful\n",
      "49: la, e, de, que, con, un, casa, para, una, lo\n"
     ]
    }
   ],
   "source": [
    "display_results(results)"
   ]
  },
  {
   "cell_type": "code",
   "execution_count": 52,
   "metadata": {},
   "outputs": [],
   "source": [
    "def display_results_no_duplicates(results):\n",
    "    all_lists = []\n",
    "    for index, result in results:\n",
    "        all_lists = all_lists + result.split('\"')[1::2]\n",
    "    \n",
    "    # Get Counts of each word\n",
    "    counts = pd.Series(all_lists).value_counts()\n",
    "    no_duplicates = counts[counts == 1].index\n",
    "    \n",
    "    for index, result in results:\n",
    "        print(str(index) + ': ' + str(', '.join([word for word in result.split('\"')[1::2] if word in no_duplicates])))"
   ]
  },
  {
   "cell_type": "code",
   "execution_count": 53,
   "metadata": {},
   "outputs": [
    {
     "name": "stdout",
     "output_type": "stream",
     "text": [
      "0: home, felt, wonderful\n",
      "1: excellent, value, always, help, available, accommodation, new\n",
      "2: parking, car, find, spot, free, garage, rental\n",
      "3: full, fun, meal\n",
      "4: public, access, transportation, transport, transit, around\n",
      "5: make, sure, went, way, beyond, expectation\n",
      "6: ..., per, di, molto, il, non, ed, che, judy, ad\n",
      "7: rent, og, unexpected, particular, waited, till, til, mine, delay, zone\n",
      "8: come, next, sf, visit\n",
      "9: apartment, better, picture, asked, spacious, beat\n",
      "10: suite, square, union, pier, wharf, fisherman, 39, fall, gute, restaurants\n",
      "11: noise, bit, issue, unit, little, door, hear\n",
      "12: recommand, cuisine, chambres, mail, terrasse, temp, 5min, fonctionnel, tions, auto\n",
      "13: communication, quick, check-in, respond, instruction, clear, response\n",
      "14: private, coffee, breakfast, snack, morning, fridge, tea, entrance\n",
      "15: hill, top, bay, stair, accessible, balcony, worth\n",
      "16: short, uber, beach, far\n",
      "17: located, question, quickly, responsive, responded, conveniently\n",
      "18: muy, n, el, reservation, posting, automated, canceled\n",
      "19: decorated, garden, lovely, beautifully, nicely, appointed\n",
      "20: welcome\n",
      "21: na, setting, .., residence, com, v, um, em, ensuite, max\n",
      "22: thoughtful, touch, detail, care, listing, description, guest, accurate, outstanding\n",
      "23: minute, bus, downtown, min, stop, station, take, 10\n",
      "24: cosy, appartement, s., j, lit, occasion, emplacement, ant, regard, dont\n",
      "25: towel, use, stocked, also, etc, provided, extra\n",
      "26: near, gate, golden, ocean, bridge, bike, presidio, right\n",
      "27: bed, bedroom, comfy, shower\n",
      "28: highly, anyone, cottage, others, valley, st\n",
      "29: price, people, shared\n",
      "30: ``, '', kindness, elegant, member, waking, word, please, wow, describe\n",
      "31: restaurant, walking, distance, shop, within, bar\n",
      "32: --, wine, bottle, parent, loft, left, glass, chocolate, beer, terrace\n",
      "33: family, 2, block, two, 3, 5, 4\n",
      "34: space, plenty, light, stylish, lot, community, decor, natural, outdoor, amenity\n",
      "35: ok, ice, cream, outer, brunch, pizza, outlet, frequently, proper, club\n",
      "36: late, early, let\n",
      "37: thing, say\n",
      "38: et, le, tr, est, nous, pour, bien\n",
      "39: und, die, ist, sehr, war, der, wir, mit, r, man\n",
      "40: exactly\n",
      "41: experience, hotel, first, airbnb, air, overall, bnb\n",
      "42: met, je, een, het, van, te, op, sfo\n",
      "43: quiet, studio\n",
      "44: gem, hidden, total, summer, joe, wi-fi, judah, 1-2, reactive, recomiendo\n",
      "45: tip, local, recommendation\n",
      "46: need\n",
      "47: enjoyed\n",
      "48: friendly\n",
      "49: e, que, con, casa, para, una, lo\n"
     ]
    }
   ],
   "source": [
    "display_results_no_duplicates(results)"
   ]
  },
  {
   "cell_type": "code",
   "execution_count": null,
   "metadata": {},
   "outputs": [],
   "source": []
  },
  {
   "cell_type": "code",
   "execution_count": null,
   "metadata": {},
   "outputs": [],
   "source": []
  },
  {
   "cell_type": "code",
   "execution_count": null,
   "metadata": {},
   "outputs": [],
   "source": []
  },
  {
   "cell_type": "code",
   "execution_count": null,
   "metadata": {},
   "outputs": [],
   "source": []
  },
  {
   "cell_type": "code",
   "execution_count": null,
   "metadata": {},
   "outputs": [],
   "source": []
  },
  {
   "cell_type": "code",
   "execution_count": null,
   "metadata": {},
   "outputs": [],
   "source": []
  },
  {
   "cell_type": "code",
   "execution_count": null,
   "metadata": {},
   "outputs": [],
   "source": []
  },
  {
   "cell_type": "code",
   "execution_count": null,
   "metadata": {},
   "outputs": [],
   "source": []
  },
  {
   "cell_type": "code",
   "execution_count": null,
   "metadata": {},
   "outputs": [],
   "source": []
  },
  {
   "cell_type": "code",
   "execution_count": null,
   "metadata": {},
   "outputs": [],
   "source": []
  },
  {
   "cell_type": "code",
   "execution_count": null,
   "metadata": {},
   "outputs": [],
   "source": []
  },
  {
   "cell_type": "code",
   "execution_count": null,
   "metadata": {},
   "outputs": [],
   "source": []
  },
  {
   "cell_type": "code",
   "execution_count": null,
   "metadata": {},
   "outputs": [],
   "source": []
  },
  {
   "cell_type": "code",
   "execution_count": null,
   "metadata": {},
   "outputs": [],
   "source": []
  },
  {
   "cell_type": "code",
   "execution_count": null,
   "metadata": {},
   "outputs": [],
   "source": []
  },
  {
   "cell_type": "code",
   "execution_count": null,
   "metadata": {},
   "outputs": [],
   "source": []
  }
 ],
 "metadata": {
  "kernelspec": {
   "display_name": "Python 3",
   "language": "python",
   "name": "python3"
  },
  "language_info": {
   "codemirror_mode": {
    "name": "ipython",
    "version": 2
   },
   "file_extension": ".py",
   "mimetype": "text/x-python",
   "name": "python",
   "nbconvert_exporter": "python",
   "pygments_lexer": "ipython2",
   "version": "2.7.3"
  }
 },
 "nbformat": 4,
 "nbformat_minor": 2
}
