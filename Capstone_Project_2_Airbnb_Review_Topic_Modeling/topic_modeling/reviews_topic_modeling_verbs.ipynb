{
 "cells": [
  {
   "cell_type": "markdown",
   "metadata": {},
   "source": [
    "# AirBnB Reviews Topic Modelling: Verbs"
   ]
  },
  {
   "cell_type": "code",
   "execution_count": 10,
   "metadata": {},
   "outputs": [],
   "source": [
    "import pandas as pd\n",
    "import numpy as np\n",
    "import matplotlib.pyplot as plt\n",
    "import seaborn as sns; sns.set()"
   ]
  },
  {
   "cell_type": "markdown",
   "metadata": {},
   "source": [
    "## Load Data"
   ]
  },
  {
   "cell_type": "code",
   "execution_count": 5,
   "metadata": {},
   "outputs": [],
   "source": [
    "def load_review_data(directory):\n",
    "    \"\"\"Load Review Data\"\"\"\n",
    "    reviews_df = pd.read_csv(directory + 'interim/review_wrangled.csv', sep=';', lineterminator='\\n').drop(columns=['Unnamed: 0'])\n",
    "    \n",
    "    return reviews_df"
   ]
  },
  {
   "cell_type": "code",
   "execution_count": 6,
   "metadata": {},
   "outputs": [],
   "source": [
    "# Select City\n",
    "country = 'united-states'\n",
    "city = 'san-francisco'\n",
    "\n",
    "# Directory\n",
    "directory = '../data/' + country + '/' + city + '/'\n",
    "\n",
    "# Load Data\n",
    "reviews_df = load_review_data(directory)"
   ]
  },
  {
   "cell_type": "code",
   "execution_count": 9,
   "metadata": {},
   "outputs": [
    {
     "data": {
      "text/html": [
       "<div>\n",
       "<style scoped>\n",
       "    .dataframe tbody tr th:only-of-type {\n",
       "        vertical-align: middle;\n",
       "    }\n",
       "\n",
       "    .dataframe tbody tr th {\n",
       "        vertical-align: top;\n",
       "    }\n",
       "\n",
       "    .dataframe thead th {\n",
       "        text-align: right;\n",
       "    }\n",
       "</style>\n",
       "<table border=\"1\" class=\"dataframe\">\n",
       "  <thead>\n",
       "    <tr style=\"text-align: right;\">\n",
       "      <th></th>\n",
       "      <th>listing_id</th>\n",
       "      <th>id</th>\n",
       "      <th>date</th>\n",
       "      <th>comments</th>\n",
       "      <th>tokens</th>\n",
       "      <th>tokens_count</th>\n",
       "      <th>name_entities</th>\n",
       "      <th>name_entities_count</th>\n",
       "      <th>comments_no_ne</th>\n",
       "      <th>no_ne_tokens</th>\n",
       "      <th>no_ne_tokens_count</th>\n",
       "      <th>nouns</th>\n",
       "      <th>nouns_counts</th>\n",
       "      <th>verbs</th>\n",
       "      <th>verbs_counts</th>\n",
       "      <th>adjectives</th>\n",
       "      <th>adjectives_counts</th>\n",
       "    </tr>\n",
       "  </thead>\n",
       "  <tbody>\n",
       "    <tr>\n",
       "      <th>0</th>\n",
       "      <td>958</td>\n",
       "      <td>5977</td>\n",
       "      <td>2009-07-23</td>\n",
       "      <td>Our experience was, without a doubt, a five st...</td>\n",
       "      <td>['experience', 'without', 'doubt', 'five', 'st...</td>\n",
       "      <td>47</td>\n",
       "      <td>['David', 'Haight', 'Castro', 'Golden Gate Par...</td>\n",
       "      <td>5</td>\n",
       "      <td>Our experience was, without a doubt, a five st...</td>\n",
       "      <td>['experience', 'without', 'doubt', 'five', 'st...</td>\n",
       "      <td>39</td>\n",
       "      <td>['experience', 'doubt', 'star', 'experience', ...</td>\n",
       "      <td>30</td>\n",
       "      <td>[u'be', u'be', 'accomodating', u'honor', u'be'...</td>\n",
       "      <td>10</td>\n",
       "      <td>['consummate', 'full', 'perfect', 'full', 'clo...</td>\n",
       "      <td>6</td>\n",
       "    </tr>\n",
       "    <tr>\n",
       "      <th>1</th>\n",
       "      <td>958</td>\n",
       "      <td>6660</td>\n",
       "      <td>2009-08-03</td>\n",
       "      <td>Returning to San Francisco is a rejuvenating t...</td>\n",
       "      <td>['returning', 'san', 'francisco', 'rejuvenatin...</td>\n",
       "      <td>36</td>\n",
       "      <td>['San Francisco', 'Holly', 'David']</td>\n",
       "      <td>3</td>\n",
       "      <td>Returning to  is a rejuvenating thrill but thi...</td>\n",
       "      <td>['returning', 'rejuvenating', 'thrill', 'time'...</td>\n",
       "      <td>32</td>\n",
       "      <td>['san', 'francisco', 'rejuvenating', 'thrill',...</td>\n",
       "      <td>19</td>\n",
       "      <td>[u'return', u'be', u'be', u'enhance', u'renova...</td>\n",
       "      <td>14</td>\n",
       "      <td>['great', 'local', 'such', 'amenable']</td>\n",
       "      <td>4</td>\n",
       "    </tr>\n",
       "    <tr>\n",
       "      <th>2</th>\n",
       "      <td>958</td>\n",
       "      <td>11519</td>\n",
       "      <td>2009-09-27</td>\n",
       "      <td>We were very pleased with the accommodations a...</td>\n",
       "      <td>['pleased', u'accommodation', 'friendly', 'nei...</td>\n",
       "      <td>67</td>\n",
       "      <td>['David', 'Haight Street', 'Castro Street']</td>\n",
       "      <td>3</td>\n",
       "      <td>We were very pleased with the accommodations a...</td>\n",
       "      <td>['pleased', u'accommodation', 'friendly', 'nei...</td>\n",
       "      <td>62</td>\n",
       "      <td>[u'accommodation', 'neighborhood', 'bed', 'fut...</td>\n",
       "      <td>41</td>\n",
       "      <td>[u'be', u'be', 'make', u'be', u'have', u'be', ...</td>\n",
       "      <td>21</td>\n",
       "      <td>['pleased', 'friendly', 'able', 'second', 'hel...</td>\n",
       "      <td>16</td>\n",
       "    </tr>\n",
       "  </tbody>\n",
       "</table>\n",
       "</div>"
      ],
      "text/plain": [
       "   listing_id     id        date  \\\n",
       "0         958   5977  2009-07-23   \n",
       "1         958   6660  2009-08-03   \n",
       "2         958  11519  2009-09-27   \n",
       "\n",
       "                                            comments  \\\n",
       "0  Our experience was, without a doubt, a five st...   \n",
       "1  Returning to San Francisco is a rejuvenating t...   \n",
       "2  We were very pleased with the accommodations a...   \n",
       "\n",
       "                                              tokens  tokens_count  \\\n",
       "0  ['experience', 'without', 'doubt', 'five', 'st...            47   \n",
       "1  ['returning', 'san', 'francisco', 'rejuvenatin...            36   \n",
       "2  ['pleased', u'accommodation', 'friendly', 'nei...            67   \n",
       "\n",
       "                                       name_entities  name_entities_count  \\\n",
       "0  ['David', 'Haight', 'Castro', 'Golden Gate Par...                    5   \n",
       "1                ['San Francisco', 'Holly', 'David']                    3   \n",
       "2        ['David', 'Haight Street', 'Castro Street']                    3   \n",
       "\n",
       "                                      comments_no_ne  \\\n",
       "0  Our experience was, without a doubt, a five st...   \n",
       "1  Returning to  is a rejuvenating thrill but thi...   \n",
       "2  We were very pleased with the accommodations a...   \n",
       "\n",
       "                                        no_ne_tokens  no_ne_tokens_count  \\\n",
       "0  ['experience', 'without', 'doubt', 'five', 'st...                  39   \n",
       "1  ['returning', 'rejuvenating', 'thrill', 'time'...                  32   \n",
       "2  ['pleased', u'accommodation', 'friendly', 'nei...                  62   \n",
       "\n",
       "                                               nouns  nouns_counts  \\\n",
       "0  ['experience', 'doubt', 'star', 'experience', ...            30   \n",
       "1  ['san', 'francisco', 'rejuvenating', 'thrill',...            19   \n",
       "2  [u'accommodation', 'neighborhood', 'bed', 'fut...            41   \n",
       "\n",
       "                                               verbs  verbs_counts  \\\n",
       "0  [u'be', u'be', 'accomodating', u'honor', u'be'...            10   \n",
       "1  [u'return', u'be', u'be', u'enhance', u'renova...            14   \n",
       "2  [u'be', u'be', 'make', u'be', u'have', u'be', ...            21   \n",
       "\n",
       "                                          adjectives  adjectives_counts  \n",
       "0  ['consummate', 'full', 'perfect', 'full', 'clo...                  6  \n",
       "1             ['great', 'local', 'such', 'amenable']                  4  \n",
       "2  ['pleased', 'friendly', 'able', 'second', 'hel...                 16  "
      ]
     },
     "execution_count": 9,
     "metadata": {},
     "output_type": "execute_result"
    }
   ],
   "source": [
    "reviews_df.head(3)"
   ]
  },
  {
   "cell_type": "markdown",
   "metadata": {},
   "source": [
    "## Clean"
   ]
  },
  {
   "cell_type": "code",
   "execution_count": 11,
   "metadata": {},
   "outputs": [],
   "source": [
    "import ast\n",
    "\n",
    "reviews_df['tokens'] = reviews_df['tokens'].map(lambda x: ast.literal_eval(x))\n",
    "reviews_df['name_entities'] = reviews_df['name_entities'].map(lambda x: ast.literal_eval(x))\n",
    "reviews_df['no_ne_tokens'] = reviews_df['no_ne_tokens'].map(lambda x: ast.literal_eval(x))\n",
    "reviews_df['nouns'] = reviews_df['nouns'].map(lambda x: ast.literal_eval(x))\n",
    "reviews_df['verbs'] = reviews_df['verbs'].map(lambda x: ast.literal_eval(x))\n",
    "reviews_df['adjectives'] = reviews_df['adjectives'].map(lambda x: ast.literal_eval(x))"
   ]
  },
  {
   "cell_type": "markdown",
   "metadata": {},
   "source": [
    "## EDA"
   ]
  },
  {
   "cell_type": "code",
   "execution_count": 12,
   "metadata": {},
   "outputs": [
    {
     "data": {
      "text/plain": [
       "7.675723741135827"
      ]
     },
     "execution_count": 12,
     "metadata": {},
     "output_type": "execute_result"
    },
    {
     "data": {
      "image/png": "[encoded data removed]",
      "text/plain": [
       "<Figure size 432x288 with 1 Axes>"
      ]
     },
     "metadata": {},
     "output_type": "display_data"
    }
   ],
   "source": [
    "_ = reviews_df['verbs_counts'].hist(bins=50)\n",
    "_ = plt.axvline(np.mean(reviews_df['verbs_counts']), color='red')\n",
    "np.mean(reviews_df['verbs_counts'])"
   ]
  },
  {
   "cell_type": "markdown",
   "metadata": {},
   "source": [
    "# Topic Modelling"
   ]
  },
  {
   "cell_type": "code",
   "execution_count": 12,
   "metadata": {},
   "outputs": [],
   "source": [
    "from gensim.corpora.dictionary import Dictionary\n",
    "from gensim.models.ldamulticore import LdaMulticore\n",
    "import time\n",
    "\n",
    "# Tokens\n",
    "token_texts = list(reviews_df['verbs'].values)\n",
    "\n",
    "num_topics = 50\n",
    "num_words = 5\n",
    "passes = 50\n",
    "\n",
    "# Create a corpus from a list of texts\n",
    "common_dictionary = Dictionary(token_texts)\n",
    "common_corpus = [common_dictionary.doc2bow(text) for text in token_texts]\n",
    "\n",
    "# Initiate LDA Model\n",
    "ldam = LdaMulticore\n",
    "\n",
    "# Get Start Time\n",
    "start_time = time.time()\n",
    "\n",
    "# LDA Model\n",
    "ldam_model = ldam(common_corpus, num_topics=num_topics, id2word=common_dictionary, passes=passes)\n",
    "model_end_time = time.time() # Model End Time\n",
    "\n",
    "# LDA Results\n",
    "results = ldam_model.print_topics(num_topics=num_topics, num_words=num_words)\n",
    "result_time = time.time() # Results Time"
   ]
  },
  {
   "cell_type": "code",
   "execution_count": 8,
   "metadata": {},
   "outputs": [
    {
     "data": {
      "text/plain": [
       "1.9176581416527432"
      ]
     },
     "execution_count": 8,
     "metadata": {},
     "output_type": "execute_result"
    }
   ],
   "source": [
    "(model_end_time - start_time)/60/60"
   ]
  },
  {
   "cell_type": "markdown",
   "metadata": {},
   "source": [
    "## Save Model"
   ]
  },
  {
   "cell_type": "code",
   "execution_count": 15,
   "metadata": {},
   "outputs": [],
   "source": [
    "ldam_model.save('../models/ldam_reviews_50topics_5words_50passes_verbs.model')"
   ]
  },
  {
   "cell_type": "markdown",
   "metadata": {},
   "source": [
    "# Results"
   ]
  },
  {
   "cell_type": "code",
   "execution_count": 3,
   "metadata": {},
   "outputs": [],
   "source": [
    "def display_results(results):\n",
    "    for index, results in results:\n",
    "        print(str(index) + ': ' + str(', '.join(results.split('\"')[1::2])))\n",
    "        \n",
    "def display_results_no_duplicates(results):\n",
    "    all_lists = []\n",
    "    for index, result in results:\n",
    "        all_lists = all_lists + result.split('\"')[1::2]\n",
    "    \n",
    "    # Get Counts of each word\n",
    "    counts = pd.Series(all_lists).value_counts()\n",
    "    no_duplicates = counts[counts == 1].index\n",
    "    \n",
    "    for index, result in results:\n",
    "        print(str(index) + ': ' + str(', '.join([word for word in result.split('\"')[1::2] if word in no_duplicates])))"
   ]
  },
  {
   "cell_type": "markdown",
   "metadata": {},
   "source": [
    "## Topic Results"
   ]
  },
  {
   "cell_type": "code",
   "execution_count": 10,
   "metadata": {},
   "outputs": [
    {
     "name": "stdout",
     "output_type": "stream",
     "text": [
      "0: welcome, explain, anticipate, unwind, concern, straight, comfort, deserve, crawl, would\n",
      "1: help, share, describe, invite, play, sightsee, read, serve, introduce, noise\n",
      "2: enter, mind, block, respect, disturb, become, warn, label, separate, hand\n",
      "3: check, visit, meet, spend, forget, reccomend, mesmerize, be, transportation.., aa\n",
      "4: realize, reserve, bottle, await, spark, recomended, revisit, responsive, overprice, always\n",
      "5: think, experience, sparkle, save, understand, bake, outfit, airport, s., pop\n",
      "6: din, breathtaking, w, pull, crowd, microwave, name, cool, spoil, tourist\n",
      "7: do, meet, want, picture, spend, mean, require, interact, tire, assure\n",
      "8: set, exceed, chat, pass, tour, def, transport, complain, borrow, e\n",
      "9: book, surprise, attach, ve, depict, stream, soak, recomend, surpass, combine\n",
      "10: be, have, expect, appreciate, spend, surround, bus, face, arrange, interest\n",
      "11: prepare, hide, wash, des, die, med, f, top, uns, et\n",
      "12: find, park, rent, drive, size, worry, land, limit, manage, rid\n",
      "13: list, alles, home, escape, comment, rely, ideal, guarantee, relate, grocery\n",
      "14: go, want, live, suggest, supply, anywhere, avoid, easy, sf, uber\n",
      "15: love, come, renovate, attend, kitchen, seclude, treat, tip, auf, wine\n",
      "16: 's, overlook, imagine, fun, spread, dinner, train, accord, download, press\n",
      "17: use, let, allow, drop, compare, state, prefer, blow, right, challenge\n",
      "18: enjoy, store, navigate, hope, climb, depend, chill, transit, lend, beach\n",
      "19: recommend, cook, choose, connect, perfect, finish, present, warm, organise, seek\n",
      "20: be, need, have, provide, stay, include, return, charm, just, accomodating\n",
      "21: overall, pick, beat, wish, resolve, breakfast, coordinate, remove, occupy, cafes\n",
      "22: leave, host, contact, want, step, appear, cover, repeat, king, gather\n",
      "23: amaze, put, drive, stun, satisfy, represent, secure, otherwise, smooth, entertain\n",
      "24: say, decorate, add, design, catch, hop, disappoint, decide, shop, aber\n",
      "25: move, head, settle, fly, coffee, sort, cramp, confirm, encourage, style\n",
      "26: everywhere, continue, nestle, suppose, refund, instal, afford, rebook, glad, gate\n",
      "27: ask, know, seem, come, tell, clean, be, call, pay, turn\n",
      "28: see, be, eat, cancel, give, care, want, place, grab, manage\n",
      "29: be, walk, have, stay, downtown, equip, answer, like, sit, fill\n",
      "30: make, feel, organize, situate, be, advertise, w/o, transportation.., sched, aa\n",
      "31: be, stay, have, felt, appoint, friends, lejlighed, beliggenhed, relset, til\n",
      "32: t, win, wasn, lack, didn, outstanding, don, annoy, struggle, convert\n",
      "33: s, work, travel, reach, reply, discover, base, es, point, engage\n",
      "34: be, accommodate, super, wed, hurt, interfere, clarify, stairs, leak, enclose\n",
      "35: keep, pack, access, remember, inform, tes, kick, ubered, beautiful, indicate\n",
      "36: give, arrive, show, greet, miss, hesitate, end, change, awesome, delay\n",
      "37: communicate, bring, talk, furnish, mention, start, les, price, learn, pied\n",
      "38: get, know, open, bed, please, suit, regret, charge, comfy, reflect\n",
      "39: plan, stop, build, cost, justice, stand, seat, bark, express, linens\n",
      "40: respond, receive, remodel, carry, fall, post, hit, match, even, rain\n",
      "41: sleep, hear, wake, spot, shower, sound, celebrate, remain, slide, neighborhood\n",
      "42: downstairs, unlock, oppose, notify, switch, snack, dress, date, consist, hat\n",
      "43: try, wait, consider, send, saw, everything, ride, worry, tuck, y\n",
      "44: take, offer, stock, thank, hang, create, light, request, ses, sans\n",
      "45: close, bother, note, lock, happen, fit, drink, encounter, promise, deliver\n",
      "46: deal, lead, fell, assist, believe, control, fault, exhaust, count, mass\n",
      "47: locate, explore, relax, maintain, detail, spend, regard, extend, contain, +\n",
      "48: run, watch, rest, buy, update, notice, hold, hike, impress, listen\n",
      "49: look, lay, crash, dans, begin, advise, au, du, ou, ist\n"
     ]
    }
   ],
   "source": [
    "display_results(results)"
   ]
  },
  {
   "cell_type": "code",
   "execution_count": 19,
   "metadata": {},
   "outputs": [
    {
     "name": "stdout",
     "output_type": "stream",
     "text": [
      "0: welcome, explain, anticipate, unwind, concern\n",
      "1: help, share, describe, invite, play\n",
      "2: enter, mind, block, respect, disturb\n",
      "3: check, visit, forget\n",
      "4: realize, reserve, bottle, await, spark\n",
      "5: think, experience, sparkle, save, understand\n",
      "6: din, breathtaking, w, pull, crowd\n",
      "7: do, picture\n",
      "8: set, exceed, chat, pass, tour\n",
      "9: book, surprise, attach, ve, depict\n",
      "10: expect, appreciate\n",
      "11: prepare, hide, wash, des, die\n",
      "12: find, park, rent, size\n",
      "13: list, alles, home, escape, comment\n",
      "14: go, live, suggest, supply\n",
      "15: love, renovate, attend, kitchen\n",
      "16: 's, overlook, imagine, fun, spread\n",
      "17: use, let, allow, drop, compare\n",
      "18: enjoy, store, navigate, hope, climb\n",
      "19: recommend, cook, choose, connect, perfect\n",
      "20: need, provide\n",
      "21: overall, pick, beat, wish, resolve\n",
      "22: leave, host, contact, step\n",
      "23: amaze, put, stun, satisfy\n",
      "24: say, decorate, add, design, catch\n",
      "25: move, head, settle, fly, coffee\n",
      "26: everywhere, continue, nestle, suppose, refund\n",
      "27: ask, seem, tell\n",
      "28: see, eat, cancel\n",
      "29: walk, downtown\n",
      "30: make, feel, organize, situate\n",
      "31: felt, appoint\n",
      "32: t, win, wasn, lack, didn\n",
      "33: s, work, travel, reach, reply\n",
      "34: accommodate, super, wed, hurt\n",
      "35: keep, pack, access, remember, inform\n",
      "36: arrive, show, greet, miss\n",
      "37: communicate, bring, talk, furnish, mention\n",
      "38: get, open, bed, please\n",
      "39: plan, stop, build, cost, justice\n",
      "40: respond, receive, remodel, carry, fall\n",
      "41: sleep, hear, wake, spot, shower\n",
      "42: downstairs, unlock, oppose, notify, switch\n",
      "43: try, wait, consider, send, saw\n",
      "44: take, offer, stock, thank, hang\n",
      "45: close, bother, note, lock, happen\n",
      "46: deal, lead, fell, assist, believe\n",
      "47: locate, explore, relax, maintain, detail\n",
      "48: run, watch, rest, buy, update\n",
      "49: look, lay, crash, dans, begin\n"
     ]
    }
   ],
   "source": [
    "display_results_no_duplicates(results)"
   ]
  }
 ],
 "metadata": {
  "kernelspec": {
   "display_name": "Python 3",
   "language": "python",
   "name": "python3"
  },
  "language_info": {
   "codemirror_mode": {
    "name": "ipython",
    "version": 2
   },
   "file_extension": ".py",
   "mimetype": "text/x-python",
   "name": "python",
   "nbconvert_exporter": "python",
   "pygments_lexer": "ipython2",
   "version": "2.7.3"
  }
 },
 "nbformat": 4,
 "nbformat_minor": 2
}
