{
 "cells": [
  {
   "cell_type": "code",
   "execution_count": 1,
   "metadata": {},
   "outputs": [],
   "source": [
    "import pandas as pd\n",
    "import matplotlib.pyplot as plt\n",
    "import numpy as np\n",
    "import seaborn as sns; sns.set()\n",
    "import glob as glob"
   ]
  },
  {
   "cell_type": "code",
   "execution_count": 2,
   "metadata": {},
   "outputs": [],
   "source": [
    "def load_sample_data(country, city):\n",
    "    directory = 'data/' + country + '/' + city + '/'\n",
    "    csv_files = [file_name for file_name in glob.glob(directory + '*') if file_name[-4:] == '.csv']\n",
    "    \n",
    "    for file_loc in csv_files:\n",
    "        file_name = file_loc.split('/')[3]\n",
    "        \n",
    "        if file_name == 'listings_sample.csv':\n",
    "            #Read Listing Sample\n",
    "            listing_sample = pd.read_csv(file_loc)\n",
    "            \n",
    "        elif file_name == 'reviews_sample.csv':\n",
    "            #Read Review Sample\n",
    "            reviews_sample = pd.read_csv(file_loc)\n",
    "            \n",
    "        elif file_name == 'neighbourhoods_sample.csv':\n",
    "            #Read Neighborhoods\n",
    "            neighbourhoods_sample = pd.read_csv(file_loc)\n",
    "            \n",
    "    return [listing_sample, reviews_sample, neighbourhoods_sample]\n",
    "\n",
    "\n",
    "def load_full_data(country, city):\n",
    "    directory = 'data/' + country + '/' + city + '/'\n",
    "    csv_files = [file_name for file_name in glob.glob(directory + '*') if file_name[-4:] == '.csv']\n",
    "    \n",
    "    for file_loc in csv_files:\n",
    "        file_name = file_loc.split('/')[3]\n",
    "        \n",
    "        if file_name == 'listings_full.csv':\n",
    "            #Read Listings\n",
    "            listings_full = pd.read_csv(file_loc).drop(columns=['Unnamed: 0'])\n",
    "            \n",
    "        elif file_name == 'reviews_full.csv':\n",
    "            #Read Reviews\n",
    "            reviews_full = pd.read_csv(file_loc).drop(columns=['Unnamed: 0'])\n",
    "            \n",
    "        elif file_name == 'calendar_full.csv':\n",
    "            #Read Calendar\n",
    "            calendar_full = pd.read_csv(file_loc).drop(columns=['Unnamed: 0'])\n",
    "            \n",
    "    return [listings_full, reviews_full, calendar_full]"
   ]
  },
  {
   "cell_type": "code",
   "execution_count": 3,
   "metadata": {},
   "outputs": [],
   "source": [
    "listings_sf = pd.read_csv('../sf/listings_detailed.csv')"
   ]
  },
  {
   "cell_type": "code",
   "execution_count": 4,
   "metadata": {},
   "outputs": [],
   "source": [
    "def clean_listing_full(listing_full_data):\n",
    "    \"\"\"Cleans listing_full.csv data\"\"\"\n",
    "    # Input Data\n",
    "    df = listing_full_data\n",
    "    \n",
    "    # String to Datetime\n",
    "    df['last_scraped'] = pd.to_datetime(df['last_scraped'])\n",
    "    df['host_since'] = pd.to_datetime(df['host_since'])\n",
    "    df['calendar_last_scraped'] = pd.to_datetime(df['calendar_last_scraped'])\n",
    "    df['first_review'] = pd.to_datetime(df['first_review'])\n",
    "    df['last_review'] = pd.to_datetime(df['last_review'])\n",
    "    \n",
    "    # String to Numeric\n",
    "    df['host_response_rate'] = pd.to_numeric(df['host_response_rate'].str[:-1]) / 100\n",
    "    df['price'] = pd.to_numeric(df['price'].str[1:].str.replace(',',''))\n",
    "    df['weekly_price'] = pd.to_numeric(df['weekly_price'].str[1:].str.replace(',',''))\n",
    "    df['monthly_price'] = pd.to_numeric(df['monthly_price'].str[1:].str.replace(',',''))\n",
    "    df['security_deposit'] = pd.to_numeric(df['security_deposit'].str[1:].str.replace(',',''))\n",
    "    df['cleaning_fee'] = pd.to_numeric(df['cleaning_fee'].str[1:].str.replace(',',''))\n",
    "    df['extra_people'] = pd.to_numeric(df['extra_people'].str[1:].str.replace(',',''))\n",
    "\n",
    "    # t/f to Numeric\n",
    "    df['host_is_superhost'] = (df['host_is_superhost'] == \"t\").astype(int)\n",
    "    df['host_has_profile_pic'] = (df['host_has_profile_pic'] == \"t\").astype(int)\n",
    "    df['host_identity_verified'] = (df['host_identity_verified'] == \"t\").astype(int)\n",
    "    df['is_location_exact'] = (df['is_location_exact'] == \"t\").astype(int)\n",
    "    df['has_availability'] = (df['has_availability'] == \"t\").astype(int)\n",
    "    df['requires_license'] = (df['requires_license'] == \"t\").astype(int)\n",
    "    df['instant_bookable'] = (df['instant_bookable'] == \"t\").astype(int)\n",
    "    df['is_business_travel_ready'] = (df['is_business_travel_ready'] == \"t\").astype(int)\n",
    "    df['require_guest_profile_picture'] = (df['require_guest_profile_picture'] == \"t\").astype(int)\n",
    "    df['require_guest_phone_verification'] = (df['require_guest_phone_verification'] == \"t\").astype(int)\n",
    "    \n",
    "    return df"
   ]
  },
  {
   "cell_type": "code",
   "execution_count": 5,
   "metadata": {},
   "outputs": [],
   "source": [
    "clean_listings_sf = clean_listing_full(listings_sf)"
   ]
  },
  {
   "cell_type": "code",
   "execution_count": 6,
   "metadata": {},
   "outputs": [],
   "source": [
    "listings_detailed = clean_listings_sf.copy()\n",
    "\n",
    "ID = list(listings_detailed.iloc[:,:2].columns)\n",
    "\n",
    "ABOUT_COLS = list(listings_detailed.iloc[:,3:15].columns)\n",
    "\n",
    "PICS_COLS = list(listings_detailed.iloc[:,15:19].columns)\n",
    "\n",
    "HOST_COLS = list(listings_detailed.columns[listings_detailed.columns.str.contains('host')])\n",
    "\n",
    "NEIGHBORHOOD_COLS = list(listings_detailed.columns[listings_detailed.columns.str.contains('neighbourhood')])\n",
    "\n",
    "LOCATION_COLS = list(listings_detailed.iloc[:,37:51].columns)\n",
    "\n",
    "PROPERTY_COLS = list(listings_detailed.iloc[:,51:60].columns)\n",
    "\n",
    "PRICE_COLS = list(listings_detailed.iloc[:,60:67].columns)\n",
    "\n",
    "NIGHTS_COLS = list(listings_detailed.columns[listings_detailed.columns.str.contains('mum')])\n",
    "\n",
    "AVAILABILITY_COLS = list(listings_detailed.columns[listings_detailed.columns.str.contains('availability')])\n",
    "\n",
    "REVIEW_COLS = list(listings_detailed.columns[listings_detailed.columns.str.contains('review')])\n",
    "\n",
    "SCRAPING_COLS = ['scrape_id','calendar_updated','calendar_last_scraped']\n",
    "\n",
    "ELSE_COLS = ['requires_license', 'license', 'jurisdiction_names', 'instant_bookable',\\\n",
    "             'is_business_travel_ready', 'cancellation_policy', 'require_guest_profile_picture',\\\n",
    "             'require_guest_phone_verification']"
   ]
  },
  {
   "cell_type": "markdown",
   "metadata": {},
   "source": [
    "## Neighborhood Info"
   ]
  },
  {
   "cell_type": "code",
   "execution_count": 7,
   "metadata": {},
   "outputs": [],
   "source": [
    "neighborhood_info = clean_listings_sf[ID + NEIGHBORHOOD_COLS + ABOUT_COLS]"
   ]
  },
  {
   "cell_type": "code",
   "execution_count": 8,
   "metadata": {},
   "outputs": [
    {
     "name": "stdout",
     "output_type": "stream",
     "text": [
      "<class 'pandas.core.frame.DataFrame'>\n",
      "RangeIndex: 7198 entries, 0 to 7197\n",
      "Data columns (total 18 columns):\n",
      "id                              7198 non-null int64\n",
      "listing_url                     7198 non-null object\n",
      "host_neighbourhood              6559 non-null object\n",
      "neighbourhood                   6660 non-null object\n",
      "neighbourhood_cleansed          7198 non-null object\n",
      "neighbourhood_group_cleansed    0 non-null float64\n",
      "last_scraped                    7198 non-null datetime64[ns]\n",
      "name                            7198 non-null object\n",
      "summary                         7000 non-null object\n",
      "space                           6109 non-null object\n",
      "description                     7183 non-null object\n",
      "experiences_offered             7198 non-null object\n",
      "neighborhood_overview           5310 non-null object\n",
      "notes                           4486 non-null object\n",
      "transit                         5238 non-null object\n",
      "access                          4794 non-null object\n",
      "interaction                     4931 non-null object\n",
      "house_rules                     5307 non-null object\n",
      "dtypes: datetime64[ns](1), float64(1), int64(1), object(15)\n",
      "memory usage: 1012.3+ KB\n"
     ]
    }
   ],
   "source": [
    "neighborhood_info.info()"
   ]
  },
  {
   "cell_type": "code",
   "execution_count": 37,
   "metadata": {},
   "outputs": [],
   "source": [
    "neighborhood_overviews = neighborhood_info[['id','neighbourhood_cleansed','neighborhood_overview']].dropna()"
   ]
  },
  {
   "cell_type": "markdown",
   "metadata": {},
   "source": [
    "## Get POS"
   ]
  },
  {
   "cell_type": "code",
   "execution_count": 38,
   "metadata": {},
   "outputs": [],
   "source": [
    "def get_pos_sentences(data):\n",
    "    # Tokenize each sentence into words: token_sentences\n",
    "    token_sentences = [nltk.word_tokenize(re.sub(r'[^\\x00-\\x7F]+',' ', sent)) for sent in data]\n",
    "\n",
    "    # Tag each tokenized sentence into parts of speech: pos_sentences\n",
    "    pos_sentences = [nltk.pos_tag(sent) for sent in token_sentences]\n",
    "    return pos_sentences"
   ]
  },
  {
   "cell_type": "code",
   "execution_count": 39,
   "metadata": {},
   "outputs": [],
   "source": [
    "# Initialize TextExtraction with DS Skills Listing\n",
    "pos_overviews_neighborhood = get_pos_sentences(neighborhood_overviews['neighborhood_overview'])"
   ]
  },
  {
   "cell_type": "markdown",
   "metadata": {},
   "source": [
    "## Non-NER"
   ]
  },
  {
   "cell_type": "code",
   "execution_count": 45,
   "metadata": {},
   "outputs": [],
   "source": [
    "def get_name_entities(pos_sentences):\n",
    "    \"\"\"Return Name Entities List\"\"\"\n",
    "    # Create the named entity chunks: chunked_sentences\n",
    "    chunked_sentences = nltk.ne_chunk_sents(pos_sentences, binary=True)\n",
    "        \n",
    "    # Chunk List per Listing\n",
    "    listing_chunk_list = []\n",
    "\n",
    "    # Test for stems of the tree with 'NE' tags\n",
    "    for sent in chunked_sentences:\n",
    "        chunks_list = []\n",
    "        for chunk in sent:\n",
    "            if hasattr(chunk, \"label\") and chunk.label() == \"NE\":\n",
    "                chunks_list.append(chunk.leaves())\n",
    "\n",
    "        #Append List of Chunks\n",
    "        listing_chunk_list.append(chunks_list)\n",
    "        \n",
    "    # Chunks to List of Words\n",
    "    listing_name_entity_list = [[' '.join([word[0] for word in chunk]) for chunk in chunk_list] for chunk_list in listing_chunk_list]\n",
    "                \n",
    "    return listing_name_entity_list"
   ]
  },
  {
   "cell_type": "code",
   "execution_count": 46,
   "metadata": {},
   "outputs": [],
   "source": [
    "ner_overviews_neighborhood = get_name_entities(pos_overviews_neighborhood)"
   ]
  },
  {
   "cell_type": "code",
   "execution_count": 47,
   "metadata": {},
   "outputs": [],
   "source": [
    "neighborhood_overviews = neighborhood_overviews.reset_index(drop=True)"
   ]
  },
  {
   "cell_type": "code",
   "execution_count": 48,
   "metadata": {},
   "outputs": [],
   "source": [
    "neighborhood_overviews['name_entities'] = pd.Series(ner_overviews_neighborhood)"
   ]
  },
  {
   "cell_type": "code",
   "execution_count": 50,
   "metadata": {},
   "outputs": [
    {
     "data": {
      "text/html": [
       "<div>\n",
       "<style scoped>\n",
       "    .dataframe tbody tr th:only-of-type {\n",
       "        vertical-align: middle;\n",
       "    }\n",
       "\n",
       "    .dataframe tbody tr th {\n",
       "        vertical-align: top;\n",
       "    }\n",
       "\n",
       "    .dataframe thead th {\n",
       "        text-align: right;\n",
       "    }\n",
       "</style>\n",
       "<table border=\"1\" class=\"dataframe\">\n",
       "  <thead>\n",
       "    <tr style=\"text-align: right;\">\n",
       "      <th></th>\n",
       "      <th>id</th>\n",
       "      <th>neighbourhood_cleansed</th>\n",
       "      <th>neighborhood_overview</th>\n",
       "      <th>name_entities</th>\n",
       "    </tr>\n",
       "  </thead>\n",
       "  <tbody>\n",
       "    <tr>\n",
       "      <th>0</th>\n",
       "      <td>958</td>\n",
       "      <td>Western Addition</td>\n",
       "      <td>*Quiet cul de sac in friendly neighborhood *St...</td>\n",
       "      <td>[Recreational Center]</td>\n",
       "    </tr>\n",
       "    <tr>\n",
       "      <th>1</th>\n",
       "      <td>5858</td>\n",
       "      <td>Bernal Heights</td>\n",
       "      <td>I love how our neighborhood feels quiet but is...</td>\n",
       "      <td>[Noe Valley, Bernal Heights]</td>\n",
       "    </tr>\n",
       "    <tr>\n",
       "      <th>2</th>\n",
       "      <td>7918</td>\n",
       "      <td>Haight Ashbury</td>\n",
       "      <td>Shopping old town, restaurants, McDonald, Whol...</td>\n",
       "      <td>[McDonald, Whole, Target]</td>\n",
       "    </tr>\n",
       "    <tr>\n",
       "      <th>3</th>\n",
       "      <td>8567</td>\n",
       "      <td>Western Addition</td>\n",
       "      <td>The neighborhood is very centrally located, cl...</td>\n",
       "      <td>[]</td>\n",
       "    </tr>\n",
       "    <tr>\n",
       "      <th>4</th>\n",
       "      <td>8739</td>\n",
       "      <td>Mission</td>\n",
       "      <td>Located between Valencia Street and Dolores Pa...</td>\n",
       "      <td>[Valencia Street, Dolores Park, San Francisco,...</td>\n",
       "    </tr>\n",
       "  </tbody>\n",
       "</table>\n",
       "</div>"
      ],
      "text/plain": [
       "     id neighbourhood_cleansed  \\\n",
       "0   958       Western Addition   \n",
       "1  5858         Bernal Heights   \n",
       "2  7918         Haight Ashbury   \n",
       "3  8567       Western Addition   \n",
       "4  8739                Mission   \n",
       "\n",
       "                               neighborhood_overview  \\\n",
       "0  *Quiet cul de sac in friendly neighborhood *St...   \n",
       "1  I love how our neighborhood feels quiet but is...   \n",
       "2  Shopping old town, restaurants, McDonald, Whol...   \n",
       "3  The neighborhood is very centrally located, cl...   \n",
       "4  Located between Valencia Street and Dolores Pa...   \n",
       "\n",
       "                                       name_entities  \n",
       "0                              [Recreational Center]  \n",
       "1                       [Noe Valley, Bernal Heights]  \n",
       "2                          [McDonald, Whole, Target]  \n",
       "3                                                 []  \n",
       "4  [Valencia Street, Dolores Park, San Francisco,...  "
      ]
     },
     "execution_count": 50,
     "metadata": {},
     "output_type": "execute_result"
    }
   ],
   "source": [
    "neighborhood_overviews.head()"
   ]
  },
  {
   "cell_type": "markdown",
   "metadata": {},
   "source": [
    "## Delete Name Entities"
   ]
  },
  {
   "cell_type": "code",
   "execution_count": 51,
   "metadata": {},
   "outputs": [],
   "source": [
    "def del_name_entities(row):\n",
    "    name_entities = row.name_entities\n",
    "    overview_w_ne = row.neighborhood_overview\n",
    "    \n",
    "    for ne in name_entities:\n",
    "        overview_w_ne = overview_w_ne.replace(ne, '')\n",
    "        \n",
    "    return overview_w_ne"
   ]
  },
  {
   "cell_type": "code",
   "execution_count": 53,
   "metadata": {},
   "outputs": [],
   "source": [
    "neighborhood_overviews['no_name_entities'] = neighborhood_overviews.apply(del_name_entities, 1)"
   ]
  },
  {
   "cell_type": "markdown",
   "metadata": {},
   "source": [
    "## Clean & Tokenize Overview Text"
   ]
  },
  {
   "cell_type": "code",
   "execution_count": 54,
   "metadata": {},
   "outputs": [],
   "source": [
    "import nltk\n",
    "from nltk.corpus import stopwords\n",
    "from nltk.stem import WordNetLemmatizer\n",
    "import string\n",
    "import re\n",
    "\n",
    "# Initialize Lemmatizer\n",
    "lemmatizer = WordNetLemmatizer()\n",
    "\n",
    "# Get Stopwords\n",
    "stop_words = set(stopwords.words('english'))\n",
    "\n",
    "# Get Puncuations\n",
    "punctuations = set(string.punctuation)\n",
    "\n",
    "def clean_text(doc):\n",
    "    \n",
    "    # remove all ascii\n",
    "    doc = re.sub(r'[^\\x00-\\x7F]+',' ', doc)\n",
    "\n",
    "    # Tokenize, Lemmatize, and Remove Stopwords\n",
    "    tokens = [lemmatizer.lemmatize(word).lower() for word in nltk.word_tokenize(doc) if word.lower() not in set(stop_words | punctuations)]\n",
    "    \n",
    "    return tokens"
   ]
  },
  {
   "cell_type": "code",
   "execution_count": 55,
   "metadata": {},
   "outputs": [],
   "source": [
    "# Clean & Tokenize Overviews\n",
    "neighborhood_overviews['no_ner_tokens'] = neighborhood_overviews['no_name_entities'].apply(clean_text)\n",
    "\n",
    "# Count Tokens\n",
    "neighborhood_overviews['no_ner_tokens_count'] = neighborhood_overviews['no_ner_tokens'].map(lambda x: len(x))"
   ]
  },
  {
   "cell_type": "code",
   "execution_count": 78,
   "metadata": {},
   "outputs": [
    {
     "data": {
      "text/plain": [
       "<matplotlib.axes._subplots.AxesSubplot at 0x128454fd0>"
      ]
     },
     "execution_count": 78,
     "metadata": {},
     "output_type": "execute_result"
    },
    {
     "data": {
      "image/png": "[encoded data removed]",
      "text/plain": [
       "<Figure size 432x288 with 1 Axes>"
      ]
     },
     "metadata": {
      "needs_background": "light"
     },
     "output_type": "display_data"
    }
   ],
   "source": [
    "neighborhood_overviews['no_ner_tokens_count'].hist()"
   ]
  },
  {
   "cell_type": "markdown",
   "metadata": {},
   "source": [
    "# Topic Modeling"
   ]
  },
  {
   "cell_type": "code",
   "execution_count": 56,
   "metadata": {},
   "outputs": [],
   "source": [
    "token_texts = list(neighborhood_overviews['no_ner_tokens'].values)"
   ]
  },
  {
   "cell_type": "code",
   "execution_count": 80,
   "metadata": {},
   "outputs": [],
   "source": [
    "from gensim.corpora.dictionary import Dictionary\n",
    "\n",
    "# Create a corpus from a list of texts\n",
    "common_dictionary = Dictionary(token_texts)\n",
    "common_corpus = [common_dictionary.doc2bow(text) for text in token_texts]"
   ]
  },
  {
   "cell_type": "code",
   "execution_count": 81,
   "metadata": {},
   "outputs": [],
   "source": [
    "from gensim.models.ldamulticore import LdaMulticore\n",
    "import time\n",
    "ldam = LdaMulticore\n",
    "\n",
    "num_topics = 50\n",
    "num_words = 5\n",
    "passes = 50\n",
    "\n",
    "# Get Start Time\n",
    "start_time = time.time()\n",
    "\n",
    "# LDA Model\n",
    "ldam_model = ldam(common_corpus, num_topics=num_topics, id2word=common_dictionary, passes=passes)\n",
    "model_end_time = time.time() # Model End Time\n",
    "\n",
    "# LDA Results\n",
    "results = ldam_model.print_topics(num_topics=num_topics, num_words=num_words)\n",
    "result_time = time.time() # Results Time"
   ]
  },
  {
   "cell_type": "code",
   "execution_count": 82,
   "metadata": {},
   "outputs": [],
   "source": [
    "ldam_model.save('../models/ldam_neighborhood_overviews_5topics_5words_50passes_no_ners.model')"
   ]
  },
  {
   "cell_type": "code",
   "execution_count": 83,
   "metadata": {},
   "outputs": [],
   "source": [
    "def display_results(results):\n",
    "    for index, results in results:\n",
    "        print(str(index) + ': ' + str(', '.join(results.split('\"')[1::2])))"
   ]
  },
  {
   "cell_type": "code",
   "execution_count": 87,
   "metadata": {},
   "outputs": [
    {
     "name": "stdout",
     "output_type": "stream",
     "text": [
      "0: walk, min, minute, 5, 10\n",
      "1: night, life, restaurant, mission, neighborhood\n",
      "2: area, park, home, family, shop\n",
      "3: easy, access, neighborhood, freeway, 101\n",
      "4: street, gate, great, golden, neighborhood\n",
      "5: view, neighborhood, located, city, area\n",
      "6: location, 4th, grab, high, street\n",
      "7: 's, city, explore, urban, district\n",
      "8: 's, city, walking, location, distance\n",
      "9: movie, restaurant, bar, theater, neighborhood\n",
      "10: neighborhood, 's, safe, quiet, one\n",
      "11: 's, homeless, people, neighborhood, street\n",
      "12: restaurant, shop, neighborhood, store, grocery\n",
      "13: neighborhood, great, restaurant, one, place\n",
      "14: food, office, post, great, view\n",
      "15: neighborhood, garden, one, park, -ashbury\n",
      "16: street, neighborhood, parking, block, mile\n",
      "17: walk, minute, block, restaurant, away\n",
      "18: city, one, 's, park, best\n",
      "19: 's, coffee, market, shop, pizza\n",
      "20: mi, 24th, ask, home, restaurant\n",
      "21: restaurant, neighborhood, shop, mission, bar\n",
      "22: block, street, best, restaurant, one\n",
      "23: neighborhood, sunday, food, fresh, morning\n",
      "24: transportation, public, home, neighborhood, access\n",
      "25: away, 's, neighborhood, minute, block\n",
      "26: neighborhood, walk, school, park, street\n",
      "27: restaurant, shop, neighborhood, coffee, block\n",
      "28: museum, art, young, home, visit\n",
      "29: block, away, restaurant, walking, distance\n",
      "30: neighborhood, 's, restaurant, number, city\n",
      "31: block, away, great, located, along\n",
      "32: view, neighborhood, street, park, city\n",
      "33: 's, city, head, centrally, nightlife\n",
      "34: neighborhood, restaurant, one, walk, block\n",
      "35: neighborhood, car, nearby, parking, attraction\n",
      "36: close, everything, restaurant, great, store\n",
      "37: neighborhood, restaurant, downtown, many, city\n",
      "38: hidden, 's, cafe, city, view\n",
      "39: --, city, view, neighborhood, park\n",
      "40: location, 's, city, perfect, center\n",
      "41: neighborhood, away, apartment, park, shop\n",
      "42: block, away, restaurant, store, city\n",
      "43: mission, neighborhood, city, offer, plenty\n",
      "44: near, restaurant, district, 's, located\n",
      "45: door, right, front, transportation, next\n",
      "46: block, neighborhood, restaurant, valley, away\n",
      "47: downtown, bus, take, line, stop\n",
      "48: course, trail, beach, hiking, golf\n",
      "49: neighborhood, easy, walk, access, ``\n"
     ]
    }
   ],
   "source": [
    "display_results(results)"
   ]
  },
  {
   "cell_type": "code",
   "execution_count": 85,
   "metadata": {},
   "outputs": [],
   "source": [
    "def display_results_no_duplicates(results):\n",
    "    all_lists = []\n",
    "    for index, result in results:\n",
    "        all_lists = all_lists + result.split('\"')[1::2]\n",
    "    \n",
    "    # Get Counts of each word\n",
    "    counts = pd.Series(all_lists).value_counts()\n",
    "    no_duplicates = counts[counts == 1].index\n",
    "    \n",
    "    for index, result in results:\n",
    "        print(str(index) + ': ' + str(', '.join([word for word in result.split('\"')[1::2] if word in no_duplicates])))"
   ]
  },
  {
   "cell_type": "code",
   "execution_count": 86,
   "metadata": {},
   "outputs": [
    {
     "name": "stdout",
     "output_type": "stream",
     "text": [
      "0: min, 5, 10\n",
      "1: night, life\n",
      "2: family\n",
      "3: freeway, 101\n",
      "4: gate, golden\n",
      "5: \n",
      "6: 4th, grab, high\n",
      "7: explore, urban\n",
      "8: \n",
      "9: movie, theater\n",
      "10: safe, quiet\n",
      "11: homeless, people\n",
      "12: grocery\n",
      "13: place\n",
      "14: office, post\n",
      "15: garden, -ashbury\n",
      "16: mile\n",
      "17: \n",
      "18: \n",
      "19: market, pizza\n",
      "20: mi, 24th, ask\n",
      "21: \n",
      "22: \n",
      "23: sunday, fresh, morning\n",
      "24: public\n",
      "25: \n",
      "26: school\n",
      "27: \n",
      "28: museum, art, young, visit\n",
      "29: \n",
      "30: number\n",
      "31: along\n",
      "32: \n",
      "33: head, centrally, nightlife\n",
      "34: \n",
      "35: car, nearby, attraction\n",
      "36: close, everything\n",
      "37: many\n",
      "38: hidden, cafe\n",
      "39: --\n",
      "40: perfect, center\n",
      "41: apartment\n",
      "42: \n",
      "43: offer, plenty\n",
      "44: near\n",
      "45: door, right, front, next\n",
      "46: valley\n",
      "47: bus, take, line, stop\n",
      "48: course, trail, beach, hiking, golf\n",
      "49: ``\n"
     ]
    }
   ],
   "source": [
    "display_results_no_duplicates(results)"
   ]
  },
  {
   "cell_type": "code",
   "execution_count": null,
   "metadata": {},
   "outputs": [],
   "source": []
  },
  {
   "cell_type": "code",
   "execution_count": null,
   "metadata": {},
   "outputs": [],
   "source": []
  },
  {
   "cell_type": "code",
   "execution_count": null,
   "metadata": {},
   "outputs": [],
   "source": []
  },
  {
   "cell_type": "code",
   "execution_count": null,
   "metadata": {},
   "outputs": [],
   "source": []
  },
  {
   "cell_type": "markdown",
   "metadata": {},
   "source": [
    "# By Neighborhood"
   ]
  },
  {
   "cell_type": "code",
   "execution_count": 61,
   "metadata": {},
   "outputs": [],
   "source": [
    "tokens_by_neighborhood = neighborhood_overviews.groupby('neighbourhood_cleansed')[['no_ner_tokens']].apply(sum)"
   ]
  },
  {
   "cell_type": "markdown",
   "metadata": {},
   "source": [
    "# Topic Modeling"
   ]
  },
  {
   "cell_type": "code",
   "execution_count": 62,
   "metadata": {},
   "outputs": [],
   "source": [
    "token_texts_by_neighborhood = list(tokens_by_neighborhood['no_ner_tokens'].values)"
   ]
  },
  {
   "cell_type": "code",
   "execution_count": 63,
   "metadata": {},
   "outputs": [],
   "source": [
    "from gensim.corpora.dictionary import Dictionary\n",
    "\n",
    "# Create a corpus from a list of texts\n",
    "common_dictionary_by_neighborhood = Dictionary(token_texts_by_neighborhood)\n",
    "common_corpus_by_neighborhood = [common_dictionary_by_neighborhood.doc2bow(text) for text in token_texts_by_neighborhood]"
   ]
  },
  {
   "cell_type": "code",
   "execution_count": 64,
   "metadata": {},
   "outputs": [],
   "source": [
    "from gensim.models.ldamulticore import LdaMulticore\n",
    "import time\n",
    "ldam = LdaMulticore\n",
    "\n",
    "num_topics = 50\n",
    "num_words = 10\n",
    "passes = 50\n",
    "\n",
    "# Get Start Time\n",
    "start_time = time.time()\n",
    "\n",
    "# LDA Model\n",
    "ldam_model_by_neighborhood = ldam(common_corpus_by_neighborhood, num_topics=num_topics, id2word=common_dictionary_by_neighborhood, passes=passes)\n",
    "model_end_time = time.time() # Model End Time\n",
    "\n",
    "# LDA Results\n",
    "results_by_neighborhood = ldam_model_by_neighborhood.print_topics(num_topics=num_topics, num_words=num_words)\n",
    "result_time = time.time() # Results Time"
   ]
  },
  {
   "cell_type": "code",
   "execution_count": 65,
   "metadata": {},
   "outputs": [
    {
     "name": "stdout",
     "output_type": "stream",
     "text": [
      "0: neighborhood, 's, block, restaurant, walk, city, minute, shop, away, street\n",
      "1: restaurant, neighborhood, 's, city, walk, block, shop, away, distance, within\n",
      "2: restaurant, 's, neighborhood, block, street, walk, bar, walking, great, shop\n",
      "3: neighborhood, 's, restaurant, block, walk, away, street, shop, city, bar\n",
      "4: neighborhood, block, restaurant, 's, walk, one, park, shop, away, also\n",
      "5: restaurant, neighborhood, 's, away, block, city, walking, street, shop, many\n",
      "6: 's, neighborhood, block, restaurant, shop, city, great, away, walk, within\n",
      "7: neighborhood, restaurant, 's, street, away, city, walk, walking, block, shop\n",
      "8: neighborhood, restaurant, 's, walk, block, shop, street, city, one, away\n",
      "9: min, downtown, bank, 15, sf, crocker-amazon, traffic, line, laundromat, safe\n",
      "10: restaurant, neighborhood, 's, great, walk, walking, block, street, bar, within\n",
      "11: restaurant, neighborhood, block, 's, city, away, street, shop, walk, distance\n",
      "12: 's, district, block, city, financial, explore, restaurant, one, walk, location\n",
      "13: neighborhood, block, restaurant, walk, shop, 's, away, park, street, city\n",
      "14: neighborhood, restaurant, 's, walk, away, block, city, walking, area, park\n",
      "15: neighborhood, restaurant, block, 's, walk, walking, away, shop, within, located\n",
      "16: dead-end, 1-mile, above-ground, 52, wi-fi, feedback, neighborhood, city, 800, 's\n",
      "17: restaurant, neighborhood, 's, block, walk, away, city, shop, walking, bar\n",
      "18: neighborhood, 's, restaurant, block, city, away, walk, shop, walking, street\n",
      "19: 's, neighborhood, restaurant, block, walk, city, street, bar, within, walking\n",
      "20: restaurant, neighborhood, block, walk, city, walking, park, one, shop, great\n",
      "21: neighborhood, 's, restaurant, block, walk, away, street, shop, park, walking\n",
      "22: restaurant, neighborhood, 's, block, walk, city, shop, walking, within, away\n",
      "23: neighborhood, 's, restaurant, block, city, street, within, shop, walk, walking\n",
      "24: 's, block, restaurant, neighborhood, street, distance, walking, away, shop, within\n",
      "25: park, trail, presidio, restaurant, away, walk, shop, great, bar, coffee\n",
      "26: city, neighborhood, view, minute, hill, located, 's, quiet, center, trail\n",
      "27: 's, head, city, walking, distance, shopping, rest, offer, within, explore\n",
      "28: 's, neighborhood, restaurant, city, distance, street, away, walking, walk, block\n",
      "29: neighborhood, restaurant, block, 's, walk, away, shop, city, minute, street\n",
      "30: neighborhood, 's, restaurant, walk, shop, city, park, block, street, within\n",
      "31: restaurant, neighborhood, city, 's, block, walk, away, street, located, shop\n",
      "32: neighborhood, 's, restaurant, away, block, street, city, shop, walk, walking\n",
      "33: neighborhood, 's, restaurant, block, walk, city, minute, away, walking, located\n",
      "34: neighborhood, restaurant, 's, street, walk, block, city, located, walking, many\n",
      "35: restaurant, neighborhood, 's, city, block, walk, walking, away, street, distance\n",
      "36: mission, neighborhood, restaurant, block, 's, street, city, bar, shop, best\n",
      "37: 's, block, neighborhood, restaurant, presidio, walking, distance, away, within, take\n",
      "38: neighborhood, restaurant, block, city, away, walk, 's, walking, shop, street\n",
      "39: restaurant, 's, city, neighborhood, block, best, within, bar, walk, located\n",
      "40: neighborhood, restaurant, block, 's, city, street, walk, away, shop, bar\n",
      "41: 's, neighborhood, block, restaurant, walk, wharf, street, away, located, shop\n",
      "42: stop, mall, university, golf, harding, course, state, house, away, freeway\n",
      "43: neighborhood, restaurant, 's, walk, located, away, block, city, street, shop\n",
      "44: 's, neighborhood, restaurant, walk, street, city, walking, block, away, minute\n",
      "45: neighborhood, restaurant, block, 's, street, away, shop, walk, bar, city\n",
      "46: restaurant, neighborhood, block, 's, shop, city, walk, located, distance, street\n",
      "47: 's, restaurant, neighborhood, block, away, located, car, great, walking, city\n",
      "48: restaurant, block, neighborhood, walk, 's, street, city, shop, away, park\n",
      "49: neighborhood, restaurant, 's, block, walk, street, city, shop, distance, walking\n"
     ]
    }
   ],
   "source": [
    "display_results(results_by_neighborhood)"
   ]
  },
  {
   "cell_type": "code",
   "execution_count": null,
   "metadata": {},
   "outputs": [],
   "source": []
  },
  {
   "cell_type": "code",
   "execution_count": null,
   "metadata": {},
   "outputs": [],
   "source": []
  },
  {
   "cell_type": "code",
   "execution_count": null,
   "metadata": {},
   "outputs": [],
   "source": []
  },
  {
   "cell_type": "code",
   "execution_count": null,
   "metadata": {},
   "outputs": [],
   "source": []
  },
  {
   "cell_type": "code",
   "execution_count": null,
   "metadata": {},
   "outputs": [],
   "source": []
  },
  {
   "cell_type": "code",
   "execution_count": null,
   "metadata": {},
   "outputs": [],
   "source": []
  },
  {
   "cell_type": "code",
   "execution_count": null,
   "metadata": {},
   "outputs": [],
   "source": []
  },
  {
   "cell_type": "code",
   "execution_count": null,
   "metadata": {},
   "outputs": [],
   "source": []
  },
  {
   "cell_type": "code",
   "execution_count": null,
   "metadata": {},
   "outputs": [],
   "source": []
  }
 ],
 "metadata": {
  "kernelspec": {
   "display_name": "Python 3",
   "language": "python",
   "name": "python3"
  },
  "language_info": {
   "codemirror_mode": {
    "name": "ipython",
    "version": 2
   },
   "file_extension": ".py",
   "mimetype": "text/x-python",
   "name": "python",
   "nbconvert_exporter": "python",
   "pygments_lexer": "ipython2",
   "version": "2.7.3"
  }
 },
 "nbformat": 4,
 "nbformat_minor": 2
}
