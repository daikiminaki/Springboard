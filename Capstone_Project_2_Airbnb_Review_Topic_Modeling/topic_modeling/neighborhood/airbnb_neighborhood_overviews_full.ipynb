{
 "cells": [
  {
   "cell_type": "markdown",
   "metadata": {},
   "source": [
    "# Topic Modeling Full Overviews"
   ]
  },
  {
   "cell_type": "code",
   "execution_count": 2,
   "metadata": {},
   "outputs": [],
   "source": [
    "import pandas as pd\n",
    "import matplotlib.pyplot as plt\n",
    "import numpy as np\n",
    "import seaborn as sns; sns.set()\n",
    "import glob as glob"
   ]
  },
  {
   "cell_type": "code",
   "execution_count": 3,
   "metadata": {},
   "outputs": [],
   "source": [
    "def load_sample_data(country, city):\n",
    "    directory = 'data/' + country + '/' + city + '/'\n",
    "    csv_files = [file_name for file_name in glob.glob(directory + '*') if file_name[-4:] == '.csv']\n",
    "    \n",
    "    for file_loc in csv_files:\n",
    "        file_name = file_loc.split('/')[3]\n",
    "        \n",
    "        if file_name == 'listings_sample.csv':\n",
    "            #Read Listing Sample\n",
    "            listing_sample = pd.read_csv(file_loc)\n",
    "            \n",
    "        elif file_name == 'reviews_sample.csv':\n",
    "            #Read Review Sample\n",
    "            reviews_sample = pd.read_csv(file_loc)\n",
    "            \n",
    "        elif file_name == 'neighbourhoods_sample.csv':\n",
    "            #Read Neighborhoods\n",
    "            neighbourhoods_sample = pd.read_csv(file_loc)\n",
    "            \n",
    "    return [listing_sample, reviews_sample, neighbourhoods_sample]\n",
    "\n",
    "\n",
    "def load_full_data(country, city):\n",
    "    directory = 'data/' + country + '/' + city + '/'\n",
    "    csv_files = [file_name for file_name in glob.glob(directory + '*') if file_name[-4:] == '.csv']\n",
    "    \n",
    "    for file_loc in csv_files:\n",
    "        file_name = file_loc.split('/')[3]\n",
    "        \n",
    "        if file_name == 'listings_full.csv':\n",
    "            #Read Listings\n",
    "            listings_full = pd.read_csv(file_loc).drop(columns=['Unnamed: 0'])\n",
    "            \n",
    "        elif file_name == 'reviews_full.csv':\n",
    "            #Read Reviews\n",
    "            reviews_full = pd.read_csv(file_loc).drop(columns=['Unnamed: 0'])\n",
    "            \n",
    "        elif file_name == 'calendar_full.csv':\n",
    "            #Read Calendar\n",
    "            calendar_full = pd.read_csv(file_loc).drop(columns=['Unnamed: 0'])\n",
    "            \n",
    "    return [listings_full, reviews_full, calendar_full]"
   ]
  },
  {
   "cell_type": "code",
   "execution_count": null,
   "metadata": {},
   "outputs": [],
   "source": []
  },
  {
   "cell_type": "code",
   "execution_count": 5,
   "metadata": {},
   "outputs": [],
   "source": [
    "listings_sf = pd.read_csv('../sf/listings_detailed.csv')"
   ]
  },
  {
   "cell_type": "code",
   "execution_count": 6,
   "metadata": {},
   "outputs": [],
   "source": [
    "def clean_listing_full(listing_full_data):\n",
    "    \"\"\"Cleans listing_full.csv data\"\"\"\n",
    "    # Input Data\n",
    "    df = listing_full_data\n",
    "    \n",
    "    # String to Datetime\n",
    "    df['last_scraped'] = pd.to_datetime(df['last_scraped'])\n",
    "    df['host_since'] = pd.to_datetime(df['host_since'])\n",
    "    df['calendar_last_scraped'] = pd.to_datetime(df['calendar_last_scraped'])\n",
    "    df['first_review'] = pd.to_datetime(df['first_review'])\n",
    "    df['last_review'] = pd.to_datetime(df['last_review'])\n",
    "    \n",
    "    # String to Numeric\n",
    "    df['host_response_rate'] = pd.to_numeric(df['host_response_rate'].str[:-1]) / 100\n",
    "    df['price'] = pd.to_numeric(df['price'].str[1:].str.replace(',',''))\n",
    "    df['weekly_price'] = pd.to_numeric(df['weekly_price'].str[1:].str.replace(',',''))\n",
    "    df['monthly_price'] = pd.to_numeric(df['monthly_price'].str[1:].str.replace(',',''))\n",
    "    df['security_deposit'] = pd.to_numeric(df['security_deposit'].str[1:].str.replace(',',''))\n",
    "    df['cleaning_fee'] = pd.to_numeric(df['cleaning_fee'].str[1:].str.replace(',',''))\n",
    "    df['extra_people'] = pd.to_numeric(df['extra_people'].str[1:].str.replace(',',''))\n",
    "\n",
    "    # t/f to Numeric\n",
    "    df['host_is_superhost'] = (df['host_is_superhost'] == \"t\").astype(int)\n",
    "    df['host_has_profile_pic'] = (df['host_has_profile_pic'] == \"t\").astype(int)\n",
    "    df['host_identity_verified'] = (df['host_identity_verified'] == \"t\").astype(int)\n",
    "    df['is_location_exact'] = (df['is_location_exact'] == \"t\").astype(int)\n",
    "    df['has_availability'] = (df['has_availability'] == \"t\").astype(int)\n",
    "    df['requires_license'] = (df['requires_license'] == \"t\").astype(int)\n",
    "    df['instant_bookable'] = (df['instant_bookable'] == \"t\").astype(int)\n",
    "    df['is_business_travel_ready'] = (df['is_business_travel_ready'] == \"t\").astype(int)\n",
    "    df['require_guest_profile_picture'] = (df['require_guest_profile_picture'] == \"t\").astype(int)\n",
    "    df['require_guest_phone_verification'] = (df['require_guest_phone_verification'] == \"t\").astype(int)\n",
    "    \n",
    "    return df"
   ]
  },
  {
   "cell_type": "code",
   "execution_count": 7,
   "metadata": {},
   "outputs": [],
   "source": [
    "clean_listings_sf = clean_listing_full(listings_sf)"
   ]
  },
  {
   "cell_type": "code",
   "execution_count": 8,
   "metadata": {},
   "outputs": [],
   "source": [
    "listings_detailed = clean_listings_sf.copy()\n",
    "\n",
    "ID = list(listings_detailed.iloc[:,:2].columns)\n",
    "\n",
    "ABOUT_COLS = list(listings_detailed.iloc[:,3:15].columns)\n",
    "\n",
    "PICS_COLS = list(listings_detailed.iloc[:,15:19].columns)\n",
    "\n",
    "HOST_COLS = list(listings_detailed.columns[listings_detailed.columns.str.contains('host')])\n",
    "\n",
    "NEIGHBORHOOD_COLS = list(listings_detailed.columns[listings_detailed.columns.str.contains('neighbourhood')])\n",
    "\n",
    "LOCATION_COLS = list(listings_detailed.iloc[:,37:51].columns)\n",
    "\n",
    "PROPERTY_COLS = list(listings_detailed.iloc[:,51:60].columns)\n",
    "\n",
    "PRICE_COLS = list(listings_detailed.iloc[:,60:67].columns)\n",
    "\n",
    "NIGHTS_COLS = list(listings_detailed.columns[listings_detailed.columns.str.contains('mum')])\n",
    "\n",
    "AVAILABILITY_COLS = list(listings_detailed.columns[listings_detailed.columns.str.contains('availability')])\n",
    "\n",
    "REVIEW_COLS = list(listings_detailed.columns[listings_detailed.columns.str.contains('review')])\n",
    "\n",
    "SCRAPING_COLS = ['scrape_id','calendar_updated','calendar_last_scraped']\n",
    "\n",
    "ELSE_COLS = ['requires_license', 'license', 'jurisdiction_names', 'instant_bookable',\\\n",
    "             'is_business_travel_ready', 'cancellation_policy', 'require_guest_profile_picture',\\\n",
    "             'require_guest_phone_verification']"
   ]
  },
  {
   "cell_type": "markdown",
   "metadata": {},
   "source": [
    "## Neighborhood Info"
   ]
  },
  {
   "cell_type": "code",
   "execution_count": 9,
   "metadata": {},
   "outputs": [],
   "source": [
    "neighborhood_info = clean_listings_sf[ID + NEIGHBORHOOD_COLS + ABOUT_COLS]"
   ]
  },
  {
   "cell_type": "code",
   "execution_count": 10,
   "metadata": {},
   "outputs": [
    {
     "name": "stdout",
     "output_type": "stream",
     "text": [
      "<class 'pandas.core.frame.DataFrame'>\n",
      "RangeIndex: 7198 entries, 0 to 7197\n",
      "Data columns (total 18 columns):\n",
      "id                              7198 non-null int64\n",
      "listing_url                     7198 non-null object\n",
      "host_neighbourhood              6559 non-null object\n",
      "neighbourhood                   6660 non-null object\n",
      "neighbourhood_cleansed          7198 non-null object\n",
      "neighbourhood_group_cleansed    0 non-null float64\n",
      "last_scraped                    7198 non-null datetime64[ns]\n",
      "name                            7198 non-null object\n",
      "summary                         7000 non-null object\n",
      "space                           6109 non-null object\n",
      "description                     7183 non-null object\n",
      "experiences_offered             7198 non-null object\n",
      "neighborhood_overview           5310 non-null object\n",
      "notes                           4486 non-null object\n",
      "transit                         5238 non-null object\n",
      "access                          4794 non-null object\n",
      "interaction                     4931 non-null object\n",
      "house_rules                     5307 non-null object\n",
      "dtypes: datetime64[ns](1), float64(1), int64(1), object(15)\n",
      "memory usage: 1012.3+ KB\n"
     ]
    }
   ],
   "source": [
    "neighborhood_info.info()"
   ]
  },
  {
   "cell_type": "code",
   "execution_count": 11,
   "metadata": {},
   "outputs": [],
   "source": [
    "neighborhood_overviews = neighborhood_info[['id','neighbourhood_cleansed','neighborhood_overview']].dropna()"
   ]
  },
  {
   "cell_type": "markdown",
   "metadata": {},
   "source": [
    "## Clean & Tokenize Overview Text"
   ]
  },
  {
   "cell_type": "code",
   "execution_count": 12,
   "metadata": {},
   "outputs": [],
   "source": [
    "import nltk\n",
    "from nltk.corpus import stopwords\n",
    "from nltk.stem import WordNetLemmatizer\n",
    "import string\n",
    "import re\n",
    "\n",
    "# Initialize Lemmatizer\n",
    "lemmatizer = WordNetLemmatizer()\n",
    "\n",
    "# Get Stopwords\n",
    "stop_words = set(stopwords.words('english'))\n",
    "\n",
    "# Get Puncuations\n",
    "punctuations = set(string.punctuation)\n",
    "\n",
    "def clean_text(doc):\n",
    "    \n",
    "    # remove all ascii\n",
    "    doc = re.sub(r'[^\\x00-\\x7F]+',' ', doc)\n",
    "\n",
    "    # Tokenize, Lemmatize, and Remove Stopwords\n",
    "    tokens = [lemmatizer.lemmatize(word).lower() for word in nltk.word_tokenize(doc) if word.lower() not in set(stop_words | punctuations)]\n",
    "    \n",
    "    return tokens"
   ]
  },
  {
   "cell_type": "code",
   "execution_count": 13,
   "metadata": {},
   "outputs": [],
   "source": [
    "# Clean & Tokenize Overviews\n",
    "neighborhood_overviews['tokens'] = neighborhood_overviews['neighborhood_overview'].apply(clean_text)"
   ]
  },
  {
   "cell_type": "code",
   "execution_count": 14,
   "metadata": {},
   "outputs": [],
   "source": [
    "neighborhood_overviews['clean_overviews'] = neighborhood_overviews['tokens'].map(lambda x: ' '.join(x))"
   ]
  },
  {
   "cell_type": "markdown",
   "metadata": {},
   "source": [
    "# Topic Modeling"
   ]
  },
  {
   "cell_type": "code",
   "execution_count": 15,
   "metadata": {},
   "outputs": [],
   "source": [
    "token_texts = list(neighborhood_overviews['tokens'].values)"
   ]
  },
  {
   "cell_type": "code",
   "execution_count": 16,
   "metadata": {},
   "outputs": [
    {
     "name": "stderr",
     "output_type": "stream",
     "text": [
      "/anaconda3/lib/python2.7/site-packages/cryptography/hazmat/primitives/constant_time.py:26: CryptographyDeprecationWarning: Support for your Python version is deprecated. The next version of cryptography will remove support. Please upgrade to a 2.7.x release that supports hmac.compare_digest as soon as possible.\n",
      "  utils.PersistentlyDeprecated2018,\n"
     ]
    }
   ],
   "source": [
    "from gensim.corpora.dictionary import Dictionary\n",
    "\n",
    "# Create a corpus from a list of texts\n",
    "common_dictionary = Dictionary(token_texts)\n",
    "common_corpus = [common_dictionary.doc2bow(text) for text in token_texts]"
   ]
  },
  {
   "cell_type": "code",
   "execution_count": 17,
   "metadata": {},
   "outputs": [],
   "source": [
    "from gensim.models.ldamulticore import LdaMulticore\n",
    "import time\n",
    "ldam = LdaMulticore\n",
    "\n",
    "num_topics = 50\n",
    "num_words = 10\n",
    "passes = 50\n",
    "\n",
    "# Get Start Time\n",
    "start_time = time.time()\n",
    "\n",
    "# LDA Model\n",
    "ldam_model = ldam(common_corpus, num_topics=num_topics, id2word=common_dictionary, passes=passes)\n",
    "model_end_time = time.time() # Model End Time\n",
    "\n",
    "# LDA Results\n",
    "results = ldam_model.print_topics(num_topics=num_topics, num_words=num_words)\n",
    "result_time = time.time() # Results Time"
   ]
  },
  {
   "cell_type": "code",
   "execution_count": 18,
   "metadata": {},
   "outputs": [],
   "source": [
    "def display_results(results):\n",
    "    for index, results in results:\n",
    "        print(str(index) + ': ' + str(', '.join(results.split('\"')[1::2])))"
   ]
  },
  {
   "cell_type": "code",
   "execution_count": 19,
   "metadata": {},
   "outputs": [
    {
     "name": "stdout",
     "output_type": "stream",
     "text": [
      "0: duboce, triangle, walk, best, 're, neighborhood, mission, san, francisco, haight\n",
      "1: block, shop, coffee, street, restaurant, polk, store, cafe, bar, town\n",
      "2: walking, distance, within, restaurant, great, bar, shop, right, everything, cafe\n",
      "3: store, restaurant, grocery, 's, block, within, market, distance, many, walking\n",
      "4: walk, city, minute, restaurant, block, shop, want, bus, get, line\n",
      "5: minute, walk, min, 10, away, 5, neighborhood, downtown, park, 15\n",
      "6: block, street, market, 's, store, mission, restaurant, park, shop, neighborhood\n",
      "7: cathedral, grace, hotel, nob, walk, great, city, huntington, hill, neighborhood\n",
      "8: gate, golden, park, beach, museum, block, ocean, restaurant, neighborhood, garden\n",
      "9: mission, neighborhood, minute, coffee, park, restaurant, 's, transit, best, public\n",
      "10: san, francisco, district, walk, park, restaurant, take, shop, view, spot\n",
      "11: park, haight, restaurant, block, alamo, square, golden, gate, nopa, divisadero\n",
      "12: mission, san, francisco, neighborhood, restaurant, street, mural, best, district, enjoy\n",
      "13: park, glen, neighborhood, san, canyon, francisco, village, trail, restaurant, hiking\n",
      "14: valley, castro, noe, mission, neighborhood, restaurant, dolores, street, park, shop\n",
      "15: neighborhood, sf, san, francisco, get, one, food, city, take, 's\n",
      "16: 's, francisco, san, city, head, market, shopping, street, center, restaurant\n",
      "17: 's, le, location, bar, intimate, sport, destination, restaurant, casual, still\n",
      "18: hill, potrero, view, city, 's, neighborhood, san, francisco, street, bay\n",
      "19: --, neighborhood, 's, sf, city, area, street, san, francisco, restaurant\n",
      "20: parking, one, street, plenty, free, park, bar, car, fun, restaurant\n",
      "21: bernal, heights, park, hill, mission, cortland, restaurant, view, cafe, neighborhood\n",
      "22: district, area, financial, also, bart, downtown, near, quiet, stop, located\n",
      "23: francisco, san, 's, city, square, district, hill, explore, union, one\n",
      "24: san, francisco, hidden, museum, home, block, one, art, neighborhood, south\n",
      "25: neighborhood, building, car, close, cable, tenderloin, attraction, great, center, nearby\n",
      "26: neighborhood, amenity, 's, street, key, walk, home, low, problem, need\n",
      "27: bay, mission, location, francisco, san, 4th, south, caltrain, ideal, high\n",
      "28: mi, san, francisco, coffee, local, kitchen, 0.5, height, 0.4, dynamo\n",
      "29: st, food, mission, street, block, restaurant, coffee, sushi, good, place\n",
      "30: whole, foods, neighborhood, restaurant, food, good, street, block, 's, safeway\n",
      "31: parking, street, block, hour, car, neighborhood, 2, get, 4, hotel\n",
      "32: neighborhood, ``, '', people, lot, restaurant, best, family, area, friendly\n",
      "33: neighborhood, bayview, francisco, san, city, coffee, brewery, 's, cafe, corner\n",
      "34: neighborhood, san, francisco, 's, city, people, cafe, part, soma, like\n",
      "35: one, located, beach, shopping, neighborhood, san, home, square, union, live\n",
      "36: park, haight, neighborhood, san, francisco, garden, haight-ashbury, one, love, eating\n",
      "37: score, city, francisco, san, location, neighborhood, 's, located, 100, place\n",
      "38: great, restaurant, view, food, lunch, union, square, marcus, eclectic, rotunda\n",
      "39: street, bridge, wharf, fisherman, 's, gate, golden, marina, union, square\n",
      "40: 's, city, neighborhood, street, take, stroll, francisco, san, away, block\n",
      "41: neighborhood, full, sf, street, park, st., valley, city, get, best\n",
      "42: restaurant, neighborhood, public, transportation, shop, block, located, san, francisco, bar\n",
      "43: neighborhood, away, street, park, block, san, francisco, restaurant, nice, one\n",
      "44: neighborhood, safe, quiet, family, friendly, city, cole, close, valley, area\n",
      "45: neighborhood, parking, street, love, dogpatch, nearby, awesome, san, francisco, safe\n",
      "46: italian, chinese, thai, 's, food, mexican, airbnb, block, indian, vietnamese\n",
      "47: block, away, grocery, within, city, francisco, fitness, san, store, art\n",
      "48: san, francisco, neighborhood, ocean, sunset, close, park, quiet, beach, access\n",
      "49: square, union, center, block, soma, downtown, san, francisco, sf, hall\n"
     ]
    }
   ],
   "source": [
    "display_results(results)"
   ]
  },
  {
   "cell_type": "code",
   "execution_count": 20,
   "metadata": {},
   "outputs": [],
   "source": [
    "ldam_model.save('../models/full_overviews_50topics_10words_50passes.model')"
   ]
  },
  {
   "cell_type": "code",
   "execution_count": null,
   "metadata": {},
   "outputs": [],
   "source": []
  },
  {
   "cell_type": "markdown",
   "metadata": {},
   "source": [
    "# By Neighborhood"
   ]
  },
  {
   "cell_type": "code",
   "execution_count": 23,
   "metadata": {},
   "outputs": [],
   "source": [
    "tokens_by_neighborhood = neighborhood_overviews.groupby('neighbourhood_cleansed')[['tokens']].apply(sum)"
   ]
  },
  {
   "cell_type": "markdown",
   "metadata": {},
   "source": [
    "# Topic Modeling"
   ]
  },
  {
   "cell_type": "code",
   "execution_count": 26,
   "metadata": {},
   "outputs": [],
   "source": [
    "token_texts_by_neighborhood = list(tokens_by_neighborhood['tokens'].values)"
   ]
  },
  {
   "cell_type": "code",
   "execution_count": 27,
   "metadata": {},
   "outputs": [],
   "source": [
    "from gensim.corpora.dictionary import Dictionary\n",
    "\n",
    "# Create a corpus from a list of texts\n",
    "common_dictionary_by_neighborhood = Dictionary(token_texts_by_neighborhood)\n",
    "common_corpus_by_neighborhood = [common_dictionary_by_neighborhood.doc2bow(text) for text in token_texts_by_neighborhood]"
   ]
  },
  {
   "cell_type": "code",
   "execution_count": 28,
   "metadata": {},
   "outputs": [],
   "source": [
    "from gensim.models.ldamulticore import LdaMulticore\n",
    "import time\n",
    "ldam = LdaMulticore\n",
    "\n",
    "num_topics = 50\n",
    "num_words = 10\n",
    "passes = 50\n",
    "\n",
    "# Get Start Time\n",
    "start_time = time.time()\n",
    "\n",
    "# LDA Model\n",
    "ldam_model_by_neighborhood = ldam(common_corpus_by_neighborhood, num_topics=num_topics, id2word=common_dictionary_by_neighborhood, passes=passes)\n",
    "model_end_time = time.time() # Model End Time\n",
    "\n",
    "# LDA Results\n",
    "results_by_neighborhood = ldam_model.print_topics(num_topics=num_topics, num_words=num_words)\n",
    "result_time = time.time() # Results Time"
   ]
  },
  {
   "cell_type": "code",
   "execution_count": 29,
   "metadata": {},
   "outputs": [
    {
     "name": "stdout",
     "output_type": "stream",
     "text": [
      "0: duboce, triangle, walk, best, 're, neighborhood, mission, san, francisco, haight\n",
      "1: block, shop, coffee, street, restaurant, polk, store, cafe, bar, town\n",
      "2: walking, distance, within, restaurant, great, bar, shop, right, everything, cafe\n",
      "3: store, restaurant, grocery, 's, block, within, market, distance, many, walking\n",
      "4: walk, city, minute, restaurant, block, shop, want, bus, get, line\n",
      "5: minute, walk, min, 10, away, 5, neighborhood, downtown, park, 15\n",
      "6: block, street, market, 's, store, mission, restaurant, park, shop, neighborhood\n",
      "7: cathedral, grace, hotel, nob, walk, great, city, huntington, hill, neighborhood\n",
      "8: gate, golden, park, beach, museum, block, ocean, restaurant, neighborhood, garden\n",
      "9: mission, neighborhood, minute, coffee, park, restaurant, 's, transit, best, public\n",
      "10: san, francisco, district, walk, park, restaurant, take, shop, view, spot\n",
      "11: park, haight, restaurant, block, alamo, square, golden, gate, nopa, divisadero\n",
      "12: mission, san, francisco, neighborhood, restaurant, street, mural, best, district, enjoy\n",
      "13: park, glen, neighborhood, san, canyon, francisco, village, trail, restaurant, hiking\n",
      "14: valley, castro, noe, mission, neighborhood, restaurant, dolores, street, park, shop\n",
      "15: neighborhood, sf, san, francisco, get, one, food, city, take, 's\n",
      "16: 's, francisco, san, city, head, market, shopping, street, center, restaurant\n",
      "17: 's, le, location, bar, intimate, sport, destination, restaurant, casual, still\n",
      "18: hill, potrero, view, city, 's, neighborhood, san, francisco, street, bay\n",
      "19: --, neighborhood, 's, sf, city, area, street, san, francisco, restaurant\n",
      "20: parking, one, street, plenty, free, park, bar, car, fun, restaurant\n",
      "21: bernal, heights, park, hill, mission, cortland, restaurant, view, cafe, neighborhood\n",
      "22: district, area, financial, also, bart, downtown, near, quiet, stop, located\n",
      "23: francisco, san, 's, city, square, district, hill, explore, union, one\n",
      "24: san, francisco, hidden, museum, home, block, one, art, neighborhood, south\n",
      "25: neighborhood, building, car, close, cable, tenderloin, attraction, great, center, nearby\n",
      "26: neighborhood, amenity, 's, street, key, walk, home, low, problem, need\n",
      "27: bay, mission, location, francisco, san, 4th, south, caltrain, ideal, high\n",
      "28: mi, san, francisco, coffee, local, kitchen, 0.5, height, 0.4, dynamo\n",
      "29: st, food, mission, street, block, restaurant, coffee, sushi, good, place\n",
      "30: whole, foods, neighborhood, restaurant, food, good, street, block, 's, safeway\n",
      "31: parking, street, block, hour, car, neighborhood, 2, get, 4, hotel\n",
      "32: neighborhood, ``, '', people, lot, restaurant, best, family, area, friendly\n",
      "33: neighborhood, bayview, francisco, san, city, coffee, brewery, 's, cafe, corner\n",
      "34: neighborhood, san, francisco, 's, city, people, cafe, part, soma, like\n",
      "35: one, located, beach, shopping, neighborhood, san, home, square, union, live\n",
      "36: park, haight, neighborhood, san, francisco, garden, haight-ashbury, one, love, eating\n",
      "37: score, city, francisco, san, location, neighborhood, 's, located, 100, place\n",
      "38: great, restaurant, view, food, lunch, union, square, marcus, eclectic, rotunda\n",
      "39: street, bridge, wharf, fisherman, 's, gate, golden, marina, union, square\n",
      "40: 's, city, neighborhood, street, take, stroll, francisco, san, away, block\n",
      "41: neighborhood, full, sf, street, park, st., valley, city, get, best\n",
      "42: restaurant, neighborhood, public, transportation, shop, block, located, san, francisco, bar\n",
      "43: neighborhood, away, street, park, block, san, francisco, restaurant, nice, one\n",
      "44: neighborhood, safe, quiet, family, friendly, city, cole, close, valley, area\n",
      "45: neighborhood, parking, street, love, dogpatch, nearby, awesome, san, francisco, safe\n",
      "46: italian, chinese, thai, 's, food, mexican, airbnb, block, indian, vietnamese\n",
      "47: block, away, grocery, within, city, francisco, fitness, san, store, art\n",
      "48: san, francisco, neighborhood, ocean, sunset, close, park, quiet, beach, access\n",
      "49: square, union, center, block, soma, downtown, san, francisco, sf, hall\n"
     ]
    }
   ],
   "source": [
    "display_results(results)"
   ]
  },
  {
   "cell_type": "code",
   "execution_count": 30,
   "metadata": {},
   "outputs": [],
   "source": [
    "ldam_model_by_neighborhood.save('../models/full_overviews_by_neighborhood_50topics_10words_50passes.model')"
   ]
  }
 ],
 "metadata": {
  "kernelspec": {
   "display_name": "Python 3",
   "language": "python",
   "name": "python3"
  },
  "language_info": {
   "codemirror_mode": {
    "name": "ipython",
    "version": 2
   },
   "file_extension": ".py",
   "mimetype": "text/x-python",
   "name": "python",
   "nbconvert_exporter": "python",
   "pygments_lexer": "ipython2",
   "version": "2.7.3"
  }
 },
 "nbformat": 4,
 "nbformat_minor": 2
}
